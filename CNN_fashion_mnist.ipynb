{
  "nbformat": 4,
  "nbformat_minor": 0,
  "metadata": {
    "colab": {
      "provenance": [],
      "authorship_tag": "ABX9TyP4QmyaaaV0b07PEFjHaFmZ",
      "include_colab_link": true
    },
    "kernelspec": {
      "name": "python3",
      "display_name": "Python 3"
    },
    "language_info": {
      "name": "python"
    }
  },
  "cells": [
    {
      "cell_type": "markdown",
      "metadata": {
        "id": "view-in-github",
        "colab_type": "text"
      },
      "source": [
        "<a href=\"https://colab.research.google.com/github/renadalahmadi/BigData-and-AI/blob/main/CNN_fashion_mnist.ipynb\" target=\"_parent\"><img src=\"https://colab.research.google.com/assets/colab-badge.svg\" alt=\"Open In Colab\"/></a>"
      ]
    },
    {
      "cell_type": "markdown",
      "source": [
        "\n",
        "## **Image Classification Using a Neural Network**\n"
      ],
      "metadata": {
        "id": "jHj7OOWj6Drq"
      }
    },
    {
      "cell_type": "markdown",
      "source": [
        "## Import Packages \n"
      ],
      "metadata": {
        "id": "an7JRXoL6g79"
      }
    },
    {
      "cell_type": "code",
      "execution_count": 1,
      "metadata": {
        "colab": {
          "base_uri": "https://localhost:8080/"
        },
        "id": "zcfhuB2C30rF",
        "outputId": "ee954556-ed3f-4ace-e663-fedcb406bce1"
      },
      "outputs": [
        {
          "output_type": "execute_result",
          "data": {
            "text/plain": [
              "[PhysicalDevice(name='/physical_device:CPU:0', device_type='CPU')]"
            ]
          },
          "metadata": {},
          "execution_count": 1
        }
      ],
      "source": [
        "import tensorflow as tf\n",
        "tf.config.experimental.list_physical_devices()"
      ]
    },
    {
      "cell_type": "code",
      "source": [
        "print(tf.__version__)"
      ],
      "metadata": {
        "colab": {
          "base_uri": "https://localhost:8080/"
        },
        "id": "PV4uwJ4A37Hy",
        "outputId": "02993859-9d13-4794-86a2-07032c1ec903"
      },
      "execution_count": 2,
      "outputs": [
        {
          "output_type": "stream",
          "name": "stdout",
          "text": [
            "2.9.2\n"
          ]
        }
      ]
    },
    {
      "cell_type": "code",
      "source": [
        "#Import standard packages\n",
        "import pandas as pd\n",
        "import numpy as np\n",
        "import matplotlib.pyplot as plt\n",
        "\n",
        "#Import Keras packages for neural network design\n",
        "from keras.models import Sequential\n",
        "from keras.layers import Dense, Input, Dropout, Activation, Flatten\n",
        "from keras.layers import Conv2D, MaxPooling2D, BatchNormalization\n",
        "from keras.utils import np_utils\n",
        "from keras.callbacks import EarlyStopping, ModelCheckpoint, LearningRateScheduler\n",
        "from keras.models import load_model\n",
        "from keras import regularizers"
      ],
      "metadata": {
        "id": "CfQ2b_5Z3-K4"
      },
      "execution_count": 5,
      "outputs": []
    },
    {
      "cell_type": "code",
      "source": [
        "#Load the Fashion-MNIST Data Set\n",
        "from keras.datasets import fashion_mnist\n",
        "(x_train, y_train), (x_test, y_test) = fashion_mnist.load_data()"
      ],
      "metadata": {
        "colab": {
          "base_uri": "https://localhost:8080/"
        },
        "id": "5OSL2snd4RfO",
        "outputId": "09d7e363-9018-4eb8-f7dc-83f585521541"
      },
      "execution_count": 6,
      "outputs": [
        {
          "output_type": "stream",
          "name": "stdout",
          "text": [
            "Downloading data from https://storage.googleapis.com/tensorflow/tf-keras-datasets/train-labels-idx1-ubyte.gz\n",
            "29515/29515 [==============================] - 0s 0us/step\n",
            "Downloading data from https://storage.googleapis.com/tensorflow/tf-keras-datasets/train-images-idx3-ubyte.gz\n",
            "26421880/26421880 [==============================] - 0s 0us/step\n",
            "Downloading data from https://storage.googleapis.com/tensorflow/tf-keras-datasets/t10k-labels-idx1-ubyte.gz\n",
            "5148/5148 [==============================] - 0s 0us/step\n",
            "Downloading data from https://storage.googleapis.com/tensorflow/tf-keras-datasets/t10k-images-idx3-ubyte.gz\n",
            "4422102/4422102 [==============================] - 0s 0us/step\n"
          ]
        }
      ]
    },
    {
      "cell_type": "code",
      "source": [
        "x_train.shape"
      ],
      "metadata": {
        "colab": {
          "base_uri": "https://localhost:8080/"
        },
        "id": "POQTdBvy8Dek",
        "outputId": "17187e71-664e-4283-bfa9-215d5b92e24c"
      },
      "execution_count": 8,
      "outputs": [
        {
          "output_type": "execute_result",
          "data": {
            "text/plain": [
              "(60000, 28, 28)"
            ]
          },
          "metadata": {},
          "execution_count": 8
        }
      ]
    },
    {
      "cell_type": "markdown",
      "source": [
        "## Preprocessing"
      ],
      "metadata": {
        "id": "7xjWOkWi6t69"
      }
    },
    {
      "cell_type": "code",
      "source": [
        "#Set a random seed for reproducibility.\n",
        "np.random.seed(42)\n",
        "\n",
        "#Reshape the data to have depth of 1.\n",
        "x_train = x_train.reshape(x_train.shape[0], 28, 28, 1)\n",
        "x_test = x_test.reshape(x_test.shape[0], 28, 28, 1)\n",
        "\n",
        "#Grayscale values run from 0 to 256.  This scales that data to a 0 to 1 range and converts to float.\n",
        "#Perhaps unnecessary with Fashion MNIST, but scaling like this is best practice with image data.\n",
        "#It also may improve computation efficiency.\n",
        "x_train = x_train/255.\n",
        "x_test = x_test/255.\n",
        "\n",
        "#The target variable needs to be one-hot encoded, i.e.; converted into a purely categorical form.\n",
        "#Leaving it as 0-9 would create false proximity relationships between the categories.\n",
        "y_train = np_utils.to_categorical(y_train,10)\n",
        "y_test = np_utils.to_categorical(y_test,10)"
      ],
      "metadata": {
        "id": "6e6lJttG62h8"
      },
      "execution_count": 10,
      "outputs": []
    },
    {
      "cell_type": "code",
      "source": [
        "input_shape = x_train.shape[1:4]\n",
        "input_shape"
      ],
      "metadata": {
        "colab": {
          "base_uri": "https://localhost:8080/"
        },
        "id": "-sbiE0IUCULp",
        "outputId": "091e35ed-daea-4797-a040-2a61e39f9e0e"
      },
      "execution_count": 32,
      "outputs": [
        {
          "output_type": "execute_result",
          "data": {
            "text/plain": [
              "(28, 28, 1)"
            ]
          },
          "metadata": {},
          "execution_count": 32
        }
      ]
    },
    {
      "cell_type": "markdown",
      "source": [
        "# Step 1: Define our network structure\n"
      ],
      "metadata": {
        "id": "v_klmheMCt3V"
      }
    },
    {
      "cell_type": "code",
      "source": [
        "cnn = Sequential()\n",
        "# Convolutional layer\n",
        "cnn.add(Conv2D(filters = 32, # How many filters you want to use\n",
        "                 kernel_size = 3,  # size of each filter\n",
        "                 activation='relu', # adding activation func = relu \n",
        "                 padding='same',\n",
        "                 input_shape = input_shape)) # What is the shape of your input features (we defined this above)\n",
        "\n",
        "# scaling the outputs so that they have approximately mean 0 and standard deviation 1.\n",
        "# batch normalization broadly improves performance, as well as learning speed.\n",
        "#It is possible to apply batch normalization to all hidden layers in a network;  \n",
        "# but it's also common to apply it only to the input layer, which I have done here.\n",
        "cnn.add(BatchNormalization()) \n",
        "# Dropout is a very effective regularization technique that reduces overfitting and improves generalizability when training deep neural networks.\n",
        "cnn.add(Dropout(0.2))\n",
        "# Pooling layer\n",
        "cnn.add(MaxPooling2D(pool_size = 2)) # Size of pooling\n",
        "# Flattening layer\n",
        "cnn.add(Flatten())\n",
        "# Output layer\n",
        "cnn.add(Dense(10, # How many output possibilities we have\n",
        "                activation = 'softmax')) "
      ],
      "metadata": {
        "id": "_QoTgEc9CgUn"
      },
      "execution_count": 40,
      "outputs": []
    },
    {
      "cell_type": "markdown",
      "source": [
        "# Step 2: Compile\n"
      ],
      "metadata": {
        "id": "9iX3bnkBC1Ai"
      }
    },
    {
      "cell_type": "markdown",
      "source": [
        "Now, we compile and fit the model. The loss function here will be 'categorical cross-entropy' , and our metric is 'accuracy' score.\n",
        "\n",
        "---\n",
        "\n",
        "The batch size I've used here is 100, meaning that during training, backpropagation to update parameters occurs in the network after every 100 images. I've run the model for 20 epochs in this case. In other instances I trained longer, but 20 epochs is all that is required to reach the start of overfitting in this model."
      ],
      "metadata": {
        "id": "-k6NME_zKtKx"
      }
    },
    {
      "cell_type": "code",
      "source": [
        "cnn.compile(loss = 'categorical_crossentropy', optimizer = 'adam', metrics = ['acc'])"
      ],
      "metadata": {
        "id": "E_Un-mjdCyE5"
      },
      "execution_count": 41,
      "outputs": []
    },
    {
      "cell_type": "markdown",
      "source": [
        "# Step 3: Fit our model\n"
      ],
      "metadata": {
        "id": "QzuIfqX5C5vC"
      }
    },
    {
      "cell_type": "code",
      "source": [
        "history = cnn.fit(x_train, y_train,\n",
        "                    validation_data = (x_test, y_test), \n",
        "                    epochs=20 , batch_size=100)"
      ],
      "metadata": {
        "colab": {
          "base_uri": "https://localhost:8080/"
        },
        "id": "MzeTeLiaC5QJ",
        "outputId": "d3294a22-6c16-45d2-dffc-6e5b13fc3f7c"
      },
      "execution_count": 42,
      "outputs": [
        {
          "output_type": "stream",
          "name": "stdout",
          "text": [
            "Epoch 1/20\n",
            "600/600 [==============================] - 80s 131ms/step - loss: 0.3925 - acc: 0.8645 - val_loss: 0.3770 - val_acc: 0.8758\n",
            "Epoch 2/20\n",
            "600/600 [==============================] - 84s 139ms/step - loss: 0.2729 - acc: 0.9031 - val_loss: 0.4134 - val_acc: 0.8559\n",
            "Epoch 3/20\n",
            "600/600 [==============================] - 76s 127ms/step - loss: 0.2383 - acc: 0.9139 - val_loss: 0.3169 - val_acc: 0.8883\n",
            "Epoch 4/20\n",
            "600/600 [==============================] - 72s 120ms/step - loss: 0.2200 - acc: 0.9207 - val_loss: 0.2909 - val_acc: 0.8972\n",
            "Epoch 5/20\n",
            "600/600 [==============================] - 68s 114ms/step - loss: 0.2061 - acc: 0.9243 - val_loss: 0.2869 - val_acc: 0.8989\n",
            "Epoch 6/20\n",
            "600/600 [==============================] - 69s 115ms/step - loss: 0.1952 - acc: 0.9290 - val_loss: 0.2989 - val_acc: 0.8956\n",
            "Epoch 7/20\n",
            "600/600 [==============================] - 68s 113ms/step - loss: 0.1862 - acc: 0.9311 - val_loss: 0.2933 - val_acc: 0.8981\n",
            "Epoch 8/20\n",
            "600/600 [==============================] - 66s 111ms/step - loss: 0.1812 - acc: 0.9325 - val_loss: 0.2863 - val_acc: 0.9002\n",
            "Epoch 9/20\n",
            "600/600 [==============================] - 71s 118ms/step - loss: 0.1736 - acc: 0.9362 - val_loss: 0.2944 - val_acc: 0.9008\n",
            "Epoch 10/20\n",
            "600/600 [==============================] - 71s 118ms/step - loss: 0.1711 - acc: 0.9363 - val_loss: 0.3208 - val_acc: 0.8896\n",
            "Epoch 11/20\n",
            "600/600 [==============================] - 67s 111ms/step - loss: 0.1642 - acc: 0.9384 - val_loss: 0.3152 - val_acc: 0.8944\n",
            "Epoch 12/20\n",
            "600/600 [==============================] - 67s 112ms/step - loss: 0.1596 - acc: 0.9405 - val_loss: 0.3097 - val_acc: 0.8997\n",
            "Epoch 13/20\n",
            "600/600 [==============================] - 73s 121ms/step - loss: 0.1560 - acc: 0.9415 - val_loss: 0.2818 - val_acc: 0.9102\n",
            "Epoch 14/20\n",
            "600/600 [==============================] - 68s 114ms/step - loss: 0.1572 - acc: 0.9409 - val_loss: 0.3137 - val_acc: 0.9006\n",
            "Epoch 15/20\n",
            "600/600 [==============================] - 67s 112ms/step - loss: 0.1476 - acc: 0.9447 - val_loss: 0.3015 - val_acc: 0.9011\n",
            "Epoch 16/20\n",
            "600/600 [==============================] - 67s 112ms/step - loss: 0.1470 - acc: 0.9443 - val_loss: 0.3429 - val_acc: 0.8933\n",
            "Epoch 17/20\n",
            "600/600 [==============================] - 71s 118ms/step - loss: 0.1463 - acc: 0.9459 - val_loss: 0.3245 - val_acc: 0.8985\n",
            "Epoch 18/20\n",
            "600/600 [==============================] - 67s 112ms/step - loss: 0.1415 - acc: 0.9474 - val_loss: 0.3121 - val_acc: 0.9066\n",
            "Epoch 19/20\n",
            "600/600 [==============================] - 67s 112ms/step - loss: 0.1379 - acc: 0.9487 - val_loss: 0.3218 - val_acc: 0.9002\n",
            "Epoch 20/20\n",
            "600/600 [==============================] - 66s 110ms/step - loss: 0.1379 - acc: 0.9480 - val_loss: 0.3467 - val_acc: 0.8966\n"
          ]
        }
      ]
    },
    {
      "cell_type": "code",
      "source": [
        "cnn.summary()"
      ],
      "metadata": {
        "colab": {
          "base_uri": "https://localhost:8080/"
        },
        "id": "Bo5d77ET-bBZ",
        "outputId": "bcd5ffe7-f50e-4351-91b0-7615115003e2"
      },
      "execution_count": 45,
      "outputs": [
        {
          "output_type": "stream",
          "name": "stdout",
          "text": [
            "Model: \"sequential_6\"\n",
            "_________________________________________________________________\n",
            " Layer (type)                Output Shape              Param #   \n",
            "=================================================================\n",
            " conv2d_15 (Conv2D)          (None, 28, 28, 32)        320       \n",
            "                                                                 \n",
            " batch_normalization_3 (Batc  (None, 28, 28, 32)       128       \n",
            " hNormalization)                                                 \n",
            "                                                                 \n",
            " dropout_15 (Dropout)        (None, 28, 28, 32)        0         \n",
            "                                                                 \n",
            " max_pooling2d_6 (MaxPooling  (None, 14, 14, 32)       0         \n",
            " 2D)                                                             \n",
            "                                                                 \n",
            " flatten_6 (Flatten)         (None, 6272)              0         \n",
            "                                                                 \n",
            " dense_9 (Dense)             (None, 10)                62730     \n",
            "                                                                 \n",
            "=================================================================\n",
            "Total params: 63,178\n",
            "Trainable params: 63,114\n",
            "Non-trainable params: 64\n",
            "_________________________________________________________________\n"
          ]
        }
      ]
    },
    {
      "cell_type": "markdown",
      "source": [
        "# Step 4: Visualizing the CNN Training Process\n",
        "\n"
      ],
      "metadata": {
        "id": "e54bMvw9LwYY"
      }
    },
    {
      "cell_type": "markdown",
      "source": [
        "The function below plots improvement in validation accuracy over the course of training (left), and loss reduction over the course of training for both the training data and test data. "
      ],
      "metadata": {
        "id": "6GCp9KSaKVcv"
      }
    },
    {
      "cell_type": "code",
      "source": [
        "def accuracy_loss_plots(model_his):\n",
        "    fig, (ax1,ax2) = plt.subplots(nrows=1,ncols=2,figsize=(12,5))\n",
        "    ax1.plot(model_his.history['acc'], label='Train Accuracy')\n",
        "    ax1.plot(model_his.history['val_acc'], label='Testing Accuracy')\n",
        "    ax1.set_title('Test Accuracy by Epoch')\n",
        "    ax1.set_xlabel('Epoch')\n",
        "    ax1.set_ylim(0.8,1)\n",
        "    ax1.legend();\n",
        "    ax2.plot(model_his.history['loss'], label='Training loss')\n",
        "    ax2.plot(model_his.history['val_loss'], label='Testing loss')\n",
        "    ax2.set_title('Loss Reduction by Epoch')\n",
        "    ax2.set_xlabel('Epoch')\n",
        "    ax2.set_ylim(0,1)\n",
        "    ax2.legend();"
      ],
      "metadata": {
        "id": "1BAkJ8g0I_hc"
      },
      "execution_count": 43,
      "outputs": []
    },
    {
      "cell_type": "code",
      "source": [
        "accuracy_loss_plots(history)"
      ],
      "metadata": {
        "colab": {
          "base_uri": "https://localhost:8080/",
          "height": 350
        },
        "id": "6GQuiQCPJDE6",
        "outputId": "81b2f550-dadb-4434-fabc-695b5f72a383"
      },
      "execution_count": 44,
      "outputs": [
        {
          "output_type": "display_data",
          "data": {
            "text/plain": [
              "<Figure size 864x360 with 2 Axes>"
            ],
            "image/png": "[encoded data removed]"
          },
          "metadata": {
            "needs_background": "light"
          }
        }
      ]
    },
    {
      "cell_type": "markdown",
      "source": [
        "##Where Does the Model Make Mistakes?\n",
        "\n",
        "We can generate a multi-class confusion matrix to identify where our model is error-prone, and in particular, which fashion categories the model struggles to distinguish."
      ],
      "metadata": {
        "id": "vfVSZhcYPxuy"
      }
    },
    {
      "cell_type": "code",
      "source": [
        "from sklearn.metrics import confusion_matrix\n",
        "from itertools import product\n",
        "\n",
        "classes = ['T-shirt/Top','Trouser','Pullover','Dress','Coat','Sandal','Shirt','Sneaker','Bag','Ankle Boot']\n",
        "\n",
        "#Create Multiclass Confusion Matrix\n",
        "\n",
        "preds = cnn.predict(x_test)\n",
        "cm = confusion_matrix(np.argmax(y_test,axis=1), np.argmax(preds,axis=1))\n",
        "\n",
        "plt.figure(figsize=(8,8))\n",
        "plt.imshow(cm,cmap=plt.cm.Reds)\n",
        "plt.title('Fashion MNIST Confusion Matrix - CNN')\n",
        "plt.colorbar()\n",
        "plt.xticks(np.arange(10), classes, rotation=90)\n",
        "plt.yticks(np.arange(10), classes)\n",
        "\n",
        "for i, j in product(range(cm.shape[0]), range(cm.shape[1])):\n",
        "    plt.text(j, i, cm[i, j],\n",
        "    horizontalalignment=\"center\",\n",
        "    color=\"white\" if cm[i, j] > 500 else \"black\")\n",
        "\n",
        "plt.tight_layout()\n",
        "plt.ylabel('True label')\n",
        "plt.xlabel('Predicted label');"
      ],
      "metadata": {
        "colab": {
          "base_uri": "https://localhost:8080/",
          "height": 587
        },
        "id": "0lJAvyPIPeZm",
        "outputId": "75b357e7-9797-4ed3-ee88-c5574bc8b09e"
      },
      "execution_count": 46,
      "outputs": [
        {
          "output_type": "stream",
          "name": "stdout",
          "text": [
            "313/313 [==============================] - 3s 10ms/step\n"
          ]
        },
        {
          "output_type": "display_data",
          "data": {
            "text/plain": [
              "<Figure size 576x576 with 2 Axes>"
            ],
            "image/png": "[encoded data removed]"
          },
          "metadata": {
            "needs_background": "light"
          }
        }
      ]
    }
  ]
}