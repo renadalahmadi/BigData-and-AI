{
  "nbformat": 4,
  "nbformat_minor": 0,
  "metadata": {
    "colab": {
      "provenance": [],
      "authorship_tag": "ABX9TyPZqNFJzVJgFSSyRFHGU1MJ",
      "include_colab_link": true
    },
    "kernelspec": {
      "name": "python3",
      "display_name": "Python 3"
    },
    "language_info": {
      "name": "python"
    }
  },
  "cells": [
    {
      "cell_type": "markdown",
      "metadata": {
        "id": "view-in-github",
        "colab_type": "text"
      },
      "source": [
        "<a href=\"https://colab.research.google.com/github/renadalahmadi/BigData-and-AI/blob/main/Sentiment_Analysis_for_Financial_News.ipynb\" target=\"_parent\"><img src=\"https://colab.research.google.com/assets/colab-badge.svg\" alt=\"Open In Colab\"/></a>"
      ]
    },
    {
      "cell_type": "markdown",
      "source": [
        "**Business Case : Sentiment Analysis**\n",
        "\n",
        "This dataset (FinancialPhraseBank) contains the sentiments for financial news headlines from the perspective of a retail investor.\n",
        "\n",
        "\n",
        "It contains two columns, \"Sentiment\" and \"News Headline\". The sentiment can be negative, neutral or positive."
      ],
      "metadata": {
        "id": "r95glHsSs3pY"
      }
    },
    {
      "cell_type": "code",
      "execution_count": 2,
      "metadata": {
        "colab": {
          "base_uri": "https://localhost:8080/"
        },
        "id": "AszjuRa4GCZf",
        "outputId": "bf7c94c0-c47e-4d22-eccf-8508235cf7f3"
      },
      "outputs": [
        {
          "output_type": "stream",
          "name": "stderr",
          "text": [
            "[nltk_data] Downloading package vader_lexicon to /root/nltk_data...\n",
            "[nltk_data] Downloading package stopwords to /root/nltk_data...\n",
            "[nltk_data]   Unzipping corpora/stopwords.zip.\n",
            "[nltk_data] Downloading package wordnet to /root/nltk_data...\n"
          ]
        },
        {
          "output_type": "execute_result",
          "data": {
            "text/plain": [
              "True"
            ]
          },
          "metadata": {},
          "execution_count": 2
        }
      ],
      "source": [
        "#  Importing Libraries\n",
        "\n",
        "import matplotlib.pyplot as plt\n",
        "import pandas as pd\n",
        "import numpy as np\n",
        "import seaborn as sns\n",
        "import os\n",
        "import re\n",
        "import string\n",
        "import sys\n",
        "\n",
        "\n",
        "from wordcloud import WordCloud, STOPWORDS\n",
        "from PIL import Image\n",
        "\n",
        "from nltk.sentiment.vader import SentimentIntensityAnalyzer\n",
        "from nltk.stem import PorterStemmer\n",
        "from nltk.stem import WordNetLemmatizer \n",
        "from nltk.corpus import stopwords\n",
        "\n",
        "from sklearn.feature_extraction.text import CountVectorizer\n",
        "from textblob import TextBlob\n",
        "from sklearn.feature_extraction.text import CountVectorizer\n",
        "from sklearn.feature_extraction.text import TfidfTransformer\n",
        "from sklearn.naive_bayes import MultinomialNB\n",
        "from sklearn.linear_model import LogisticRegression\n",
        "from sklearn.ensemble import RandomForestClassifier\n",
        "from sklearn.neighbors import KNeighborsClassifier\n",
        "from sklearn.model_selection import train_test_split\n",
        "from sklearn.metrics import classification_report, confusion_matrix\n",
        "from sklearn.pipeline import Pipeline\n",
        "from warnings import simplefilter\n",
        "simplefilter(action='ignore', category=FutureWarning)\n",
        "\n",
        "# - Important NLP downloads \n",
        "\n",
        "import nltk\n",
        "# Download the rule-based sentiment score lexicon(polarity score/word)\n",
        "nltk.download('vader_lexicon') \n",
        "# Download the english stopwords set\n",
        "nltk.download('stopwords') \n",
        "# Wordnet lexical database of semantic relations between words in more than 200 languages\n",
        "nltk.download('wordnet')"
      ]
    },
    {
      "cell_type": "code",
      "source": [
        "# adding headings to the columns \n",
        "df = pd.read_csv(\"/content/all-data.csv\", encoding=\"latin-1\" , names=['Sentiment', 'News Headline'])"
      ],
      "metadata": {
        "id": "2fX6QhKhGC5J"
      },
      "execution_count": 3,
      "outputs": []
    },
    {
      "cell_type": "markdown",
      "source": [
        "## 1- Simple EDA:"
      ],
      "metadata": {
        "id": "VJgjOxN0ux2A"
      }
    },
    {
      "cell_type": "code",
      "source": [
        "df"
      ],
      "metadata": {
        "colab": {
          "base_uri": "https://localhost:8080/",
          "height": 424
        },
        "id": "V5iDioCpGzpq",
        "outputId": "d62960ba-815c-460b-dbe1-76ec92a705cf"
      },
      "execution_count": 5,
      "outputs": [
        {
          "output_type": "execute_result",
          "data": {
            "text/plain": [
              "     Sentiment                                      News Headline\n",
              "0      neutral  According to Gran , the company has no plans t...\n",
              "1      neutral  Technopolis plans to develop in stages an area...\n",
              "2     negative  The international electronic industry company ...\n",
              "3     positive  With the new production plant the company woul...\n",
              "4     positive  According to the company 's updated strategy f...\n",
              "...        ...                                                ...\n",
              "4841  negative  LONDON MarketWatch -- Share prices ended lower...\n",
              "4842   neutral  Rinkuskiai 's beer sales fell by 6.5 per cent ...\n",
              "4843  negative  Operating profit fell to EUR 35.4 mn from EUR ...\n",
              "4844  negative  Net sales of the Paper segment decreased to EU...\n",
              "4845  negative  Sales in Finland decreased by 10.5 % in Januar...\n",
              "\n",
              "[4846 rows x 2 columns]"
            ],
            "text/html": [
              "\n",
              "  <div id=\"df-26cf19dc-8908-4c04-b192-9f4fefe13133\">\n",
              "    <div class=\"colab-df-container\">\n",
              "      <div>\n",
              "<style scoped>\n",
              "    .dataframe tbody tr th:only-of-type {\n",
              "        vertical-align: middle;\n",
              "    }\n",
              "\n",
              "    .dataframe tbody tr th {\n",
              "        vertical-align: top;\n",
              "    }\n",
              "\n",
              "    .dataframe thead th {\n",
              "        text-align: right;\n",
              "    }\n",
              "</style>\n",
              "<table border=\"1\" class=\"dataframe\">\n",
              "  <thead>\n",
              "    <tr style=\"text-align: right;\">\n",
              "      <th></th>\n",
              "      <th>Sentiment</th>\n",
              "      <th>News Headline</th>\n",
              "    </tr>\n",
              "  </thead>\n",
              "  <tbody>\n",
              "    <tr>\n",
              "      <th>0</th>\n",
              "      <td>neutral</td>\n",
              "      <td>According to Gran , the company has no plans t...</td>\n",
              "    </tr>\n",
              "    <tr>\n",
              "      <th>1</th>\n",
              "      <td>neutral</td>\n",
              "      <td>Technopolis plans to develop in stages an area...</td>\n",
              "    </tr>\n",
              "    <tr>\n",
              "      <th>2</th>\n",
              "      <td>negative</td>\n",
              "      <td>The international electronic industry company ...</td>\n",
              "    </tr>\n",
              "    <tr>\n",
              "      <th>3</th>\n",
              "      <td>positive</td>\n",
              "      <td>With the new production plant the company woul...</td>\n",
              "    </tr>\n",
              "    <tr>\n",
              "      <th>4</th>\n",
              "      <td>positive</td>\n",
              "      <td>According to the company 's updated strategy f...</td>\n",
              "    </tr>\n",
              "    <tr>\n",
              "      <th>...</th>\n",
              "      <td>...</td>\n",
              "      <td>...</td>\n",
              "    </tr>\n",
              "    <tr>\n",
              "      <th>4841</th>\n",
              "      <td>negative</td>\n",
              "      <td>LONDON MarketWatch -- Share prices ended lower...</td>\n",
              "    </tr>\n",
              "    <tr>\n",
              "      <th>4842</th>\n",
              "      <td>neutral</td>\n",
              "      <td>Rinkuskiai 's beer sales fell by 6.5 per cent ...</td>\n",
              "    </tr>\n",
              "    <tr>\n",
              "      <th>4843</th>\n",
              "      <td>negative</td>\n",
              "      <td>Operating profit fell to EUR 35.4 mn from EUR ...</td>\n",
              "    </tr>\n",
              "    <tr>\n",
              "      <th>4844</th>\n",
              "      <td>negative</td>\n",
              "      <td>Net sales of the Paper segment decreased to EU...</td>\n",
              "    </tr>\n",
              "    <tr>\n",
              "      <th>4845</th>\n",
              "      <td>negative</td>\n",
              "      <td>Sales in Finland decreased by 10.5 % in Januar...</td>\n",
              "    </tr>\n",
              "  </tbody>\n",
              "</table>\n",
              "<p>4846 rows × 2 columns</p>\n",
              "</div>\n",
              "      <button class=\"colab-df-convert\" onclick=\"convertToInteractive('df-26cf19dc-8908-4c04-b192-9f4fefe13133')\"\n",
              "              title=\"Convert this dataframe to an interactive table.\"\n",
              "              style=\"display:none;\">\n",
              "        \n",
              "  <svg xmlns=\"http://www.w3.org/2000/svg\" height=\"24px\"viewBox=\"0 0 24 24\"\n",
              "       width=\"24px\">\n",
              "    <path d=\"M0 0h24v24H0V0z\" fill=\"none\"/>\n",
              "    <path d=\"M18.56 5.44l.94 2.06.94-2.06 2.06-.94-2.06-.94-.94-2.06-.94 2.06-2.06.94zm-11 1L8.5 8.5l.94-2.06 2.06-.94-2.06-.94L8.5 2.5l-.94 2.06-2.06.94zm10 10l.94 2.06.94-2.06 2.06-.94-2.06-.94-.94-2.06-.94 2.06-2.06.94z\"/><path d=\"M17.41 7.96l-1.37-1.37c-.4-.4-.92-.59-1.43-.59-.52 0-1.04.2-1.43.59L10.3 9.45l-7.72 7.72c-.78.78-.78 2.05 0 2.83L4 21.41c.39.39.9.59 1.41.59.51 0 1.02-.2 1.41-.59l7.78-7.78 2.81-2.81c.8-.78.8-2.07 0-2.86zM5.41 20L4 18.59l7.72-7.72 1.47 1.35L5.41 20z\"/>\n",
              "  </svg>\n",
              "      </button>\n",
              "      \n",
              "  <style>\n",
              "    .colab-df-container {\n",
              "      display:flex;\n",
              "      flex-wrap:wrap;\n",
              "      gap: 12px;\n",
              "    }\n",
              "\n",
              "    .colab-df-convert {\n",
              "      background-color: #E8F0FE;\n",
              "      border: none;\n",
              "      border-radius: 50%;\n",
              "      cursor: pointer;\n",
              "      display: none;\n",
              "      fill: #1967D2;\n",
              "      height: 32px;\n",
              "      padding: 0 0 0 0;\n",
              "      width: 32px;\n",
              "    }\n",
              "\n",
              "    .colab-df-convert:hover {\n",
              "      background-color: #E2EBFA;\n",
              "      box-shadow: 0px 1px 2px rgba(60, 64, 67, 0.3), 0px 1px 3px 1px rgba(60, 64, 67, 0.15);\n",
              "      fill: #174EA6;\n",
              "    }\n",
              "\n",
              "    [theme=dark] .colab-df-convert {\n",
              "      background-color: #3B4455;\n",
              "      fill: #D2E3FC;\n",
              "    }\n",
              "\n",
              "    [theme=dark] .colab-df-convert:hover {\n",
              "      background-color: #434B5C;\n",
              "      box-shadow: 0px 1px 3px 1px rgba(0, 0, 0, 0.15);\n",
              "      filter: drop-shadow(0px 1px 2px rgba(0, 0, 0, 0.3));\n",
              "      fill: #FFFFFF;\n",
              "    }\n",
              "  </style>\n",
              "\n",
              "      <script>\n",
              "        const buttonEl =\n",
              "          document.querySelector('#df-26cf19dc-8908-4c04-b192-9f4fefe13133 button.colab-df-convert');\n",
              "        buttonEl.style.display =\n",
              "          google.colab.kernel.accessAllowed ? 'block' : 'none';\n",
              "\n",
              "        async function convertToInteractive(key) {\n",
              "          const element = document.querySelector('#df-26cf19dc-8908-4c04-b192-9f4fefe13133');\n",
              "          const dataTable =\n",
              "            await google.colab.kernel.invokeFunction('convertToInteractive',\n",
              "                                                     [key], {});\n",
              "          if (!dataTable) return;\n",
              "\n",
              "          const docLinkHtml = 'Like what you see? Visit the ' +\n",
              "            '<a target=\"_blank\" href=https://colab.research.google.com/notebooks/data_table.ipynb>data table notebook</a>'\n",
              "            + ' to learn more about interactive tables.';\n",
              "          element.innerHTML = '';\n",
              "          dataTable['output_type'] = 'display_data';\n",
              "          await google.colab.output.renderOutput(dataTable, element);\n",
              "          const docLink = document.createElement('div');\n",
              "          docLink.innerHTML = docLinkHtml;\n",
              "          element.appendChild(docLink);\n",
              "        }\n",
              "      </script>\n",
              "    </div>\n",
              "  </div>\n",
              "  "
            ]
          },
          "metadata": {},
          "execution_count": 5
        }
      ]
    },
    {
      "cell_type": "code",
      "source": [
        "df.shape"
      ],
      "metadata": {
        "colab": {
          "base_uri": "https://localhost:8080/"
        },
        "id": "-C02fhB3H7fN",
        "outputId": "60f3e8e0-e084-4d4e-da93-a31f8dcbb9ed"
      },
      "execution_count": 9,
      "outputs": [
        {
          "output_type": "execute_result",
          "data": {
            "text/plain": [
              "(4846, 2)"
            ]
          },
          "metadata": {},
          "execution_count": 9
        }
      ]
    },
    {
      "cell_type": "code",
      "source": [
        "df.isna().sum()"
      ],
      "metadata": {
        "colab": {
          "base_uri": "https://localhost:8080/"
        },
        "id": "15uI-CldIIrd",
        "outputId": "5b8dc22d-8111-41de-894a-7650b2d63799"
      },
      "execution_count": 10,
      "outputs": [
        {
          "output_type": "execute_result",
          "data": {
            "text/plain": [
              "Sentiment        0\n",
              "News Headline    0\n",
              "dtype: int64"
            ]
          },
          "metadata": {},
          "execution_count": 10
        }
      ]
    },
    {
      "cell_type": "code",
      "source": [
        "df[\"Sentiment\"].value_counts()"
      ],
      "metadata": {
        "colab": {
          "base_uri": "https://localhost:8080/"
        },
        "id": "LHaufCgZINFX",
        "outputId": "e5f84ed1-54b2-42be-9d36-f63487e69d31"
      },
      "execution_count": 8,
      "outputs": [
        {
          "output_type": "execute_result",
          "data": {
            "text/plain": [
              "neutral     2879\n",
              "positive    1363\n",
              "negative     604\n",
              "Name: Sentiment, dtype: int64"
            ]
          },
          "metadata": {},
          "execution_count": 8
        }
      ]
    },
    {
      "cell_type": "markdown",
      "source": [
        "**Note**: From here we can see that the netural class is the largest class comapring it to the pos and neg, we expect the model to perform better in neutral news text."
      ],
      "metadata": {
        "id": "BMMSwcoKt_th"
      }
    },
    {
      "cell_type": "code",
      "source": [
        "# ploting the counts of each class\n",
        "sns.set_style(\"darkgrid\")\n",
        "sns.countplot(df[\"Sentiment\"])"
      ],
      "metadata": {
        "colab": {
          "base_uri": "https://localhost:8080/",
          "height": 300
        },
        "id": "_F917S54IZZ9",
        "outputId": "a766a44b-ce26-4006-d86e-70aeb2ca121e"
      },
      "execution_count": 12,
      "outputs": [
        {
          "output_type": "execute_result",
          "data": {
            "text/plain": [
              "<matplotlib.axes._subplots.AxesSubplot at 0x7f42c37000d0>"
            ]
          },
          "metadata": {},
          "execution_count": 12
        },
        {
          "output_type": "display_data",
          "data": {
            "text/plain": [
              "<Figure size 432x288 with 1 Axes>"
            ],
            "image/png": "[encoded data removed]"
          },
          "metadata": {}
        }
      ]
    },
    {
      "cell_type": "code",
      "source": [
        "df['length']  = df['News Headline'].str.len()\n",
        "df"
      ],
      "metadata": {
        "colab": {
          "base_uri": "https://localhost:8080/",
          "height": 424
        },
        "id": "fGS678nOI0kT",
        "outputId": "3d0c9247-111f-498a-9de6-85f8f2020ed0"
      },
      "execution_count": 13,
      "outputs": [
        {
          "output_type": "execute_result",
          "data": {
            "text/plain": [
              "     Sentiment                                      News Headline  length\n",
              "0      neutral  According to Gran , the company has no plans t...     127\n",
              "1      neutral  Technopolis plans to develop in stages an area...     190\n",
              "2     negative  The international electronic industry company ...     228\n",
              "3     positive  With the new production plant the company woul...     206\n",
              "4     positive  According to the company 's updated strategy f...     203\n",
              "...        ...                                                ...     ...\n",
              "4841  negative  LONDON MarketWatch -- Share prices ended lower...     144\n",
              "4842   neutral  Rinkuskiai 's beer sales fell by 6.5 per cent ...     148\n",
              "4843  negative  Operating profit fell to EUR 35.4 mn from EUR ...     108\n",
              "4844  negative  Net sales of the Paper segment decreased to EU...     226\n",
              "4845  negative  Sales in Finland decreased by 10.5 % in Januar...      95\n",
              "\n",
              "[4846 rows x 3 columns]"
            ],
            "text/html": [
              "\n",
              "  <div id=\"df-be78f82c-1d6f-4862-a84c-e48a179e8181\">\n",
              "    <div class=\"colab-df-container\">\n",
              "      <div>\n",
              "<style scoped>\n",
              "    .dataframe tbody tr th:only-of-type {\n",
              "        vertical-align: middle;\n",
              "    }\n",
              "\n",
              "    .dataframe tbody tr th {\n",
              "        vertical-align: top;\n",
              "    }\n",
              "\n",
              "    .dataframe thead th {\n",
              "        text-align: right;\n",
              "    }\n",
              "</style>\n",
              "<table border=\"1\" class=\"dataframe\">\n",
              "  <thead>\n",
              "    <tr style=\"text-align: right;\">\n",
              "      <th></th>\n",
              "      <th>Sentiment</th>\n",
              "      <th>News Headline</th>\n",
              "      <th>length</th>\n",
              "    </tr>\n",
              "  </thead>\n",
              "  <tbody>\n",
              "    <tr>\n",
              "      <th>0</th>\n",
              "      <td>neutral</td>\n",
              "      <td>According to Gran , the company has no plans t...</td>\n",
              "      <td>127</td>\n",
              "    </tr>\n",
              "    <tr>\n",
              "      <th>1</th>\n",
              "      <td>neutral</td>\n",
              "      <td>Technopolis plans to develop in stages an area...</td>\n",
              "      <td>190</td>\n",
              "    </tr>\n",
              "    <tr>\n",
              "      <th>2</th>\n",
              "      <td>negative</td>\n",
              "      <td>The international electronic industry company ...</td>\n",
              "      <td>228</td>\n",
              "    </tr>\n",
              "    <tr>\n",
              "      <th>3</th>\n",
              "      <td>positive</td>\n",
              "      <td>With the new production plant the company woul...</td>\n",
              "      <td>206</td>\n",
              "    </tr>\n",
              "    <tr>\n",
              "      <th>4</th>\n",
              "      <td>positive</td>\n",
              "      <td>According to the company 's updated strategy f...</td>\n",
              "      <td>203</td>\n",
              "    </tr>\n",
              "    <tr>\n",
              "      <th>...</th>\n",
              "      <td>...</td>\n",
              "      <td>...</td>\n",
              "      <td>...</td>\n",
              "    </tr>\n",
              "    <tr>\n",
              "      <th>4841</th>\n",
              "      <td>negative</td>\n",
              "      <td>LONDON MarketWatch -- Share prices ended lower...</td>\n",
              "      <td>144</td>\n",
              "    </tr>\n",
              "    <tr>\n",
              "      <th>4842</th>\n",
              "      <td>neutral</td>\n",
              "      <td>Rinkuskiai 's beer sales fell by 6.5 per cent ...</td>\n",
              "      <td>148</td>\n",
              "    </tr>\n",
              "    <tr>\n",
              "      <th>4843</th>\n",
              "      <td>negative</td>\n",
              "      <td>Operating profit fell to EUR 35.4 mn from EUR ...</td>\n",
              "      <td>108</td>\n",
              "    </tr>\n",
              "    <tr>\n",
              "      <th>4844</th>\n",
              "      <td>negative</td>\n",
              "      <td>Net sales of the Paper segment decreased to EU...</td>\n",
              "      <td>226</td>\n",
              "    </tr>\n",
              "    <tr>\n",
              "      <th>4845</th>\n",
              "      <td>negative</td>\n",
              "      <td>Sales in Finland decreased by 10.5 % in Januar...</td>\n",
              "      <td>95</td>\n",
              "    </tr>\n",
              "  </tbody>\n",
              "</table>\n",
              "<p>4846 rows × 3 columns</p>\n",
              "</div>\n",
              "      <button class=\"colab-df-convert\" onclick=\"convertToInteractive('df-be78f82c-1d6f-4862-a84c-e48a179e8181')\"\n",
              "              title=\"Convert this dataframe to an interactive table.\"\n",
              "              style=\"display:none;\">\n",
              "        \n",
              "  <svg xmlns=\"http://www.w3.org/2000/svg\" height=\"24px\"viewBox=\"0 0 24 24\"\n",
              "       width=\"24px\">\n",
              "    <path d=\"M0 0h24v24H0V0z\" fill=\"none\"/>\n",
              "    <path d=\"M18.56 5.44l.94 2.06.94-2.06 2.06-.94-2.06-.94-.94-2.06-.94 2.06-2.06.94zm-11 1L8.5 8.5l.94-2.06 2.06-.94-2.06-.94L8.5 2.5l-.94 2.06-2.06.94zm10 10l.94 2.06.94-2.06 2.06-.94-2.06-.94-.94-2.06-.94 2.06-2.06.94z\"/><path d=\"M17.41 7.96l-1.37-1.37c-.4-.4-.92-.59-1.43-.59-.52 0-1.04.2-1.43.59L10.3 9.45l-7.72 7.72c-.78.78-.78 2.05 0 2.83L4 21.41c.39.39.9.59 1.41.59.51 0 1.02-.2 1.41-.59l7.78-7.78 2.81-2.81c.8-.78.8-2.07 0-2.86zM5.41 20L4 18.59l7.72-7.72 1.47 1.35L5.41 20z\"/>\n",
              "  </svg>\n",
              "      </button>\n",
              "      \n",
              "  <style>\n",
              "    .colab-df-container {\n",
              "      display:flex;\n",
              "      flex-wrap:wrap;\n",
              "      gap: 12px;\n",
              "    }\n",
              "\n",
              "    .colab-df-convert {\n",
              "      background-color: #E8F0FE;\n",
              "      border: none;\n",
              "      border-radius: 50%;\n",
              "      cursor: pointer;\n",
              "      display: none;\n",
              "      fill: #1967D2;\n",
              "      height: 32px;\n",
              "      padding: 0 0 0 0;\n",
              "      width: 32px;\n",
              "    }\n",
              "\n",
              "    .colab-df-convert:hover {\n",
              "      background-color: #E2EBFA;\n",
              "      box-shadow: 0px 1px 2px rgba(60, 64, 67, 0.3), 0px 1px 3px 1px rgba(60, 64, 67, 0.15);\n",
              "      fill: #174EA6;\n",
              "    }\n",
              "\n",
              "    [theme=dark] .colab-df-convert {\n",
              "      background-color: #3B4455;\n",
              "      fill: #D2E3FC;\n",
              "    }\n",
              "\n",
              "    [theme=dark] .colab-df-convert:hover {\n",
              "      background-color: #434B5C;\n",
              "      box-shadow: 0px 1px 3px 1px rgba(0, 0, 0, 0.15);\n",
              "      filter: drop-shadow(0px 1px 2px rgba(0, 0, 0, 0.3));\n",
              "      fill: #FFFFFF;\n",
              "    }\n",
              "  </style>\n",
              "\n",
              "      <script>\n",
              "        const buttonEl =\n",
              "          document.querySelector('#df-be78f82c-1d6f-4862-a84c-e48a179e8181 button.colab-df-convert');\n",
              "        buttonEl.style.display =\n",
              "          google.colab.kernel.accessAllowed ? 'block' : 'none';\n",
              "\n",
              "        async function convertToInteractive(key) {\n",
              "          const element = document.querySelector('#df-be78f82c-1d6f-4862-a84c-e48a179e8181');\n",
              "          const dataTable =\n",
              "            await google.colab.kernel.invokeFunction('convertToInteractive',\n",
              "                                                     [key], {});\n",
              "          if (!dataTable) return;\n",
              "\n",
              "          const docLinkHtml = 'Like what you see? Visit the ' +\n",
              "            '<a target=\"_blank\" href=https://colab.research.google.com/notebooks/data_table.ipynb>data table notebook</a>'\n",
              "            + ' to learn more about interactive tables.';\n",
              "          element.innerHTML = '';\n",
              "          dataTable['output_type'] = 'display_data';\n",
              "          await google.colab.output.renderOutput(dataTable, element);\n",
              "          const docLink = document.createElement('div');\n",
              "          docLink.innerHTML = docLinkHtml;\n",
              "          element.appendChild(docLink);\n",
              "        }\n",
              "      </script>\n",
              "    </div>\n",
              "  </div>\n",
              "  "
            ]
          },
          "metadata": {},
          "execution_count": 13
        }
      ]
    },
    {
      "cell_type": "markdown",
      "source": [
        "- Adding the length of news headline for each class for the sake of plotting "
      ],
      "metadata": {
        "id": "MP3ZZafdu4hv"
      }
    },
    {
      "cell_type": "code",
      "source": [
        "plt.figure(figsize=(12,5))\n",
        "\n",
        "plt.subplot(2,2,1)\n",
        "plt.hist(df[df[\"Sentiment\"]==\"neutral\"]['length'], bins=50)\n",
        "plt.title(\"Neutral\")\n",
        "\n",
        "plt.subplot(2,2,2)\n",
        "plt.hist(df[df[\"Sentiment\"]==\"negative\"]['length'], bins=50)\n",
        "plt.title(\"Negative\")\n",
        "\n",
        "plt.subplot(2,2,3)\n",
        "plt.hist(df[df[\"Sentiment\"]==\"positive\"]['length'], bins=50)\n",
        "plt.title(\"Positive\")\n",
        "\n",
        "plt.tight_layout()\n",
        "\n",
        "plt.show()"
      ],
      "metadata": {
        "colab": {
          "base_uri": "https://localhost:8080/",
          "height": 369
        },
        "id": "nreT9SFZOKrx",
        "outputId": "49ffe125-bb4f-4826-d5e1-c2c8da94691d"
      },
      "execution_count": 14,
      "outputs": [
        {
          "output_type": "display_data",
          "data": {
            "text/plain": [
              "<Figure size 864x360 with 3 Axes>"
            ],
            "image/png": "[encoded data removed]"
          },
          "metadata": {}
        }
      ]
    },
    {
      "cell_type": "markdown",
      "source": [
        "## 2- Pre-Processing and Cleaning:\n",
        "\n",
        "**Plan:** \n",
        "\n",
        "- Converting to small-case \n",
        "- Remove punctuation marks \n",
        "- Remove anything that is not a character \n",
        "- Remove stop words \n"
      ],
      "metadata": {
        "id": "hdvLCCDPwOpX"
      }
    },
    {
      "cell_type": "code",
      "source": [
        "import re\n",
        "from nltk.stem import WordNetLemmatizer\n",
        "\n",
        "nltk.download('omw-1.4')\n",
        "\n",
        "def text_process(text):\n",
        "    # lowers the text --> no capitalization\n",
        "    text = str(text).lower()\n",
        "\n",
        "    # substitute every character that is not a character in the range 'a to z' or 'A to Z' with an space.\n",
        "    text = re.sub(r\"[^a-zA-Z]\",\" \",text)\n",
        "\n",
        "    # Check characters to see if they are in punctuation\n",
        "    nopunc = [char for char in text if char not in string.punctuation]\n",
        "\n",
        "    # Join the characters again to form the string.\n",
        "    nopunc = ''.join(nopunc)\n",
        "\n",
        "    # remove stopwords\n",
        "    return [word for word in nopunc.split() if word.lower() not in stopwords.words('english')]"
      ],
      "metadata": {
        "colab": {
          "base_uri": "https://localhost:8080/"
        },
        "id": "NkA1lDaXO4hD",
        "outputId": "dbfcfe3f-4e21-4171-bbc4-30742868f5a1"
      },
      "execution_count": 39,
      "outputs": [
        {
          "output_type": "stream",
          "name": "stderr",
          "text": [
            "[nltk_data] Downloading package omw-1.4 to /root/nltk_data...\n",
            "[nltk_data]   Package omw-1.4 is already up-to-date!\n"
          ]
        }
      ]
    },
    {
      "cell_type": "code",
      "source": [
        "# applying the funcation for every row in the 'News Headline' col in the df.\n",
        "df[\"News Headline\"].apply(text_process)"
      ],
      "metadata": {
        "colab": {
          "base_uri": "https://localhost:8080/"
        },
        "outputId": "2e37ee19-d425-4b51-d86a-4802305ddf82",
        "id": "znmSq0TL0xZ-"
      },
      "execution_count": 40,
      "outputs": [
        {
          "output_type": "execute_result",
          "data": {
            "text/plain": [
              "0       [according, gran, company, plans, move, produc...\n",
              "1       [technopolis, plans, develop, stages, area, le...\n",
              "2       [international, electronic, industry, company,...\n",
              "3       [new, production, plant, company, would, incre...\n",
              "4       [according, company, updated, strategy, years,...\n",
              "                              ...                        \n",
              "4841    [london, marketwatch, share, prices, ended, lo...\n",
              "4842    [rinkuskiai, beer, sales, fell, per, cent, mil...\n",
              "4843    [operating, profit, fell, eur, mn, eur, mn, in...\n",
              "4844    [net, sales, paper, segment, decreased, eur, m...\n",
              "4845    [sales, finland, decreased, january, sales, ou...\n",
              "Name: News Headline, Length: 4846, dtype: object"
            ]
          },
          "metadata": {},
          "execution_count": 40
        }
      ]
    },
    {
      "cell_type": "markdown",
      "source": [
        "## 3- Data Transfromation:\n",
        "\n",
        "**Plan:** \n",
        "\n",
        "- Bag of Words \n",
        "- TF-IDF\n"
      ],
      "metadata": {
        "id": "edwYdfzs2oOA"
      }
    },
    {
      "cell_type": "code",
      "source": [
        "bagofwords_transformer = CountVectorizer(analyzer=text_process).fit(df[\"News Headline\"])"
      ],
      "metadata": {
        "id": "BGu5y2b6QQcJ"
      },
      "execution_count": 41,
      "outputs": []
    },
    {
      "cell_type": "code",
      "source": [
        "# list of unique words in the new headline col\n",
        "print(bagofwords_transformer.vocabulary_)"
      ],
      "metadata": {
        "colab": {
          "base_uri": "https://localhost:8080/"
        },
        "id": "tQbB1cWfHcIW",
        "outputId": "66f1c4bd-03aa-4339-e8ab-3cecff84b39a"
      },
      "execution_count": 42,
      "outputs": [
        {
          "output_type": "stream",
          "name": "stdout",
          "text": [
            "{'according': 44, 'gran': 3196, 'company': 1440, 'plans': 5864, 'move': 5059, 'production': 6105, 'russia': 6832, 'although': 270, 'growing': 3237, 'technopolis': 7915, 'develop': 1975, 'stages': 7500, 'area': 419, 'less': 4388, 'square': 7481, 'meters': 4873, 'order': 5459, 'host': 3492, 'companies': 1438, 'working': 8852, 'computer': 1496, 'technologies': 7911, 'telecommunications': 7940, 'statement': 7524, 'said': 6865, 'international': 3819, 'electronic': 2320, 'industry': 3687, 'elcoteq': 2310, 'laid': 4263, 'tens': 7967, 'employees': 2363, 'tallinn': 7840, 'facility': 2671, 'contrary': 1610, 'earlier': 2225, 'layoffs': 4323, 'contracted': 1605, 'ranks': 6312, 'office': 5369, 'workers': 8847, 'daily': 1802, 'postimees': 5976, 'reported': 6574, 'new': 5200, 'plant': 5865, 'would': 8866, 'increase': 3649, 'capacity': 1068, 'meet': 4821, 'expected': 2602, 'demand': 1898, 'improve': 3616, 'use': 8438, 'raw': 6337, 'materials': 4756, 'therefore': 8021, 'profitability': 6117, 'updated': 8409, 'strategy': 7598, 'years': 8903, 'basware': 668, 'targets': 7878, 'long': 4528, 'term': 7972, 'net': 5182, 'sales': 6878, 'growth': 3240, 'range': 6304, 'operating': 5426, 'profit': 6116, 'margin': 4707, 'financing': 2796, 'aspocomp': 475, 'aggressively': 171, 'pursuing': 6225, 'increasingly': 3653, 'focusing': 2891, 'technologically': 7910, 'demanding': 1900, 'hdi': 3351, 'printed': 6070, 'circuit': 1289, 'boards': 831, 'pcbs': 5696, 'last': 4296, 'quarter': 6251, 'componenta': 1481, 'doubled': 2147, 'eur': 2522, 'period': 5750, 'year': 8901, 'moved': 5060, 'zero': 8941, 'pre': 6006, 'tax': 7891, 'loss': 4542, 'third': 8038, 'increased': 3650, 'mn': 4973, 'rose': 6774, 'corresponding': 1665, 'representing': 6585, 'totalled': 8146, 'teliasonera': 7952, 'tlsn': 8099, 'offer': 5364, 'line': 4454, 'ownership': 5547, 'core': 1654, 'business': 996, 'holdings': 3461, 'strengthen': 7610, 'eesti': 2274, 'telekom': 7943, 'offering': 5366, 'customers': 1778, 'stora': 7575, 'enso': 2412, 'norske': 5277, 'skog': 7299, 'real': 6356, 'upm': 8419, 'kymmene': 4239, 'credit': 1723, 'suisse': 7690, 'first': 2832, 'boston': 879, 'cfsb': 1193, 'raised': 6292, 'fair': 2682, 'value': 8493, 'shares': 7155, 'four': 2958, 'largest': 4289, 'nordic': 5267, 'forestry': 2918, 'groups': 3234, 'purchase': 6213, 'agreement': 178, 'tons': 8126, 'gasoline': 3077, 'delivery': 1896, 'hamina': 3284, 'terminal': 7973, 'finland': 2815, 'signed': 7226, 'neste': 5181, 'oil': 5381, 'oyj': 5554, 'average': 569, 'platts': 5879, 'index': 3661, 'september': 7102, 'plus': 5899, 'eight': 2299, 'us': 8434, 'dollars': 2125, 'per': 5739, 'month': 5020, 'finnish': 2820, 'talentum': 7834, 'reports': 6578, 'totaled': 8144, 'clothing': 1344, 'retail': 6663, 'chain': 1196, 'sepp': 7097, 'l': 4244, 'consolidated': 1559, 'reach': 6343, 'amounted': 301, 'compared': 1446, 'prior': 6072, 'foundries': 2956, 'division': 2100, 'machine': 4602, 'shop': 7195, 'helsinki': 3404, 'afx': 162, 'closed': 1338, 'higher': 3422, 'led': 4356, 'nokia': 5251, 'announced': 334, 'team': 7899, 'sanyo': 6910, 'manufacture': 4686, 'g': 3046, 'handsets': 3301, 'nokian': 5252, 'tyres': 8310, 'fourth': 2959, 'earnings': 2231, 'report': 6572, 'beat': 686, 'analysts': 313, 'expectations': 2601, 'dealers': 1838, 'incap': 3631, 'contract': 1604, 'manufacturing': 4691, 'services': 7113, 'pvt': 6234, 'ltd': 4568, 'subsidiary': 7664, 'corporation': 1659, 'double': 2146, 'revenues': 6686, 'board': 829, 'directors': 2036, 'propose': 6155, 'dividend': 2098, 'share': 7148, 'paid': 5574, 'lifetree': 4423, 'founded': 2953, 'risen': 6721, 'margins': 4708, 'late': 4298, 'filippova': 2775, 'trilateral': 8230, 'investment': 3858, 'construction': 1570, 'technology': 7912, 'park': 5619, 'st': 7488, 'petersburg': 5778, 'course': 1692, 'forum': 2943, 'days': 1827, 'russian': 6833, 'economy': 2258, 'opened': 5420, 'today': 8106, 'megafon': 4827, 'subscriber': 7658, 'base': 657, 'million': 4929, 'users': 8441, 'december': 1849, 'market': 4722, 'number': 5316, 'estimates': 2504, 'income': 3644, 'life': 4419, 'insurance': 3770, 'non': 5256, 'pretax': 6049, 'usd': 8437, 'surged': 7751, 'teleste': 7948, 'came': 1041, 'acquisitions': 67, 'made': 4608, 'nordea': 5266, 'group': 3232, 'percent': 5740, 'billion': 771, 'euros': 2531, 'total': 8143, 'revenue': 6685, 'nine': 5236, 'three': 8050, 'brazilian': 911, 'unit': 8381, 'security': 7038, 'solutions': 7381, 'provider': 6184, 'f': 2661, 'secure': 7034, 'clients': 1329, 'online': 5412, 'news': 5210, 'source': 7400, 'reseller': 6602, 'web': 8732, 'quoted': 6266, 'commercial': 1413, 'director': 2035, 'vladimir': 8620, 'brand': 903, 'saying': 6950, 'lithuanian': 4485, 'beer': 701, 'liters': 4483, 'january': 3939, 'rise': 6720, 'figure': 2768, 'brewers': 924, 'association': 491, 'reporting': 6577, 'citing': 1299, 'results': 6661, 'members': 4839, 'viking': 8586, 'cargo': 1090, 'volume': 8637, 'units': 8385, 'property': 6151, 'portfolio': 5952, 'result': 6658, 'kapiteeli': 4050, 'acquisition': 66, 'february': 2723, 'media': 4813, 'sanoma': 6907, 'hel': 3390, 'saa': 6845, 'v': 8466, 'yesterday': 8907, 'almost': 254, 'tripled': 8234, 'proposal': 6153, 'payout': 5689, 'eliiv': 2336, 'eps': 2451, 'aspo': 474, 'plc': 5887, 'stock': 7563, 'exchange': 2570, 'release': 6501, 'esl': 2488, 'shipping': 7185, 'part': 5626, 'rautaruukki': 6335, 'marine': 4715, 'transport': 8204, 'baltic': 623, 'sea': 7009, 'commission': 1416, 'lending': 4380, 'traffic': 8184, 'measured': 4799, 'passenger': 5654, 'kilometres': 4142, 'rpk': 6798, 'went': 8761, 'available': 564, 'seat': 7021, 'ask': 464, 'fiskars': 2841, 'nyrstar': 5328, 'also': 262, 'agreed': 176, 'supply': 7736, 'talvivaara': 7848, 'tonnes': 8125, 'sulphuric': 7699, 'acid': 58, 'annum': 341, 'leaching': 4329, 'process': 6091, 'zinc': 8943, 'concentrate': 1499, 'department': 1919, 'store': 7577, 'hobby': 3453, 'hall': 3274, 'seppala': 7098, 'decreased': 1864, 'export': 2630, 'markets': 4727, 'due': 2200, 'rates': 6324, 'operations': 5429, 'strengthens': 7613, 'partnership': 5646, 'siemens': 7218, 'networks': 5194, 'biohit': 784, 'healthcare': 3365, 'uk': 8327, 'based': 659, 'public': 6199, 'develops': 1982, 'manufactures': 4690, 'liquid': 4469, 'handling': 3297, 'products': 6109, 'diagnostic': 1988, 'test': 7988, 'systems': 7810, 'already': 261, 'carried': 1098, 'investments': 3859, 'lead': 4330, 'reached': 6344, 'book': 852, 'stood': 7571, 'bln': 809, 'euro': 2524, 'pct': 5699, 'orders': 5461, 'amounting': 302, 'mln': 4967, 'paper': 5604, 'main': 4626, 'including': 3641, 'publication': 6200, 'papers': 5608, 'prices': 6057, 'world': 8857, 'second': 7026, 'stainless': 7502, 'steel': 7544, 'maker': 4642, 'dec': 1845, 'previous': 6053, 'within': 8828, 'framework': 2965, 'initial': 3712, 'sitronics': 7275, 'jsc': 3995, 'mikron': 4917, 'manufacturer': 4688, 'exporter': 2632, 'microelectronic': 4901, 'components': 1482, 'abroad': 21, 'countries': 1685, 'well': 8754, 'ukraine': 8330, 'standard': 7509, 'chartered': 1228, 'stan': 7507, 'ftse': 3006, 'royal': 6794, 'bank': 632, 'scotland': 6996, 'rbs': 6341, 'barclays': 643, 'barc': 641, 'bcs': 681, 'corp': 1657, 'thursday': 8053, 'cell': 1155, 'phone': 5806, 'global': 3150, 'handset': 3300, 'financial': 2793, 'published': 6202, 'friday': 2990, 'seb': 7024, 'soared': 7357, 'sek': 7060, 'bn': 824, 'proposed': 6156, 'meanwhile': 4797, 'request': 6593, 'alma': 252, 'newspapers': 5212, 'research': 6601, 'manager': 4664, 'jari': 3943, 'kaivo': 4033, 'oja': 5382, 'futures': 3044, 'centre': 1173, 'turku': 8276, 'school': 6979, 'economics': 2256, 'drawn': 2171, 'future': 3043, 'scenario': 6968, 'national': 5135, 'using': 8443, 'model': 4980, 'developed': 1976, 'university': 8389, 'denver': 1916, 'sweden': 7781, 'gallerix': 3055, 'accumulated': 52, 'denominated': 1913, 'supports': 7741, 'developing': 1979, 'offers': 5368, 'fast': 2701, 'route': 6789, 'product': 6104, 'development': 1980, 'applications': 384, 'place': 5855, 'atria': 506, 'expand': 2594, 'moscow': 5039, 'continuation': 1597, 'theagreement': 8010, 'lemminkainen': 4377, 'whereby': 8772, 'cramo': 1710, 'acquired': 62, 'entire': 2425, 'fleet': 2859, 'oflemminkainen': 5377, 'talo': 7843, 'oy': 5553, 'ita': 3905, 'ja': 3926, 'pohjois': 5914, 'suomo': 7715, 'asimilar': 463, 'tatu': 7888, 'hauhio': 3345, 'managing': 4667, 'ofcramo': 5362, 'envisaged': 2444, 'ferryboats': 2750, 'option': 5449, 'two': 8300, 'confirmed': 1529, 'june': 4010, 'sold': 7371, 'stake': 7503, 'nordstjernan': 5268, 'taken': 7829, 'acquire': 61, 'eqt': 2453, 'remaining': 6516, 'kesko': 4118, 'acquires': 64, 'capital': 1071, 'kauko': 4078, 'telko': 7953, 'wholly': 8783, 'owned': 5544, 'sponda': 7462, 'syndicated': 7799, 'one': 5407, 'announcement': 335, 'july': 4005, 'subscriptions': 7661, 'warrants': 8697, 'subscribed': 7657, 'warrant': 8696, 'program': 6120, 'covers': 1701, 'hdo': 3352, 'platform': 5876, 'ac': 26, 'cxe': 1792, 'optical': 5440, 'fttb': 3007, 'nodes': 5248, 'designed': 1950, 'forward': 2945, 'return': 6679, 'path': 5663, 'transmission': 8202, 'planned': 5862, 'electricity': 2318, 'generation': 3101, 'megawatts': 4831, 'mw': 5105, 'heat': 3373, 'omx': 5404, 'cap': 1062, 'cars': 1106, 'considerably': 1548, 'influence': 3693, 'tires': 8092, 'maximum': 4772, 'exercising': 2587, 'b': 588, 'options': 5451, 'plan': 5860, 'issue': 3899, 'increases': 3651, 'estate': 2501, 'investor': 3860, 'wednesday': 8739, 'march': 4702, 'agreements': 179, 'danske': 1813, 'branch': 901, 'ilmarinen': 3586, 'mutual': 5104, 'pension': 5730, 'estonia': 2507, 'volumes': 8638, 'fell': 2738, 'measures': 4802, 'included': 3639, 'increasing': 3652, 'synergies': 7801, 'economies': 2257, 'scale': 6957, 'grimaldi': 3223, 'personnel': 5766, 'adjustments': 118, 'divestments': 2094, 'redelivery': 6419, 'excess': 2568, 'tonnage': 8123, 'rinkuskiai': 6718, 'kauno': 4084, 'alus': 281, 'grew': 3218, 'telecomworldwire': 7942, 'april': 403, 'tj': 8097, 'sells': 7072, 'morning': 5031, 'digital': 2011, 'design': 1947, 'selling': 7071, 'edita': 2266, 'series': 7106, 'become': 694, 'subject': 7651, 'trading': 8180, 'list': 4476, 'together': 8107, 'old': 5391, 'fuel': 3010, 'contracts': 1609, 'months': 5022, 'november': 5304, 'tiimari': 8071, 'operates': 5425, 'stores': 7580, 'six': 7278, 'generated': 3098, 'turnover': 8281, 'becomes': 695, 'focus': 2888, 'supplier': 7733, 'pipettors': 5843, 'disposable': 2068, 'pipettor': 5842, 'tips': 8090, 'vwr': 8663, 'throughout': 8051, 'europe': 2528, 'combination': 1394, 'enabling': 2380, 'complex': 1474, 'strengthened': 7611, 'service': 7112, 'limited': 4447, 'port': 5949, 'connections': 1538, 'getting': 3126, 'access': 35, 'wide': 8786, 'network': 5192, 'mediterranean': 4817, 'africa': 158, 'north': 5280, 'america': 292, 'says': 6951, 'uwe': 8464, 'bakosch': 614, 'blind': 808, 'spots': 7471, 'coming': 1404, 'vantage': 8503, 'point': 5917, 'allows': 248, 'investigators': 3854, 'see': 7040, 'whole': 8779, 'story': 7586, 'high': 3421, 'resolution': 6620, 'unbroken': 8344, 'video': 8571, 'still': 7561, 'expects': 2604, 'slightly': 7316, 'level': 4392, 'adding': 102, 'predictability': 6015, 'poor': 5941, 'trustworthy': 8246, 'forecasts': 2911, 'current': 1770, 'kemira': 4108, 'position': 5963, 'metal': 4867, 'coatings': 1359, 'finnlines': 2822, 'adjusted': 115, 'changes': 1212, 'structure': 7630, 'change': 1210, 'optimize': 5447, 'operational': 5428, 'efficiencies': 2282, 'julia': 4004, 'prohaska': 6126, 'marketing': 4724, 'communications': 1433, 'invest': 3849, 'physical': 5815, 'infrastructure': 3700, 'provide': 6182, 'know': 4168, 'science': 6987, 'parks': 5622, 'sunrise': 7710, 'valley': 8489, 'andrius': 324, 'bagdonas': 605, 'broadband': 946, 'data': 1819, 'communication': 1432, 'tlt': 8100, 'saw': 6945, 'jump': 4006, 'aktia': 215, 'land': 4273, 'vaahto': 8468, 'accounting': 49, 'food': 2901, 'nnen': 5245, 'tehtaat': 7924, 'continuing': 1601, 'individual': 3673, 'promotion': 6144, 'many': 4692, 'genesis': 3104, 'customer': 1777, 'respectively': 6632, 'circulation': 1292, 'grow': 3235, 'rate': 6322, 'annually': 339, 'swedish': 7782, 'experiencing': 2612, 'estimated': 2503, 'annual': 337, 'however': 3507, 'continue': 1598, 'favourable': 2711, 'trends': 8223, 'cash': 1112, 'flow': 2880, 'activities': 84, 'lithuania': 4484, 'kalmar': 4041, 'espana': 2489, 'x': 8881, 'chargers': 1221, 'delivered': 1892, 'pieces': 5821, 'noted': 5292, 'price': 6055, 'declined': 1858, 'though': 8045, 'mobile': 4976, 'ago': 175, 'ramirent': 6300, 'quarterended': 6252, 'u': 8314, 'thesecond': 8024, 'ruukki': 6835, 'aker': 212, 'norway': 5288, 'suction': 7681, 'anchors': 318, 'kalajoki': 4034, 'showed': 7208, 'comparable': 1442, 'ceo': 1178, 'sakari': 6871, 'tamminen': 7855, 'magazines': 4613, 'gdp': 3088, 'overall': 5531, 'weekly': 8743, 'basis': 665, 'day': 1826, 'cent': 1165, 'properties': 6149, 'end': 2384, 'best': 742, 'major': 4638, 'breweries': 923, 'domestic': 2127, 'litres': 4486, 'transaction': 8194, 'doubles': 2148, 'tecnomens': 7918, 'workforse': 8851, 'adds': 107, 'rental': 6545, 'latvian': 4308, 'priority': 6073, 'balance': 615, 'sheet': 7166, 'hannu': 3309, 'krook': 4219, 'yit': 8915, 'building': 975, 'system': 7808, 'geographically': 3113, 'october': 5354, 'fishing': 2840, 'tackle': 7816, 'rapala': 6318, 'vmc': 8622, 'rap': 6317, 'structures': 7631, 'bim': 773, 'information': 3696, 'modeling': 4981, 'software': 7367, 'tekla': 7927, 'adopted': 125, 'management': 4663, 'project': 6129, 'abu': 25, 'dhabi': 1985, 'metso': 4886, 'minerals': 4939, 'gone': 3169, 'aldata': 226, 'solution': 7380, 'french': 2984, 'chains': 1197, 'forest': 2915, 'machinery': 4603, 'ponsse': 5937, 'kci': 4094, 'konecranes': 4184, 'estimate': 2502, 'okmetic': 5387, 'processes': 6093, 'silicon': 7236, 'wafers': 8667, 'semiconductor': 7074, 'sensor': 7084, 'industries': 3686, 'norwegian': 5289, 'solar': 7370, 'wafer': 8666, 'norsun': 5278, 'mono': 5013, 'crystals': 1747, 'pharmaceuticals': 5790, 'orion': 5483, 'babcock': 589, 'distribution': 2084, 'support': 7738, 'machines': 4604, 'harvester': 3335, 'heads': 3363, 'south': 7404, 'african': 160, 'sappi': 6912, 'foreign': 2912, 'graphic': 3203, 'deputy': 1935, 'md': 4787, 'pekka': 5715, 'silvennoinen': 7239, 'aim': 196, 'next': 5219, 'hkscan': 3449, 'j': 3925, 'rvi': 6839, 'suomen': 7712, 'portti': 5957, 'advertising': 141, 'takeover': 7830, 'significant': 7228, 'forecast': 2909, 'previously': 6054, 'lemmink': 4376, 'inen': 3688, 'time': 8081, 'h': 3264, 'ls': 4564, 'aviation': 573, 'maintenance': 4636, 'kansas': 4048, 'besides': 741, 'meat': 4804, 'various': 8508, 'sausages': 6934, 'tastes': 7886, 'grill': 3222, 'shish': 7189, 'kebabs': 4098, 'segment': 7050, 'paavel': 5560, 'approximately': 401, 'digia': 2009, 'diluted': 2017, 'versus': 8557, 'ebit': 2247, 'editor': 2267, 'note': 5291, 'ansa': 346, 'may': 4774, 'equity': 2459, 'ratio': 6327, 'frozen': 3003, 'foods': 2902, 'q': 6236, 'textile': 8001, 'marimekko': 4712, 'mmo': 4970, 'se': 7008, 'privately': 6076, 'held': 3393, 'electronics': 2322, 'deal': 1836, 'equipment': 2456, 'andrew': 322, 'cutlery': 1783, 'hand': 3288, 'tools': 8130, 'abp': 18, 'fisas': 2835, 'stockmann': 7565, 'lifting': 4426, 'half': 3273, 'messaging': 4865, 'developer': 1977, 'tecnomen': 7917, 'tem': 7958, 'received': 6379, 'expansion': 2599, 'convergent': 1625, 'charging': 1223, 'latin': 4301, 'outotec': 5519, 'supplies': 7735, 'accessories': 37, 'dealer': 1837, 'beltton': 721, 'privacy': 6074, 'stonesoft': 7570, 'preliminary': 6021, 'stonegate': 7569, 'okm': 5386, 'august': 531, 'done': 2134, 'underlying': 8355, 'following': 2897, 'relacom': 6490, 'presence': 6035, 'serving': 7115, 'operators': 5433, 'fixed': 2848, 'installation': 3753, 'wholesale': 8780, 'seen': 7048, 'grown': 3238, 'returned': 6680, 'eloholma': 2341, 'ragutis': 6283, 'controlled': 1616, 'brewery': 926, 'svyturys': 7778, 'utenos': 8451, 'beverages': 750, 'holding': 3460, 'bbh': 679, 'posted': 5974, 'contempus': 1588, 'nok': 5250, 'approx': 400, 'addition': 103, 'kone': 4183, 'escalators': 2485, 'alone': 256, 'interest': 3805, 'review': 6687, 'currency': 1769, 'generate': 3097, 'indian': 3664, 'widened': 8788, 'comes': 1400, 'zloty': 8945, 'agro': 184, 'retailer': 6665, 'wholesaler': 8781, 'grain': 3194, 'agricultural': 182, 'warehousing': 8690, 'tenth': 7968, 'preceding': 6008, 'car': 1082, 'import': 3609, 'retailing': 6667, 'vv': 8662, 'auto': 550, 'adp': 129, 'feb': 2722, 'ixonos': 3924, 'xns': 8886, 'affecto': 154, 'afe': 148, 'nov': 5301, 'measurement': 4800, 'vaisala': 8480, 'vaias': 8479, 'oct': 5353, 'kcr': 4095, 'procurement': 6097, 'honkajoki': 3477, 'findest': 2802, 'protein': 6171, 'manufacturers': 4689, 'animal': 328, 'fat': 2705, 'biodiesel': 778, 'cd': 1143, 'porvoo': 5959, 'refinery': 6441, 'vegetable': 8528, 'multimedia': 5083, 'kauppalehti': 4085, 'marketplaces': 4726, 'intake': 3773, 'respective': 6631, 'periods': 5751, 'pharma': 5788, 'related': 6491, 'press': 6043, 'deliver': 1891, 'install': 3752, 'bridge': 929, 'kyronsalmi': 4242, 'strait': 7592, 'savonlinna': 6943, 'guided': 3254, 'devices': 1984, 'satama': 6923, 'section': 7030, 'regional': 6464, 'finnair': 2816, 'asian': 461, 'kilometers': 4141, 'compare': 1445, 'expands': 2598, 'scope': 6991, 'least': 4351, 'fifth': 2765, 'full': 3022, 'placed': 5856, 'p': 5557, 'max': 4770, 'tankers': 7860, 'dwt': 2214, 'outlook': 5517, 'government': 3185, 'chemicals': 1243, 'fertilizer': 2751, 'sending': 7079, 'firm': 2829, 'german': 3121, 'code': 1365, 'another': 344, 'oneworld': 5410, 'member': 4838, 'american': 293, 'airlines': 205, 'inc': 3630, 'amr': 306, 'nyse': 5329, 'owns': 5549, 'salomon': 6883, 'atomic': 505, 'suunto': 7765, 'brands': 905, 'registered': 6468, 'trade': 8173, 'register': 6467, 'bringing': 935, 'gbx': 3086, 'tuesday': 8255, 'region': 6463, 'eastern': 2238, 'transactions': 8195, 'recovery': 6406, 'metals': 4869, 'china': 1255, 'representation': 6581, 'extends': 2645, 'comptel': 1494, 'worldwide': 8858, 'tietoenator': 8065, 'uses': 8442, 'intellisync': 3784, 'suite': 7693, 'wireless': 8818, 'email': 2345, 'calendar': 1028, 'device': 1983, 'capabilities': 1063, 'extend': 2642, 'vacon': 8476, 'drives': 2182, 'ruselprom': 6829, 'power': 5990, 'kw': 4234, 'existing': 2591, 'cybercom': 1794, 'cto': 1751, 'esko': 2487, 'myllyla': 5108, 'via': 8563, 'satlan': 6929, 'partner': 5643, 'cable': 1012, 'broadcasters': 948, 'iptv': 3878, 'providers': 6185, 'central': 1169, 'extension': 2646, 'engines': 2402, 'produce': 6098, 'european': 2529, 'strongly': 7628, 'firstquarter': 2834, 'since': 7255, 'magnus': 4620, 'rosen': 6775, 'branded': 904, 'goods': 3171, 'president': 6042, 'heikki': 3385, 'allonen': 242, 'pointing': 5918, 'relatively': 6499, 'overlapping': 5534, 'larox': 4290, 'filters': 2780, 'nickel': 5224, 'mine': 4934, 'sotkamo': 7396, 'objective': 5333, 'lines': 4456, 'elisa': 2338, 'mainly': 4629, 'adopting': 127, 'called': 1035, 'ahead': 185, 'exports': 2635, 'panostaja': 5601, 'fiscal': 2836, 'ended': 2385, 'geosentric': 3118, 'geosolutions': 3119, 'gypsii': 3262, 'lifestyle': 4421, 'application': 383, 'geo': 3110, 'mobility': 4978, 'social': 7359, 'networking': 5193, 'nanjing': 5125, 'mynet': 5110, 'make': 4640, 'outokumpu': 5518, 'mongolia': 5010, 'erdenet': 2466, 'mining': 4944, 'engineering': 2400, 'hydrocopper': 3538, 'built': 978, 'site': 7272, 'proportion': 6152, 'standing': 7512, 'lining': 4457, 'stone': 7568, 'realized': 6360, 'effect': 2276, 'litas': 4480, 'vac': 8471, 'set': 7120, 'representative': 6582, 'offices': 5371, 'romania': 6762, 'serve': 7107, 'southeastern': 7407, 'affected': 152, 'nevertheless': 5198, 'postel': 5975, 'distributor': 2086, 'continues': 1600, 'stronger': 7626, 'olvi': 5399, 'controls': 1619, 'le': 4328, 'coq': 1653, 'target': 7875, 'soft': 7365, 'drinks': 2177, 'mineral': 4938, 'waters': 8716, 'ciders': 1283, 'energy': 2393, 'plants': 5867, 'markedly': 4721, 'material': 4754, 'recycled': 6414, 'employed': 2361, 'percentage': 5741, 'points': 5919, 'veidekke': 8534, 'entreprenor': 2438, 'packaging': 5565, 'strongest': 7627, 'czech': 1798, 'republic': 6588, 'slovakia': 7324, 'airline': 204, 'ordered': 5460, 'airbus': 202, 'aircraft': 203, 'deliveries': 1893, 'latest': 4300, 'variant': 8506, 'rolls': 6760, 'royce': 6797, 'trent': 8224, 'intensifying': 3788, 'smelter': 7338, 'copper': 1649, 'continued': 1599, 'scheduled': 6972, 'nearly': 5157, 'passengers': 5655, 'flights': 2870, 'areas': 420, 'resulted': 6659, 'poland': 5921, 'disposal': 2069, 'autotank': 560, 'commented': 1409, 'gustav': 3260, 'nyberg': 5326, 'economic': 2254, 'occupancy': 5345, 'bss': 965, 'oss': 5495, 'vas': 8515, 'telecom': 7936, 'tecnotree': 7920, 'worth': 8865, 'without': 8829, 'specifying': 7442, 'activeness': 82, 'started': 7518, 'stated': 7523, 'businesses': 997, 'telemig': 7945, 'celular': 1161, 'beginning': 705, 'prepaid': 6028, 'xerox': 8883, 'teamed': 7900, 'tailor': 7824, 'igen': 3569, 'short': 7201, 'run': 6823, 'town': 8162, 'riihim': 6712, 'ki': 4131, 'lease': 4346, 'occupy': 5349, 'travel': 8208, 'facilities': 2670, 'upgrade': 8413, 'intended': 3786, 'raise': 6291, 'mhz': 4895, 'several': 7131, 'cities': 1297, 'bi': 754, 'directional': 2031, 'television': 7949, 'notice': 5295, 'skandinaviska': 7288, 'enskilda': 2411, 'banken': 634, 'ab': 7, 'publ': 6198, 'divested': 2092, 'ilkka': 3581, 'yhtyma': 8911, 'kaleva': 4035, 'kustannus': 4229, 'conditions': 1515, 'fulfilled': 3018, 'entered': 2417, 'receive': 6378, 'aggregate': 169, 'amount': 300, 'automated': 552, 'larger': 4288, 'pipettes': 5841, 'efore': 2290, 'reijo': 6478, 'maihaniemi': 4622, 'chinese': 1256, 'sector': 7032, 'zte': 8949, 'co': 1350, 'tlv': 8101, 'picked': 5818, 'bofa': 840, 'merrill': 4861, 'lynch': 4595, 'jpmorgan': 3994, 'jpm': 3993, 'joint': 3975, 'bookrunners': 856, 'convertible': 1633, 'notes': 5293, 'turn': 8277, 'twofold': 8301, 'levels': 4393, 'zahariev': 8931, 'sto': 7562, 'nda': 5153, 'pohjola': 5915, 'poh': 5911, 'sampo': 6892, 'samas': 6890, 'svenska': 7771, 'handelsbanken': 3289, 'shb': 7161, 'could': 1678, 'scandic': 6960, 'feed': 2727, 'diversify': 2090, 'tosno': 8142, 'separately': 7094, 'austrian': 539, 'e': 2220, 'ag': 163, 'week': 8740, 'sale': 6877, 'germany': 3122, 'austria': 538, 'hungary': 3527, 'jm': 3965, 'recent': 6382, 'residential': 6612, 'intends': 3787, 'headquartered': 3361, 'meteorology': 4871, 'environmental': 2441, 'sciences': 6988, 'mall': 4653, 'pearl': 5705, 'city': 1300, 'cjsc': 1304, 'shanghai': 7146, 'homes': 3471, 'people': 5737, 'known': 4171, 'pulkovo': 6207, 'introduce': 3833, 'entirely': 2426, 'concept': 1503, 'creating': 1719, 'commercially': 1414, 'funded': 3033, 'knowledge': 4170, 'intensive': 3790, 'thereby': 8020, 'partners': 5645, 'mostly': 5045, 'apparent': 371, 'efficiency': 2283, 'observes': 5341, 'perttu': 5771, 'puro': 6218, 'tradeka': 8175, 'fund': 3031, 'wartsila': 8700, 'added': 100, 'decided': 1851, 'cathode': 1133, 'complete': 1469, 'name': 5118, 'shareholder': 7150, 'otto': 5507, 'henrik': 3407, 'bernhard': 738, 'transferred': 8198, 'corresponds': 1667, 'processing': 6095, 'collects': 1384, 'calculates': 1027, 'rvr': 6841, 'values': 8495, 'provides': 6186, 'interfaces': 3810, 'tinyurl': 8087, 'link': 4458, 'takes': 7831, 'scamming': 6958, 'promising': 6140, 'earn': 2228, 'thousands': 8047, 'becoming': 696, 'google': 3175, 'nasdaq': 5131, 'goog': 3174, 'advertiser': 139, 'alexandria': 231, 'va': 8467, 'pertti': 5770, 'salmi': 6879, 'hanna': 3306, 'vuolteenaho': 8659, 'oulu': 5508, 'sami': 6891, 'viitasaari': 8584, 'ii': 3574, 'ornamental': 5485, 'patent': 5659, 'trademark': 8176, 'markka': 4730, 'oksanen': 5389, 'harald': 3320, 'kaaja': 4026, 'juha': 4000, 'salokannel': 6882, 'kangasala': 4046, 'arto': 450, 'palin': 5587, 'viiala': 8580, 'providing': 6187, 'vsevolozhsk': 8655, 'leningrad': 4383, 'expanded': 2596, 'mline': 4966, 'family': 2692, 'ml': 4965, 'capman': 1076, 'alternative': 268, 'asset': 481, 'focused': 2889, 'vehicle': 8530, 'bought': 886, 'seven': 7127, 'underwent': 8366, 'refurbishment': 6453, 'relative': 6498, 'start': 7517, 'later': 4299, 'kazakhstan': 4091, 'ordabasy': 5458, 'build': 973, 'astana': 499, 'chairman': 1198, 'dinmukhamet': 2022, 'idrisov': 3565, 'conference': 1521, 'affectogenimap': 155, 'intellibis': 3781, 'debt': 1843, 'free': 2977, 'retaining': 6670, 'fireplaces': 2828, 'tulikivi': 8259, 'local': 4504, 'tiled': 8076, 'stoves': 7587, 'utility': 8457, 'ceramics': 1180, 'kermansavi': 4113, 'merge': 4852, 'means': 4794, 'absorption': 24, 'streamline': 7603, 'corporate': 1658, 'refinance': 6437, 'amounts': 303, 'furthermore': 3040, 'bunge': 986, 'sign': 7221, 'licensing': 4410, 'sunnuntai': 7709, 'carlshamn': 1093, 'mejeri': 4833, 'commerzbank': 1415, 'hamburg': 3281, 'jp': 3992, 'morgan': 5029, 'participated': 5631, 'arrangers': 437, 'dutch': 2209, 'ing': 3702, 'ams': 308, 'inga': 3703, 'arranger': 436, 'separated': 7093, 'parent': 5616, 'fortum': 2940, 'became': 691, 'listed': 4477, 'raisio': 6293, 'home': 3467, 'stretches': 7616, 'way': 8720, 'vladivostok': 8621, 'buy': 1000, 'danish': 1811, 'poultry': 5984, 'rights': 6709, 'granted': 3199, 'planning': 5863, 'harbor': 3321, 'chief': 1249, 'executive': 2581, 'lundmark': 4585, 'told': 8111, 'times': 8083, 'deutschland': 1973, 'outside': 5524, 'branches': 902, 'expanding': 2597, 'strategic': 7596, 'bp': 897, 'industrial': 3681, 'lubricants': 4571, 'ils': 3587, 'acquiring': 65, 'molub': 5003, 'alloy': 249, 'milan': 4919, 'italian': 3907, 'agency': 165, 'enables': 2379, 'mails': 4625, 'mail': 4624, 'accounts': 50, 'supporting': 7740, 'pop': 5943, 'imap': 3592, 'gradually': 3193, 'assets': 482, 'jydsk': 4021, 'materiel': 4757, 'udlejning': 8319, 'located': 4508, 'west': 8762, 'jutland': 4017, 'repurchase': 6590, 'behalf': 707, 'solidium': 7376, 'tikkurila': 8075, 'takoma': 7833, 'carry': 1104, 'moventas': 5062, 'parkano': 5620, 'runs': 6826, 'factory': 2677, 'southern': 7408, 'switch': 7788, 'converter': 1631, 'whilst': 8775, 'opening': 5421, 'locations': 4510, 'owner': 5545, 'sun': 7706, 'hung': 3526, 'kai': 4030, 'hong': 3474, 'kong': 4185, 'types': 8305, 'premium': 6026, 'projects': 6132, 'finalize': 2787, 'negotiations': 5169, 'letter': 4391, 'intent': 3791, 'seal': 7012, 'actual': 88, 'ky': 4235, 'window': 8805, 'fenestra': 2743, 'forssa': 2936, 'committed': 1425, 'apollo': 367, 'five': 2847, 'includes': 3640, 'training': 8192, 'uranium': 8426, 'produced': 6099, 'benefon': 731, 'navigation': 5147, 'locator': 4511, 'omxn': 5405, 'comprising': 1493, 'traded': 8174, 'stocks': 7566, 'r': 6267, 'turnkey': 8280, 'fortuna': 2941, 'stakeholders': 7504, 'everything': 2546, 'terms': 7980, 'take': 7828, 'cameco': 1042, 'front': 3000, 'cover': 1697, 'cost': 1673, 'extraction': 2655, 'sell': 7068, 'oxygen': 5551, 'sick': 7215, 'maihak': 4621, 'gmbh': 3156, 'beijing': 712, 'xfn': 8884, 'asia': 460, 'making': 4645, 'country': 1686, 'small': 7331, 'medium': 4818, 'enterprise': 2419, 'lr': 4563, 'summary': 7702, 'medical': 4816, 'pipeline': 5837, 'talks': 7838, 'involve': 3869, 'asked': 465, 'whether': 8774, 'talking': 7837, 'reliance': 6507, 'supplying': 7737, 'upcoming': 8407, 'jamnagar': 3933, 'lidskoe': 4413, 'pivo': 5851, 'foresees': 2914, 'integrated': 3776, 'modernization': 4989, 'updating': 8411, 'logistics': 4523, 'instruments': 3769, 'mikshis': 4918, 'residentialconstruction': 6613, 'particular': 5636, 'djsi': 2103, 'running': 6825, 'stoxx': 7588, 'goal': 3160, 'chosen': 1270, 'segments': 7051, 'ahlstrom': 187, 'latvijas': 4309, 'finieris': 2809, 'green': 3215, 'veneer': 8543, 'mill': 4924, 'ukmerge': 8328, 'house': 3501, 'targeting': 7877, 'voting': 8649, 'aspects': 471, 'defined': 1874, 'microsoft': 4902, 'details': 1963, 'initiatives': 3718, 'resulting': 6660, 'date': 1821, 'kahonen': 4029, 'juuka': 4018, 'handle': 3291, 'fire': 2825, 'pit': 5849, 'door': 2137, 'kenneth': 4110, 'bower': 891, 'vista': 8614, 'calif': 1032, 'elevator': 2331, 'output': 5522, 'elevators': 2332, 'yr': 8924, 'rs': 6800, 'crore': 1734, 'space': 7413, 'hospitals': 3491, 'schools': 6980, 'nurseries': 5320, 'laboratories': 4252, 'calls': 1039, 'switchboard': 7789, 'directory': 2037, 'significantly': 7229, 'contact': 1581, 'colleagues': 1380, 'call': 1034, 'directly': 2034, 'cargotec': 1091, 'totals': 8149, 'turkish': 8275, 'doktas': 2120, 'dokumculuk': 2121, 'ticaret': 8057, 'sanayi': 6896, 'raivv': 6295, 'wrapped': 8867, 'divestment': 2093, 'margarine': 4706, 'player': 5883, 'bg': 752, 'manipulator': 4677, 'acs': 70, 'knight': 4165, 'monday': 5007, 'wrapping': 8868, 'walki': 8677, 'wisa': 8821, 'tm': 8102, 'romanian': 6763, 'lei': 4367, 'mmh': 4969, 'morris': 5034, 'delivers': 1895, 'different': 2003, 'user': 8440, 'experience': 2610, 'widen': 8787, 'address': 106, 'jacobs': 3930, 'storengy': 7579, 'storage': 7576, 'sites': 7273, 'engineer': 2398, 'adpnews': 130, 'jun': 4008, 'revolving': 6690, 'silva': 7238, 'produces': 6102, 'garden': 3068, 'boats': 834, 'mr': 5068, 'ashley': 458, 'sports': 7469, 'direct': 2029, 'pc': 5694, 'pounds': 5986, 'float': 2871, 'challenges': 1202, 'formation': 2928, 'plug': 5895, 'pipelines': 5838, 'halt': 3278, 'accounted': 48, 'krakeroy': 4209, 'bascule': 656, 'piles': 5829, 'foundations': 2952, 'investing': 3856, 'strengthening': 7612, 'positions': 5966, 'established': 2497, 'enter': 2416, 'sysopen': 7806, 'shareholders': 7151, 'sentera': 7086, 'votes': 8648, 'helasto': 3392, 'lukkoexpert': 4574, 'kimmo': 4146, 'uusimaki': 8460, 'broad': 945, 'wig': 8792, 'session': 7118, 'pts': 6196, 'blue': 817, 'chip': 1257, 'generates': 3099, 'currently': 1771, 'employs': 2368, 'subsidiaries': 7663, 'distributors': 2087, 'onwards': 5416, 'spend': 7449, 'proceeds': 6090, 'surface': 7746, 'treatment': 8215, 'decision': 1852, 'lenenergo': 4381, 'generating': 3100, 'grid': 3219, 'container': 1586, 'namibia': 5122, 'walvis': 8684, 'bay': 678, 'coast': 1354, 'doubling': 2149, 'floor': 2873, 'aims': 199, 'commissioning': 1419, 'consists': 1557, 'functionality': 3028, 'phones': 5808, 'targeted': 7876, 'repayment': 6559, 'debenture': 1842, 'bonds': 849, 'collect': 1381, 'irrevocable': 3886, 'commitments': 1423, 'holders': 3459, 'subordinated': 7655, 'gorelovo': 3178, 'sq': 7480, 'invested': 3850, 'tielinja': 8062, 'powder': 5989, 'paint': 5578, 'district': 2088, 'judge': 3997, 'douglas': 2150, 'woodlock': 8839, 'extended': 2643, 'jan': 3935, 'temporary': 7960, 'restraining': 6652, 'sarantel': 6913, 'outsource': 5525, 'london': 4527, 'bns': 827, 'british': 943, 'miniature': 4941, 'antennas': 350, 'assembly': 478, 'estonian': 2508, 'gogol': 3163, 'street': 7607, 'underground': 8354, 'tunnel': 8266, 'crossing': 1737, 'implementation': 3604, 'launch': 4310, 'winner': 8808, 'subscription': 7660, 'tgk': 8003, 'vnh': 8623, 'ford': 2908, 'struggling': 7633, 'face': 2667, 'slowing': 7328, 'truck': 8241, 'suv': 7768, 'surfeit': 7748, 'gotta': 3181, 'rautakesko': 6332, 'figures': 2769, 'impacting': 3600, 'starting': 7519, 'peer': 5712, 'peugeot': 5785, 'fall': 2684, 'hit': 3442, 'expenditures': 2606, 'slowed': 7327, 'crisis': 1727, 'significance': 7227, 'emphasised': 2358, 'large': 4286, 'size': 7281, 'rapid': 6319, 'tv': 8288, 'viewed': 8576, 'attractive': 516, 'union': 8378, 'normal': 5270, 'spokesman': 7458, 'usko': 8444, 'maatta': 4600, 'motorcyclist': 5049, 'improving': 3621, 'motorcyclists': 5050, 'safety': 6860, 'back': 593, 'strong': 7625, 'kalnapilio': 4042, 'tauro': 7890, 'grupe': 3241, 'kalnapilis': 4043, 'tauras': 7889, 'denmark': 1912, 'unibrew': 8370, 'jumped': 4007, 'license': 4408, 'popular': 5944, 'patterns': 5675, 'staff': 7497, 'recruited': 6408, 'japan': 3940, 'complement': 1466, 'close': 1337, 'capacitors': 1067, 'used': 8439, 'reliability': 6505, 'noon': 5260, 'divisions': 2102, 'adjust': 113, 'arm': 427, 'producer': 6100, 'contribution': 1614, 'stx': 7642, 'environmentally': 2442, 'friendly': 2994, 'cruise': 1742, 'ferry': 2749, 'manage': 4660, 'stockholm': 7564, 'withviking': 8830, 'clearly': 1321, 'positive': 5967, 'tower': 8160, 'chose': 1269, 'add': 99, 'go': 3159, 'operation': 5427, 'summer': 7704, 'broadsheet': 950, 'tabloid': 7814, 'pages': 5573, 'ability': 13, 'page': 5572, 'side': 7216, 'uponor': 8421, 'record': 6399, 'invoice': 3866, 'automation': 556, 'connectivity': 1539, 'kazgiprotsvetmet': 4093, 'cooperation': 1643, 'metallurgical': 4868, 'surrounding': 7756, 'lemcon': 4373, 'kaluga': 4044, 'administration': 120, 'effects': 2281, 'favourably': 2712, 'middle': 4906, 'east': 2236, 'africaand': 159, 'pacific': 5561, 'involves': 3871, 'transfer': 8196, 'certain': 1184, 'documentation': 2113, 'functions': 3030, 'etteplan': 2515, 'appointment': 390, 'kaupthing': 4086, 'ordinate': 5462, 'cencorp': 1164, 'virkkala': 8597, 'enhance': 2404, 'productivity': 6108, 'huhtamaki': 3520, 'outstanding': 5528, 'supplied': 7732, 'papua': 5609, 'guinea': 3256, 'type': 8303, 'lihir': 4438, 'gold': 3166, 'pfizer': 5786, 'funding': 3034, 'biotie': 790, 'pde': 5702, 'phosphodiesterase': 5810, 'inhibitor': 3711, 'sole': 7372, 'authority': 547, 'discovered': 2056, 'compounds': 1486, 'forwards': 2949, 'mature': 4767, 'novator': 5302, 'shareholding': 7152, 'amer': 291, 'exceed': 2560, 'prove': 6178, 'rod': 6752, 'baber': 590, 'english': 2403, 'climber': 1333, 'climbed': 1332, 'mount': 5055, 'everest': 2543, 'summit': 7705, 'successfully': 7679, 'tests': 7992, 'campaign': 1045, 'trials': 8227, 'demonstrations': 1908, 'lte': 4570, 'viable': 8564, 'head': 3353, 'reino': 6484, 'tammela': 7854, 'specialty': 7437, 'glassfiber': 3145, 'reinforcement': 6483, 'carolina': 1095, 'ssh': 7486, 'please': 5889, 'tomi': 8117, 'laamanen': 4246, 'tel': 7931, 'patrizia': 5672, 'consensus': 1543, 'asx': 501, 'lgl': 4398, 'aimed': 197, 'completed': 1470, 'extensive': 2647, 'bolster': 846, 'operator': 5432, 'kallioranta': 4040, 'good': 3170, 'cooperationand': 1644, 'tied': 8061, 'ourmachinery': 5509, 'theodosopoulos': 8016, 'tellabs': 7954, 'nortel': 5279, 'given': 3137, 'leading': 4334, 'status': 7532, 'verizon': 8553, 'along': 257, 'succeeded': 7675, 'apartment': 363, 'comments': 1411, 'kari': 4061, 'kauniskangas': 4082, 'able': 14, 'quality': 6248, 'restaurant': 6648, 'christopher': 1275, 'wynne': 8879, 'papa': 5602, 'john': 3971, 'suominen': 7714, 'specialises': 7429, 'wet': 8769, 'wipes': 8815, 'nonwovens': 5259, 'flexible': 2864, 'telecoms': 7941, 'brasil': 906, 'trust': 8245, 'accelerated': 32, 'ote': 5502, 'phosphate': 5809, 'concentrator': 1502, 'siilinjarvi': 7235, 'minera': 4936, 'priit': 6061, 'kasak': 4069, 'balti': 622, 'metsamasina': 4885, 'rakvere': 6298, 'wishes': 8825, 'valmet': 8490, 'couple': 1689, 'create': 1716, 'participates': 5632, 'entities': 2428, 'presently': 6040, 'sees': 7049, 'potential': 5981, 'getinge': 3124, 'recorded': 6400, 'robust': 6747, 'inclusion': 3642, 'lindex': 4452, 'truly': 8244, 'heights': 3384, 'hope': 3484, 'freight': 2981, 'scandinavia': 6961, 'ephc': 2449, 'approved': 399, 'quarterly': 6253, 'awarded': 578, 'ten': 7961, 'rubber': 6810, 'tyred': 8309, 'gantry': 3065, 'rtg': 6804, 'cranes': 1712, 'saigon': 6866, 'newport': 5209, 'snp': 7355, 'vietnam': 8574, 'bilfinger': 767, 'investors': 3861, 'cheered': 1239, 'pushing': 6230, 'afternoon': 161, 'pursues': 6224, 'healthy': 3367, 'concentrating': 1501, 'consumer': 1578, 'upgraded': 8414, 'hold': 3457, 'abn': 16, 'amro': 307, 'marketwatch': 4728, 'hutchison': 3532, 'essar': 2493, 'india': 3663, 'progress': 6123, 'qpr': 6241, 'saudi': 6931, 'arabia': 409, 'relationship': 6496, 'ise': 3889, 'achieved': 55, 'ft': 3005, 'copenhagen': 1648, 'premier': 6024, 'shopping': 7198, 'inaugurated': 3626, 'capitals': 1073, 'gained': 3051, 'peab': 5703, 'exclusive': 2576, 'establishes': 2498, 'kolkata': 4178, 'better': 748, 'weighted': 8749, 'shipments': 7183, 'launched': 4311, 'regionally': 6465, 'unique': 8380, 'common': 1429, 'mastercard': 4750, 'card': 1084, 'payments': 5688, 'states': 7526, 'spread': 7474, 'variety': 8507, 'organizations': 5472, 'banks': 636, 'authorities': 546, 'selects': 7066, 'party': 5649, 'leader': 4331, 'transplace': 8203, 'class': 1312, 'pl': 5854, 'visibility': 8607, 'transportation': 8205, 'speeds': 7448, 'eijkens': 2301, 'publisher': 6203, 'much': 5075, 'publish': 6201, 'colourful': 1391, 'books': 857, 'individualising': 3674, 'feedback': 2728, 'rpm': 6799, 'enterprises': 2420, 'forums': 2944, 'tulonen': 8261, 'upfront': 8412, 'cdp': 1146, 'initiative': 3717, 'institutional': 3763, 'original': 5479, 'testament': 7989, 'commitment': 1422, 'japanese': 3941, 'rich': 6703, 'heritage': 3410, 'leadership': 4333, 'experiences': 2611, 'smartphone': 7335, 'elektros': 2326, 'pavara': 5678, 'completes': 1472, 'consultancy': 1574, 'trainers': 8191, 'trh': 8225, 'resolved': 6623, 'hybrid': 3533, 'bond': 848, 'bid': 759, 'aaron': 4, 'moss': 5043, 'hampshire': 3287, 'great': 3212, 'britain': 942, 'repair': 6556, 'money': 5009, 'spent': 7451, 'competitiveness': 1462, 'sphere': 7452, 'sawmill': 6946, 'wood': 8837, 'improves': 3620, 'glass': 3143, 'consistency': 1554, 'throughput': 8052, 'reasons': 6367, 'behind': 710, 'include': 3638, 'rent': 6543, 'fully': 3023, 'leased': 4348, 'successful': 7678, 'vuokatti': 8658, 'especially': 2490, 'prototypes': 6175, 'ramp': 6301, 'testing': 7991, 'look': 4531, 'helping': 3400, 'digitalize': 2012, 'agj': 173, 'western': 8765, 'collection': 1382, 'errors': 2479, 'speeded': 7447, 'combining': 1398, 'single': 7259, 'reduced': 6425, 'deployment': 1925, 'narrowed': 5128, 'cth': 1750, 'biobv': 776, 'fibers': 2759, 'plastic': 5871, 'ameas': 287, 'rtrks': 6806, 'proha': 6125, 'art': 441, 'reorganisations': 6551, 'decrease': 1863, 'costs': 1676, 'contrast': 1611, 'raute': 6336, 'pcb': 5695, 'acg': 53, 'metsaliitto': 4884, 'narrows': 5129, 'mo': 4975, 'hardware': 3325, 'elektrobit': 2325, 'ebg': 2246, 'eb': 2244, 'flight': 2869, 'smaller': 7332, 'airvana': 210, 'umts': 8339, 'station': 7527, 'femto': 2741, 'shelf': 7170, 'accelerate': 31, 'feature': 2718, 'reduce': 6424, 'nen': 5177, 'lower': 4555, 'frequency': 2987, 'ropax': 6769, 'vessels': 8561, 'present': 6036, 'ones': 5409, 'job': 3966, 'losses': 4543, 'reductions': 6429, 'structural': 7629, 'provision': 6190, 'sizing': 7284, 'lure': 4586, 'ireland': 3883, 'closely': 1339, 'agents': 168, 'consumption': 1580, 'greenhouse': 3216, 'gas': 3074, 'emissions': 2355, 'slipped': 7317, 'taxes': 7892, 'sda': 7006, 'jul': 4003, 'state': 7522, 'worked': 8845, 'legal': 4361, 'provisions': 6193, 'rules': 6820, 'normative': 5276, 'documents': 2114, 'specified': 7441, 'functioning': 3029, 'technological': 7909, 'bore': 869, 'rettig': 6678, 'recently': 6383, 'savings': 6940, 'expenses': 2608, 'rotterdam': 6783, 'netherlands': 5189, 'naming': 5123, 'france': 2968, 'technip': 7907, 'contractor': 1607, 'ecb': 2252, 'anticipated': 353, 'benchmark': 724, 'earliest': 2226, 'measuring': 4803, 'ending': 2386, 'apr': 402, 'solteq': 7379, 'stq': 7589, 'peri': 5749, 'salonen': 6884, 'shows': 7210, 'producers': 6101, 'pulp': 6208, 'inventories': 3845, 'declining': 1859, 'brought': 958, 'kroons': 4221, 'anticipates': 354, 'sehk': 7053, 'chl': 1262, 'carrier': 1099, 'thegps': 8013, 'promoting': 6143, 'olympic': 5400, 'games': 3062, 'thelatest': 8014, 'improved': 3617, 'jussi': 4013, 'pesonen': 5773, 'whose': 8784, 'wilson': 8799, 'cuts': 1784, 'glaston': 3147, 'reflects': 6446, 'internationally': 3822, 'explains': 2621, 'kyro': 4240, 'mika': 4912, 'seitovirta': 7059, 'westend': 8763, 'ict': 3552, 'resolutions': 6621, 'extraordinary': 2656, 'meeting': 4822, 'tallink': 7839, 'carriage': 1097, 'tallinna': 7841, 'sadam': 6857, 'pnaas': 5905, 'pnabs': 5906, 'kospa': 4196, 'waste': 8704, 'dragged': 2164, 'rising': 6723, 'low': 4554, 'loans': 4503, 'finance': 2789, 'center': 1166, 'redevelopment': 6421, 'refinancing': 6438, 'maturing': 4768, 'ores': 5465, 'streak': 7600, 'recurring': 6412, 'items': 3911, 'geenrated': 3093, 'totalling': 8147, 'th': 8004, 'enable': 2378, 'additional': 104, 'optimisation': 5442, 'hours': 3500, 'tech': 7904, 'expertise': 2615, 'innovative': 3732, 'extremely': 2657, 'efficient': 2284, 'id': 3554, 'petri': 5782, 'ailus': 195, 'born': 872, 'isto': 3904, 'hantila': 3313, 'stationery': 7528, 'gift': 3132, 'tii': 8070, 'driven': 2179, 'baltics': 625, 'remained': 6515, 'weak': 8724, 'cet': 1189, 'bavarian': 675, 'dkk': 2104, 'lost': 4544, 'past': 5657, 'example': 2559, 'ebitda': 2249, 'negative': 5164, 'dropped': 2185, 'forced': 2907, 'axe': 584, 'jobs': 3967, 'rapidly': 6320, 'challenging': 1203, 'impacted': 3599, 'paying': 5686, 'painful': 5577, 'payment': 5687, 'loan': 4502, 'provided': 6183, 'majority': 4639, 'moment': 5005, 'valio': 8486, 'worried': 8862, 'ban': 627, 'quite': 6262, 'problem': 6083, 'satisfied': 6927, 'geographies': 3114, 'repeats': 6565, 'ebita': 2248, 'separating': 7095, 'faster': 2703, 'tapro': 7873, 'rentakran': 6544, 'brings': 936, 'relationships': 6497, 'territories': 7983, 'jarmo': 3945, 'laasanen': 4247, 'senior': 7081, 'patja': 5668, 'decade': 1846, 'fujitsu': 3015, 'competitive': 1461, 'latvia': 4307, 'history': 3441, 'veli': 8538, 'matti': 4765, 'mattila': 4766, 'professional': 6111, 'approach': 393, 'assessing': 479, 'put': 6231, 'shape': 7147, 'natural': 5140, 'looking': 4532, 'leverage': 4394, 'northern': 5282, 'rihko': 6711, 'win': 8801, 'oems': 5359, 'wimax': 8800, 'portion': 5954, 'winnings': 8811, 'dispute': 2071, 'signing': 7231, 'bypasses': 1008, 'kotka': 4201, 'rehu': 6477, 'jouko': 3985, 'lahtinen': 4262, 'stabilise': 7490, 'karppinen': 4065, 'nils': 5235, 'erik': 2474, 'eklund': 2307, 'performance': 5746, 'actions': 75, 'annualised': 338, 'permanent': 5754, 'around': 431, 'effected': 2277, 'boosted': 862, 'nevsky': 5199, 'gps': 3187, 'karputer': 4066, 'twig': 8298, 'satellite': 6924, 'voice': 8627, 'guidance': 3252, 'suppliers': 7734, 'deep': 1868, 'domain': 2126, 'asm': 467, 'outsourcing': 5527, 'offerings': 5367, 'proved': 6179, 'winning': 8810, 'brisk': 938, 'noncore': 5258, 'makers': 4643, 'california': 1033, 'fitness': 2844, 'sparks': 7421, 'nevada': 5197, 'atec': 502, 'baseball': 658, 'softball': 7366, 'pitching': 5850, 'espoon': 2492, 'kaupunki': 4087, 'personal': 5763, 'care': 1088, 'poyry': 5996, 'advise': 142, 'builders': 974, 'cogeneration': 1368, 'biggest': 765, 'kaunas': 4081, 'supervise': 7726, 'construct': 1568, 'tapiola': 7871, 'exceeded': 2561, 'yards': 8898, 'customised': 1779, 'ship': 7180, 'fireplace': 2827, 'brisker': 939, 'remainder': 6514, 'rough': 6784, 'terrain': 7982, 'handler': 3293, 'rtch': 6803, 'mediation': 4815, 'provisioning': 6192, 'inkinen': 3723, 'leasing': 4350, 'highly': 3427, 'remain': 6513, 'recognize': 6391, 'gain': 3050, 'standardised': 7510, 'met': 4866, 'reception': 6386, 'among': 299, 'itella': 3909, 'glisten': 3149, 'snacks': 7348, 'bergvik': 735, 'earns': 2232, 'appreciation': 392, 'maintains': 4635, 'assumption': 496, 'turning': 8279, 'thanksto': 8009, 'improvements': 3619, 'theutilization': 8027, 'substantiallyimproved': 7668, 'chrome': 1276, 'ore': 5463, 'resources': 6627, 'turkey': 8274, 'improvement': 3618, 'trend': 8222, 'steady': 7540, 'synergy': 7802, 'benefits': 730, 'organic': 5466, 'possibly': 5972, 'supplemented': 7730, 'balanced': 616, 'achieve': 54, 'rebuilds': 6372, 'impact': 3598, 'situation': 7277, 'normalises': 5271, 'repeat': 6562, 'follow': 2895, 'installed': 3755, 'delhi': 1886, 'metro': 4880, 'spokeswoman': 7460, 'thomson': 8043, 'chance': 1208, 'bookings': 855, 'want': 8685, 'location': 4509, 'mikko': 4915, 'tuomainen': 8267, 'charge': 1219, 'internet': 3823, 'promise': 6138, 'ipv': 3879, 'combined': 1396, 'leisure': 4370, 'favorable': 2708, 'actively': 81, 'away': 581, 'towards': 8159, 'dynamic': 2217, 'ervio': 2481, 'meo': 4846, 'basic': 664, 'canadian': 1051, 'miner': 4935, 'northland': 5284, 'osl': 5491, 'naur': 5143, 'tse': 8250, 'nau': 5142, 'institution': 3762, 'sodra': 7363, 'varma': 8510, 'recipient': 6388, 'thirds': 8039, 'tendering': 7966, 'road': 6739, 'heating': 3376, 'air': 200, 'conditioning': 1514, 'cooling': 1639, 'automobile': 557, 'adac': 91, 'munich': 5093, 'volvo': 8641, 'rebuild': 6371, 'sabah': 6851, 'sfi': 7135, 'malaysia': 4648, 'uncoated': 8350, 'fine': 2806, 'mcc': 4783, 'yinhe': 8914, 'grinding': 3224, 'superstructures': 7725, 'partihallsf': 5639, 'rbindelsen': 6340, 'gothenburg': 3180, 'lule': 4575, 'municipality': 5096, 'metres': 4877, 'tikkakoski': 8074, 'telanne': 7932, 'ever': 2542, 'resettlement': 6608, 'star': 7515, 'hotel': 3497, 'hilton': 3433, 'rooms': 6767, 'analyst': 312, 'sarkamies': 6918, 'makes': 4644, 'ringman': 6717, 'recycling': 6415, 'turned': 8278, 'schmardin': 6977, 'likely': 4443, 'try': 8247, 'vahur': 8478, 'kraft': 4207, 'cooperating': 1642, 'adanac': 94, 'molybdenum': 5004, 'canada': 1050, 'columbia': 1392, 'shalkiya': 7142, 'hopes': 3486, 'orange': 5454, 'broker': 953, 'repeated': 6563, 'rating': 6325, 'restructuring': 6656, 'clear': 1319, 'arvo': 452, 'vuorenmaa': 8660, 'loviisa': 4553, 'general': 3095, 'licence': 4406, 'procedure': 6086, 'confident': 1525, 'approval': 396, 'dog': 2116, 'owners': 5546, 'sihvo': 7233, 'conjunction': 1533, 'interim': 3813, 'cision': 1294, 'k': 4025, 'citigroup': 1298, 'c': 1009, 'gts': 3246, 'mandate': 4671, 'vendor': 8541, 'selected': 7063, 'orascom': 5456, 'oth': 5503, 'activation': 79, 'dmasia': 2106, 'capability': 1064, 'asmobile': 469, 'digitalmediaasia': 2014, 'com': 1393, 'dma': 2105, 'consulting': 1577, 'poy': 5995, 'tanqia': 7862, 'dibba': 1995, 'fzc': 3045, 'wastewater': 8706, 'emirate': 2352, 'fujairah': 3014, 'uae': 8316, 'bas': 655, 'technical': 7905, 'organization': 5471, 'cgcbv': 1194, 'macgregor': 4601, 'hatch': 3343, 'ships': 7186, 'shipowner': 7184, 'grieg': 3220, 'necessary': 5158, 'partihallsforbindelsen': 5640, 'iittala': 3577, 'gerber': 3120, 'buster': 998, 'marks': 4733, 'entry': 2439, 'forestries': 2917, 'bullish': 984, 'comment': 1408, 'dagens': 1800, 'industri': 3679, 'initiated': 3715, 'bearing': 685, 'fruit': 3004, 'lang': 4277, 'banking': 635, 'tieto': 8064, 'pink': 5833, 'pojlf': 5920, 'cooperate': 1641, 'swift': 7783, 'hearst': 3371, 'consolidate': 1558, 'helsingin': 3403, 'uutiset': 8461, 'vantaan': 8502, 'sanomat': 6908, 'lansivayla': 4282, 'readers': 6350, 'consumers': 1579, 'greater': 3213, 'latter': 4305, 'jaemsaenkoski': 3931, 'coating': 1358, 'color': 1387, 'measurements': 4801, 'simdax': 7242, 'authorisations': 543, 'submitted': 7654, 'gave': 3082, 'outperform': 5520, 'recommendation': 6397, 'accordance': 43, 'establishing': 2499, 'lehdentekijat': 4364, 'producing': 6103, 'membership': 4840, 'magazine': 4612, 'viisas': 8582, 'raha': 6284, 'wise': 8823, 'actors': 86, 'interested': 3806, 'sectors': 7033, 'private': 6075, 'ambulance': 286, 'post': 5973, 'fidelity': 2761, 'rolling': 6759, 'ghana': 3127, 'premises': 6025, 'ayanambakkam': 587, 'suburb': 7671, 'chennai': 1244, 'gives': 3138, 'ibm': 3546, 'portal': 5951, 'implemented': 3605, 'supported': 7739, 'venezuel': 8544, 'sep': 7090, 'unnamed': 8397, 'te': 7897, 'electrowatt': 2323, 'ekono': 2308, 'philippines': 5801, 'fr': 2961, 'cement': 1163, 'integration': 3778, 'managed': 4662, 'buyout': 1003, 'comprise': 1490, 'advantage': 135, 'dct': 1831, 'tissue': 8093, 'control': 1615, 'distributed': 2082, 'qcs': 6238, 'dcs': 1830, 'fitch': 2843, 'fundamentals': 3032, 'sound': 7398, 'prosition': 6162, 'emerging': 2350, 'indosat': 3678, 'civil': 1303, 'works': 8854, 'wcdma': 8723, 'hspa': 3512, 'wins': 8812, 'australia': 536, 'recognized': 6392, 'incentive': 3633, 'pioneer': 5834, 'library': 4405, 'libraries': 4404, 'municipalities': 5095, 'arts': 451, 'culture': 1759, 'education': 2270, 'grants': 3201, 'participate': 5630, 'big': 763, 'read': 6348, 'federal': 2724, 'reading': 6352, 'ooo': 5417, 'ilim': 3579, 'bratsk': 909, 'dok': 2119, 'evident': 2549, 'particularly': 5637, 'primarily': 6062, 'savon': 6942, 'koulutuskuntayhtyma': 4202, 'specialist': 7431, 'skf': 7291, 'alandsbanken': 220, 'sony': 7390, 'ericsson': 2472, 'dominated': 2129, 'models': 4983, 'speaking': 7425, 'spokesperson': 7459, 'performed': 5747, 'operate': 5423, 'namely': 5120, 'progressed': 6124, 'owing': 5543, 'prolonged': 6136, 'winter': 8814, 'season': 7019, 'item': 3910, 'tele': 7935, 'affarsvarlden': 150, 'crowns': 1739, 'topped': 8134, 'sverige': 7773, 'bring': 934, 'immediate': 3595, 'amending': 288, 'simplifies': 7249, 'key': 4121, 'stay': 7537, 'australian': 537, 'mirabela': 4954, 'sulfide': 7697, 'bahia': 607, 'brazil': 910, 'palfinger': 5586, 'recommendations': 6398, 'buyer': 1001, 'thus': 8055, 'reinforce': 6481, 'martela': 4737, 'mechanise': 4809, 'harvesting': 3337, 'eucalyptus': 2520, 'plantations': 5866, 'maintain': 4632, 'oborniki': 5338, 'frame': 2964, 'sandwich': 6902, 'panel': 5595, 'feet': 2737, 'foot': 2904, 'mountain': 5056, 'climbers': 1334, 'surf': 7745, 'even': 2537, 'send': 7078, 'videos': 8572, 'exploits': 2624, 'featured': 2719, 'ethibel': 2513, 'innovest': 3735, 'sustainable': 7764, 'corporations': 1660, 'observed': 5340, 'stabilisation': 7489, 'compensated': 1452, 'acting': 73, 'reserve': 6605, 'batch': 670, 'categories': 1128, 'traditions': 8183, 'holds': 3462, 'boosting': 863, 'arena': 421, 'marketplace': 4725, 'regions': 6466, 'changed': 1211, 'comparison': 1447, 'parties': 5638, 'allow': 244, 'uh': 8324, 'extensively': 2648, 'implement': 3603, 'functionalities': 3027, 'human': 3522, 'pilot': 5830, 'rifd': 6705, 'ideal': 3556, 'purposes': 6220, 'olli': 5397, 'saarinen': 6848, 'supervisor': 7728, 'yara': 8896, 'palm': 5588, 'certified': 1187, 'roundtable': 6787, 'rspo': 6802, 'creates': 1718, 'interesting': 3807, 'opportunities': 5438, 'diversified': 2089, 'choose': 1265, 'seemed': 7046, 'like': 4442, 'tommi': 8118, 'leskinen': 4386, 'powered': 5991, 'reservation': 6603, 'visitors': 8612, 'validating': 8484, 'fgvoip': 2754, 'client': 1327, 'symbian': 7795, 'represents': 6586, 'step': 7551, 'accomplishing': 42, 'manturovo': 4683, 'kostroma': 4199, 'km': 4163, 'northeast': 5281, 'honored': 3481, 'gartner': 3073, 'analysis': 311, 'vendors': 8542, 'pursue': 6223, 'novel': 5303, 'clinical': 1335, 'candidates': 1057, 'going': 3165, 'underperform': 8357, 'goldman': 3168, 'sachs': 6856, 'packed': 5566, 'fresh': 2989, 'carrying': 1105, 'continents': 1595, 'linking': 4460, 'mumbai': 5092, 'dictated': 1996, 'lowering': 4557, 'competitors': 1464, 'stabilised': 7491, 'apartments': 364, 'eyes': 2660, 'demonstrates': 1905, 'apply': 386, 'adjacent': 112, 'shale': 7141, 'pleased': 5890, 'tailored': 7825, 'solel': 7373, 'requirements': 6598, 'effective': 2278, 'highest': 3423, 'reflectors': 6445, 'feeling': 2734, 'wrt': 8874, 'liquefied': 4468, 'lng': 4496, 'vessel': 8560, 'psv': 6195, 'eidesvik': 2297, 'offshore': 5376, 'asa': 454, 'eiof': 2304, 'finlan': 2814, 'official': 5372, 'heathrow': 3375, 'osaka': 5488, 'manchester': 4670, 'hiab': 3418, 'loader': 4499, 'bae': 603, 'defense': 1873, 'roaster': 6744, 'cleaning': 1318, 'ozk': 5556, 'kardzhali': 4056, 'bulgaria': 980, 'yry': 8925, 'cfr': 1192, 'railway': 6288, 'neomarkka': 5179, 'kuitu': 4223, 'buying': 1002, 'restarts': 6647, 'distribute': 2081, 'shimano': 7179, 'reels': 6434, 'rods': 6753, 'stadtverwaltung': 7496, 'mainz': 4637, 'chassis': 1232, 'bodies': 837, 'open': 5419, 'erkki': 2476, 'rvinen': 6840, 'happy': 3319, 'ready': 6353, 'soon': 7391, 'numbers': 5317, 'cross': 1735, 'exel': 2583, 'composites': 1484, 'prospects': 6164, 'fi': 2756, 'keyword': 4125, 'lem': 4371, 'dna': 2107, 'function': 3026, 'subcontractor': 7648, 'maingate': 4628, 'responsible': 6639, 'lifecycle': 4420, 'honka': 3476, 'benefit': 729, 'arranging': 438, 'events': 2541, 'cup': 1763, 'skiing': 7295, 'competitions': 1460, 'lankapaja': 4280, 'kivimeister': 4160, 'deer': 1870, 'former': 2931, 'timberjack': 8080, 'stands': 7513, 'work': 8843, 'superior': 7721, 'gaming': 3063, 'er': 2462, 'rantanen': 6315, 'expressed': 2638, 'confidence': 1524, 'productional': 6106, 'spanning': 7417, 'kemijoki': 4107, 'river': 6729, 'beating': 687, 'vat': 8520, 'inclusive': 3643, 'materialise': 4755, 'sentry': 7088, 'formed': 2930, 'advanced': 134, 'degree': 1880, 'immersive': 3597, 'camera': 1043, 'thanks': 8008, 'multiplying': 5089, 'wagon': 8669, 'malkia': 4652, 'vr': 8653, 'reiterated': 6486, 'yearly': 8902, 'borrower': 873, 'roadshow': 6742, 'scissors': 6990, 'surpass': 7753, 'negotiated': 5166, 'amendment': 289, 'covenants': 1696, 'regard': 6457, 'attract': 515, 'secretary': 7029, 'mexico': 4889, 'mexican': 4888, 'sintra': 7266, 'connection': 1537, 'buenavista': 972, 'cuautitlan': 1754, 'suburban': 7672, 'meur': 4887, 'weeks': 8744, 'negotiate': 5165, 'definitive': 1876, 'rationalization': 6328, 'seeks': 7044, 'oriola': 5482, 'kd': 4096, 'pharmaceutical': 5789, 'reasonably': 6366, 'keep': 4100, 'lays': 4324, 'foundation': 2951, 'turun': 8284, 'kaupunkin': 4088, 'talotekniikka': 7844, 'electrical': 2316, 'closing': 1341, 'mills': 4931, 'moderate': 4986, 'reduction': 6428, 'cvd': 1789, 'risk': 6724, 'spite': 7455, 'inventor': 3844, 'issued': 3900, 'israeli': 3897, 'hot': 3496, 'fttx': 3009, 'israel': 3896, 'directed': 2030, 'divests': 2095, 'rumilly': 6821, 'reuters': 6682, 'simultaneously': 7253, 'responsibility': 6638, 'affairs': 149, 'mergers': 4855, 'authorise': 544, 'decide': 1850, 'issuance': 3898, 'issues': 3902, 'crane': 1711, 'ground': 3230, 'success': 7677, 'lies': 4416, 'maintained': 4633, 'thames': 8006, 'gateway': 3079, 'detail': 1960, 'scheduling': 6974, 'storm': 7584, 'fox': 2960, 'luhr': 4573, 'jensen': 3957, 'williamson': 8796, 'marttiini': 4741, 'sufix': 7687, 'finger': 2808, 'opinion': 5434, 'really': 6361, 'lulu': 4577, 'proud': 6177, 'found': 2950, 'joyfully': 3990, 'vitamin': 8616, 'injection': 3719, 'margareta': 4705, 'van': 8498, 'den': 1909, 'bosch': 876, 'karttakeskus': 4067, 'geographic': 3111, 'marubeni': 4742, 'adr': 131, 'maruy': 4744, 'houses': 3504, 'midnighttrader': 4907, 'forecasting': 2910, 'community': 1435, 'weckstr': 8738, 'appointed': 389, 'succeed': 7674, 'esa': 2483, 'rautalinko': 6334, 'pietinalho': 5825, 'doctors': 2111, 'motivate': 5046, 'patients': 5667, 'smoke': 7341, 'every': 2544, 'visit': 8610, 'merger': 4854, 'scanfil': 6963, 'get': 3123, 'ultrascan': 8335, 'crackers': 1708, 'password': 5656, 'sent': 7085, 'text': 8000, 'message': 4863, 'additionally': 105, 'retailers': 6666, 'across': 69, 'tasks': 7884, 'warehouse': 8689, 'substantial': 7666, 'addus': 108, 'assistance': 486, 'living': 4492, 'skilled': 7296, 'nursing': 5321, 'rehabilitative': 6476, 'therapies': 8019, 'adult': 132, 'bertrand': 739, 'sciard': 6986, 'dedicated': 1865, 'alfa': 232, 'telenor': 7946, 'welcome': 8750, 'altogether': 274, 'subjects': 7652, 'mildly': 4920, 'elevated': 2330, 'cholesterol': 1264, 'intervention': 3828, 'capped': 1077, 'payable': 5683, 'upon': 8420, 'achievement': 56, 'ryymin': 6843, 'replace': 6566, 'juhani': 4001, 'kaisanlahti': 4032, 'evp': 2554, 'welfare': 8753, 'haavisto': 3267, 'finances': 2792, 'implementing': 3606, 'army': 429, 'unify': 8373, 'cablevision': 1014, 'cvc': 1788, 'madison': 4609, 'york': 8921, 'knickerbockers': 4164, 'basketball': 667, 'rangers': 6305, 'hockey': 3454, 'liberty': 4403, 'women': 8834, 'hartford': 3333, 'wolf': 8832, 'pack': 5562, 'funds': 3035, 'jukka': 4002, 'ruuska': 6836, 'exchanges': 2571, 'cents': 1177, 'profile': 6113, 'contains': 1587, 'dial': 1991, 'minutes': 4953, 'event': 2539, 'usa': 8435, 'early': 2227, 'financialwire': 2795, 'independent': 3659, 'proprietary': 6159, 'wire': 8817, 'temporarily': 7959, 'reopen': 6549, 'airport': 206, 'learning': 4342, 'teachers': 7898, 'choice': 1263, 'award': 577, 'classroom': 1315, 'strand': 7593, 'associates': 490, 'mechanical': 4806, 'wisconsin': 8822, 'alabama': 216, 'illinois': 3583, 'indiana': 3665, 'kentucky': 4111, 'ohio': 5380, 'halonen': 3277, 'acknowledged': 59, 'receiving': 6381, 'believes': 719, 'soy': 7411, 'oats': 5332, 'entering': 2418, 'believe': 718, 'imported': 3612, 'prefer': 6017, 'focuses': 2890, 'innovation': 3728, 'passed': 5653, 'plot': 5893, 'delta': 1897, 'lee': 4357, 'man': 4659, 'method': 4874, 'smelt': 7337, 'spouts': 7472, 'shielding': 7175, 'wall': 8679, 'arranged': 433, 'movable': 5058, 'relation': 6494, 'span': 7416, 'hospitality': 3490, 'interests': 3808, 'portfolios': 5953, 'performing': 5748, 'restructurings': 6657, 'recovers': 6405, 'valuable': 8491, 'water': 8711, 'chemical': 1242, 'officer': 5370, 'phonebook': 5807, 'inside': 3740, 'kouvola': 4203, 'supermarket': 7722, 'lay': 4318, 'succeeds': 7676, 'walter': 8683, 'nter': 5311, 'infra': 3699, 'perform': 5745, 'los': 4539, 'angeles': 326, 'initially': 3713, 'honolulu': 3480, 'san': 6895, 'diego': 1998, 'phoenix': 5805, 'master': 4748, 'mayawas': 4776, 'jointly': 3976, 'ufa': 8321, 'fremantlemedia': 2983, 'advertised': 137, 'maxis': 4773, 'overview': 5541, 'metrics': 4879, 'scorecard': 6993, 'milestone': 4922, 'content': 1589, 'mformation': 4891, 'enhanced': 2405, 'configuration': 1526, 'jorma': 3982, 'valkama': 8487, 'paikallissanomat': 5576, 'rannikkoseutu': 6313, 'complements': 1468, 'saavalainen': 6850, 'concludes': 1511, 'gibtelecom': 3131, 'perfect': 5744, 'illustration': 3584, 'regulatory': 6474, 'facing': 2672, 'biomass': 787, 'liquids': 4473, 'demonstration': 1907, 'commissioned': 1417, 'qt': 6242, 'everyday': 2545, 'flooring': 2875, 'labels': 4250, 'tapes': 7868, 'bicycle': 758, 'charger': 1220, 'kit': 4155, 'compatible': 1450, 'mm': 4968, 'interface': 3809, 'bidding': 761, 'kitai': 4156, 'stroi': 7624, 'constructor': 1572, 'mnc': 4974, 'sought': 7397, 'topic': 8132, 'spark': 7420, 'approaches': 394, 'creativity': 1721, 'carriers': 1100, 'spin': 7453, 'pricier': 6058, 'arabized': 410, 'near': 5155, 'plaza': 5886, 'llc': 4494, 'venture': 8546, 'srv': 7484, 'concluded': 1510, 'phase': 5797, 'saint': 6870, 'martin': 4738, 'kuzaj': 4232, 'sanna': 6906, 'paivaniemi': 5582, 'relations': 6495, 'sustainability': 7763, 'field': 2762, 'workflow': 8848, 'tracking': 8172, 'names': 5121, 'talvik': 7847, 'relocation': 6511, 'programs': 6122, 'servers': 7110, 'hp': 3509, 'memorandum': 4841, 'techno': 7908, 'neudorf': 5195, 'zone': 8947, 'village': 8587, 'strelny': 7608, 'suburbs': 7673, 'windows': 8806, 'mentioned': 4844, 'suggest': 7688, 'monthly': 5021, 'salary': 6875, 'controller': 1617, 'preferably': 6018, 'appliance': 380, 'module': 4994, 'minimize': 4942, 'ensuring': 2414, 'beneath': 725, 'saimaa': 6868, 'canal': 1052, 'undisturbed': 8368, 'examining': 2558, 'transferring': 8199, 'governed': 3183, 'laws': 4317, 'admits': 124, 'selection': 7064, 'airbaltic': 201, 'finncomm': 2817, 'court': 1693, 'promote': 6142, 'genuine': 3108, 'competition': 1459, 'newspaper': 5211, 'embarked': 2347, 'unbanked': 8342, 'banked': 633, 'theft': 8012, 'protection': 6169, 'positioning': 5965, 'vehicles': 8531, 'donations': 2133, 'aalto': 2, 'universities': 8388, 'tampere': 7856, 'jyv': 4022, 'skyl': 7304, 'vaasa': 8470, 'polytechnics': 5934, 'special': 7427, 'mid': 4905, 'swaps': 7779, 'invention': 3843, 'carries': 1101, 'inventors': 3846, 'bylander': 1006, 'johan': 3969, 'ponten': 5938, 'fredrik': 2976, 'lundberg': 4584, 'jorgen': 3981, 'mukkavilli': 5077, 'krishna': 4212, 'kiran': 4151, 'sabharwal': 6853, 'ashutosh': 459, 'aazhang': 6, 'behnaam': 711, 'ridge': 6704, 'justin': 4015, 'bao': 638, 'yiliang': 8913, 'karczewicz': 4055, 'marta': 4736, 'issuer': 3901, 'solely': 7374, 'begin': 703, 'savcor': 6936, 'body': 839, 'sufficient': 7686, 'filed': 2771, 'ragot': 6282, 'waterqueen': 8715, 'tortue': 8140, 'moves': 5063, 'comprehensive': 1487, 'insight': 3741, 'biographies': 782, 'rewards': 6694, 'earning': 2230, 'correspond': 1664, 'right': 6707, 'watch': 8708, 'html': 3514, 'format': 2927, 'en': 2377, 'languages': 4279, 'give': 3136, 'opportunity': 5439, 'invoices': 3867, 'electronically': 2321, 'confirmations': 1528, 'upload': 8418, 'catalogues': 1123, 'nsr': 5308, 'royalties': 6795, 'viscaria': 8605, 'adak': 92, 'avalon': 565, 'avi': 572, 'vantaa': 8501, 'exceeds': 2562, 'voicemail': 8629, 'housed': 3502, 'effort': 2286, 'reimbursed': 6480, 'policy': 5926, 'wellness': 8758, 'important': 3611, 'need': 5160, 'opens': 5422, 'rosberg': 6773, 'inspires': 3750, 'lietuvos': 4418, 'respublikos': 6643, 'sveikatos': 7770, 'apsaugos': 404, 'ministerija': 4946, 'uab': 8315, 'lietuva': 4417, 'package': 5563, 'cf': 1190, 'pty': 6197, 'holder': 3458, 'renison': 6538, 'mines': 4940, 'nl': 5243, 'raffles': 6281, 'equities': 2458, 'archer': 413, 'exploration': 2625, 'moving': 5065, 'headquarters': 3362, 'signifies': 7230, 'era': 2463, 'respect': 6629, 'discussions': 2060, 'alike': 236, 'practices': 6000, 'allowed': 246, 'quantity': 6249, 'consortium': 1563, 'outcome': 5511, 'sneed': 7352, 'hearing': 3370, 'automatic': 554, 'varnishing': 8511, 'jozef': 3991, 'misurec': 4960, 'young': 8922, 'child': 1251, 'resolve': 6622, 'meego': 4820, 'identified': 3561, 'affect': 151, 'inspection': 3745, 'info': 3694, 'clarify': 1310, 'policies': 5925, 'gray': 3208, 'motlanthe': 5047, 'relevant': 6504, 'approvals': 397, 'mandatory': 4673, 'required': 6596, 'securities': 7037, 'act': 71, 'seoul': 7089, 'tyo': 8302, 'wi': 8785, 'speed': 7446, 'hormone': 3488, 'treatments': 8216, 'quick': 6259, 'stop': 7572, 'understand': 8358, 'dopplr': 2139, 'smart': 7334, 'travellers': 8211, 'ems': 2373, 'sft': 7136, 'minister': 4945, 'mats': 4762, 'odell': 5356, 'beverage': 749, 'introducing': 3836, 'drink': 2175, 'kultalonkero': 4225, 'golden': 3167, 'spring': 7476, 'diagnostics': 1989, 'launching': 4313, 'ensure': 2413, 'precision': 6011, 'tube': 8253, 'automotive': 558, 'component': 1480, 'carl': 1092, 'froh': 2998, 'arques': 432, 'employer': 2364, 'employee': 2362, 'wallenberg': 8680, 'arokarhu': 430, 'purchases': 6215, 'scanned': 6965, 'disappeared': 2042, 'sum': 7700, 'pressed': 6044, 'protect': 6168, 'hackers': 3269, 'viruses': 8602, 'spyware': 7479, 'attacks': 511, 'governance': 3182, 'committees': 1427, 'shall': 7143, 'measure': 4798, 'employment': 2367, 'marko': 4732, 'saarelainen': 6846, 'honkarakenne': 3479, 'log': 4517, 'statistics': 7531, 'imports': 3613, 'seikku': 7055, 'tyrv': 8311, 'estimation': 2505, 'essential': 2495, 'vauramo': 8522, 'suitable': 7692, 'trucks': 8242, 'replaces': 6569, 'formerly': 2932, 'valid': 8483, 'fiber': 2758, 'completion': 1473, 'friend': 2993, 'carrollton': 1102, 'parchment': 5615, 'converting': 1634, 'aho': 189, 'lordi': 4537, 'cola': 1373, 'optimization': 5446, 'vision': 8609, 'category': 1130, 'conferences': 1522, 'unveil': 8404, 'combines': 1397, 'intelligence': 3782, 'aug': 530, 'timo': 8086, 'vataja': 8521, 'virve': 8603, 'inget': 3707, 'activating': 78, 'historic': 3440, 'chile': 1253, 'traditional': 8182, 'grapevine': 3202, 'lot': 4545, 'weight': 8748, 'altia': 271, 'altimo': 273, 'usmanov': 8445, 'join': 3972, 'amanda': 283, 'released': 6502, 'chambers': 1205, 'pressurized': 6048, 'audio': 525, 'webcast': 8733, 'live': 4489, 'archived': 418, 'cerner': 1183, 'www': 8878, 'anttila': 358, 'netanttila': 5184, 'visited': 8611, 'shopped': 7196, 'apart': 362, 'ergo': 2468, 'competing': 1458, 'top': 8131, 'sievi': 7219, 'white': 8776, 'collar': 1378, 'terminated': 7976, 'leaders': 4332, 'uv': 8463, 'municipal': 5094, 'drinking': 2176, 'trojan': 8235, 'logical': 4520, 'w': 8664, 'rtsil': 6808, 'ballast': 620, 'leipurin': 4369, 'kaukomarkkinat': 4079, 'stage': 7499, 'scandinavian': 6962, 'campomos': 1049, 'matching': 4753, 'automatically': 555, 'matches': 4752, 'ad': 90, 'light': 4428, 'coated': 1357, 'castecka': 1116, 'partnerships': 5647, 'irrevocably': 3887, 'vote': 8647, 'favor': 2707, 'jim': 3963, 'heindlmeyer': 3387, 'beyond': 751, 'oblivion': 5337, 'recording': 6401, 'chs': 1277, 'expo': 2629, 'exhibition': 2589, 'approve': 398, 'finalized': 2788, 'maija': 4623, 'liisa': 4439, 'friman': 2996, 'final': 2785, 'diligence': 2015, 'heir': 3389, 'crucially': 1740, 'etsi': 2514, 'telecommunication': 7939, 'institute': 3761, 'backed': 596, 'dvb': 2212, 'opting': 5448, 'vie': 8573, 'fortune': 2942, 'seems': 7047, 'bottom': 885, 'signs': 7232, 'dnb': 2108, 'nord': 5264, 'citadele': 1295, 'fit': 2842, 'document': 2112, 'pietiek': 5824, 'authorized': 549, 'donate': 2131, 'highlight': 3424, 'places': 5858, 'eat': 2240, 'explore': 2626, 'dragonfly': 2165, 'love': 4551, 'shot': 7204, 'finish': 2810, 'n': 5112, 'music': 5100, 'express': 2637, 'entity': 2434, 'serves': 7111, 'globally': 3151, 'fulfillment': 3020, 'telecomms': 7938, 'prepared': 6031, 'answer': 347, 'detailed': 1961, 'caller': 1036, 'eu': 2518, 'exit': 2593, 'salcomp': 6876, 'strictest': 7618, 'standards': 7511, 'washington': 8703, 'colorado': 1388, 'fcc': 2713, 'kevin': 4120, 'play': 5880, 'extending': 2644, 'deregulatory': 1937, 'investrend': 3862, 'broadcast': 947, 'syndicate': 7798, 'schedules': 6973, 'firstalert': 2833, 'oefirstalert': 5358, 'cnc': 1348, 'regarding': 6459, 'reorganisation': 6550, 'cheapest': 1235, 'mitsubishi': 4961, 'heavy': 3379, 'mhi': 4893, 'undisclosed': 8367, 'lahden': 4260, 'lampokasittely': 4271, 'heatmasters': 3377, 'active': 80, 'paints': 5581, 'tik': 8072, 'prohouse': 6128, 'wooden': 8838, 'surfaces': 7747, 'ultra': 8334, 'pro': 6080, 'waterborne': 8712, 'registration': 6470, 'rao': 6316, 'ues': 8320, 'reform': 6447, 'excellence': 2563, 'oldest': 5393, 'electrically': 2317, 'genvec': 3109, 'biopharmaceutical': 788, 'therapeutic': 8017, 'drugs': 2189, 'vaccines': 8475, 'flagship': 2854, 'pioneering': 5835, 'connect': 1534, 'exciting': 2574, 'specific': 7439, 'bavelloni': 676, 'tamglass': 7852, 'uniglass': 8374, 'albat': 221, 'wirsam': 8819, 'goodwill': 3172, 'intangible': 3774, 'account': 46, 'officials': 5373, 'rebates': 6368, 'gunneflo': 3258, 'harju': 3326, 'elekter': 2324, 'harold': 3330, 'ahold': 191, 'basket': 666, 'cvs': 1790, 'bj': 798, 'club': 1346, 'hannaford': 3307, 'cumberland': 1760, 'farms': 2699, 'mentions': 4845, 'follows': 2898, 'bilbao': 766, 'antwerp': 359, 'hull': 3521, 'hitura': 3446, 'belvedere': 722, 'homemarkets': 3468, 'luxury': 4591, 'holiday': 3463, 'rentals': 6546, 'foodservice': 2903, 'hameenlinna': 3283, 'iggesunds': 3570, 'bruk': 963, 'paperboard': 5605, 'reserved': 6606, 'epi': 2450, 'presentations': 6038, 'cfo': 1191, 'tuomas': 8268, 'itkonen': 3915, 'participants': 5629, 'discuss': 2057, 'reclaimed': 6390, 'forms': 2934, 'clientele': 1328, 'optimising': 5443, 'switzerland': 7790, 'primary': 6063, 'ftth': 3008, 'wants': 8687, 'homeware': 3472, 'kitchen': 4157, 'interior': 3814, 'survey': 7758, 'goodyear': 3173, 'valued': 8494, 'tyre': 8308, 'followed': 2896, 'continental': 1594, 'bridgestone': 931, 'empt': 2370, 'mohammed': 4996, 'zainalabedin': 8934, 'zain': 8933, 'bahrain': 609, 'ingen': 3705, 'respiratory': 6633, 'simple': 7248, 'molecule': 5000, 'biological': 785, 'drug': 2188, 'arrangement': 434, 'kasola': 4071, 'alliance': 239, 'airways': 211, 'solid': 7375, 'dz': 2219, 'rabobank': 6272, 'storeys': 7582, 'harri': 3332, 'koponen': 4188, 'commits': 1424, 'sourcing': 7403, 'feedstocks': 2732, 'nexbtl': 5218, 'form': 2923, 'needs': 5162, 'experts': 2616, 'precor': 6012, 'ball': 619, 'janno': 3938, 'reiljan': 6479, 'energia': 2392, 'supervisory': 7729, 'narva': 5130, 'informed': 3697, 'wish': 8824, 'jawad': 3952, 'williams': 8795, 'scored': 6994, 'impressive': 3615, 'debut': 1844, 'jerusalem': 3959, 'jason': 3949, 'yuval': 8928, 'naimi': 5116, 'chipping': 1259, 'hapoel': 3314, 'visits': 8613, 'yellow': 8905, 'jon': 3978, 'risfelt': 6722, 'haapakoski': 3266, 'budget': 971, 'aol': 360, 'weblogs': 8735, 'newstex': 5215, 'looks': 4534, 'upstaged': 8424, 'someone': 7385, 'espoo': 2491, 'youtube': 8923, 'promo': 6141, 'boy': 895, 'genius': 3107, 'huh': 3518, 'escalator': 2484, 'relocate': 6509, 'loudeac': 4548, 'marcel': 4701, 'morvillars': 5038, 'hook': 3482, 'lember': 4372, 'matter': 4763, 'topical': 8133, 'bill': 768, 'drafted': 2163, 'ministry': 4947, 'scrap': 7000, 'age': 164, 'pensions': 5732, 'linde': 4450, 'acts': 87, 'responsibly': 6640, 'society': 7361, 'environment': 2440, 'globe': 3152, 'lkab': 4493, 'lulea': 4576, 'iron': 3885, 'giant': 3130, 'vintage': 8592, 'fabric': 2663, 'cushion': 1774, 'coffee': 1367, 'pots': 5983, 'ceramic': 1179, 'dishes': 2062, 'cocktail': 1364, 'glasses': 3144, 'lsc': 4565, 'learns': 4343, 'fisher': 2839, 'putting': 6233, 'things': 8034, 'merging': 4857, 'sheets': 7167, 'volunteers': 8640, 'tool': 8128, 'depot': 1931, 'hd': 3350, 'baltimore': 626, 'neighborhood': 5170, 'sanctuary': 6897, 'applicant': 382, 'jot': 3984, 'oyname': 5555, 'mammila': 4658, 'tuomo': 8269, 'piirainen': 5827, 'kellokoski': 4103, 'mikaapplication': 4913, 'kolnp': 4180, 'adate': 98, 'filing': 2773, 'yahoo': 8892, 'introduced': 3834, 'malaysians': 4649, 'favorite': 2709, 'sponsors': 7465, 'endowment': 2388, 'museum': 5099, 'midwest': 4909, 'played': 5882, 'role': 6757, 'restart': 6645, 'cellulose': 1159, 'valkeakoski': 8488, 'refining': 6442, 'gains': 3052, 'shed': 7163, 'helped': 3399, 'ovi': 5542, 'lots': 4546, 'fun': 3025, 'downloading': 2157, 'attached': 508, 'oka': 5384, 'renovation': 6542, 'logistical': 4522, 'interaction': 3795, 'leary': 4344, 'perth': 5769, 'installs': 3757, 'tail': 7821, 'lifts': 4427, 'factor': 2674, 'tablets': 7813, 'hydronic': 3540, 'entitlements': 2432, 'canned': 1058, 'preserved': 6041, 'guide': 3253, 'multilingual': 5082, 'modular': 4993, 'applicable': 381, 'sizes': 7283, 'respondents': 6635, 'sized': 7282, 'ervi': 2480, 'inform': 3695, 'ir': 3880, 'johanna': 3970, 'koskinen': 4194, 'participation': 5634, 'telephone': 7947, 'conducted': 1518, 'eet': 2275, 'verbund': 8550, 'advisors': 144, 'precedex': 6007, 'iv': 3918, 'sedation': 7039, 'intubated': 3838, 'mechanically': 4807, 'ventilated': 8545, 'dow': 2153, 'jones': 3979, 'indexes': 3662, 'input': 3737, 'prothious': 6173, 'detailing': 1962, 'nationwide': 5138, 'outlets': 5516, 'bretagne': 921, 'tournament': 8156, 'titles': 8095, 'holidays': 3464, 'bargain': 645, 'priced': 6056, 'audience': 524, 'nomination': 5255, 'committee': 1426, 'cybe': 1793, 'unanimous': 8340, 'proposes': 6157, 'election': 2313, 'rfid': 6697, 'radio': 6278, 'identification': 3560, 'intelligent': 3783, 'saved': 6938, 'remotely': 6522, 'rk': 6730, 'fesco': 2752, 'nurminen': 5319, 'intermodal': 3817, 'kept': 4112, 'ubs': 8317, 'reaffirmed': 6355, 'articles': 447, 'prepares': 6032, 'proposals': 6154, 'matters': 4764, 'wellingborough': 8756, 'designs': 1953, 'portable': 5950, 'lihakombinaat': 4435, 'minority': 4952, 'krister': 4213, 'kylas': 4237, 'leave': 4352, 'shuweihat': 7214, 'got': 3179, 'desalination': 1944, 'contractors': 1608, 'simmons': 7244, 'elected': 2312, 'dcuc': 1832, 'portsmouth': 5956, 'gordon': 3177, 'council': 1679, 'renovate': 6540, 'statements': 7525, 'hired': 3437, 'casper': 1114, 'von': 8642, 'koskull': 4195, 'merchant': 4850, 'proven': 6180, 'simplify': 7250, 'objectively': 5334, 'organized': 5474, 'symphony': 7797, 'technoparks': 7914, 'centers': 1167, 'modern': 4987, 'modelling': 4982, 'concrete': 1512, 'delivering': 1894, 'creation': 1720, 'hfc': 3416, 'fibre': 2760, 'coaxial': 1360, 'xdsl': 8882, 'etth': 2516, 'adjustment': 117, 'phases': 5798, 'tap': 7864, 'pocketable': 5908, 'computers': 1497, 'netbooks': 5186, 'mediaphones': 4814, 'connected': 1535, 'tvs': 8291, 'infotainment': 3698, 'availability': 563, 'highlighted': 3425, 'equal': 2454, 'holmen': 3466, 'underweight': 8365, 'ratings': 6326, 'lanxess': 4283, 'cw': 1791, 'mechanics': 4808, 'laboratory': 4253, 'hydrogen': 3539, 'peroxide': 5759, 'pbs': 5693, 'decoration': 1861, 'textiles': 8002, 'bags': 606, 'nav': 5145, 'withdrawing': 8826, 'financially': 2794, 'feasible': 2717, 'studying': 7639, 'feasibility': 2716, 'processed': 6092, 'strength': 7609, 'apetit': 365, 'egm': 2293, 'electrification': 2319, 'enthusiasm': 2423, 'goes': 3162, 'desk': 1954, 'persons': 5767, 'autumn': 561, 'depository': 1929, 'noticeable': 5296, 'competencies': 1456, 'tietoenators': 8066, 'innovations': 3730, 'homepage': 3470, 'installment': 3756, 'cinema': 1286, 'olavi': 5390, 'linden': 4451, 'artistic': 448, 'journey': 3988, 'dozens': 2162, 'awards': 579, 'room': 6766, 'grand': 3197, 'whitefield': 8777, 'teus': 7996, 'manages': 4666, 'features': 2720, 'bar': 639, 'photos': 5814, 'hayward': 3348, 'casual': 1121, 'dress': 2172, 'footwear': 2905, 'boots': 865, 'sandals': 6899, 'thing': 8033, 'innova': 3726, 'downtown': 2159, 'vicinity': 8569, 'paviljonki': 5681, 'walking': 8678, 'distance': 2075, 'heart': 3372, 'interchange': 3801, 'editors': 2268, 'timetable': 8084, 'negotiating': 5167, 'wind': 8802, 'farm': 2697, 'charting': 1230, 'kyroskoski': 4243, 'nekoski': 5175, 'contracting': 1606, 'upstream': 8425, 'downstream': 2158, 'encompassing': 2382, 'fields': 2763, 'others': 5504, 'surfing': 7750, 'weather': 8730, 'boost': 861, 'remodeled': 6520, 'cannon': 1059, 'prague': 6003, 'celebrated': 1153, 'feeder': 2729, 'crushed': 1744, 'enefit': 2391, 'taiwan': 7826, 'load': 4498, 'roof': 6764, 'partition': 5641, 'elements': 2328, 'oxyview': 5552, 'pulse': 6210, 'oximeter': 5550, 'check': 1236, 'patient': 5666, 'blood': 815, 'saturation': 6930, 'favors': 2710, 'fees': 2736, 'governemtn': 3184, 'commiting': 1421, 'pay': 5682, 'eek': 2272, 'dividends': 2099, 'logs': 4525, 'pulpwood': 6209, 'edge': 2262, 'folding': 2894, 'maximizes': 4771, 'resilience': 6618, 'seamless': 7014, 'reason': 6364, 'chikunov': 1250, 'profiles': 6114, 'brief': 932, 'players': 5884, 'niche': 5223, 'black': 801, 'decker': 1855, 'husqvarna': 3531, 'outdoor': 5512, 'ryobi': 6842, 'scotts': 6998, 'miracle': 4955, 'gro': 3226, 'contribute': 1612, 'campofrio': 1048, 'groupe': 3233, 'smithfield': 7340, 'sfd': 7134, 'find': 2801, 'phosphorous': 5811, 'removal': 6524, 'storing': 7583, 'dosing': 2145, 'continuous': 1602, 'server': 7109, 'desktop': 1955, 'remote': 6521, 'facilitates': 2669, 'resourcing': 6628, 'health': 3364, 'vaccination': 8474, 'campaigns': 1046, 'monitoring': 5012, 'remains': 6517, 'repurchased': 6591, 'otherwise': 5505, 'shipyard': 7187, 'andalusia': 319, 'prime': 6064, 'myllypuro': 5109, 'upgrading': 8416, 'mso': 5071, 'unified': 8372, 'shared': 7149, 'logging': 4519, 'auditing': 527, 'setting': 7122, 'density': 1914, 'interconnection': 3803, 'sriperumbudur': 7482, 'filter': 2779, 'innofactor': 3725, 'modules': 4995, 'abilities': 12, 'fulfilling': 3019, 'communal': 1430, 'eco': 2253, 'drive': 2178, 'drivers': 2181, 'plywood': 5903, 'despite': 1956, 'writing': 8871, 'collaboration': 1376, 'antti': 357, 'tuuri': 8287, 'parts': 5648, 'boxes': 894, 'flat': 2856, 'stations': 7529, 'amplifiers': 305, 'microwave': 4903, 'race': 6274, 'onto': 5415, 'garner': 3071, 'ccs': 1142, 'beauty': 690, 'version': 8555, 'chichi': 1248, 'loop': 4535, 'shade': 7139, 'deka': 1882, 'showroom': 7209, 'fortitude': 2939, 'tracker': 8171, 'hunting': 3528, 'dogs': 2117, 'allowing': 247, 'monitor': 5011, 'movements': 5061, 'map': 4693, 'ulefos': 8331, 'manhole': 4676, 'upgrades': 8415, 'megapixel': 4829, 'mouse': 5057, 'instead': 3759, 'pad': 5570, 'click': 1323, 'needed': 5161, 'forever': 2920, 'printing': 6071, 'covering': 1700, 'attempt': 512, 'recover': 6403, 'replacement': 6568, 'clamps': 1308, 'utah': 8450, 'wanted': 8686, 'ski': 7292, 'klo': 4162, 'invite': 3865, 'warmly': 8691, 'lansio': 4281, 'veracel': 8549, 'preparing': 6033, 'appeal': 373, 'clarification': 1309, 'judgement': 3998, 'meter': 4872, 'watchtower': 8710, 'audit': 526, 'trail': 8185, 'traced': 8168, 'countryelements': 1687, 'patricia': 5669, 'burt': 992, 'distinctive': 2077, 'hooked': 3483, 'rugs': 6815, 'created': 1717, 'dyed': 2215, 'dyes': 2216, 'law': 4315, 'assa': 477, 'abloy': 15, 'neutral': 5196, 'lock': 4513, 'competence': 1455, 'references': 6436, 'onodi': 5413, 'stefan': 7547, 'arxikon': 453, 'srl': 7483, 'matka': 4759, 'vekka': 8537, 'reasonable': 6365, 'eseries': 2486, 'equipped': 2457, 'stylised': 7645, 'dave': 1824, 'grannan': 3198, 'defences': 1872, 'attackers': 510, 'trojans': 8236, 'detect': 1964, 'activity': 85, 'capturing': 1081, 'methods': 4875, 'grabbing': 3189, 'screen': 7002, 'shots': 7205, 'captures': 1080, 'keylogging': 4124, 'michael': 4898, 'frei': 2980, 'principles': 6068, 'vaalipalvelu': 8469, 'communities': 1434, 'excited': 2573, 'partnering': 5644, 'rbff': 6339, 'executing': 2579, 'appealing': 374, 'sense': 7082, 'db': 1828, 'lindsey': 4453, 'liddell': 4411, 'institutions': 3764, 'gathered': 3081, 'considered': 1550, 'taking': 7832, 'citycon': 1301, 'eero': 2273, 'sihvonen': 7234, 'chf': 1245, 'flex': 2861, 'lenders': 4379, 'fork': 2922, 'wrote': 8873, 'intel': 3779, 'atom': 504, 'processor': 6096, 'tremendous': 8221, 'pankaj': 5599, 'kedia': 4099, 'ecosystem': 2259, 'tom': 8114, 'doring': 2141, 'career': 1089, 'knows': 4172, 'uniting': 8384, 'smooth': 7343, 'dinner': 2023, 'subscribers': 7659, 'push': 6227, 'multiple': 5087, 'sim': 7241, 'cut': 1782, 'outdoors': 5513, 'birch': 792, 'coasters': 1355, 'downloadable': 2156, 'instruction': 3765, 'instructional': 3766, 'ideas': 3558, 'everywhere': 2547, 'punch': 6212, 'kveyt': 4233, 'suomalainen': 7711, 'pekoni': 5717, 'marketed': 4723, 'plumbing': 5896, 'sponsoring': 7464, 'darts': 1817, 'realignment': 6357, 'bicentenary': 757, 'mark': 4719, 'brewer': 922, 'estimations': 2506, 'indicate': 3666, 'tablet': 7812, 'tahko': 7820, 'spa': 7412, 'resort': 6624, 'piloting': 5831, 'instrument': 3767, 'lifted': 4425, 'veil': 8536, 'stereotyping': 7553, 'search': 7015, 'tata': 7887, 'airtel': 209, 'investigated': 3852, 'lattelecom': 4304, 'melngailis': 4834, 'explained': 2620, 'blackstone': 803, 'kra': 4206, 'facilitate': 2668, 'listing': 4478, 'indicated': 3667, 'willingness': 8798, 'walden': 8675, 'ignatius': 3571, 'capitex': 1075, 'cathay': 1132, 'regenerative': 6461, 'communicated': 1431, 'subcontractors': 7649, 'accommodate': 39, 'grc': 3210, 'reinforced': 6482, 'fabrication': 2664, 'manufactured': 4687, 'navigators': 5149, 'cameras': 1044, 'bluetooth': 820, 'sets': 7121, 'constantly': 1565, 'ways': 8722, 'leminen': 4374, 'builds': 977, 'housing': 3506, 'zapadnye': 8938, 'vorota': 8643, 'immediately': 3596, 'gsm': 3245, 'congress': 1532, 'barcelona': 642, 'entitles': 2433, 'subscribe': 7656, 'ends': 2389, 'proves': 6181, 'elite': 2339, 'residence': 6610, 'tameer': 7850, 'dubai': 2196, 'marina': 4713, 'linked': 4459, 'tutkimuksen': 8286, 'tahdet': 7819, 'viii': 8581, 'stars': 7516, 'tape': 7866, 'telpak': 7957, 'rival': 6727, 'tender': 7965, 'cee': 1150, 'aiming': 198, 'altima': 272, 'pole': 5922, 'causing': 1136, 'electric': 2315, 'roadway': 6743, 'merisatama': 4859, 'far': 2696, 'corners': 1655, 'asfaltti': 457, 'osakeyhti': 5489, 'wellbeing': 8755, 'doctoral': 2110, 'theses': 8025, 'diploma': 2028, 'dissertations': 2072, 'buildings': 976, 'ranked': 6310, 'cooperative': 1645, 'loyalty': 4561, 'resting': 6650, 'comfortably': 1403, 'leaves': 4353, 'duration': 2206, 'countervalue': 1683, 'headbox': 3354, 'erection': 2467, 'supervision': 7727, 'inventory': 3847, 'etuovi': 2517, 'penttil': 5735, 'steps': 7552, 'lennart': 4384, 'simonsen': 7246, 'stead': 7538, 'usual': 8448, 'teho': 7923, 'popularity': 5945, 'smartphones': 7336, 'noora': 5262, 'niiininoski': 5229, 'timeless': 8082, 'style': 7643, 'employing': 2366, 'painted': 5579, 'resin': 6619, 'trebles': 8218, 'cm': 1347, 'magnetite': 4618, 'deposit': 1926, 'karara': 4054, 'metric': 4878, 'maemo': 4611, 'replaced': 6567, 'imaging': 3590, 'distinct': 2076, 'united': 8383, 'supermarkets': 7723, 'supermercado': 7724, 'kaido': 4031, 'kaare': 4027, 'pig': 5826, 'kaukopartio': 4080, 'specialized': 7436, 'brokers': 955, 'collated': 1379, 'sources': 7402, 'icis': 3550, 'teknos': 7929, 'decorative': 1862, 'print': 6069, 'mba': 4779, 'runner': 6824, 'environments': 2443, 'spaces': 7414, 'counties': 1684, 'hosted': 3493, 'ms': 5069, 'laakso': 4245, 'hr': 3510, 'smarket': 7333, 'netcom': 5187, 'turbo': 8272, 'sahlberg': 6864, 'teppo': 7971, 'kallio': 4039, 'mustonen': 5103, 'markings': 4729, 'platforms': 5877, 'lgpl': 4399, 'sawmills': 6947, 'deck': 1854, 'concentrated': 1500, 'packing': 5568, 'calcination': 1023, 'circulating': 1291, 'fluid': 2884, 'bed': 697, 'calciners': 1024, 'sinter': 7263, 'grate': 3206, 'dealership': 1839, 'eligible': 2335, 'drawing': 2170, 'silver': 7240, 'peigs': 5714, 'sardus': 6915, 'latta': 4303, 'maltider': 4655, 'meals': 4791, 'belgium': 717, 'italy': 3908, 'spain': 7415, 'coverage': 1698, 'baked': 610, 'biscuits': 795, 'breakfast': 915, 'cereals': 1182, 'finished': 2811, 'chargz': 1224, 'sporting': 7468, 'peltonen': 5724, 'renzo': 6548, 'piano': 5816, 'wonderful': 8835, 'skyline': 7305, 'noud': 5300, 'veeger': 8526, 'merged': 4853, 'rushydro': 6831, 'stakes': 7505, 'oesk': 5360, 'ercs': 2465, 'inter': 3794, 'utilise': 8453, 'huge': 3517, 'reserves': 6607, 'pursuit': 6226, 'adjusting': 116, 'ostrobothnia': 5497, 'loyal': 4560, 'yhteishyv': 8909, 'scopi': 6992, 'eng': 2395, 'extent': 2649, 'reflected': 6444, 'newpage': 5208, 'cyclone': 1796, 'partly': 5642, 'molten': 5002, 'particles': 5635, 'cue': 1755, 'playbook': 5881, 'dillon': 2016, 'lions': 4464, 'hitting': 3445, 'boot': 864, 'jeans': 3954, 'tummy': 8264, 'tops': 8136, 'cowboy': 1702, 'renewal': 6534, 'versions': 8556, 'organize': 5473, 'wtc': 8876, 'marski': 4735, 'aleksanterinkatu': 228, 'lunch': 4582, 'served': 7108, 'convert': 1629, 'remuneration': 6526, 'thesis': 8026, 'contest': 1592, 'width': 8790, 'min': 4932, 'boxboard': 893, 'chapter': 1217, 'described': 1946, 'leif': 4368, 'plate': 5873, 'quarto': 6255, 'degerfors': 1879, 'castle': 1120, 'willich': 8797, 'pressplate': 6045, 'prefab': 6016, 'avesta': 570, 'composite': 1483, 'alpine': 259, 'poles': 5923, 'floorball': 2874, 'sticks': 7559, 'antenna': 349, 'radomes': 6280, 'considering': 1551, 'hoped': 3485, 'stream': 7601, 'aeronautic': 147, 'eads': 2222, 'pledged': 5892, 'render': 6528, 'appear': 375, 'pricing': 6059, 'offered': 5365, 'unmanned': 8396, 'represented': 6584, 'capable': 1065, 'normandy': 5274, 'woodworking': 8840, 'sheksna': 7169, 'vologda': 8634, 'northwest': 5285, 'airports': 207, 'hotels': 3498, 'factories': 2675, 'corrected': 1661, 'entirety': 2427, 'intriguing': 3832, 'supercalendered': 7720, 'satisfactorily': 6926, 'restarting': 6646, 'older': 5392, 'newsprint': 5213, 'mc': 4780, 'pdas': 5701, 'motorola': 5051, 'poundstretcher': 5987, 'operatives': 5431, 'shifts': 7178, 'integrate': 3775, 'begins': 706, 'singles': 7260, 'albums': 223, 'streaming': 7602, 'parameters': 5613, 'determining': 1970, 'mpra': 5067, 'kraski': 4210, 'teks': 7930, 'outsourced': 5526, 'scan': 6959, 'capture': 1079, 'hankkija': 3304, 'maatalous': 4599, 'acquirer': 63, 'sav': 6935, 'prerequisite': 6034, 'receipt': 6377, 'determined': 1969, 'advance': 133, 'samsung': 6893, 'innovator': 3733, 'developers': 1978, 'par': 5610, 'thirteen': 8040, 'heated': 3374, 'sludge': 7329, 'mixed': 4964, 'therein': 8022, 'study': 7638, 'evaluated': 2534, 'tolerability': 8112, 'pharmacokinetics': 5794, 'doses': 2144, 'intravenously': 3831, 'administered': 119, 'antibody': 352, 'plaque': 5868, 'psoriasis': 6194, 'prolongation': 6135, 'donation': 2132, 'come': 1399, 'locally': 4506, 'naturally': 5141, 'occurring': 5351, 'extract': 2653, 'rostelecom': 6779, 'rts': 6807, 'rtkm': 6805, 'millimetres': 4928, 'thinner': 8037, 'convergence': 1624, 'assume': 493, 'copy': 1650, 'files': 2772, 'backup': 599, 'students': 7636, 'universiti': 8387, 'sains': 6869, 'trip': 8232, 'penttila': 5736, 'consolidating': 1560, 'uniontown': 8379, 'pennsylvania': 5728, 'louis': 4550, 'missouri': 4958, 'durham': 2207, 'awareness': 580, 'encourage': 2383, 'recycle': 6413, 'regular': 6471, 'showcase': 7207, 'internal': 3818, 'entice': 2424, 'connecting': 1536, 'fusing': 3042, 'personalized': 5764, 'distributions': 2085, 'tomorrow': 8119, 'unc': 8345, 'charlotte': 1225, 'deploy': 1924, 'tectia': 7921, 'connector': 1540, 'consecutive': 1542, 'quarters': 6254, 'seventeen': 7128, 'thirty': 8041, 'wayne': 8721, 'greensmith': 3217, 'something': 7386, 'vdw': 8524, 'lxe': 4593, 'enhances': 2406, 'scanning': 6966, 'keyboard': 4122, 'analyses': 310, 'pakistan': 5583, 'shipyards': 7188, 'households': 3503, 'yield': 8912, 'flexibility': 2863, 'vehvilainen': 8533, 'conversion': 1627, 'file': 2770, 'element': 2327, 'understood': 8360, 'diesel': 1999, 'renewable': 6532, 'feedstock': 2731, 'belgian': 716, 'kaarstroem': 4028, 'tt': 8251, 'ferries': 2747, 'ice': 3547, 'safe': 6858, 'suomi': 7713, 'nitrogen': 5240, 'nitrates': 5238, 'unr': 8400, 'authorised': 545, 'proceed': 6088, 'flurry': 2885, 'analytics': 314, 'checked': 1237, 'sure': 7744, 'aberration': 10, 'literature': 4482, 'scala': 6955, 'nobel': 5247, 'biocare': 777, 'bucking': 969, 'slipping': 7318, 'tacked': 7815, 'booked': 853, 'skr': 7302, 'offs': 5374, 'hence': 3405, 'actually': 89, 'repaid': 6555, 'liability': 4402, 'rest': 6644, 'consideration': 1549, 'partially': 5628, 'repay': 6558, 'liabilities': 4401, 'liquidity': 4472, 'eurochem': 2526, 'alexander': 230, 'gavrilov': 3083, 'understanding': 8359, 'mou': 5053, 'collaborate': 1375, 'thank': 8007, 'ukonaho': 8329, 'seminar': 7075, 'clean': 1317, 'sponsorship': 7466, 'proving': 6189, 'cellphone': 1156, 'website': 8737, 'colorful': 1389, 'canvas': 1061, 'expression': 2639, 'inspired': 3749, 'sentiments': 7087, 'growhow': 3236, 'swung': 7793, 'normally': 5273, 'custom': 1776, 'shipbuilder': 7181, 'depend': 1921, 'streamlining': 7605, 'henning': 3406, 'bahr': 608, 'gruppen': 3242, 'praises': 6005, 'pave': 5679, 'gprs': 3186, 'idea': 3555, 'proper': 6148, 'enhancing': 2407, 'predict': 6014, 'skanssi': 7289, 'powerful': 5992, 'maps': 4696, 'indicator': 3669, 'offset': 5375, 'celbi': 1152, 'portugal': 5958, 'abb': 8, 'deutsche': 1972, 'swiss': 7787, 'admired': 123, 'vivid': 8618, 'colors': 1390, 'startup': 7521, 'curve': 1773, 'dietz': 2000, 'efforts': 2287, 'teams': 7902, 'productive': 6107, 'mississippi': 4957, 'swoope': 7791, 'mda': 4788, 'ntt': 5313, 'docomo': 2109, 'juergen': 3999, 'converged': 1623, 'vinachem': 8591, 'occasion': 5344, 'skat': 7290, 'kind': 4147, 'rcp': 6342, 'combine': 1395, 'knowhow': 4169, 'andrey': 323, 'ilyin': 3588, 'securing': 7036, 'potash': 5979, 'arab': 408, 'emirates': 2353, 'qatar': 6237, 'linkspans': 4462, 'jordan': 3980, 'morocco': 5032, 'campbell': 1047, 'paperlinx': 5606, 'atul': 519, 'chopra': 1267, 'elaborated': 2309, 'eager': 2223, 'mena': 4843, 'umbrella': 8336, 'mineracao': 4937, 'ltda': 4569, 'cumerio': 1761, 'med': 4812, 'jsco': 3996, 'vehvil': 8532, 'foremost': 2913, 'operated': 5424, 'sveza': 7774, 'earned': 2229, 'competency': 1457, 'specialization': 7434, 'recentlyvia': 6384, 'fimentor': 2784, 'inception': 3634, 'stable': 7493, 'disciplined': 2046, 'proactive': 6081, 'screening': 7003, 'mandates': 4672, 'rewarded': 6693, 'distinguished': 2079, 'brokerage': 954, 'true': 8243, 'affordable': 156, 'tco': 7895, 'profitable': 6118, 'purpose': 6219, 'action': 74, 'effectiveness': 2280, 'convenient': 1622, 'nearby': 5156, 'jaroszowka': 3946, 'wysockiego': 8880, 'zgody': 8942, 'update': 8408, 'volotinen': 8635, 'glad': 3141, 'stig': 7560, 'goran': 3176, 'sandberg': 6901, 'journalistic': 3987, 'ollikainen': 5398, 'patronage': 5673, 'refunds': 6450, 'reward': 6692, 'fee': 2726, 'walby': 8674, 'help': 3398, 'eli': 2334, 'ladle': 4257, 'bhushan': 753, 'strips': 7621, 'mortar': 5035, 'ingerois': 3706, 'bosnia': 877, 'herzegovina': 3413, 'aluminij': 278, 'dd': 1833, 'mostar': 5044, 'anode': 343, 'hk': 3448, 'ruokatalo': 6828, 'trader': 8178, 'prosperous': 6166, 'changshu': 1214, 'hongmei': 3475, 'kraftliner': 4208, 'stahlberg': 7501, 'vp': 8651, 'labs': 4255, 'av': 562, 'comparatives': 1444, 'tanzania': 7863, 'sanitation': 6904, 'assignment': 484, 'rehabilitation': 6475, 'bukoba': 979, 'musoma': 5101, 'situated': 7276, 'lake': 4267, 'victoria': 8570, 'soaring': 7358, 'fuels': 3013, 'gawker': 3084, 'felt': 2740, 'enough': 2409, 'wackiness': 8665, 'involved': 3870, 'activision': 83, 'atvi': 520, 'fish': 2838, 'might': 4910, 'catch': 1126, 'eye': 2659, 'poser': 5962, 'impress': 3614, 'delighted': 1888, 'announce': 333, 'handheld': 3290, 'easier': 2234, 'bosse': 878, 'beneficial': 727, 'fennia': 2744, 'intellectual': 3780, 'relates': 6492, 'hydrocarbons': 3537, 'hydrocarbon': 3536, 'jet': 3960, 'blending': 807, 'exactly': 2556, 'happened': 3316, 'weekday': 8741, 'baker': 611, 'remind': 6519, 'residents': 6614, 'easter': 2237, 'tradition': 8181, 'wheat': 8770, 'rice': 6702, 'pies': 5822, 'engaged': 2396, 'dean': 1841, 'faculty': 2679, 'tkk': 8098, 'signal': 7222, 'permit': 5757, 'round': 6786, 'kuula': 4230, 'helps': 3401, 'korpinen': 4192, 'apac': 361, 'vice': 8568, 'demonstrating': 1906, 'importance': 3610, 'reliable': 6506, 'universal': 8386, 'entertainment': 2422, 'warner': 8693, 'emi': 2351, 'rotana': 6781, 'mazzika': 4778, 'melody': 4835, 'platinum': 5878, 'records': 6402, 'aggregator': 170, 'orchard': 5457, 'vast': 8518, 'spot': 7470, 'alerts': 229, 'queue': 6258, 'summed': 7703, 'aptly': 405, 'remarked': 6518, 'fantastic': 2694, 'nationally': 5136, 'franc': 2967, 'sharpest': 7158, 'protocol': 6174, 'hectares': 3381, 'valves': 8497, 'instrumentation': 3768, 'cl': 1305, 'cloud': 1345, 'height': 3383, 'vertical': 8558, 'meteorological': 4870, 'rely': 6512, 'detection': 1966, 'smoothly': 7344, 'safely': 6859, 'waiting': 8672, 'urbanizing': 8428, 'de': 1834, 'inking': 3724, 'ink': 3721, 'removed': 6525, 'recovered': 6404, 'executed': 2578, 'tip': 8089, 'panfish': 5597, 'bluegills': 819, 'children': 1252, 'merchandising': 4849, 'selections': 7065, 'reflect': 6443, 'evolving': 2553, 'behavior': 708, 'bjorn': 799, 'wahlroos': 8670, 'accepted': 34, 'korean': 4190, 'savvy': 6944, 'gill': 3134, 'hyun': 3542, 'chang': 1209, 'korea': 4189, 'newswires': 5217, 'interview': 3829, 'fastest': 2704, 'easiest': 2235, 'centric': 1175, 'garry': 3072, 'mcguire': 4786, 'rmg': 6734, 'citymarket': 1302, 'sanomawsoy': 6909, 'uutislehti': 8462, 'named': 5119, 'weighing': 8746, 'changing': 1213, 'lahti': 4261, 'warsaw': 8699, 'meats': 4805, 'locatrix': 4512, 'friends': 2995, 'track': 8170, 'locate': 4507, 'browser': 960, 'moulding': 5054, 'orhangazi': 5475, 'foundry': 2957, 'scout': 6999, 'chic': 1246, 'cheerful': 1240, 'geometric': 3115, 'gardening': 3069, 'vegetables': 8529, 'companiesandmarkets': 1439, 'federation': 2725, 'pkc': 5853, 'nutzfahrzeuge': 5323, 'harness': 3328, 'buses': 995, 'spolka': 7461, 'zoo': 8948, 'certification': 1186, 'voluntary': 8639, 'forests': 2919, 'pellissier': 5721, 'protects': 6170, 'stored': 7578, 'nuclear': 5314, 'hydro': 3535, 'bit': 796, 'outgoing': 5515, 'conferencing': 1523, 'sharing': 7156, 'attachments': 509, 'crosscountry': 1736, 'skier': 7293, 'virpi': 8599, 'kuitunen': 4224, 'taneli': 7857, 'hassinen': 3339, 'fradkov': 2962, 'forming': 2933, 'sophisticated': 7393, 'fulfilment': 3021, 'professionals': 6112, 'redeem': 6417, 'proline': 6134, 'easy': 2239, 'nst': 5309, 'ventures': 8547, 'semiproducts': 7077, 'diapol': 1994, 'multi': 5079, 'agenda': 166, 'agm': 174, 'gb': 3085, 'touch': 8150, 'xpress': 8888, 'classic': 1313, 'navigator': 5148, 'xm': 8885, 'lihakunta': 4436, 'itikka': 3914, 'osuuskunta': 5501, 'resource': 6626, 'itunes': 3917, 'accessible': 36, 'macintosh': 4605, 'transferable': 8197, 'apple': 379, 'ipods': 3877, 'super': 7719, 'calendered': 1029, 'grades': 3191, 'mosmetro': 5042, 'ru': 6809, 'cards': 1087, 'magnetic': 4617, 'centrally': 1172, 'manageable': 4661, 'suited': 7694, 'virtual': 8601, 'scholarship': 6978, 'recipients': 6389, 'associations': 492, 'engineers': 2401, 'westward': 8768, 'lean': 4339, 'inclination': 3637, 'leaning': 4340, 'pisa': 5847, 'diagrid': 1990, 'aligned': 235, 'geometrically': 3116, 'winners': 8809, 'honda': 3473, 'odyssey': 5357, 'minivan': 4948, 'nissan': 5237, 'armada': 428, 'liljeholmen': 4444, 'bold': 844, 'spinning': 7454, 'red': 6416, 'beautifully': 689, 'ercols': 2464, 'napoli': 5126, 'sofa': 7364, 'tomtom': 8121, 'assurances': 498, 'maya': 4775, 'joe': 3968, 'doering': 2115, 'prevention': 6052, 'alcohol': 224, 'tobacco': 8105, 'smoking': 7342, 'associated': 489, 'oral': 5453, 'cancers': 1056, 'cant': 1060, 'theyre': 8029, 'pride': 6060, 'exposure': 2636, 'bruce': 962, 'hansen': 3312, 'svh': 7775, 'wolverine': 8833, 'calling': 1038, 'innovators': 3734, 'specifically': 7440, 'breed': 919, 'dover': 2151, 'calais': 1022, 'rauma': 6331, 'yard': 8897, 'suistio': 7691, 'enjoy': 2408, 'often': 5378, 'experimenting': 2613, 'privatization': 6078, 'browse': 959, 'select': 7062, 'packages': 5564, 'boaters': 833, 'anglers': 327, 'newcomers': 5204, 'sport': 7467, 'frank': 2972, 'peterson': 5779, 'tapeks': 7867, 'noma': 5253, 'coherent': 1370, 'matrix': 4761, 'correlation': 1662, 'workshops': 8856, 'meetings': 4823, 'greatest': 3214, 'bulletin': 983, 'statutory': 7533, 'undertakings': 8363, 'requires': 6599, 'satisfies': 6928, 'independence': 3658, 'individually': 3675, 'cdli': 1144, 'highlights': 3426, 'response': 6636, 'carbon': 1083, 'disclosure': 2051, 'cu': 1753, 'welcomes': 8751, 'dart': 1815, 'dallas': 1805, 'fcu': 2714, 'enclosed': 2381, 'authorization': 548, 'elect': 2311, 'haakon': 3265, 'skaarer': 7286, 'collaborative': 1377, 'streams': 7606, 'homeowners': 3469, 'compact': 1436, 'scalable': 6956, 'flexi': 2862, 'multiradio': 5090, 'sawn': 6948, 'factors': 2676, 'lives': 4491, 'lights': 4432, 'curfew': 1766, 'curl': 1767, 'bestseller': 743, 'treat': 8213, 'luceplan': 4572, 'luxembourg': 4590, 'amber': 285, 'sanitas': 6903, 'transports': 8207, 'forwarding': 2948, 'treats': 8217, 'entrepreneurs': 2437, 'newcomer': 5203, 'seeking': 7043, 'fairly': 2683, 'justly': 4016, 'patrick': 5670, 'jeambar': 3953, 'hsea': 3511, 'download': 2155, 'sparsely': 7422, 'populated': 5946, 'metropolitan': 4881, 'eleven': 2333, 'adapter': 97, 'sap': 6911, 'netweaver': 5191, 'endorsement': 2387, 'integrates': 3777, 'erp': 2478, 'applauded': 378, 'applying': 387, 'fact': 2673, 'clarity': 1311, 'petitions': 5781, 'celebrates': 1154, 'fiftieth': 2766, 'anniversary': 332, 'exporting': 2634, 'detached': 1959, 'decades': 1847, 'costanza': 1674, 'aluminum': 280, 'washable': 8701, 'pistachio': 5848, 'familiar': 2690, 'authentic': 540, 'surmises': 7752, 'comfort': 1401, 'utilises': 8455, 'giving': 3139, 'painting': 5580, 'layers': 4320, 'coat': 1356, 'applied': 385, 'exterior': 2650, 'panels': 5596, 'separate': 7092, 'primer': 6065, 'pirkka': 5846, 'assurance': 497, 'molecules': 5001, 'grip': 3225, 'driving': 2183, 'band': 628, 'bands': 629, 'pending': 5726, 'removable': 6523, 'stamps': 7506, 'case': 1110, 'dramatically': 2168, 'conveniences': 1621, 'obtained': 5343, 'title': 8094, 'redeemed': 6418, 'iconic': 3551, 'symbol': 7796, 'excellent': 2564, 'ergonomic': 2469, 'complexes': 1475, 'arenas': 422, 'eronen': 2477, 'svp': 7776, 'weber': 8734, 'convinced': 1636, 'ray': 6338, 'ostrom': 5499, 'lures': 4587, 'cheaper': 1234, 'expenditure': 2605, 'starts': 7520, 'pick': 5817, 'vesa': 8559, 'laisi': 4265, 'slide': 7314, 'suitor': 7695, 'ruled': 6819, 'notably': 5290, 'surpassing': 7754, 'cutting': 1786, 'vocollect': 8625, 'discounted': 2055, 'sorts': 7395, 'little': 4488, 'impulse': 3622, 'buys': 1004, 'umbrellas': 8337, 'baby': 592, 'bibs': 756, 'purses': 6221, 'shoppers': 7197, 'ca': 1010, 'commit': 1420, 'furniture': 3039, 'piece': 5820, 'boomed': 858, 'marilyn': 4711, 'monroe': 5016, 'oko': 5388, 'raiffeisen': 6285, 'concerning': 1507, 'acquitted': 68, 'charges': 1222, 'fixing': 2849, 'conspiracy': 1564, 'cooper': 1640, 'sh': 7137, 'lift': 4424, 'saving': 6939, 'minor': 4951, 'constructive': 1571, 'manner': 4679, 'tried': 8228, 'virgin': 8596, 'somaxon': 7384, 'nalmefene': 5117, 'trial': 8226, 'cessation': 1188, 'indo': 3677, 'irritants': 3888, 'procedural': 6085, 'hassles': 3340, 'chamber': 1204, 'obstacles': 5342, 'critical': 1730, 'usp': 8446, 'roadmap': 6740, 'simon': 7245, 'button': 999, 'elqav': 2342, 'industrialisation': 3682, 'sharp': 7157, 'cheap': 1233, 'telco': 7933, 'teaming': 7901, 'bullying': 985, 'fight': 2767, 'teenagers': 7922, 'channels': 1216, 'plays': 5885, 'workout': 8853, 'pleasurable': 5891, 'chore': 1268, 'brian': 927, 'inspiring': 3751, 'challenge': 1200, 'wider': 8789, 'kallasvuo': 4038, 'dominating': 2130, 'rail': 6286, 'infected': 3690, 'complying': 1478, 'directive': 2033, 'renovated': 6541, 'hydraulics': 3534, 'degridding': 1881, 'sand': 6898, 'grease': 3211, 'deodorization': 1917, 'galvan': 3057, 'avoid': 575, 'laying': 4321, 'must': 5102, 'enters': 2421, 'force': 2906, 'restricted': 6653, 'nasty': 5133, 'eric': 2471, 'schultze': 6984, 'shavlik': 7160, 'paul': 5676, 'minn': 4949, 'patch': 5658, 'nordalu': 5265, 'shifted': 7177, 'simonson': 7247, 'retrieving': 6676, 'typed': 8304, 'keyloggers': 4123, 'mechanisms': 4810, 'arrived': 440, 'scene': 6969, 'phishing': 5804, 'pharming': 5796, 'nausea': 5144, 'skogster': 7301, 'voltage': 8636, 'consisting': 1556, 'birmingham': 793, 'hampden': 3286, 'casualty': 1122, 'utm': 8459, 'inbound': 3629, 'outbound': 5510, 'counter': 1681, 'competitor': 1463, 'strengths': 7614, 'weaknesses': 8729, 'lodged': 4516, 'halted': 3279, 'problems': 6084, 'bioview': 791, 'automates': 553, 'cancer': 1055, 'weakness': 8728, 'sequenced': 7103, 'apparently': 372, 'utilised': 8454, 'inspects': 3748, 'companys': 1441, 'multiples': 5088, 'kalinisky': 4036, 'prospect': 6163, 'difficulties': 2007, 'leaving': 4354, 'excessive': 2569, 'dubna': 2198, 'meets': 4824, 'dollar': 2124, 'bounced': 887, 'storey': 7581, 'gross': 3229, 'seawind': 7023, 'stuck': 7635, 'regal': 6456, 'kapellskar': 4049, 'paldiski': 5585, 'northwestern': 5286, 'stena': 7550, 'poseidon': 5961, 'panamax': 5593, 'tanker': 7859, 'pass': 5651, 'narrow': 5127, 'passages': 5652, 'panama': 5592, 'locks': 4514, 'keskuskatu': 4119, 'backbone': 594, 'pedestrianised': 5709, 'pedestrian': 5708, 'precincts': 6009, 'uncommonly': 8351, 'snow': 7353, 'roger': 6754, 'talermo': 7835, 'flsmidth': 2881, 'violated': 8593, 'interrupted': 3825, 'expecting': 2603, 'reaching': 6345, 'hivakuutus': 3447, 'fierce': 2764, 'storms': 7585, 'felled': 2739, 'trees': 8220, 'excluding': 2575, 'cancellation': 1054, 'kesbv': 4116, 'yea': 8900, 'utilisation': 8452, 'newly': 5207, 'stavo': 7535, 'stavokonsult': 7536, 'kostiainen': 4198, 'lewa': 4395, 'netted': 5190, 'beteiligungs': 745, 'modernisation': 4988, 'nonbinding': 5257, 'aluminium': 279, 'coordinated': 1647, 'krippl': 4211, 'contributed': 1613, 'handled': 3292, 'derive': 1938, 'housewares': 3505, 'compete': 1454, 'pon': 5935, 'swing': 7785, 'secured': 7035, 'fuelled': 3012, 'propulsion': 6160, 'binding': 774, 'mertano': 4862, 'bnamericas': 825, 'roughly': 6785, 'bochum': 835, 'excerpt': 2567, 'article': 446, 'roshan': 6778, 'self': 7067, 'bigger': 764, 'exploited': 2623, 'effectively': 2279, 'tekes': 7926, 'grounds': 3231, 'lvl': 4592, 'claims': 1307, 'contented': 1590, 'advertisements': 138, 'skiers': 7294, 'helmets': 3396, 'caps': 1078, 'insurer': 3771, 'shenzhen': 7174, 'considers': 1552, 'bbl': 680, 'ulm': 8333, 'dusseldorf': 2208, 'frankfurt': 2973, 'subdivision': 7650, 'profits': 6119, 'scania': 6964, 'stanley': 7514, 'duty': 2211, 'bus': 994, 'recommendable': 6396, 'z': 8930, 'bakery': 612, 'carmaker': 1094, 'hyundai': 3543, 'sounds': 7399, 'optimistically': 5445, 'mean': 4792, 'allocated': 240, 'flag': 2852, 'fia': 2757, 'sealed': 7013, 'leaseback': 4347, 'newest': 5205, 'syndication': 7800, 'acnielsen': 60, 'scantrack': 6967, 'coca': 1362, 'tver': 8289, 'deals': 1840, 'ses': 7117, 'quickly': 6260, 'kan': 4045, 'dahlstr': 1801, 'fold': 2892, 'tb': 7894, 'thebault': 8011, 'plyland': 5902, 'helander': 3391, 'swiftly': 7784, 'lasse': 4293, 'ongoing': 5411, 'mmx': 4972, 'takanen': 7827, 'proceeded': 6089, 'fronts': 3001, 'aspokem': 476, 'auburn': 521, 'cad': 1017, 'billing': 769, 'bulk': 981, 'commencing': 1407, 'cymed': 1797, 'delhaize': 1885, 'lion': 4463, 'vocal': 8624, 'pda': 5700, 'wt': 8875, 'renewed': 6535, 'rmr': 6735, 'noa': 5246, 'sir': 7268, 'robert': 6745, 'mcalpine': 4782, 'watermark': 8713, 'ia': 3545, 'length': 4382, 'uruguayan': 8433, 'gla': 3140, 'dso': 2192, 'bleaching': 806, 'liner': 4455, 'washing': 8702, 'klabin': 4161, 'maco': 4606, 'borba': 866, 'paran': 5614, 'posting': 5977, 'kft': 4127, 'recruit': 6407, 'staffers': 7498, 'fulfill': 3017, 'cs': 1748, 'principal': 6066, 'galeria': 3053, 'podlaska': 5910, 'bia': 755, 'ystok': 8926, 'lt': 4567, 'yokohama': 8920, 'nagoya': 5115, 'dc': 1829, 'graz': 3209, 'aalborg': 1, 'thousand': 8046, 'beers': 702, 'retained': 6669, 'sal': 6873, 'inked': 3722, 'appears': 377, 'surveillance': 7757, 'projected': 6130, 'renew': 6531, 'contents': 1591, 'jens': 3956, 'schulte': 6982, 'bockum': 836, 'vodafone': 8626, 'terminals': 7974, 'potentially': 5982, 'millions': 4930, 'lifetime': 4422, 'choosing': 1266, 'centres': 1174, 'coagulants': 1352, 'helsingborg': 3402, 'wis': 8820, 'prnewswire': 6079, 'announces': 336, 'scissor': 6989, 'handles': 3295, 'manavigator': 4669, 'unveils': 8406, 'jv': 4019, 'ivrcl': 3923, 'bom': 847, 'boiler': 843, 'dry': 2190, 'solids': 7377, 'evaporation': 2536, 'thermal': 8023, 'hour': 3499, 'kaunisvaara': 4083, 'tapuli': 7874, 'sahavaara': 6863, 'deposits': 1930, 'navteq': 5150, 'commanding': 1405, 'onstar': 5414, 'phil': 5799, 'magney': 4619, 'telematics': 7944, 'minnetonka': 4950, 'sata': 6922, 'flexo': 2867, 'chicago': 1247, 'database': 1820, 'nv': 5324, 'garmin': 3070, 'managment': 4668, 'omeo': 5402, 'lg': 4397, 'headboxes': 3355, 'rectifier': 6411, 'roll': 6758, 'dilution': 2018, 'imatra': 3593, 'centralising': 1170, 'pet': 5775, 'bottles': 884, 'steadily': 7539, 'strapping': 7595, 'dip': 2027, 'petcore': 5776, 'lagardere': 4258, 'singapore': 7256, 'inorganic': 3736, 'coagulant': 1351, 'andhra': 320, 'pradesh': 6002, 'solvay': 7382, 'basf': 663, 'zandvliet': 8936, 'southfield': 7409, 'mich': 4897, 'waiving': 8673, 'incurred': 3656, 'tune': 8265, 'systeemitiimi': 7807, 'skogberg': 7300, 'watertight': 8717, 'doors': 2138, 'vana': 8499, 'regina': 6462, 'baltica': 624, 'cobalt': 1361, 'norilsk': 5269, 'modems': 4985, 'comprised': 1491, 'boomeranger': 860, 'backups': 600, 'incur': 3655, 'indebtedness': 3657, 'expect': 2600, 'rmb': 6732, 'feels': 2735, 'leases': 4349, 'formations': 2929, 'exported': 2631, 'twenty': 8295, 'positioned': 5964, 'uruguay': 8432, 'substations': 7669, 'clearer': 1320, 'comparative': 1443, 'uplift': 8417, 'iso': 3893, 'toward': 8158, 'soapstone': 7356, 'medvezhyegorsk': 4819, 'solvency': 7383, 'limit': 4446, 'dynamics': 2218, 'japrotek': 3942, 'tanks': 7861, 'agitators': 172, 'blyk': 822, 'brinkab': 937, 'scaffolding': 6954, 'installations': 3754, 'pellets': 5720, 'kiruna': 4154, 'lextel': 4396, 'capitel': 1074, 'capitalize': 1072, 'similar': 7243, 'tecnopolis': 7919, 'jyvaskyla': 4024, 'specialising': 7430, 'moody': 5023, 'unsecured': 8402, 'lender': 4378, 'emtn': 2376, 'interbank': 3800, 'camara': 1040, 'interbancaria': 3799, 'pagamentos': 5571, 'cip': 1287, 'sterling': 7554, 'commerce': 1412, 'internationalizing': 3821, 'ntc': 5310, 'geographical': 3112, 'closer': 1340, 'bohemia': 842, 'czechrepublic': 1799, 'noting': 5299, 'brno': 944, 'analyzed': 315, 'fits': 2845, 'peter': 5777, 'wiklof': 8794, 'rutav': 6834, 'rocketed': 6750, 'aktav': 214, 'austin': 535, 'texas': 7999, 'sept': 7101, 'compression': 1488, 'retrofit': 6677, 'tarmo': 7880, 'noop': 5261, 'film': 2777, 'extrusion': 2658, 'rani': 6308, 'plast': 5869, 'dental': 1915, 'hammaslaakarit': 3285, 'interactive': 3797, 'isps': 3895, 'subsidy': 7665, 'honkamaa': 3478, 'viewpoint': 8578, 'ald': 225, 'interoperability': 3824, 'railways': 6289, 'assuming': 495, 'duties': 2210, 'activate': 76, 'tec': 7903, 'lan': 4272, 'bristol': 941, 'pound': 5985, 'specialised': 7428, 'tonne': 8124, 'stackers': 7494, 'ee': 2271, 'java': 3951, 'bali': 618, 'sumatra': 7701, 'batam': 669, 'ton': 8122, 'correspondingly': 1666, 'ineta': 3689, 'zaharova': 8932, 'advertisers': 140, 'destia': 1957, 'aulasmaa': 532, 'kopijyva': 4187, 'sokonet': 7368, 'inge': 3704, 'larsen': 4291, 'divided': 2097, 'tumkur': 8263, 'bangalore': 630, 'netact': 5183, 'tps': 8165, 'recoil': 6393, 'regeneration': 6460, 'shops': 7199, 'paijat': 5575, 'hame': 3282, 'sister': 7271, 'matkatoimisto': 4760, 'smt': 7346, 'bricks': 928, 'workday': 8844, 'ingredient': 3708, 'contain': 1584, 'nutritional': 5322, 'poznan': 5997, 'pestka': 5774, 'seats': 7022, 'edgar': 2261, 'edmonds': 2269, 'christian': 1272, 'fischer': 2837, 'almaty': 253, 'nastola': 5132, 'southaven': 7405, 'kauhajoen': 4075, 'teurastamokiinteistot': 7995, 'kauhajoki': 4076, 'slaughterhouse': 7308, 'operative': 5430, 'straight': 7591, 'westerlund': 8764, 'lonnfors': 4530, 'took': 8127, 'unless': 8391, 'definitely': 1875, 'privatisation': 6077, 'represent': 6580, 'proposition': 6158, 'modify': 4992, 'lowest': 4558, 'bidders': 760, 'awaited': 576, 'ya': 8891, 'ulitsa': 8332, 'yamskogo': 8894, 'polya': 5931, 'ext': 2641, 'unimilk': 8377, 'xvi': 8889, 'fum': 3024, 'establish': 2496, 'italahdenkatu': 3906, 'presented': 6039, 'hiidenheimo': 3430, 'replay': 6570, 'callers': 1037, 'firmed': 2830, 'consultation': 1576, 'appropriate': 395, 'occupiers': 5347, 'wonderware': 8836, 'sis': 7270, 'intouch': 3830, 'hmi': 3452, 'industrialsql': 3684, 'historian': 3439, 'dt': 2193, 'qi': 6239, 'spc': 7423, 'saku': 6872, 'evraz': 2555, 'lanebrook': 4276, 'beneficiaries': 728, 'millhouse': 4926, 'billionaire': 772, 'roman': 6761, 'abramovich': 20, 'executives': 2582, 'abramov': 19, 'frolov': 2999, 'absolut': 23, 'exploring': 2627, 'possibility': 5970, 'borrowing': 875, 'nsi': 5306, 'kalkkuna': 4037, 'workforce': 8850, 'purchased': 6214, 'pori': 5948, 'christmas': 1274, 'till': 8077, 'ugglarp': 8323, 'sk': 7285, 'ne': 5154, 'slovak': 7323, 'reding': 6422, 'bratislava': 908, 'svyazinvest': 7777, 'syrj': 7805, 'visual': 8615, 'identity': 3564, 'internationalised': 3820, 'gallup': 3056, 'facts': 2678, 'beef': 699, 'kilos': 4143, 'soosalu': 7392, 'attention': 514, 'aleksandri': 227, 'maritime': 4717, 'notification': 5297, 'ameriprice': 295, 'sat': 6921, 'sewed': 7132, 'evacuate': 2533, 'seconds': 7028, 'newbury': 5202, 'yitgroup': 8916, 'occupied': 5346, 'westpac': 8766, 'frn': 2997, 'vimpelcom': 8589, 'kyivstar': 4236, 'deere': 1871, 'dokumentori': 2122, 'budapest': 970, 'egeszsegbolt': 2291, 'finton': 2824, 'circuits': 1290, 'alternately': 267, 'vacant': 8473, 'signaling': 7223, 'crash': 1713, 'einvoices': 2303, 'hacking': 3270, 'classified': 1314, 'riskware': 6725, 'fki': 2850, 'jiang': 3962, 'consultant': 1575, 'permanently': 5755, 'salo': 6881, 'produkt': 6110, 'bids': 762, 'onemed': 5408, 'catalysts': 1124, 'polyolefin': 5932, 'flexibly': 2866, 'interconnected': 3802, 'mega': 4825, 'image': 3589, 'copyright': 1652, 'logo': 4524, 'trademarks': 8177, 'rents': 6547, 'conversions': 1628, 'terminator': 7979, 'subcontract': 7647, 'maintaining': 4634, 'designing': 1952, 'routes': 6790, 'vijver': 8585, 'humo': 3524, 'entitled': 2430, 'deducted': 1866, 'require': 6595, 'customized': 1780, 'watermarks': 8714, 'disclose': 2048, 'empresa': 2369, 'desarrollo': 1945, 'urbano': 8429, 'quito': 6263, 'innovar': 3727, 'uio': 8326, 'ecuador': 2260, 'prepare': 6030, 'urban': 8427, 'mass': 4747, 'transit': 8201, 'jarvinen': 3948, 'rautakirja': 6333, 'ethanol': 2511, 'barley': 649, 'tubes': 8254, 'mantyharju': 4685, 'facades': 2666, 'riga': 6706, 'yty': 8927, 'fancy': 2693, 'dans': 1812, 'fab': 2662, 'glasgow': 3142, 'interiors': 3815, 'auditors': 529, 'receives': 6380, 'compensation': 1453, 'opinions': 5435, 'confectionery': 1520, 'bear': 684, 'rug': 6813, 'castings': 1119, 'rosenlew': 6777, 'unlimited': 8393, 'cincinnati': 1285, 'constitute': 1566, 'possible': 5971, 'flies': 2868, 'destinations': 1958, 'extra': 2652, 'issuing': 3903, 'allocation': 241, 'view': 8575, 'numerous': 5318, 'panies': 5598, 'boardman': 830, 'indital': 3672, 'nederland': 5159, 'bv': 1005, 'cnl': 1349, 'jaston': 3950, 'groep': 3228, 'probably': 6082, 'valuation': 8492, 'derives': 1940, 'shell': 7171, 'pm': 5904, 'say': 6949, 'categorically': 1127, 'rsa': 6801, 'arrangements': 435, 'rebuilt': 6373, 'kpy': 4205, 'voimatel': 8631, 'flange': 2855, 'towers': 8161, 'invitation': 3863, 'links': 4461, 'tornstrom': 8139, 'ionphase': 3873, 'aura': 533, 'omena': 5401, 'matinkyla': 4758, 'sheffield': 7168, 'avestapolarit': 571, 'itg': 3913, 'slo': 7320, 'kiilto': 4139, 'toptronics': 8137, 'normark': 5275, 'pellonpaja': 5722, 'mansner': 4681, 'hire': 3436, 'specialists': 7432, 'jyvaeskylae': 4023, 'njastein': 5242, 'mike': 4914, 'critch': 1728, 'dovre': 2152, 'toivola': 8109, 'hienonen': 3419, 'kershaw': 4115, 'sankey': 6905, 'leed': 4358, 'unicom': 8371, 'chu': 1278, 'hkse': 3450, 'shse': 7212, 'terminations': 7978, 'metsa': 4883, 'botnia': 881, 'deriving': 1941, 'pohjolan': 5916, 'voima': 8630, 'utilising': 8456, 'winders': 8804, 'explosively': 2628, 'bakman': 613, 'helisnki': 3395, 'claiming': 1306, 'rumors': 6822, 'emergency': 2349, 'disclosed': 2049, 'burning': 989, 'merges': 4856, 'timetables': 8085, 'indication': 3668, 'handoff': 3298, 'invoicing': 3868, 'liechtenstein': 4414, 'serbia': 7104, 'depth': 1934, 'paychex': 5685, 'payroll': 5691, 'pcs': 5698, 'guatemala': 3249, 'telgua': 7950, 'cdma': 1145, 'expert': 2614, 'malinen': 4651, 'talk': 7836, 'euribor': 2523, 'bps': 898, 'refiner': 6439, 'protalix': 6167, 'globes': 3153, 'itonut': 3916, 'flexiblebaseloadoperation': 2865, 'thewartsila': 8028, 'gasconversions': 3076, 'shorter': 7202, 'rosendal': 6776, 'eila': 2302, 'paatela': 5559, 'runway': 6827, 'calculated': 1026, 'assessment': 480, 'tamil': 7853, 'nadu': 5114, 'saunalahti': 6933, 'burton': 993, 'seller': 7069, 'anrak': 345, 'pelletizing': 5719, 'sintering': 7265, 'composition': 1485, 'aqua': 407, 'multifunctional': 5081, 'george': 3117, 'adams': 93, 'steek': 7543, 'bordeaux': 867, 'southwestern': 7410, 'releases': 6503, 'varkaus': 8509, 'utilizing': 8458, 'residues': 6615, 'stuk': 7640, 'radiation': 6277, 'sullivan': 7698, 'publishes': 6204, 'bk': 800, 'optiflex': 5441, 'amplifier': 304, 'kdg': 4097, 'directionality': 2032, 'dimensions': 2019, 'perpendiculars': 5760, 'breadth': 913, 'draught': 2169, 'aforementioned': 157, 'lassi': 4294, 'noponen': 5263, 'sessions': 7119, 'anasmotet': 316, 'junction': 4009, 'marieholm': 4709, 'condominiums': 1516, 'propertos': 6150, 'complemented': 1467, 'marked': 4720, 'maturity': 4769, 'recession': 6387, 'unite': 8382, 'possibilities': 5969, 'luumaki': 4589, 'readychex': 6354, 'reportable': 6573, 'asmi': 468, 'investigate': 3851, 'tightening': 8069, 'headquarter': 3360, 'kennedy': 4109, 'laguardia': 4259, 'newark': 5201, 'teterboro': 7993, 'stewart': 7557, 'refurbishing': 6452, 'bathrooms': 672, 'sewer': 7133, 'pipes': 5839, 'roro': 6770, 'depending': 1922, 'onboard': 5406, 'freighters': 2982, 'singaporean': 7257, 'masterbulk': 4749, 'propeller': 6147, 'gear': 3090, 'specialize': 7435, 'hi': 3417, 'delegation': 1884, 'representatives': 6583, 'finnfund': 2819, 'alteams': 265, 'mt': 5073, 'rugby': 6814, 'lutterworth': 4588, 'trained': 8189, 'assistants': 487, 'registers': 6469, 'nuggets': 5315, 'valve': 8496, 'plates': 5875, 'barleycorn': 650, 'inaugural': 3625, 'speech': 7445, 'kyrolainen': 4241, 'ambassador': 284, 'vary': 8514, 'taxpayers': 7893, 'wait': 8671, 'returns': 6681, 'financed': 2790, 'parity': 5618, 'minimum': 4943, 'cause': 1134, 'isoprene': 3894, 'tree': 8219, 'species': 7438, 'hevea': 3415, 'brasiliensis': 907, 'ipo': 3876, 'thailand': 8005, 'belonging': 720, 'circle': 1288, 'saha': 6862, 'pathana': 5664, 'sepa': 7091, 'cads': 1018, 'comprises': 1492, 'lesprom': 4387, 'treating': 8214, 'pilanesberg': 5828, 'crecent': 1722, 'reel': 6433, 'mwe': 5106, 'introduction': 3837, 'entail': 2415, 'moorestown': 5024, 'kroon': 4220, 'recruitment': 6409, 'karlstad': 4064, 'ghz': 3129, 'tdd': 7896, 'examines': 2557, 'polish': 5927, 'yet': 8908, 'prevailing': 6051, 'cosco': 1670, 'dohle': 2118, 'cido': 1284, 'unloader': 8395, 'totally': 8148, 'conveying': 1635, 'formal': 2926, 'statistical': 7530, 'evaluation': 2535, 'bracing': 899, 'iphone': 3875, 'localisation': 4505, 'continuously': 1603, 'bloomberg': 816, 'hautaniemi': 3347, 'elsewhere': 2344, 'paulig': 5677, 'oscar': 5490, 'puljonki': 6206, 'alise': 237, 'artemis': 442, 'barents': 644, 'valga': 8482, 'lihatoostus': 4437, 'maks': 4646, 'moorits': 5026, 'exists': 2592, 'artemyev': 443, 'dialing': 1992, 'quote': 6265, 'legrand': 4363, 'yvonne': 8929, 'chameleon': 1207, 'zao': 8937, 'moskovia': 5041, 'bawag': 677, 'covered': 1699, 'jvc': 4020, 'dvd': 2213, 'swedbank': 7780, 'hypotek': 3541, 'argentine': 425, 'calafate': 1021, 'tapped': 7872, 'compatriot': 1451, 'finnegans': 2818, 'henry': 3408, 'gilchrist': 3133, 'malware': 4657, 'url': 8430, 'micro': 4900, 'rik': 6713, 'ferguson': 2746, 'wo': 8831, 'happen': 3315, 'overnight': 5535, 'fabrics': 2665, 'always': 282, 'cornerstones': 1656, 'reporters': 6576, 'lemiste': 4375, 'lo': 4497, 'rnits': 6737, 'mainor': 4630, 'toolonlahti': 8129, 'disclosing': 2050, 'goals': 3161, 'schuldschein': 6981, 'pool': 5940, 'coker': 1372, 'tesoro': 7987, 'eagle': 2224, 'martinez': 4740, 'castell': 1117, 'placement': 5857, 'either': 2305, 'maine': 4627, 'nominal': 5254, 'designer': 1951, 'crosstown': 1738, 'roundwood': 6788, 'franchising': 2970, 'nike': 5231, 'altra': 276, 'kurkilahti': 4227, 'dioxide': 2026, 'organise': 5469, 'rana': 6303, 'degefors': 1877, 'retirement': 6673, 'wave': 8718, 'murmansk': 5097, 'administrative': 121, 'commissioner': 1418, 'kurt': 4228, 'svensson': 7772, 'alternatives': 269, 'lumene': 4579, 'cosmetics': 1672, 'borl': 871, 'nge': 5221, 'conducting': 1519, 'dukat': 2202, 'palace': 5584, 'fim': 2783, 'alpro': 260, 'heikkil': 3386, 'refreshment': 6448, 'saarioinen': 6849, 'kel': 4102, 'delisted': 1890, 'nm': 5244, 'accordingly': 45, 'retailed': 6664, 'terminate': 7975, 'salaried': 6874, 'automate': 551, 'preparation': 6029, 'ifrs': 3568, 'efi': 2288, 'behavioural': 709, 'scoring': 6995, 'migration': 4911, 'legacy': 4360, 'territory': 7984, 'eukor': 2521, 'wallhamn': 8681, 'discipline': 2045, 'deepwater': 1869, 'ahms': 188, 'franchise': 2969, 'pan': 5591, 'inflation': 3692, 'salovaara': 6886, 'cutter': 1785, 'assigned': 483, 'marietta': 4710, 'ga': 3047, 'jaakko': 3927, 'vilo': 8588, 'harkonen': 3327, 'pentti': 5734, 'sipponen': 7267, 'osmo': 5494, 'suovaniemi': 7718, 'tapani': 7865, 'tiusanen': 8096, 'hans': 3311, 'scheck': 6971, 'identifying': 3563, 'tyrvaan': 8312, 'appearing': 376, 'sastamala': 6920, 'neighbouring': 5172, 'initiating': 3716, 'alaj': 218, 'vimpeli': 8590, 'sein': 7056, 'joki': 3977, 'oslo': 5492, 'altona': 275, 'maloney': 4654, 'tulla': 8260, 'entitlement': 2431, 'wipro': 8816, 'berlin': 736, 'liquide': 4471, 'exempted': 2584, 'left': 4359, 'ekaterinburg': 2306, 'kazan': 4092, 'rostov': 6780, 'repayments': 6560, 'demanded': 1899, 'overcharging': 5532, 'inspectorate': 3747, 'condition': 1513, 'photonium': 5813, 'akseli': 213, 'kirkkonummi': 4152, 'nivala': 5241, 'meadville': 4789, 'slice': 7312, 'reorganization': 6553, 'continually': 1596, 'predefined': 6013, 'iran': 3881, 'iraq': 3882, 'biotherapeutics': 789, 'amex': 296, 'plx': 5900, 'prospectus': 6165, 'vianor': 8565, 'conduct': 1517, 'lse': 4566, 'agricole': 181, 'sa': 6844, 'epa': 2448, 'aca': 27, 'cagr': 1019, 'promised': 6139, 'lotus': 4547, 'traveler': 8209, 'kpi': 4204, 'berling': 737, 'umo': 8338, 'veikko': 8535, 'laine': 4264, 'bluewin': 821, 'es': 2482, 'vostok': 8646, 'mosenergosbytbody': 5040, 'mssb': 5072, 'altaienergosbyt': 264, 'saratovenergo': 6914, 'sare': 6916, 'tambov': 7849, 'tasb': 7881, 'ofbodywhich': 5361, 'byline': 1007, 'tim': 8078, 'moran': 5027, 'cellular': 1158, 'adequacy': 109, 'basel': 660, 'mezzanine': 4890, 'cardona': 1086, 'intersection': 3826, 'wherever': 8773, 'countdown': 1680, 'rainbow': 6290, 'trout': 8240, 'shad': 7138, 'perch': 5743, 'cohen': 1369, 'steers': 7546, 'photo': 5812, 'msn': 5070, 'aladdin': 217, 'kaspersky': 4072, 'marshal': 4734, 'mcafee': 4781, 'panda': 5594, 'proofpoint': 6146, 'sophos': 7394, 'symantec': 7794, 'tumbleweed': 8262, 'websense': 8736, 'transfers': 8200, 'synosia': 7804, 'therapeutics': 8018, 'caverion': 1138, 'cabot': 1016, 'michelin': 4899, 'pirelli': 5844, 'paris': 5617, 'decisions': 1853, 'cayman': 1139, 'islands': 3891, 'dubbed': 2197, 'seek': 7042, 'gap': 3066, 'iisalmi': 3576, 'rally': 6299, 'consulate': 1573, 'spoke': 7457, 'eletric': 2329, 'ev': 2532, 'dongguan': 2135, 'nancheng': 5124, 'grows': 3239, 'frequencies': 2986, 'tendency': 7964, 'workshop': 8855, 'hollola': 3465, 'eriikka': 2473, 'derstr': 1943, 'agriculture': 183, 'helir': 3394, 'valdor': 8481, 'seeder': 7041, 'counterpart': 1682, 'sirkka': 7269, 'employ': 2360, 'featuring': 2721, 'gram': 3195, 'inch': 3635, 'vga': 8562, 'display': 2066, 'megabytes': 4826, 'memory': 4842, 'expandable': 2595, 'slot': 7322, 'gmo': 3157, 'technopark': 7913, 'mikkonen': 4916, 'dissolve': 2073, 'zealand': 8939, 'tailgates': 7823, 'zepro': 8940, 'tailgate': 7822, 'anne': 330, 'kariniemi': 4062, 'ahl': 186, 'spunlace': 7478, 'chirnside': 1261, 'successor': 7680, 'nembv': 5176, 'scf': 6970, 'kitron': 4159, 'pipe': 5836, 'irish': 3884, 'aln': 255, 'apiece': 366, 'ttm': 8252, 'vuosaari': 8661, 'harbour': 3322, 'designation': 1949, 'speculative': 7444, 'lakeville': 4268, 'unchanged': 8349, 'commence': 1406, 'delist': 1889, 'quatrocon': 6256, 'firms': 2831, 'wintek': 8813, 'individuals': 3676, 'gearing': 3091, 'geneva': 3106, 'tero': 7981, 'aaltonen': 3, 'innovational': 3729, 'kinds': 4149, 'beginner': 704, 'spectrum': 7443, 'gsk': 3244, 'dartford': 1816, 'accountant': 47, 'alberta': 222, 'joined': 3973, 'headline': 3359, 'dated': 1822, 'acacia': 28, 'settlement': 7124, 'rule': 6818, 'sted': 7542, 'licenses': 4409, 'newswire': 5216, 'exercise': 2586, 'nsn': 5307, 'netapp': 5185, 'strategically': 7597, 'repositioning': 6579, 'relaunch': 6500, 'hu': 3515, 'discount': 2054, 'igor': 3573, 'oleg': 5394, 'yankov': 8895, 'moron': 5033, 'vitim': 8617, 'converted': 1630, 'bitmapped': 797, 'evli': 2552, 'eua': 2519, 'allowance': 245, 'transported': 8206, 'whereas': 8771, 'asks': 466, 'certainly': 1185, 'confirming': 1530, 'cliffton': 1330, 'entreprenad': 2435, 'mids': 4908, 'browsing': 961, 'modification': 4991, 'effluent': 2285, 'follum': 2899, 'maritim': 4716, 'sandanger': 6900, 'manty': 4684, 'twh': 8296, 'discontinued': 2053, 'meantime': 4796, 'assumed': 494, 'seppo': 7100, 'rantakari': 6314, 'limestone': 4445, 'coke': 1371, 'breeze': 920, 'sintered': 7264, 'lump': 4580, 'blast': 805, 'furnaces': 3038, 'channel': 1215, 'indigo': 3671, 'somoncom': 7387, 'connects': 1541, 'contacts': 1583, 'task': 7883, 'lists': 4479, 'advisory': 145, 'isms': 3892, 'shoe': 7192, 'headcount': 3356, 'nielsen': 5226, 'harvesters': 3336, 'forwarders': 2947, 'loaders': 4500, 'janis': 3937, 'arbidans': 411, 'celtnieciba': 1160, 'jeder': 3955, 'beta': 744, 'tester': 7990, 'erh': 2470, 'kostenlos': 4197, 'sechs': 7025, 'monate': 5006, 'updates': 8410, 'und': 8353, 'hat': 3342, 'laut': 4314, 'eigener': 2298, 'aussage': 534, 'die': 1997, 'glichkeit': 3148, 'finale': 2786, 'zu': 8950, 'beeinflussen': 700, 'europolitan': 2530, 'sas': 6919, 'nyman': 5327, 'schultz': 6983, 'gambro': 3060, 'renal': 6527, 'consolidation': 1561, 'reisholz': 6485, 'hundred': 3525, 'belarus': 713, 'kirsi': 4153, 'koduextra': 4173, 'rukax': 6817, 'tukka': 8257, 'koff': 4174, 'karhu': 4059, 'reorganised': 6552, 'jams': 3934, 'realprojekti': 6362, 'roofing': 6765, 'asphalt': 472, 'ce': 1148, 'ivd': 3921, 'warranty': 8698, 'intertek': 3827, 'natlabs': 5139, 'loudeye': 4549, 'wwd': 8877, 'mix': 4963, 'decor': 1860, 'efo': 2289, 'opus': 5452, 'technoports': 7916, 'handli': 3296, 'sterv': 7555, 'ostroleka': 5498, 'mi': 4896, 'pharmacy': 5795, 'monopoly': 5014, 'apoteket': 368, 'luna': 4581, 'beatriz': 688, 'recari': 6376, 'martina': 4739, 'eberl': 2245, 'welsh': 8759, 'becky': 693, 'brewerton': 925, 'finisher': 2812, 'seventh': 7129, 'shooting': 7194, 'maggie': 4614, 'ramsey': 6302, 'oregon': 5464, 'guides': 3255, 'flock': 2872, 'frequent': 2988, 'seminars': 7076, 'snapshot': 7351, 'entreprenadmaskiner': 2436, 'cra': 1707, 'marathon': 4700, 'derived': 1939, 'secondary': 7027, 'turkcell': 8273, 'cukurova': 1756, 'mercator': 4847, 'logistic': 4521, 'slovenia': 7325, 'discontinue': 2052, 'spreader': 7475, 'finbow': 2799, 'churned': 1280, 'courtship': 1695, 'agreeing': 177, 'mapping': 4695, 'mets': 4882, 'liitto': 4441, 'conciliator': 1509, 'salonius': 6885, 'views': 8579, 'nd': 5152, 'neither': 5173, 'genetically': 3105, 'engineered': 2399, 'korteniemi': 4193, 'anneli': 331, 'helokunnas': 3397, 'tuija': 8256, 'peltola': 5723, 'marjo': 4718, 'keskinen': 4117, 'salminen': 6880, 'tusa': 8285, 'kia': 4132, 'janhonen': 3936, 'risto': 6726, 'supposed': 7742, 'launches': 4312, 'niina': 5230, 'nenonen': 5178, 'treasury': 8212, 'revealed': 6684, 'pankki': 5600, 'dalborg': 1804, 'inaugurates': 3627, 'inaugurating': 3628, 'parnu': 5624, 'nwc': 5325, 'contacted': 1582, 'okhta': 5385, 'revised': 6689, 'montevideo': 5019, 'granting': 3200, 'reactors': 6347, 'fennovoima': 2745, 'tvo': 8290, 'ipad': 3874, 'cv': 1787, 'attach': 507, 'preferred': 6020, 'learn': 4341, 'originally': 5480, 'pcmag': 5697, 'blog': 813, 'rhine': 6699, 'westphalia': 8767, 'ahola': 190, 'pa': 5558, 'chase': 1231, 'pohjoa': 5913, 'managers': 4665, 'philips': 5802, 'divide': 2096, 'plccompany': 5888, 'pursuant': 6222, 'presentation': 6037, 'seahawkdrilling': 7011, 'tab': 7811, 'leads': 4335, 'bnpp': 826, 'cba': 1140, 'kotikokki': 4200, 'euronext': 2527, 'safran': 6861, 'sna': 7347, 'adjustable': 114, 'multichannel': 5080, 'ranges': 6306, 'proteins': 6172, 'cells': 1157, 'mp': 5066, 'snapper': 7350, 'nothing': 5294, 'else': 2343, 'resposnible': 6642, 'marek': 4703, 'hintze': 3435, 'identical': 3559, 'hikauppa': 3431, 'lidl': 4412, 'jalo': 3932, 'dormus': 2142, 'rl': 6731, 'rockwell': 6751, 'collins': 1385, 'cabin': 1011, 'francisco': 2971, 'show': 7206, 'las': 4292, 'vegas': 8527, 'thin': 8032, 'schwalm': 6985, 'sdm': 7007, 'generator': 3102, 'hoists': 3456, 'seventy': 7130, 'archestra': 414, 'projektivuokraus': 6133, 'vtm': 8657, 'rakennuskonevuokraamo': 6297, 'personally': 5765, 'sonoco': 7389, 'demolli': 1903, 'industria': 3680, 'cartaria': 1107, 'tass': 7885, 'tire': 8091, 'kim': 4144, 'stichting': 7558, 'pensioenfonds': 5729, 'labor': 4251, 'papermaker': 5607, 'nation': 5134, 'pictures': 5819, 'shore': 7200, 'locomotive': 4515, 'talv': 7846, 'bioheapleaching': 783, 'oriented': 5477, 'op': 5418, 'opk': 5436, 'emt': 2375, 'nepal': 5180, 'population': 5947, 'affecting': 153, 'teollisuuden': 7970, 'shortlisted': 7203, 'apwr': 406, 'areva': 423, 'toshiba': 8141, 'ge': 3089, 'hitachi': 3443, 'trace': 8166, 'origin': 5478, 'metre': 4876, 'megawatt': 4830, 'raahe': 6270, 'avc': 566, 'systemhaus': 7809, 'cableway': 1015, 'tour': 8154, 'auditor': 528, 'game': 3061, 'ivan': 3919, 'seidenberg': 7054, 'tokyo': 8110, 'ufj': 8322, 'acted': 72, 'agent': 167, 'vtb': 8656, 'mortgage': 5036, 'rubles': 6812, 'sellers': 7070, 'tomatoes': 8116, 'carrots': 1103, 'eggs': 2292, 'respecta': 6630, 'samuel': 6894, 'koivisto': 4177, 'realize': 6359, 'investlesprom': 3857, 'dairy': 1803, 'edible': 2265, 'fats': 2706, 'meal': 4790, 'cream': 1715, 'multinational': 5085, 'casing': 1113, 'pivotable': 5852, 'rotation': 6782, 'axis': 586, 'benches': 723, 'litter': 4487, 'receptacles': 6385, 'toilets': 8108, 'shelters': 7172, 'distributes': 2083, 'plots': 5894, 'possession': 5968, 'tyumen': 8313, 'chelyabinsk': 1241, 'khanty': 4129, 'mansi': 4680, 'autonomous': 559, 'reiterates': 6487, 'longer': 4529, 'architecture': 417, 'petrochemical': 5783, 'catering': 1131, 'tomsk': 8120, 'shut': 7213, 'label': 4249, 'eurobond': 2525, 'compnay': 1479, 'multistorey': 5091, 'carpark': 1096, 'peeling': 5711, 'drying': 2191, 'grading': 3192, 'pellet': 5718, 'allotted': 243, 'criteria': 1729, 'licences': 4407, 'incorporates': 3647, 'sms': 7345, 'mms': 4971, 'wap': 8688, 'muling': 5078, 'kemian': 4105, 'viewing': 8577, 'planmill': 5861, 'saarijarvi': 6847, 'employers': 2365, 'millilitre': 4927, 'bag': 604, 'screw': 7004, 'engine': 2397, 'parliament': 5623, 'amendments': 290, 'excise': 2572, 'liter': 4481, 'dates': 1823, 'publishing': 6205, 'lgu': 4400, 'interavanti': 3798, 'ticket': 8058, 'lippupiste': 4467, 'cts': 1752, 'eventim': 2540, 'copying': 1651, 'sokopro': 7369, 'courier': 1691, 'avenue': 568, 'manhattan': 4675, 'flatiron': 2857, 'toy': 8164, 'comtex': 1498, 'weighs': 8747, 'kilograms': 4140, 'centimeters': 1168, 'lmt': 4495, 'initiate': 3714, 'language': 4278, 'hosting': 3495, 'participating': 5633, 'optionally': 5450, 'assist': 485, 'girders': 3135, 'ylivieska': 8919, 'insolvency': 3743, 'regulates': 6473, 'borrowers': 874, 'permitted': 5758, 'write': 8869, 'overlaid': 5533, 'dinh': 2021, 'volkswagen': 8633, 'audi': 523, 'stt': 7634, 'completely': 1471, 'grade': 3190, 'iterating': 3912, 'axes': 585, 'simulating': 7252, 'obligated': 5336, 'trades': 8179, 'isk': 3890, 'cbd': 1141, 'bangkok': 631, 'challengers': 1201, 'logset': 4526, 'negotiation': 5168, 'meant': 4795, 'kroksberg': 4215, 'harnosand': 3329, 'veda': 8525, 'gulf': 3257, 'bothnia': 880, 'wellmont': 8757, 'och': 5352, 'inrikes': 3739, 'tidningar': 8059, 'clerical': 1322, 'chart': 1226, 'ports': 5955, 'parquet': 5625, 'layer': 4319, 'plyfa': 5901, 'hassela': 3338, 'backlog': 598, 'renewing': 6536, 'consist': 1553, 'weatherdeck': 8731, 'capacities': 1066, 'ranging': 6307, 'pntz': 5907, 'pervorouralsky': 5772, 'gama': 3058, 'endustri': 2390, 'tesisleri': 7986, 'imalat': 3591, 'montaj': 5018, 'sitra': 7274, 'oras': 5455, 'shareholdings': 7153, 'depots': 1932, 'avena': 567, 'magnet': 4616, 'generators': 3103, 'converters': 1632, 'turbine': 8270, 'anjalankoski': 329, 'jarvenpaa': 3947, 'karhula': 4060, 'bioethanol': 779, 'platen': 5874, 'edges': 2263, 'protrusion': 6176, 'exert': 2588, 'pressure': 6046, 'scott': 6997, 'tallon': 7842, 'walker': 8676, 'inverters': 3848, 'incorporating': 3648, 'separation': 7096, 'filtration': 2782, 'battery': 673, 'implies': 3608, 'parking': 5621, 'niam': 5222, 'whitehall': 8778, 'repo': 6571, 'asahi': 455, 'kasei': 4070, 'buckeye': 968, 'ei': 2296, 'emailed': 2346, 'rme': 6733, 'telcontar': 7934, 'calculate': 1025, 'navigability': 5146, 'modal': 4979, 'routing': 6792, 'potato': 5980, 'finishing': 2813, 'radar': 6276, 'calibrate': 1030, 'segu': 7052, 'servicing': 7114, 'suutari': 7767, 'eoss': 2446, 'innovationsmanagement': 3731, 'founders': 2955, 'serial': 7105, 'constitutes': 1567, 'cider': 1282, 'bottle': 882, 'relating': 6493, 'proof': 6145, 'pharmacodynamic': 5792, 'humans': 3523, 'corroborate': 1668, 'dose': 2143, 'studies': 7637, 'programming': 6121, 'etc': 2509, 'ucell': 8318, 'ingredients': 3709, 'cycle': 1795, 'constructed': 1569, 'train': 8188, 'vostochny': 8645, 'pohjantahti': 5912, 'turbines': 8271, 'validation': 8485, 'verifying': 8552, 'bases': 662, 'administrators': 122, 'fulfil': 3016, 'lightsquared': 4433, 'fincantieri': 2800, 'principally': 6067, 'egypt': 2294, 'attend': 513, 'glassworldex': 3146, 'substitutes': 7670, 'seem': 7045, 'pekkarinen': 5716, 'stuttgart': 7641, 'evening': 2538, 'departures': 1920, 'thursdays': 8054, 'fridays': 2991, 'sundays': 7707, 'iii': 3575, 'abbott': 9, 'ebrd': 2250, 'sections': 7031, 'motors': 5052, 'sunk': 7708, 'mud': 5076, 'vacuum': 8477, 'pensionable': 5731, 'corrensponds': 1663, 'domestically': 2128, 'neighboring': 5171, 'organically': 5467, 'veliky': 8539, 'ustjug': 8447, 'oblast': 5335, 'tex': 7998, 'tn': 8104, 'telia': 7951, 'turntable': 8282, 'vibrocompactors': 8567, 'gansu': 3064, 'hualu': 3516, 'costumer': 1677, 'twice': 8297, 'kiikoinen': 4138, 'uzbek': 8465, 'coscom': 1671, 'interfax': 3811, 'uncertainties': 8347, 'exist': 2590, 'cses': 1749, 'ppmi': 5998, 'unilever': 8376, 'sinappi': 7254, 'myllykoski': 5107, 'creditor': 1724, 'cph': 1704, 'establishment': 2500, 'chambersburg': 1206, 'detector': 1967, 'precipitation': 6010, 'intensity': 3789, 'distinctly': 2078, 'think': 8035, 'bedroom': 698, 'cool': 1638, 'makeover': 4641, 'virala': 8594, 'modes': 4990, 'tournaments': 8157, 'split': 7456, 'multiplayer': 5086, 'twelve': 8294, 'box': 892, 'deadline': 1835, 'oversee': 5537, 'votorantim': 8650, 'celulose': 1162, 'papel': 5603, 'vcp': 8523, 'conglomerate': 1531, 'yaroslavl': 8899, 'kausta': 4089, 'highrises': 3428, 'virsuliskes': 8600, 'bavaria': 674, 'industriekapital': 3685, 'offenburg': 5363, 'christine': 1273, 'idzelis': 3566, 'sheds': 7165, 'cumulative': 1762, 'compagnie': 1437, 'financement': 2791, 'foncier': 2900, 'vap': 8504, 'climate': 1331, 'synonymous': 7803, 'fray': 2975, 'bentos': 733, 'forestal': 2916, 'oriental': 5476, 'developments': 1981, 'lcc': 4325, 'finns': 2823, 'digicel': 2010, 'tents': 7969, 'haiti': 3272, 'maarten': 4597, 'boute': 888, 'findings': 2804, 'karvinen': 4068, 'stavebni': 7534, 'doprava': 2140, 'mechanizace': 4811, 'leakage': 4337, 'gypsum': 3263, 'pond': 5936, 'detected': 1965, 'dig': 2008, 'tenants': 7963, 'packets': 5567, 'determine': 1968, 'fashion': 2700, 'involving': 3872, 'polled': 5929, 'rated': 6323, 'accumulate': 51, 'laitinen': 4266, 'triple': 8233, 'rn': 6736, 'founder': 2954, 'refurbish': 6451, 'kersberga': 4114, 'forma': 2924, 'pirila': 5845, 'parvi': 5650, 'dinosaurs': 2025, 'thomas': 8042, 'hoyer': 3508, 'patrik': 5671, 'flykt': 2887, 'alakoski': 219, 'tapio': 7870, 'suihko': 7689, 'nadarajah': 5113, 'asokan': 470, 'elimaki': 2337, 'apparatus': 370, 'kontturi': 4186, 'rajamaki': 6296, 'ylinen': 8917, 'hyvinkaa': 3544, 'depends': 1923, 'unquoted': 8399, 'android': 325, 'app': 369, 'surveyed': 7759, 'ro': 6738, 'scrapped': 7001, 'consequence': 1545, 'sourced': 7401, 'peat': 5706, 'galerie': 3054, 'totaling': 8145, 'persistently': 5761, 'bm': 823, 'boomerang': 859, 'typically': 8307, 'hallberg': 3275, 'ivarsson': 3920, 'workflows': 8849, 'commenting': 1410, 'shane': 7145, 'lennon': 4385, 'karkkila': 4063, 'weert': 8745, 'barum': 654, 'matador': 4751, 'curators': 1764, 'themes': 8015, 'attributed': 517, 'empty': 2372, 'handlers': 3294, 'alfred': 233, 'palmberg': 5589, 'touches': 8151, 'bathroom': 671, 'pushers': 6229, 'barges': 647, 'restaurants': 6649, 'wholesalers': 8782, 'reader': 6349, 'mce': 4785, 'plains': 5859, 'andlinger': 321, 'katajavuori': 4073, 'sabbatical': 6852, 'enp': 2410, 'eq': 2452, 'plastics': 5872, 'suy': 7769, 'fallen': 2685, 'lightweight': 4434, 'fl': 2851, 'icelandair': 3549, 'bluebird': 818, 'demerger': 1901, 'niemi': 5227, 'responsibilities': 6637, 'knives': 4166, 'compasses': 1449, 'lighting': 4430, 'pedometers': 5710, 'restructured': 6655, 'emphasis': 2357, 'slid': 7313, 'invenergy': 3841, 'gs': 3243, 'gasco': 3075, 'ruwais': 6838, 'guangdong': 3247, 'sinocast': 7262, 'qingyuan': 6240, 'polytechnic': 5933, 'province': 6188, 'joins': 3974, 'winds': 8807, 'toppled': 8135, 'semi': 7073, 'trailers': 8187, 'barstow': 653, 'lats': 4302, 'kazakh': 4090, 'telecominvest': 7937, 'payphones': 5690, 'servis': 7116, 'verification': 8551, 'signatures': 7225, 'cast': 1115, 'elections': 2314, 'strawberry': 7599, 'rhubarb': 6700, 'pear': 5704, 'ornav': 5486, 'quadriga': 6243, 'pump': 6211, 'nikkiso': 5233, 'maruti': 4743, 'searched': 7016, 'yekaterinburg': 8904, 'flying': 2886, 'profiling': 6115, 'ostrava': 5496, 'relocated': 6510, 'sacanfil': 6855, 'inha': 3710, 'lcd': 4326, 'guder': 3250, 'requisition': 6600, 'equaling': 2455, 'sodium': 7362, 'nitrite': 5239, 'karachi': 4053, 'xx': 8890, 'centralized': 1171, 'dissolved': 2074, 'salvor': 6889, 'laavainen': 4248, 'benecol': 726, 'latvenergo': 4306, 'xpower': 8887, 'lcs': 4327, 'hectare': 3380, 'lieksaare': 4415, 'regarded': 6458, 'pipette': 5840, 'calibration': 1031, 'reference': 6435, 'radiosonde': 6279, 'observations': 5339, 'sparebank': 7419, 'sbgrp': 6953, 'jarle': 3944, 'haug': 3344, 'finans': 2798, 'zanadvorov': 8935, 'moreover': 5028, 'kito': 4158, 'intend': 3785, 'hoist': 3455, 'mhs': 4894, 'virent': 8595, 'person': 5762, 'catalytic': 1125, 'biofuels': 781, 'financings': 2797, 'atlas': 503, 'jortikka': 3983, 'vasantha': 8516, 'eaton': 2243, 'koistinen': 4176, 'mcdonald': 4784, 'hits': 3444, 'solo': 7378, 'doobie': 2136, 'brothers': 957, 'songs': 7388, 'powerplant': 5994, 'hallein': 3276, 'gohrsm': 3164, 'hle': 3451, 'outplacement': 5521, 'myspace': 5111, 'submissions': 7653, 'emmy': 2356, 'identify': 3562, 'aspiring': 473, 'artists': 449, 'coordinate': 1646, 'viro': 8598, 'independently': 3660, 'novotel': 5305, 'gloriya': 3154, 'tier': 8063, 'mind': 4933, 'alumina': 277, 'ova': 5529, 'imsm': 3624, 'graafiset': 3188, 'palvelut': 5590, 'biscuit': 794, 'cartons': 1109, 'lighter': 4429, 'fallers': 2687, 'processguide': 6094, 'standalone': 7508, 'quartal': 6250, 'renesas': 6530, 'heading': 3358, 'altadis': 263, 'rim': 6714, 'revamped': 6683, 'blackberry': 802, 'os': 5487, 'ui': 8325, 'rimi': 6715, 'magistral': 4615, 'rimvesta': 6716, 'ell': 2340, 'nekilnojamas': 5174, 'turtas': 8283, 'merko': 4860, 'raty': 6330, 'archicad': 415, 'rohwedder': 6755, 'rosa': 6772, 'duckburg': 2199, 'illustrators': 3585, 'rubin': 6811, 'controlling': 1618, 'sixth': 7279, 'opna': 5437, 'pollex': 5930, 'trygvesta': 8248, 'gdf': 3087, 'suez': 7683, 'varesvuo': 8505, 'legislative': 4362, 'lappeenranta': 4285, 'aside': 462, 'happens': 3318, 'megamart': 4828, 'eataly': 2241, 'meaning': 4793, 'kids': 4137, 'signature': 7224, 'authentication': 541, 'mobileid': 4977, 'ssl': 7487, 'vpn': 8652, 'sharepoint': 7154, 'americas': 294, 'gemalto': 3094, 'dash': 1818, 'jets': 3961, 'shelved': 7173, 'liising': 4440, 'sari': 6917, 'baldauf': 617, 'hintikka': 3434, 'appoint': 388, 'highway': 3429, 'headed': 3357, 'lynn': 4596, 'shanahan': 7144, 'organised': 5470, 'daxtum': 1825, 'kapuli': 4052, 'mantsala': 4682, 'beside': 740, 'hanko': 3305, 'readership': 6351, 'evidence': 2548, 'cartel': 1108, 'brussels': 964, 'discussed': 2058, 'divest': 2091, 'cultivation': 1758, 'counts': 1688, 'insurers': 3772, 'ver': 8548, 'sculptural': 7005, 'rabochy': 6273, 'kolkhoznitsa': 4179, 'worker': 8846, 'collective': 1383, 'farmer': 2698, 'melting': 4837, 'ammonia': 298, 'billingham': 770, 'ince': 3632, 'mortgages': 5037, 'speciality': 7433, 'dozen': 2161, 'florida': 2879, 'rock': 6749, 'tank': 7858, 'hauling': 3346, 'motor': 5048, 'commodities': 1428, 'cps': 1706, 'hard': 3323, 'spraying': 7473, 'ascs': 456, 'osuuskauppa': 5500, 'suur': 7766, 'savo': 6941, 'etera': 2510, 'tenant': 7962, 'forwarded': 2946, 'unknown': 8390, 'logged': 4518, 'merchandise': 4848, 'underutilisation': 8364, 'agrees': 180, 'compiling': 1465, 'diameter': 1993, 'ietf': 3567, 'rfc': 6696, 'ea': 2221, 'reng': 6537, 'lumberman': 4578, 'timber': 8079, 'exporters': 2633, 'neya': 5220, 'requirement': 6597, 'rf': 6695, 'displays': 2067, 'robot': 6746, 'argentina': 424, 'adoption': 128, 'ethernet': 2512, 'adopters': 126, 'backhaul': 597, 'bullet': 982, 'lettable': 4390, 'ratasmaki': 6321, 'auction': 522, 'bloc': 810, 'cpps': 1705, 'undertaken': 8361, 'eou': 2447, 'khopoli': 4130, 'pietarsaari': 5823, 'heineken': 3388, 'hartwall': 3334, 'associate': 488, 'entitle': 2429, 'execution': 2580, 'journalism': 3986, 'caused': 1135, 'premedia': 6023, 'vashi': 8517, 'insteel': 3760, 'iivrcl': 3578, 'infrastructures': 3701, 'cidco': 1281, 'partial': 5627, 'ovako': 5530, 'philadelphia': 5800, 'feeders': 2730, 'wenchong': 8760, 'seismic': 7058, 'compressors': 1489, 'monospace': 5015, 'percentages': 5742, 'perlos': 5753, 'leasable': 4345, 'vacancy': 8472, 'let': 4389, 'krogerus': 4214, 'unrivalled': 8401, 'interdigital': 3804, 'conceptual': 1504, 'reftele': 6449, 'maskinservice': 4746, 'spare': 7418, 'seafoods': 7010, 'bio': 775, 'demonstrated': 1904, 'aava': 5, 'messages': 4864, 'tag': 7818, 'eighteen': 2300, 'furusund': 3041, 'charters': 1229, 'telling': 7955, 'convenience': 1620, 'usually': 8449, 'marela': 4704, 'invitations': 3864, 'comparisons': 1448, 'inspections': 3746, 'vishakapatnam': 8606, 'vizag': 8619, 'kick': 4133, 'amsterdam': 309, 'pavements': 5680, 'drainage': 2166, 'antonio': 356, 'relinquishing': 6508, 'cis': 1293, 'lacquered': 4256, 'clock': 1336, 'stripy': 7622, 'crocheted': 1733, 'kolorit': 4181, 'velta': 8540, 'olkiluoto': 5396, 'repeating': 6564, 'forthcoming': 2938, 'keiju': 4101, 'makuisa': 4647, 'pyszny': 6235, 'duet': 2201, 'basement': 661, 'straddle': 7590, 'unlisted': 8394, 'biologicals': 786, 'disease': 2061, 'supplements': 7731, 'diabetes': 1986, 'hepatitis': 3409, 'asthma': 500, 'cardiovascular': 1085, 'ailments': 194, 'consolidations': 1562, 'teva': 7997, 'lightning': 4431, 'tomas': 8115, 'exempting': 2585, 'anti': 351, 'dumping': 2204, 'pacts': 5569, 'modem': 4984, 'hear': 3368, 'insights': 3742, 'visa': 8604, 'southeast': 7406, 'jung': 4011, 'fh': 2755, 'retain': 6668, 'roi': 6756, 'journeys': 3989, 'warning': 8694, 'lye': 4594, 'leak': 4336, 'occurred': 5350, 'acando': 30, 'acanb': 29, 'ss': 7485, 'kronor': 4218, 'perkonoja': 5752, 'tekmanni': 7928, 'forssan': 2937, 'betoni': 746, 'suonenjoen': 7717, 'betonituote': 747, 'disappear': 2041, 'expense': 2607, 'crafts': 1709, 'flew': 2860, 'struggled': 7632, 'malting': 4656, 'fueled': 3011, 'industrialization': 3683, 'nations': 5137, 'rivals': 6728, 'qualcomm': 6245, 'fewer': 2753, 'patents': 5661, 'landsbanken': 4275, 'cerberus': 1181, 'lp': 4562, 'casting': 1118, 'equivalents': 2461, 'poorest': 5942, 'tightened': 8068, 'lows': 4559, 'dampened': 1810, 'slight': 7315, 'rigid': 6710, 'huhtam': 3519, 'moisio': 4997, 'wording': 8841, 'purchasing': 6216, 'rationalize': 6329, 'biofuel': 780, 'fired': 2826, 'chp': 1271, 'vartan': 8513, 'lundbeck': 4583, 'kicking': 4134, 'dismissed': 2065, 'instance': 3758, 'fasten': 2702, 'trim': 8231, 'republication': 6589, 'redistribution': 6423, 'framing': 2966, 'expressly': 2640, 'prohibited': 6127, 'written': 8872, 'consent': 1544, 'sub': 7646, 'filmiteollisuus': 2778, 'extracted': 2654, 'filtrates': 2781, 'dried': 2173, 'cakes': 1020, 'moisture': 4998, 'limits': 4449, 'tmls': 8103, 'ojala': 5383, 'snag': 7349, 'rejected': 6488, 'incorporate': 3646, 'denies': 1911, 'reproduction': 6587, 'withdrawn': 8827, 'petition': 5780, 'suspend': 7762, 'redundancy': 6431, 'termination': 7977, 'seppanen': 7099, 'slogan': 7321, 'misleading': 4956, 'concern': 1505, 'premature': 6022, 'clausen': 1316, 'refused': 6454, 'consider': 1547, 'capcom': 1069, 'resident': 6611, 'evil': 2551, 'degeneration': 1878, 'gage': 3049, 'disagree': 2039, 'pehu': 5713, 'lehtonen': 4366, 'tornio': 8138, 'suspected': 7761, 'rendered': 6529, 'filling': 2776, 'boring': 870, 'worrying': 8863, 'night': 5228, 'finding': 2803, 'rinne': 6719, 'adapt': 95, 'lived': 4490, 'monster': 5017, 'discussion': 2059, 'bodily': 838, 'injury': 3720, 'cases': 1111, 'quadrupled': 6244, 'closure': 1342, 'revise': 6688, 'procedures': 6087, 'digitally': 2013, 'mistake': 4959, 'scheme': 6975, 'absentee': 22, 'gratuitous': 3207, 'wife': 8791, 'paycheck': 5684, 'quipped': 6261, 'knot': 4167, 'swirled': 7786, 'anchored': 317, 'heavily': 3378, 'sponsored': 7463, 'sled': 7311, 'recalling': 6374, 'tourists': 8155, 'tweeple': 8292, 'cautious': 1137, 'clicking': 1325, 'urls': 8431, 'tinyurls': 8088, 'expensive': 2609, 'twist': 8299, 'worm': 8859, 'corrupt': 1669, 'traces': 8169, 'toxic': 8163, 'osmium': 5493, 'tetroxide': 7994, 'meri': 4858, 'northernmost': 5283, 'crews': 1726, 'stricter': 7617, 'sel': 7061, 'hasten': 3341, 'bargaining': 646, 'strike': 7620, 'pine': 5832, 'karelia': 4057, 'trying': 8249, 'fantuzzi': 2695, 'yhtym': 8910, 'reactive': 6346, 'inconsistent': 3645, 'prosecutor': 6161, 'advised': 143, 'rabbits': 6271, 'bow': 890, 'tie': 8060, 'formadehyde': 2925, 'dispose': 2070, 'alpina': 258, 'lebanon': 4355, 'shoes': 7193, 'skis': 7298, 'waxes': 8719, 'satin': 6925, 'shift': 7176, 'styled': 7644, 'outfits': 5514, 'worn': 8860, 'beckham': 692, 'prom': 6137, 'ncc': 5151, 'implements': 3607, 'krona': 4216, 'flavoured': 2858, 'antniemi': 355, 'refuted': 6455, 'reorganizing': 6554, 'orkola': 5484, 'depressed': 1933, 'laborious': 4254, 'stressful': 7615, 'arcelormittal': 412, 'lakshmi': 4269, 'mittal': 4962, 'redundant': 6432, 'provisional': 6191, 'slaughtering': 7309, 'curbed': 1765, 'racked': 6275, 'sidewalks': 7217, 'bovine': 889, 'kuopio': 4226, 'reshuffled': 6609, 'loses': 4540, 'equivalent': 2460, 'bergqvist': 734, 'resigned': 6617, 'chairmanship': 1199, 'intention': 3792, 'retire': 6671, 'brista': 940, 'realtime': 6363, 'delayed': 1883, 'strictly': 7619, 'regulated': 6472, 'losing': 4541, 'families': 2691, 'save': 6937, 'resignation': 6616, 'varpaisj': 8512, 'stopped': 7574, 'dismissal': 2064, 'paradoxical': 5611, 'parallel': 5612, 'compulsory': 1495, 'oversupply': 5539, 'pharmacies': 5791, 'disappointment': 2044, 'folded': 2893, 'awkward': 582, 'police': 5924, 'terrorized': 7985, 'males': 4650, 'gunpoint': 3259, 'maple': 4694, 'kidnapping': 4136, 'renounce': 6539, 'korhonen': 4191, 'lapin': 4284, 'kansa': 4047, 'slashed': 7307, 'wat': 8707, 'furlough': 3036, 'reka': 6489, 'cables': 1013, 'kohtam': 4175, 'powerless': 5993, 'stadigh': 7495, 'arteva': 444, 'refineries': 6440, 'crude': 1741, 'barrels': 652, 'chaim': 1195, 'katzman': 4074, 'questions': 6257, 'mar': 4697, 'requesting': 6594, 'monetary': 5008, 'damages': 1808, 'organisational': 5468, 'frenzy': 2985, 'block': 811, 'hervy': 3412, 'denied': 1910, 'inspected': 3744, 'damage': 1806, 'permission': 5756, 'sten': 7549, 'manned': 4678, 'filipino': 2774, 'crew': 1725, 'execute': 2577, 'shock': 7191, 'outright': 5523, 'liquor': 4474, 'watching': 8709, 'retiring': 6674, 'swot': 7792, 'categorization': 1129, 'appointments': 391, 'authorisation': 542, 'repeals': 6561, 'premiums': 6027, 'benelux': 732, 'chilled': 1254, 'essent': 2494, 'owning': 5548, 'enexis': 2394, 'alloys': 250, 'ferro': 2748, 'manganese': 4674, 'reportedly': 6575, 'searching': 7017, 'threat': 8048, 'edging': 2264, 'seinajoki': 7057, 'welding': 8752, 'inculding': 3654, 'shadow': 7140, 'lip': 4466, 'gloss': 3155, 'mascara': 4745, 'shivakumar': 7190, 'concerned': 1506, 'originated': 5481, 'envisages': 2445, 'gatehouse': 3078, 'incident': 3636, 'layoff': 4322, 'cease': 1149, 'shipbuilding': 7182, 'singulase': 7261, 'winded': 8803, 'roving': 6793, 'ehitus': 2295, 'sauk': 6932, 'spruce': 7477, 'bark': 648, 'chipped': 1258, 'milled': 4925, 'liquidated': 4470, 'loose': 4536, 'coal': 1353, 'hanoi': 3310, 'kemij': 4106, 'redesigned': 6420, 'crushing': 1745, 'practically': 5999, 'except': 2566, 'expire': 2617, 'hedging': 3382, 'upset': 8423, 'bad': 601, 'barbeque': 640, 'postponement': 5978, 'jeopardising': 3958, 'cruising': 1743, 'revs': 6691, 'clicks': 1326, 'contained': 1585, 'finds': 2805, 'bogus': 841, 'imitates': 3594, 'retrieves': 6675, 'canceled': 1053, 'dino': 2024, 'retired': 6672, 'slavery': 7310, 'perspective': 5768, 'deramus': 1936, 'writer': 8870, 'detroit': 1971, 'responded': 6634, 'posed': 5960, 'usage': 8436, 'renewables': 6533, 'collisions': 1386, 'tapings': 7869, 'jimmy': 3964, 'kimmel': 4145, 'thieves': 8031, 'stealing': 7541, 'smith': 7339, 'expires': 2619, 'maras': 4699, 'lehtiyhtyma': 4365, 'expired': 2618, 'phillip': 5803, 'frost': 3002, 'tase': 7882, 'mara': 4698, 'chuck': 1279, 'spending': 7450, 'herttaassa': 3411, 'flagging': 2853, 'ogden': 5379, 'hands': 3299, 'oao': 5330, 'grodno': 3227, 'decaliters': 1848, 'boat': 832, 'inflatable': 3691, 'rib': 6701, 'hiring': 3438, 'differs': 2005, 'roads': 6741, 'bridges': 930, 'surcharges': 7743, 'differ': 2001, 'iceland': 3548, 'troubled': 8238, 'blocking': 812, 'driver': 2180, 'accident': 38, 'markku': 4731, 'hangasjarvi': 3303, 'eriksson': 2475, 'cold': 1374, 'suspect': 7760, 'stole': 7567, 'burgundy': 988, 'ntsb': 5312, 'subsequent': 7662, 'intermittently': 3816, 'failed': 2680, 'annulled': 340, 'difficult': 2006, 'fragmented': 2963, 'suomussalmi': 7716, 'kuhmo': 4222, 'codetermination': 1366, 'unveiled': 8405, 'resurrect': 6662, 'ailing': 193, 'mursula': 5098, 'gather': 3080, 'macro': 4607, 'niklas': 5234, 'shedding': 7164, 'mainstream': 4631, 'lisle': 4475, 'ill': 3582, 'complexity': 1476, 'routine': 6791, 'difference': 2002, 'yen': 8906, 'dual': 2195, 'capita': 1070, 'quitting': 6264, 'pays': 5692, 'nicotine': 5225, 'designated': 1948, 'bollore': 845, 'societe': 7360, 'exploitation': 2622, 'du': 2194, 'vridi': 8654, 'setv': 7125, 'abidjan': 11, 'ivory': 3922, 'evidentiary': 2550, 'investigation': 3853, 'woro': 8861, 'kommerts': 4182, 'vastse': 8519, 'kuuste': 4231, 'investinestonia': 3855, 'yliopistonrinne': 8918, 'sight': 7220, 'trains': 8193, 'kymi': 4238, 'marinated': 4714, 'olives': 5395, 'pates': 5662, 'redundancies': 6430, 'restrictions': 6654, 'unbelievably': 8343, 'thorwoste': 8044, 'charter': 1227, 'furnace': 3037, 'forging': 2921, 'projections': 6131, 'costly': 1675, 'thinly': 8036, 'balloons': 621, 'alter': 266, 'traveling': 8210, 'depart': 1918, 'yakima': 8893, 'downturns': 2160, 'zip': 8944, 'warned': 8692, 'guess': 3251, 'pushed': 6228, 'maybe': 4777, 'crazy': 1714, 'feel': 2733, 'leaked': 4338, 'border': 868, 'guard': 3248, 'banned': 637, 'mooring': 5025, 'railroad': 6287, 'checkpoint': 1238, 'lassila': 4295, 'tikanoja': 8073, 'lat': 4297, 'petrol': 5784, 'wiio': 8793, 'dolce': 2123, 'gabbana': 3048, 'declare': 1856, 'unikko': 8375, 'floral': 2878, 'pattern': 5674, 'invalid': 3840, 'downgraded': 2154, 'underperf': 8356, 'stoppage': 7573, 'hack': 3268, 'nefarious': 5163, 'tweets': 8293, 'activated': 77, 'clicked': 1324, 'surfers': 7749, 'cursors': 1772, 'triggered': 8229, 'uncertain': 8346, 'fined': 2807, 'trouble': 8237, 'archipelago': 416, 'threatening': 8049, 'hbos': 3349, 'plummeted': 5897, 'pence': 5725, 'divisional': 2101, 'emsa': 2374, 'juri': 4012, 'heard': 3369, 'repairs': 6557, 'courthouse': 1694, 'saltonstall': 6888, 'imputed': 3623, 'burdened': 987, 'stemming': 7548, 'thicker': 8030, 'aaland': 0, 'eaten': 2242, 'sizable': 7280, 'backdrop': 595, 'meltdown': 4836, 'worse': 8864, 'landed': 4274, 'damaged': 1807, 'criticising': 1732, 'cry': 1746, 'babies': 591, 'tariff': 7879, 'hikes': 3432, 'hardest': 3324, 'break': 914, 'ignored': 3572, 'warnings': 8695, 'icy': 3553, 'deemed': 1867, 'troubles': 8239, 'simply': 7251, 'neteller': 5188, 'grievance': 3221, 'overtime': 5540, 'weaker': 8727, 'impacts': 3601, 'meiklejohn': 4832, 'normalized': 5272, 'devalue': 1974, 'tight': 8067, 'taloustutkimus': 7845, 'badly': 602, 'maaseudun': 4598, 'tulevaisuus': 8258, 'kiosk': 4150, 'suffered': 7684, 'roce': 6748, 'settled': 7123, 'thyssenkrupp': 8056, 'otis': 5506, 'schindler': 6976, 'alleged': 238, 'dark': 1814, 'horizon': 3487, 'bottled': 883, 'conservative': 1546, 'raab': 6269, 'karhinen': 4058, 'indicators': 3670, 'ranking': 6311, 'pure': 6217, 'bo': 828, 'annvik': 342, 'morna': 5030, 'cowie': 1703, 'lovely': 4552, 'coupled': 1690, 'consistent': 1555, 'oasis': 5331, 'seas': 7018, 'allure': 251, 'excellently': 2565, 'qualities': 6247, 'stability': 7492, 'braking': 900, 'praised': 6004, 'finnishness': 2821, 'ideally': 3557, 'tells': 7956, 'hanninen': 3308, 'slitting': 7319, 'interactions': 3796, 'intuitive': 3839, 'movies': 5064, 'realistic': 6358, 'graphics': 3204, 'undertaking': 8362, 'lookout': 4533, 'restoration': 6651, 'recommend': 6395, 'saysjouni': 6952, 'haikarainen': 3271, 'emission': 2354, 'delight': 1887, 'microwaveable': 4904, 'clothes': 1343, 'comfortable': 1402, 'skin': 7297, 'breathe': 918, 'durability': 2205, 'recruits': 6410, 'trainee': 8190, 'qualified': 6246, 'acceptance': 33, 'tamfelt': 7851, 'tafks': 7817, 'kelly': 4104, 'brockpahler': 951, 'bright': 933, 'pretty': 6050, 'pennies': 5727, 'technically': 7906, 'accomplish': 41, 'versatile': 8554, 'cockroft': 1363, 'singer': 7258, 'friedlander': 2992, 'broking': 956, 'omitted': 5403, 'rightfully': 6708, 'responsive': 6641, 'unprofitable': 8398, 'speaks': 7426, 'healthier': 3366, 'concerns': 1508, 'newfound': 5206, 'dirk': 2038, 'citi': 1296, 'custody': 1775, 'adaptation': 96, 'adequate': 110, 'rory': 6771, 'fitzgerald': 2846, 'sensing': 7083, 'disk': 2063, 'multimediacard': 5084, 'invented': 3842, 'ahvenainen': 192, 'ruutana': 6837, 'odd': 5355, 'vosstaniya': 8644, 'arguments': 426, 'convincing': 1637, 'weekend': 8742, 'freezing': 2979, 'bonus': 851, 'interference': 3812, 'noise': 5249, 'economically': 2255, 'breaking': 916, 'introduces': 3835, 'kapthing': 4051, 'steve': 7556, 'jackson': 3929, 'ebusiness': 2251, 'aboavista': 17, 'broke': 952, 'mold': 4999, 'sukhraj': 7696, 'dulai': 2203, 'boni': 850, 'sue': 7682, 'cul': 1757, 'sac': 6854, 'garage': 3067, 'typical': 8306, 'floorings': 2876, 'walls': 8682, 'ceilings': 1151, 'visible': 8608, 'fencing': 2742, 'formwork': 2935, 'pourings': 5988, 'limiting': 4448, 'heterogenous': 3414, 'lamp': 4270, 'adidas': 111, 'wastes': 8705, 'disclaims': 2047, 'optimistic': 5444, 'inregard': 3738, 'tough': 8152, 'voip': 8632, 'speaker': 7424, 'shdsl': 7162, 'silja': 7237, 'attributes': 518, 'drop': 2184, 'booking': 854, 'trailer': 8186, 'sky': 7303, 'bts': 966, 'configured': 1527, 'diagnosed': 1987, 'hostile': 3494, 'answers': 348, 'conversations': 1626, 'gets': 3125, 'seudun': 7126, 'tehuolto': 7925, 'hornborg': 3489, 'merely': 4851, 'criticised': 1731, 'kidnapped': 4135, 'pge': 5787, 'belchatow': 714, 'gw': 3261, 'intentions': 3793, 'pressuring': 6047, 'slash': 7306, 'suffering': 7685, 'pathological': 5665, 'gambling': 3059, 'addiction': 101, 'wore': 8842, 'beanie': 683, 'jacket': 3928, 'salt': 6887, 'hietanen': 3420, 'burns': 990, 'reduces': 6426, 'fluctuated': 2882, 'unstable': 8403, 'reservations': 6604, 'dropping': 2186, 'sharply': 7159, 'disappointing': 2043, 'airspace': 208, 'recommencing': 6394, 'stranded': 7594, 'accommodation': 40, 'embroiled': 2348, 'disagreement': 2040, 'royalty': 6796, 'chips': 1260, 'patented': 5660, 'boycotting': 896, 'wages': 8668, 'occupies': 5348, 'madoff': 4610, 'ponzi': 5939, 'vanhanen': 8500, 'damaging': 1809, 'arrive': 439, 'putin': 6232, 'miles': 4921, 'largely': 4287, 'barrel': 651, 'amid': 297, 'grappling': 3205, 'streamlined': 7604, 'comply': 1477, 'recalls': 6375, 'traceability': 8167, 'plasterboard': 5870, 'voiced': 8628, 'fears': 2715, 'bctmp': 682, 'nikkei': 5232, 'hang': 3302, 'seng': 7080, 'geberit': 3092, 'blaming': 804, 'shrank': 7211, 'weakening': 8726, 'impairment': 3602, 'ghg': 3128, 'overseas': 5536, 'raiso': 6294, 'unaudited': 8341, 'avista': 574, 'franklin': 2974, 'lorry': 4538, 'liora': 4465, 'podcast': 5909, 'harple': 3331, 'demographic': 1902, 'contextual': 1593, 'depositary': 1927, 'reducing': 6427, 'ups': 8422, 'faller': 2686, 'falls': 2689, 'ease': 2233, 'alholma': 234, 'currencies': 1768, 'repurchases': 6592, 'distributable': 2080, 'mti': 5074, 'pecs': 5707, 'falling': 2688, 'zoltan': 8946, 'aero': 146, 'decline': 1857, 'weakened': 8725, 'ilk': 3580, 'halved': 3280, 'axa': 583, 'plunged': 5898, 'lowered': 4556, 'norvestia': 5287, 'gmt': 3158, 'slow': 7326, 'diminished': 2020, 'cds': 1147, 'kindergarten': 4148, 'derogating': 1942, 'emptive': 2371, 'military': 4923, 'strive': 7623, 'achieving': 57, 'viitaniemi': 8583, 'loading': 4501, 'advantages': 136, 'mg': 4892, 'kg': 4128, 'generally': 3096, 'tolerated': 8113, 'pharmacokinetic': 5793, 'characteristics': 1218, 'btt': 967, 'rheumatoid': 6698, 'arthritis': 445, 'ra': 6268, 'freenet': 2978, 'drillisch': 2174, 'breakup': 917, 'kroner': 4217, 'rebounding': 6370, 'centricity': 1176, 'seasonal': 7020, 'fluctuation': 2883, 'tougher': 8153, 'substantially': 7667, 'bread': 912, 'kauhava': 4077, 'slumped': 7330, 'snowfall': 7354, 'resorts': 6625, 'steelmaker': 7545, 'uncertainty': 8348, 'drought': 2187, 'unconfirmed': 8352, 'customs': 1781, 'politicians': 5928, 'failure': 2681, 'differentiate': 2004, 'beleaguered': 715, 'skandinavian': 7287, 'sailed': 6867, 'hurt': 3530, 'dramatic': 2167, 'rush': 6830, 'happening': 3317, 'blond': 814, 'floors': 2877, 'unlike': 8392, 'vibe': 8566, 'pentik': 5733, 'emphasises': 2359, 'justified': 4014, 'hurdles': 3529, 'rop': 6768, 'practitioners': 6001, 'unfortunately': 8369, 'ruin': 6816, 'depositor': 1928, 'preference': 6019, 'rank': 6309, 'lawmakers': 4316, 'burrill': 991, 'notified': 5298, 'pequot': 5738, 'external': 2651, 'hss': 3513, 'newsroom': 5214, 'keywords': 4126, 'surprise': 7755, 'overshadowed': 5538, 'rebound': 6369, 'broader': 949}\n"
          ]
        }
      ]
    },
    {
      "cell_type": "code",
      "source": [
        "df_bow = bagofwords_transformer.transform(df['Sentiment'])\n",
        "tfidf_transformer = TfidfTransformer().fit(df_bow)"
      ],
      "metadata": {
        "id": "pWNhLYhlV9CZ"
      },
      "execution_count": 58,
      "outputs": []
    },
    {
      "cell_type": "code",
      "source": [
        "print(df_bow.shape)"
      ],
      "metadata": {
        "colab": {
          "base_uri": "https://localhost:8080/"
        },
        "id": "s0nibgR0WCL6",
        "outputId": "edfd22b2-d563-4b2b-c50d-561645015a17"
      },
      "execution_count": 56,
      "outputs": [
        {
          "output_type": "stream",
          "name": "stdout",
          "text": [
            "(4846, 8951)\n"
          ]
        }
      ]
    },
    {
      "cell_type": "code",
      "source": [
        "# trying two diffrenet models and checking the performance \n",
        "models = {\n",
        "    \"                   Logistic_Regression\": LogisticRegression(),\n",
        "    \"              Random_Forest_Classifier\": RandomForestClassifier()\n",
        "}"
      ],
      "metadata": {
        "id": "4XJQvhjfWeRF"
      },
      "execution_count": 60,
      "outputs": []
    },
    {
      "cell_type": "code",
      "source": [
        "pipelines={}\n",
        "\n",
        "X_train, X_test, y_train, y_test = train_test_split(df['News Headline'], df['Sentiment'], test_size=0.3, random_state=101)"
      ],
      "metadata": {
        "id": "kgYsloV1Whfs"
      },
      "execution_count": 61,
      "outputs": []
    },
    {
      "cell_type": "code",
      "source": [
        "def train(X_train, y_train):\n",
        "    for name, model in models.items():\n",
        "    \n",
        "        print(name+\"_pipeline created!\")\n",
        "        model_pipeline = Pipeline([\n",
        "        ('bagofwords', CountVectorizer(analyzer=text_process)),  # strings to token integer counts\n",
        "        ('tfidf', TfidfTransformer()),  # integer counts to weighted TF-IDF scores\n",
        "        (name, model),# train on TF-IDF vectors w/ classifier\n",
        "        ])\n",
        "    \n",
        "        model_pipeline.fit(X_train, y_train)\n",
        "        print(name+\"_pipeline trained!\")\n",
        "    \n",
        "        pipelines.update({name: model_pipeline})"
      ],
      "metadata": {
        "id": "5vgFBDdjWpu3"
      },
      "execution_count": 62,
      "outputs": []
    },
    {
      "cell_type": "code",
      "source": [
        "def test(X_train, X_test, y_train, y_test):\n",
        "    \n",
        "    for name, model in pipelines.items():\n",
        "        print(name)\n",
        "        print(\"--------------------\"*3)\n",
        "        print(\"Testing Accuracy: {:.5f}\".format(model.score(X_test, y_test)))\n",
        "        print(\"Training Accuracy: {:.5f}\".format(model.score(X_train, y_train)))\n",
        "        print(\"--------------------\"*3)\n",
        "        print('\\n')    "
      ],
      "metadata": {
        "id": "8ykYHmeMWtFC"
      },
      "execution_count": 63,
      "outputs": []
    },
    {
      "cell_type": "code",
      "source": [
        "def evalModel(name, model):\n",
        "    print(name)\n",
        "    print(\"\\nConfusion Matrix\")\n",
        "    predictions = model.predict(X_test)\n",
        "    print(confusion_matrix(y_test,predictions))\n",
        "    print(\"\\nClassifiation Report\")\n",
        "    print(classification_report(y_test,predictions))\n",
        "    print(\"===\"*40)"
      ],
      "metadata": {
        "id": "VsvqA-MGWwhu"
      },
      "execution_count": 64,
      "outputs": []
    },
    {
      "cell_type": "code",
      "source": [
        "pipelines={}\n",
        "X_train, X_test, y_train, y_test = train_test_split(df['News Headline'], df['Sentiment'], test_size=0.3, random_state=101)"
      ],
      "metadata": {
        "id": "hTG77GCPWzOn"
      },
      "execution_count": 53,
      "outputs": []
    },
    {
      "cell_type": "code",
      "source": [
        "train(X_train, y_train)"
      ],
      "metadata": {
        "colab": {
          "base_uri": "https://localhost:8080/"
        },
        "id": "uxZIvyDHW8-Q",
        "outputId": "4e19b438-157f-4595-83d8-d0d7d110e3ac"
      },
      "execution_count": 65,
      "outputs": [
        {
          "output_type": "stream",
          "name": "stdout",
          "text": [
            "                   Logistic_Regression_pipeline created!\n",
            "                   Logistic_Regression_pipeline trained!\n",
            "              Random_Forest_Classifier_pipeline created!\n",
            "              Random_Forest_Classifier_pipeline trained!\n"
          ]
        }
      ]
    },
    {
      "cell_type": "code",
      "source": [
        "test(X_train, X_test, y_train, y_test)"
      ],
      "metadata": {
        "colab": {
          "base_uri": "https://localhost:8080/"
        },
        "id": "aJC2I6w8XAdO",
        "outputId": "c9be7ce8-c4ed-4ea4-bcff-f41cc7ad7275"
      },
      "execution_count": 66,
      "outputs": [
        {
          "output_type": "stream",
          "name": "stdout",
          "text": [
            "                   Logistic_Regression\n",
            "------------------------------------------------------------\n",
            "Testing Accuracy: 0.72765\n",
            "Training Accuracy: 0.85112\n",
            "------------------------------------------------------------\n",
            "\n",
            "\n",
            "              Random_Forest_Classifier\n",
            "------------------------------------------------------------\n",
            "Testing Accuracy: 0.72283\n",
            "Training Accuracy: 0.99823\n",
            "------------------------------------------------------------\n",
            "\n",
            "\n"
          ]
        }
      ]
    },
    {
      "cell_type": "code",
      "source": [
        "for name, model in pipelines.items():\n",
        "    evalModel(name, model)"
      ],
      "metadata": {
        "colab": {
          "base_uri": "https://localhost:8080/"
        },
        "id": "66yK3uQWXSCd",
        "outputId": "c57e03cf-7593-480a-aee2-0db98f4baf54"
      },
      "execution_count": 67,
      "outputs": [
        {
          "output_type": "stream",
          "name": "stdout",
          "text": [
            "                   Logistic_Regression\n",
            "\n",
            "Confusion Matrix\n",
            "[[ 62  77  22]\n",
            " [ 13 814  26]\n",
            " [ 23 235 182]]\n",
            "\n",
            "Classifiation Report\n",
            "              precision    recall  f1-score   support\n",
            "\n",
            "    negative       0.63      0.39      0.48       161\n",
            "     neutral       0.72      0.95      0.82       853\n",
            "    positive       0.79      0.41      0.54       440\n",
            "\n",
            "    accuracy                           0.73      1454\n",
            "   macro avg       0.72      0.58      0.61      1454\n",
            "weighted avg       0.73      0.73      0.70      1454\n",
            "\n",
            "========================================================================================================================\n",
            "              Random_Forest_Classifier\n",
            "\n",
            "Confusion Matrix\n",
            "[[ 57  62  42]\n",
            " [ 18 801  34]\n",
            " [ 27 220 193]]\n",
            "\n",
            "Classifiation Report\n",
            "              precision    recall  f1-score   support\n",
            "\n",
            "    negative       0.56      0.35      0.43       161\n",
            "     neutral       0.74      0.94      0.83       853\n",
            "    positive       0.72      0.44      0.54       440\n",
            "\n",
            "    accuracy                           0.72      1454\n",
            "   macro avg       0.67      0.58      0.60      1454\n",
            "weighted avg       0.71      0.72      0.70      1454\n",
            "\n",
            "========================================================================================================================\n"
          ]
        }
      ]
    }
  ]
}