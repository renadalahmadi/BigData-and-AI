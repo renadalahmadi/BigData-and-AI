{
 "cells": [
  {
   "cell_type": "markdown",
   "metadata": {
    "id": "t3e1IS_WEBJz"
   },
   "source": [
    "# KMeans Clustering"
   ]
  },
  {
   "cell_type": "code",
   "execution_count": 89,
   "metadata": {
    "id": "g95woAT_DZ0h"
   },
   "outputs": [],
   "source": [
    "import pandas as pd\n",
    "import numpy as np\n",
    "import matplotlib.pyplot as plt\n",
    "import seaborn as sns\n",
    "import random\n",
    "\n",
    "from sklearn.cluster import KMeans\n",
    "from sklearn.datasets import make_blobs\n",
    "from sklearn.preprocessing import StandardScaler\n",
    "from sklearn.metrics import accuracy_score\n",
    "from sklearn.model_selection import train_test_split"
   ]
  },
  {
   "cell_type": "markdown",
   "metadata": {
    "id": "JvXH5fdx85os"
   },
   "source": [
    "# Dog Horse KMeans Challenge"
   ]
  },
  {
   "cell_type": "code",
   "execution_count": 62,
   "metadata": {
    "colab": {
     "base_uri": "https://localhost:8080/",
     "height": 136
    },
    "id": "_HkRjRVYUtGH",
    "outputId": "f8b5d130-e013-4eb5-cc30-c6729879012d"
   },
   "outputs": [
    {
     "data": {
      "text/html": [
       "<div>\n",
       "<style scoped>\n",
       "    .dataframe tbody tr th:only-of-type {\n",
       "        vertical-align: middle;\n",
       "    }\n",
       "\n",
       "    .dataframe tbody tr th {\n",
       "        vertical-align: top;\n",
       "    }\n",
       "\n",
       "    .dataframe thead th {\n",
       "        text-align: right;\n",
       "    }\n",
       "</style>\n",
       "<table border=\"1\" class=\"dataframe\">\n",
       "  <thead>\n",
       "    <tr style=\"text-align: right;\">\n",
       "      <th></th>\n",
       "      <th>height</th>\n",
       "      <th>weight</th>\n",
       "      <th>target</th>\n",
       "      <th>type</th>\n",
       "    </tr>\n",
       "  </thead>\n",
       "  <tbody>\n",
       "    <tr>\n",
       "      <th>0</th>\n",
       "      <td>27.0</td>\n",
       "      <td>71.0</td>\n",
       "      <td>0.0</td>\n",
       "      <td>dog</td>\n",
       "    </tr>\n",
       "    <tr>\n",
       "      <th>1</th>\n",
       "      <td>27.0</td>\n",
       "      <td>92.0</td>\n",
       "      <td>0.0</td>\n",
       "      <td>dog</td>\n",
       "    </tr>\n",
       "    <tr>\n",
       "      <th>2</th>\n",
       "      <td>32.0</td>\n",
       "      <td>47.0</td>\n",
       "      <td>0.0</td>\n",
       "      <td>dog</td>\n",
       "    </tr>\n",
       "    <tr>\n",
       "      <th>3</th>\n",
       "      <td>30.0</td>\n",
       "      <td>90.0</td>\n",
       "      <td>0.0</td>\n",
       "      <td>dog</td>\n",
       "    </tr>\n",
       "    <tr>\n",
       "      <th>4</th>\n",
       "      <td>28.0</td>\n",
       "      <td>91.0</td>\n",
       "      <td>0.0</td>\n",
       "      <td>dog</td>\n",
       "    </tr>\n",
       "  </tbody>\n",
       "</table>\n",
       "</div>"
      ],
      "text/plain": [
       "   height  weight  target type\n",
       "0    27.0    71.0     0.0  dog\n",
       "1    27.0    92.0     0.0  dog\n",
       "2    32.0    47.0     0.0  dog\n",
       "3    30.0    90.0     0.0  dog\n",
       "4    28.0    91.0     0.0  dog"
      ]
     },
     "execution_count": 62,
     "metadata": {},
     "output_type": "execute_result"
    }
   ],
   "source": [
    "# Import Data\n",
    "df_dh = pd.read_csv(\"https://raw.githubusercontent.com/gumdropsteve/datasets/master/dog_or_horse.csv\")\n",
    "# We picked variables that we need\n",
    "X = df_dh[['height', 'weight']]\n",
    "df_dh.head()"
   ]
  },
  {
   "cell_type": "markdown",
   "metadata": {},
   "source": [
    "1- Standardize the data"
   ]
  },
  {
   "cell_type": "code",
   "execution_count": 80,
   "metadata": {
    "id": "1OAe43FY9Jfx"
   },
   "outputs": [
    {
     "data": {
      "text/plain": [
       "array([[-1.11490629, -0.92968047],\n",
       "       [-1.11490629, -0.38479379],\n",
       "       [-0.84271237, -1.55240811],\n",
       "       [-0.95158993, -0.43668776],\n",
       "       [-1.0604675 , -0.41074077],\n",
       "       [-0.67939602, -0.48858173],\n",
       "       [-0.95158993, -0.67021062],\n",
       "       [-0.89715115, -1.24104429],\n",
       "       [-1.16934507, -0.79994555],\n",
       "       [-1.11490629, -1.00752143],\n",
       "       [-0.78827358, -1.42267319],\n",
       "       [-0.67939602, -1.00752143],\n",
       "       [-0.67939602, -1.24104429],\n",
       "       [-0.95158993, -0.41074077],\n",
       "       [-1.16934507, -1.73403701],\n",
       "       [-0.7338348 , -1.34483223],\n",
       "       [-1.11490629, -0.38479379],\n",
       "       [-1.0604675 , -0.20316489],\n",
       "       [-1.11490629, -0.79994555],\n",
       "       [-1.11490629, -0.3588468 ],\n",
       "       [-1.11490629, -1.44862017],\n",
       "       [-0.78827358, -1.31888525],\n",
       "       [-0.84271237, -0.59236967],\n",
       "       [-0.7338348 , -0.90373349],\n",
       "       [-1.00602872, -1.52646113],\n",
       "       [-0.67939602, -0.74805158],\n",
       "       [-1.11490629, -0.20316489],\n",
       "       [-1.11490629, -1.5783551 ],\n",
       "       [-1.16934507, -0.77399856],\n",
       "       [-1.0604675 , -1.47456716],\n",
       "       [-0.67939602, -1.70809002],\n",
       "       [-0.67939602, -1.00752143],\n",
       "       [-0.78827358, -0.85183952],\n",
       "       [-0.78827358, -1.52646113],\n",
       "       [-0.78827358, -0.22911188],\n",
       "       [-1.11490629, -1.37077922],\n",
       "       [-1.22378385, -0.67021062],\n",
       "       [-0.95158993, -1.47456716],\n",
       "       [-0.7338348 , -1.34483223],\n",
       "       [-0.78827358, -0.72210459],\n",
       "       [-1.0604675 , -1.3967262 ],\n",
       "       [-1.11490629, -1.0594154 ],\n",
       "       [-1.0604675 , -0.90373349],\n",
       "       [-0.7338348 , -1.68214304],\n",
       "       [-1.0604675 , -0.85183952],\n",
       "       [-1.22378385, -1.21509731],\n",
       "       [-0.89715115, -1.73403701],\n",
       "       [-1.11490629, -1.08536238],\n",
       "       [-0.95158993, -1.16320334],\n",
       "       [-1.16934507, -0.56642268],\n",
       "       [-0.84271237, -0.48858173],\n",
       "       [-1.11490629, -1.52646113],\n",
       "       [-0.95158993, -1.37077922],\n",
       "       [-0.95158993, -0.28100585],\n",
       "       [-0.7338348 , -0.28100585],\n",
       "       [-1.00602872, -1.29293826],\n",
       "       [-1.0604675 , -0.3588468 ],\n",
       "       [-1.00602872, -0.67021062],\n",
       "       [-0.78827358, -1.3967262 ],\n",
       "       [-1.22378385, -0.51452871],\n",
       "       [-0.95158993, -0.69615761],\n",
       "       [-0.78827358, -0.69615761],\n",
       "       [-1.22378385, -1.63024907],\n",
       "       [-1.16934507, -0.28100585],\n",
       "       [-0.89715115, -0.64426364],\n",
       "       [-0.7338348 , -0.51452871],\n",
       "       [-1.11490629, -0.61831665],\n",
       "       [-1.00602872, -0.46263474],\n",
       "       [-1.11490629, -1.29293826],\n",
       "       [-0.84271237, -0.98157444],\n",
       "       [-1.11490629, -1.5783551 ],\n",
       "       [-1.00602872, -0.64426364],\n",
       "       [-0.7338348 , -0.72210459],\n",
       "       [-0.67939602, -0.77399856],\n",
       "       [-0.84271237, -0.56642268],\n",
       "       [-1.22378385, -1.31888525],\n",
       "       [-0.78827358, -1.60430208],\n",
       "       [-0.84271237, -1.0594154 ],\n",
       "       [-0.7338348 , -0.69615761],\n",
       "       [-0.78827358, -0.46263474],\n",
       "       [-0.4072021 , -0.17721791],\n",
       "       [-0.51607967,  0.00441099],\n",
       "       [-0.4072021 , -0.30695283],\n",
       "       [-0.18944697,  0.08225194],\n",
       "       [-0.46164088, -0.28100585],\n",
       "       [-0.51607967, -0.021536  ],\n",
       "       [-0.4072021 , -0.04748298],\n",
       "       [-0.13500818, -0.09937695],\n",
       "       [-0.35276332, -0.021536  ],\n",
       "       [-0.67939602, -0.021536  ],\n",
       "       [-0.13500818, -0.30695283],\n",
       "       [-0.62495723, -0.20316489],\n",
       "       [-0.4072021 , -0.22911188],\n",
       "       [-0.67939602,  0.03035797],\n",
       "       [-0.57051845, -0.17721791],\n",
       "       [-0.57051845,  0.05630496],\n",
       "       [-0.18944697, -0.04748298],\n",
       "       [-0.35276332,  0.08225194],\n",
       "       [-0.18944697,  0.00441099],\n",
       "       [-0.29832453, -0.09937695],\n",
       "       [ 0.08274695, -0.15127092],\n",
       "       [ 0.73601235,  1.40554818],\n",
       "       [ 1.38927775, -0.22911188],\n",
       "       [ 0.46381844,  0.10819893],\n",
       "       [-0.0805694 ,  1.66501803],\n",
       "       [ 1.82478802, -0.07342997],\n",
       "       [ 0.84488992,  0.78282054],\n",
       "       [ 1.66147167,  0.34172179],\n",
       "       [-0.02613062, -0.30695283],\n",
       "       [ 1.98810437,  1.69096501],\n",
       "       [ 1.8792268 ,  1.32770722],\n",
       "       [ 1.5525941 , -0.38479379],\n",
       "       [ 1.8792268 ,  0.96444943],\n",
       "       [ 1.28040019,  0.52335069],\n",
       "       [ 0.02830817,  1.35365421],\n",
       "       [ 0.62713479,  1.48338913],\n",
       "       [-0.35276332,  1.63907104],\n",
       "       [-0.24388575, -0.22911188],\n",
       "       [ 1.60703289,  1.43149516],\n",
       "       [-0.29832453, -0.09937695],\n",
       "       [-0.13500818,  1.74285898],\n",
       "       [ 0.08274695,  1.5352831 ],\n",
       "       [ 0.19162452,  1.74285898],\n",
       "       [-0.35276332,  1.27581325],\n",
       "       [-0.13500818,  0.05630496],\n",
       "       [ 1.38927775,  0.99039642],\n",
       "       [ 1.93366559, -0.30695283],\n",
       "       [ 1.98810437,  0.88660848],\n",
       "       [ 0.95376749,  0.31577481],\n",
       "       [-0.24388575,  0.6790326 ],\n",
       "       [-0.13500818,  1.66501803],\n",
       "       [ 0.79045114,  1.14607833],\n",
       "       [ 1.33483897,  1.716912  ],\n",
       "       [ 0.13718573, -0.33289982],\n",
       "       [ 0.73601235,  0.05630496],\n",
       "       [ 0.46381844,  0.13414591],\n",
       "       [ 0.02830817,  0.1600929 ],\n",
       "       [ 0.73601235,  0.1600929 ],\n",
       "       [ 1.93366559,  1.04229039],\n",
       "       [ 1.33483897,  0.93850245],\n",
       "       [ 0.84488992,  0.21198687],\n",
       "       [ 1.66147167, -0.30695283],\n",
       "       [ 1.49815532,  1.48338913],\n",
       "       [ 0.79045114,  0.70497958],\n",
       "       [ 0.79045114,  0.99039642],\n",
       "       [ 0.08274695, -0.12532394],\n",
       "       [ 1.33483897,  0.93850245],\n",
       "       [ 1.17152262,  1.56123009],\n",
       "       [ 1.00820627,  1.87259391],\n",
       "       [ 1.71591045,  1.14607833],\n",
       "       [ 1.17152262,  0.91255546],\n",
       "       [ 1.06264505, -0.25505886],\n",
       "       [-0.13500818,  1.22391928],\n",
       "       [ 1.5525941 ,  1.5352831 ],\n",
       "       [ 1.8792268 ,  0.44550973],\n",
       "       [ 1.93366559,  1.76880597],\n",
       "       [-0.0805694 , -0.15127092],\n",
       "       [ 0.62713479,  0.88660848],\n",
       "       [ 1.33483897,  0.23793385],\n",
       "       [ 1.33483897,  0.78282054],\n",
       "       [ 0.51825722,  1.0163434 ],\n",
       "       [ 0.79045114,  1.35365421],\n",
       "       [ 0.35494087, -0.28100585],\n",
       "       [-0.0805694 ,  0.70497958],\n",
       "       [ 1.44371654,  1.63907104],\n",
       "       [ 1.71591045,  0.70497958],\n",
       "       [ 0.13718573,  1.82069994],\n",
       "       [ 1.33483897,  1.04229039],\n",
       "       [ 0.51825722,  0.23793385],\n",
       "       [ 0.8993287 ,  0.54929767],\n",
       "       [ 1.44371654,  1.24986627],\n",
       "       [ 1.11708384,  0.57524466],\n",
       "       [ 0.62713479,  1.24986627],\n",
       "       [ 0.19162452,  1.84664692],\n",
       "       [ 0.02830817,  1.12013134],\n",
       "       [ 1.93366559, -0.07342997],\n",
       "       [ 1.66147167,  0.78282054],\n",
       "       [ 1.2259614 ,  0.80876752],\n",
       "       [ 0.8993287 , -0.33289982],\n",
       "       [ 0.73601235,  1.43149516],\n",
       "       [-0.02613062,  1.1979723 ],\n",
       "       [ 1.44371654,  1.61312406],\n",
       "       [ 0.95376749,  0.31577481],\n",
       "       [ 0.2460633 ,  1.79475295],\n",
       "       [ 1.71591045,  1.56123009],\n",
       "       [ 0.40937965, -0.12532394],\n",
       "       [ 0.572696  ,  1.43149516],\n",
       "       [-0.35276332, -0.25505886],\n",
       "       [ 1.38927775, -0.22911188],\n",
       "       [ 0.13718573, -0.46263474],\n",
       "       [-0.02613062,  1.76880597],\n",
       "       [ 0.8993287 ,  1.37960119],\n",
       "       [ 1.11708384,  1.30176024],\n",
       "       [ 1.77034924,  1.32770722],\n",
       "       [ 1.77034924, -0.30695283],\n",
       "       [ 0.40937965,  0.86066149],\n",
       "       [ 1.8792268 ,  1.87259391],\n",
       "       [-0.0805694 ,  0.65308561],\n",
       "       [ 0.46381844, -0.46263474],\n",
       "       [ 0.572696  , -0.22911188]])"
      ]
     },
     "execution_count": 80,
     "metadata": {},
     "output_type": "execute_result"
    }
   ],
   "source": [
    "# Scale Data\n",
    "scaler = StandardScaler()\n",
    "\n",
    "# Fit & transform data.\n",
    "scaled_df = scaler.fit_transform(X)\n",
    "scaled_df"
   ]
  },
  {
   "cell_type": "markdown",
   "metadata": {},
   "source": [
    "2- Create an Elbow Plot to determine the number of clusters"
   ]
  },
  {
   "cell_type": "code",
   "execution_count": 64,
   "metadata": {
    "id": "bY5euMuF9JxC"
   },
   "outputs": [
    {
     "data": {
      "image/png": "[encoded data removed]",
      "text/plain": [
       "<Figure size 432x288 with 1 Axes>"
      ]
     },
     "metadata": {
      "needs_background": "light"
     },
     "output_type": "display_data"
    }
   ],
   "source": [
    "# Create Elbow Plot\n",
    "\n",
    "# The elbow method depends on WCSS which stands for Within Cluster Sum of Squares\n",
    "\n",
    "wcss = []\n",
    "# Note: We are using K-mean++ to avoid the random initialization trap \n",
    "# Note: We are creating a plot of the WCSS for upto 10 clusters using the for loop\n",
    "# The measurement we are using is the inertia \n",
    "\n",
    "for i in range(1, 11):\n",
    "    kmeans = KMeans(n_clusters = i, init = 'k-means++', random_state = 123)\n",
    "    kmeans.fit(X)\n",
    "    wcss.append(kmeans.inertia_)\n",
    "    \n",
    "plt.plot(range(1, 11), wcss)\n",
    "plt.title('The Elbow Method')\n",
    "plt.xlabel('Number of clusters')\n",
    "plt.ylabel('WCSS')\n",
    "plt.show()"
   ]
  },
  {
   "cell_type": "markdown",
   "metadata": {},
   "source": [
    "- From the plot we can see that the optimal number of clusters in 2. "
   ]
  },
  {
   "cell_type": "markdown",
   "metadata": {},
   "source": [
    "3- Apply the K-Means Clustering model"
   ]
  },
  {
   "cell_type": "code",
   "execution_count": 65,
   "metadata": {
    "id": "djfFKQGC9J5K"
   },
   "outputs": [],
   "source": [
    "# Apply KMeans and Plot KMeans Results and Actual Results\n",
    "kmeans = KMeans(n_clusters = 2, init = 'k-means++', random_state = 123)\n",
    "y_kmeans = kmeans.fit_predict(scaled_df)"
   ]
  },
  {
   "cell_type": "code",
   "execution_count": 66,
   "metadata": {},
   "outputs": [
    {
     "name": "stdout",
     "output_type": "stream",
     "text": [
      "[1 1 1 1 1 1 1 1 1 1 1 1 1 1 1 1 1 1 1 1 1 1 1 1 1 1 1 1 1 1 1 1 1 1 1 1 1\n",
      " 1 1 1 1 1 1 1 1 1 1 1 1 1 1 1 1 1 1 1 1 1 1 1 1 1 1 1 1 1 1 1 1 1 1 1 1 1\n",
      " 1 1 1 1 1 1 1 1 1 1 1 1 1 1 1 1 1 1 1 1 1 1 1 1 1 1 1 0 0 0 0 0 0 0 1 0 0\n",
      " 0 0 0 0 0 0 1 0 1 0 0 0 0 1 0 0 0 0 0 0 0 0 1 0 0 1 0 0 0 0 0 0 0 0 1 0 0\n",
      " 0 0 0 0 0 0 0 0 1 0 0 0 0 0 1 0 0 0 0 0 0 0 0 0 0 0 0 0 0 0 0 0 0 0 0 0 0\n",
      " 0 0 1 0 1 0 0 0 0 0 0 0 0 1 0]\n"
     ]
    }
   ],
   "source": [
    "print(y_kmeans)"
   ]
  },
  {
   "cell_type": "code",
   "execution_count": 67,
   "metadata": {},
   "outputs": [
    {
     "name": "stdout",
     "output_type": "stream",
     "text": [
      "[[ 0.96628215  0.91732732]\n",
      " [-0.74395174 -0.70626086]]\n"
     ]
    }
   ],
   "source": [
    "# Cluster centeriods\n",
    "print (kmeans.cluster_centers_)"
   ]
  },
  {
   "cell_type": "code",
   "execution_count": 68,
   "metadata": {
    "id": "LQwAnjb79Ype"
   },
   "outputs": [
    {
     "data": {
      "text/html": [
       "<div>\n",
       "<style scoped>\n",
       "    .dataframe tbody tr th:only-of-type {\n",
       "        vertical-align: middle;\n",
       "    }\n",
       "\n",
       "    .dataframe tbody tr th {\n",
       "        vertical-align: top;\n",
       "    }\n",
       "\n",
       "    .dataframe thead th {\n",
       "        text-align: right;\n",
       "    }\n",
       "</style>\n",
       "<table border=\"1\" class=\"dataframe\">\n",
       "  <thead>\n",
       "    <tr style=\"text-align: right;\">\n",
       "      <th></th>\n",
       "      <th>height</th>\n",
       "      <th>weight</th>\n",
       "      <th>target</th>\n",
       "      <th>type</th>\n",
       "      <th>kmean_prid</th>\n",
       "    </tr>\n",
       "  </thead>\n",
       "  <tbody>\n",
       "    <tr>\n",
       "      <th>0</th>\n",
       "      <td>27.0</td>\n",
       "      <td>71.0</td>\n",
       "      <td>0.0</td>\n",
       "      <td>dog</td>\n",
       "      <td>1</td>\n",
       "    </tr>\n",
       "    <tr>\n",
       "      <th>1</th>\n",
       "      <td>27.0</td>\n",
       "      <td>92.0</td>\n",
       "      <td>0.0</td>\n",
       "      <td>dog</td>\n",
       "      <td>1</td>\n",
       "    </tr>\n",
       "    <tr>\n",
       "      <th>2</th>\n",
       "      <td>32.0</td>\n",
       "      <td>47.0</td>\n",
       "      <td>0.0</td>\n",
       "      <td>dog</td>\n",
       "      <td>1</td>\n",
       "    </tr>\n",
       "    <tr>\n",
       "      <th>3</th>\n",
       "      <td>30.0</td>\n",
       "      <td>90.0</td>\n",
       "      <td>0.0</td>\n",
       "      <td>dog</td>\n",
       "      <td>1</td>\n",
       "    </tr>\n",
       "    <tr>\n",
       "      <th>4</th>\n",
       "      <td>28.0</td>\n",
       "      <td>91.0</td>\n",
       "      <td>0.0</td>\n",
       "      <td>dog</td>\n",
       "      <td>1</td>\n",
       "    </tr>\n",
       "    <tr>\n",
       "      <th>...</th>\n",
       "      <td>...</td>\n",
       "      <td>...</td>\n",
       "      <td>...</td>\n",
       "      <td>...</td>\n",
       "      <td>...</td>\n",
       "    </tr>\n",
       "    <tr>\n",
       "      <th>195</th>\n",
       "      <td>55.0</td>\n",
       "      <td>140.0</td>\n",
       "      <td>1.0</td>\n",
       "      <td>horse</td>\n",
       "      <td>0</td>\n",
       "    </tr>\n",
       "    <tr>\n",
       "      <th>196</th>\n",
       "      <td>82.0</td>\n",
       "      <td>179.0</td>\n",
       "      <td>1.0</td>\n",
       "      <td>horse</td>\n",
       "      <td>0</td>\n",
       "    </tr>\n",
       "    <tr>\n",
       "      <th>197</th>\n",
       "      <td>46.0</td>\n",
       "      <td>132.0</td>\n",
       "      <td>1.0</td>\n",
       "      <td>horse</td>\n",
       "      <td>0</td>\n",
       "    </tr>\n",
       "    <tr>\n",
       "      <th>198</th>\n",
       "      <td>56.0</td>\n",
       "      <td>89.0</td>\n",
       "      <td>1.0</td>\n",
       "      <td>horse</td>\n",
       "      <td>1</td>\n",
       "    </tr>\n",
       "    <tr>\n",
       "      <th>199</th>\n",
       "      <td>58.0</td>\n",
       "      <td>98.0</td>\n",
       "      <td>1.0</td>\n",
       "      <td>horse</td>\n",
       "      <td>0</td>\n",
       "    </tr>\n",
       "  </tbody>\n",
       "</table>\n",
       "<p>200 rows × 5 columns</p>\n",
       "</div>"
      ],
      "text/plain": [
       "     height  weight  target   type  kmean_prid\n",
       "0      27.0    71.0     0.0    dog           1\n",
       "1      27.0    92.0     0.0    dog           1\n",
       "2      32.0    47.0     0.0    dog           1\n",
       "3      30.0    90.0     0.0    dog           1\n",
       "4      28.0    91.0     0.0    dog           1\n",
       "..      ...     ...     ...    ...         ...\n",
       "195    55.0   140.0     1.0  horse           0\n",
       "196    82.0   179.0     1.0  horse           0\n",
       "197    46.0   132.0     1.0  horse           0\n",
       "198    56.0    89.0     1.0  horse           1\n",
       "199    58.0    98.0     1.0  horse           0\n",
       "\n",
       "[200 rows x 5 columns]"
      ]
     },
     "execution_count": 68,
     "metadata": {},
     "output_type": "execute_result"
    }
   ],
   "source": [
    "# assign the y_kmeans to a new column in the dataset\n",
    "df_dh['kmean_prid']= y_kmeans\n",
    "df_dh"
   ]
  },
  {
   "cell_type": "code",
   "execution_count": 69,
   "metadata": {},
   "outputs": [],
   "source": [
    "# replace dog with 1 and horse with 0 to help us caluclate the Accuracy Score\n",
    "df_dh['type'] = df_dh['type'].map({'dog': 1, 'horse': 0})"
   ]
  },
  {
   "cell_type": "code",
   "execution_count": 84,
   "metadata": {},
   "outputs": [
    {
     "data": {
      "text/plain": [
       "0      1\n",
       "1      1\n",
       "2      1\n",
       "3      1\n",
       "4      1\n",
       "      ..\n",
       "195    0\n",
       "196    0\n",
       "197    0\n",
       "198    0\n",
       "199    0\n",
       "Name: type, Length: 200, dtype: int64"
      ]
     },
     "execution_count": 84,
     "metadata": {},
     "output_type": "execute_result"
    }
   ],
   "source": [
    "# we will need this to get the score of the kmean model\n",
    "actualType = df_dh['type']\n",
    "actualType"
   ]
  },
  {
   "cell_type": "code",
   "execution_count": 71,
   "metadata": {},
   "outputs": [
    {
     "data": {
      "text/plain": [
       "True     187\n",
       "False     13\n",
       "dtype: int64"
      ]
     },
     "execution_count": 71,
     "metadata": {},
     "output_type": "execute_result"
    }
   ],
   "source": [
    "# Calculate the number of correct predictions\n",
    "(df_dh['type'] == df_dh['kmean_prid']).value_counts()"
   ]
  },
  {
   "cell_type": "code",
   "execution_count": 78,
   "metadata": {},
   "outputs": [
    {
     "data": {
      "text/plain": [
       "array([1, 1, 1, 1, 1, 1, 1, 1, 1, 1, 1, 1, 1, 1, 1, 1, 1, 1, 1, 1, 1, 1,\n",
       "       1, 1, 1, 1, 1, 1, 1, 1, 1, 1, 1, 1, 1, 1, 1, 1, 1, 1, 1, 1, 1, 1,\n",
       "       1, 1, 1, 1, 1, 1, 1, 1, 1, 1, 1, 1, 1, 1, 1, 1, 1, 1, 1, 1, 1, 1,\n",
       "       1, 1, 1, 1, 1, 1, 1, 1, 1, 1, 1, 1, 1, 1, 1, 1, 1, 1, 1, 1, 1, 1,\n",
       "       1, 1, 1, 1, 1, 1, 1, 1, 1, 1, 1, 1, 1, 0, 0, 0, 0, 0, 0, 0, 1, 0,\n",
       "       0, 0, 0, 0, 0, 0, 0, 1, 0, 1, 0, 0, 0, 0, 1, 0, 0, 0, 0, 0, 0, 0,\n",
       "       0, 1, 0, 0, 1, 0, 0, 0, 0, 0, 0, 0, 0, 1, 0, 0, 0, 0, 0, 0, 0, 0,\n",
       "       0, 0, 1, 0, 0, 0, 0, 0, 1, 0, 0, 0, 0, 0, 0, 0, 0, 0, 0, 0, 0, 0,\n",
       "       0, 0, 0, 0, 0, 0, 0, 0, 0, 0, 0, 1, 0, 1, 0, 0, 0, 0, 0, 0, 0, 0,\n",
       "       1, 0], dtype=int32)"
      ]
     },
     "execution_count": 78,
     "metadata": {},
     "output_type": "execute_result"
    }
   ],
   "source": [
    "y_kmeans"
   ]
  },
  {
   "cell_type": "markdown",
   "metadata": {},
   "source": [
    "4- Plot the clusters including the centroid for each of the clusters as defined by K-Means\n"
   ]
  },
  {
   "cell_type": "code",
   "execution_count": 79,
   "metadata": {},
   "outputs": [
    {
     "data": {
      "image/png": "[encoded data removed]",
      "text/plain": [
       "<Figure size 432x288 with 1 Axes>"
      ]
     },
     "metadata": {
      "needs_background": "light"
     },
     "output_type": "display_data"
    }
   ],
   "source": [
    "\n",
    "plt.scatter(scaled_df[y_kmeans == 0, 0],scaled_df[y_kmeans == 0, 1], s = 100, c = 'red', label = 'Cluster 1')\n",
    "\n",
    "plt.scatter(scaled_df[y_kmeans == 1, 0], scaled_df[y_kmeans == 1, 1], s = 100, c = 'blue', label = 'Cluster 2')\n",
    "\n",
    "plt.scatter(kmeans.cluster_centers_[:, 0], kmeans.cluster_centers_[:, 1], s = 200, c = 'brown', label = 'Centroids')\n",
    "\n",
    "plt.title('Dog Horse KMeans Challenge')\n",
    "plt.xlabel('height')\n",
    "plt.ylabel('weight')\n",
    "plt.legend()\n",
    "plt.show()"
   ]
  },
  {
   "cell_type": "markdown",
   "metadata": {},
   "source": [
    "5- the accuracy score if true labels are known"
   ]
  },
  {
   "cell_type": "code",
   "execution_count": 87,
   "metadata": {},
   "outputs": [
    {
     "name": "stdout",
     "output_type": "stream",
     "text": [
      "Accuracy of Kmeans :0.935000\n"
     ]
    }
   ],
   "source": [
    "# Compute Accuracy Score of KMean Labels with True Labels\n",
    "\n",
    "score = round(accuracy_score(y_kmeans, actualType), 4)\n",
    "print('Accuracy of Kmeans :{0:f}'.format(score))"
   ]
  },
  {
   "cell_type": "code",
   "execution_count": 90,
   "metadata": {},
   "outputs": [
    {
     "data": {
      "text/plain": [
       "\"\\n\\n# fit the model only to the train set: \\nk_means = cluster.KMeans(n_clusters=2)\\nk_means.fit(X_train)\\n\\nprint(k_means.labels_[:])\\nprint(y_train[:])\\n\\nscore = metrics.accuracy_score(y_test,k_means.predict(X_test))\\nprint('Accuracy:{0:f}'.format(score))\\n\\n\""
      ]
     },
     "execution_count": 90,
     "metadata": {},
     "output_type": "execute_result"
    }
   ],
   "source": [
    "# another approach could be used to the model is to split the data as usual into : \n",
    "X2 = df_dh[['height', 'weight']]\n",
    "y2 = df_dh['type']\n",
    "\n",
    "X_train, X_test,y_train,y_test = train_test_split(X2,y2,test_size=0.20,random_state=70)"
   ]
  },
  {
   "cell_type": "code",
   "execution_count": 92,
   "metadata": {},
   "outputs": [
    {
     "data": {
      "text/plain": [
       "KMeans(n_clusters=2, random_state=123)"
      ]
     },
     "execution_count": 92,
     "metadata": {},
     "output_type": "execute_result"
    }
   ],
   "source": [
    "# fit the model only to the train set: \n",
    "k_means2 = KMeans(n_clusters = 2, init = 'k-means++', random_state = 123)\n",
    "k_means2.fit(X_train)"
   ]
  },
  {
   "cell_type": "code",
   "execution_count": 94,
   "metadata": {},
   "outputs": [
    {
     "name": "stdout",
     "output_type": "stream",
     "text": [
      "[1 1 1 0 1 1 0 1 1 1 1 1 0 0 0 0 0 0 1 1 1 1 0 1 1 0 0 1 1 1 1 1 0 1 1 1 1\n",
      " 1 1 1 0 0 0 1 0 1 0 0 1 0 1 1 0 1 1 1 0 1 0 0 1 1 1 1 1 1 1 0 0 1 1 1 1 1\n",
      " 1 0 0 0 0 1 1 0 1 1 0 1 1 1 1 1 1 0 1 1 1 0 0 0 0 1 0 0 1 0 0 0 0 1 1 0 1\n",
      " 1 1 1 1 0 1 1 1 1 1 1 1 0 0 1 1 1 1 0 0 1 1 1 1 0 1 0 1 1 1 0 0 0 1 1 1 1\n",
      " 1 1 0 1 1 0 0 1 1 1 0 1]\n",
      "54     1\n",
      "89     1\n",
      "37     1\n",
      "152    0\n",
      "19     1\n",
      "      ..\n",
      "59     1\n",
      "60     1\n",
      "24     1\n",
      "114    0\n",
      "78     1\n",
      "Name: type, Length: 160, dtype: int64\n"
     ]
    }
   ],
   "source": [
    "# the model labels: \n",
    "print(k_means2.labels_[:])\n",
    "print(y_train[:])"
   ]
  },
  {
   "cell_type": "code",
   "execution_count": 96,
   "metadata": {},
   "outputs": [
    {
     "name": "stdout",
     "output_type": "stream",
     "text": [
      "Accuracy:0.925000\n"
     ]
    }
   ],
   "source": [
    "# Compute Accuracy Score of KMean Labels\n",
    "\n",
    "score = accuracy_score(y_test,k_means2.predict(X_test))\n",
    "print('Accuracy:{0:f}'.format(score))"
   ]
  },
  {
   "cell_type": "markdown",
   "metadata": {
    "id": "YNwzyNGA8-Q3"
   },
   "source": [
    "# Seattle Weather KMeans Challenge"
   ]
  },
  {
   "cell_type": "code",
   "execution_count": 144,
   "metadata": {
    "colab": {
     "base_uri": "https://localhost:8080/",
     "height": 136
    },
    "id": "nhO1TbViGVkc",
    "outputId": "e4435931-9619-44e0-d7ab-9b48422779fd"
   },
   "outputs": [
    {
     "data": {
      "text/html": [
       "<div>\n",
       "<style scoped>\n",
       "    .dataframe tbody tr th:only-of-type {\n",
       "        vertical-align: middle;\n",
       "    }\n",
       "\n",
       "    .dataframe tbody tr th {\n",
       "        vertical-align: top;\n",
       "    }\n",
       "\n",
       "    .dataframe thead th {\n",
       "        text-align: right;\n",
       "    }\n",
       "</style>\n",
       "<table border=\"1\" class=\"dataframe\">\n",
       "  <thead>\n",
       "    <tr style=\"text-align: right;\">\n",
       "      <th></th>\n",
       "      <th>ds</th>\n",
       "      <th>prcp</th>\n",
       "      <th>tmax</th>\n",
       "      <th>tmin</th>\n",
       "      <th>rain</th>\n",
       "    </tr>\n",
       "  </thead>\n",
       "  <tbody>\n",
       "    <tr>\n",
       "      <th>0</th>\n",
       "      <td>1948-01-01</td>\n",
       "      <td>0.47</td>\n",
       "      <td>51</td>\n",
       "      <td>42</td>\n",
       "      <td>True</td>\n",
       "    </tr>\n",
       "    <tr>\n",
       "      <th>1</th>\n",
       "      <td>1948-01-02</td>\n",
       "      <td>0.59</td>\n",
       "      <td>45</td>\n",
       "      <td>36</td>\n",
       "      <td>True</td>\n",
       "    </tr>\n",
       "    <tr>\n",
       "      <th>2</th>\n",
       "      <td>1948-01-03</td>\n",
       "      <td>0.42</td>\n",
       "      <td>45</td>\n",
       "      <td>35</td>\n",
       "      <td>True</td>\n",
       "    </tr>\n",
       "    <tr>\n",
       "      <th>3</th>\n",
       "      <td>1948-01-04</td>\n",
       "      <td>0.31</td>\n",
       "      <td>45</td>\n",
       "      <td>34</td>\n",
       "      <td>True</td>\n",
       "    </tr>\n",
       "    <tr>\n",
       "      <th>4</th>\n",
       "      <td>1948-01-05</td>\n",
       "      <td>0.17</td>\n",
       "      <td>45</td>\n",
       "      <td>32</td>\n",
       "      <td>True</td>\n",
       "    </tr>\n",
       "  </tbody>\n",
       "</table>\n",
       "</div>"
      ],
      "text/plain": [
       "           ds  prcp  tmax  tmin  rain\n",
       "0  1948-01-01  0.47    51    42  True\n",
       "1  1948-01-02  0.59    45    36  True\n",
       "2  1948-01-03  0.42    45    35  True\n",
       "3  1948-01-04  0.31    45    34  True\n",
       "4  1948-01-05  0.17    45    32  True"
      ]
     },
     "execution_count": 144,
     "metadata": {},
     "output_type": "execute_result"
    }
   ],
   "source": [
    "df_sea = pd.read_csv(\"https://raw.githubusercontent.com/gumdropsteve/datasets/master/seattle_weather_1948-2017.csv\")\n",
    "X_sea = df_sea[['tmax', 'tmin']]\n",
    "df_sea.head()"
   ]
  },
  {
   "cell_type": "code",
   "execution_count": 145,
   "metadata": {
    "id": "7HjYTi5n9rhM"
   },
   "outputs": [
    {
     "data": {
      "text/plain": [
       "array([[-0.66894103, -0.28273047],\n",
       "       [-1.13869169, -0.95744409],\n",
       "       [-1.13869169, -1.06989637],\n",
       "       ...,\n",
       "       [-1.06039991, -1.40725318],\n",
       "       [-0.90381636, -1.18234864],\n",
       "       [-0.74723281, -0.95744409]])"
      ]
     },
     "execution_count": 145,
     "metadata": {},
     "output_type": "execute_result"
    }
   ],
   "source": [
    "# Scale Data\n",
    "scaler = StandardScaler()\n",
    "\n",
    "# Fit & transform data.\n",
    "scaled_df = scaler.fit_transform(X_sea)\n",
    "scaled_df"
   ]
  },
  {
   "cell_type": "code",
   "execution_count": 146,
   "metadata": {
    "id": "Rm5AJom-90w1"
   },
   "outputs": [
    {
     "data": {
      "image/png": "[encoded data removed]",
      "text/plain": [
       "<Figure size 432x288 with 1 Axes>"
      ]
     },
     "metadata": {
      "needs_background": "light"
     },
     "output_type": "display_data"
    }
   ],
   "source": [
    "# Create Elbow Plot\n",
    "\n",
    "# The elbow method depends on WCSS which stands for Within Cluster Sum of Squares\n",
    "\n",
    "wcss = []\n",
    "# Note: We are using K-mean++ to avoid the random initialization trap \n",
    "# Note: We are creating a plot of the WCSS for upto 10 clusters using the for loop\n",
    "# The measurement we are using is the inertia \n",
    "\n",
    "for i in range(1, 11):\n",
    "    kmeans = KMeans(n_clusters = i, init = 'k-means++', random_state = 123)\n",
    "    kmeans.fit(X_sea)\n",
    "    wcss.append(kmeans.inertia_)\n",
    "    \n",
    "plt.plot(range(1, 11), wcss)\n",
    "plt.title('The Elbow Method')\n",
    "plt.xlabel('Number of clusters')\n",
    "plt.ylabel('WCSS')\n",
    "plt.show()\n",
    "\n",
    "# From the plot we can see that the optimal number of clusters in 4, but our target is 2 so we should pick 2."
   ]
  },
  {
   "cell_type": "code",
   "execution_count": 147,
   "metadata": {
    "id": "dnBA-h_7908O"
   },
   "outputs": [],
   "source": [
    "# Apply KMeans and Plot KMeans Results and Actual Results\n",
    "kmeans = KMeans(n_clusters = 2, init = 'k-means++', random_state = 123)\n",
    "y_kmeans = kmeans.fit_predict(scaled_df)"
   ]
  },
  {
   "cell_type": "code",
   "execution_count": 166,
   "metadata": {},
   "outputs": [
    {
     "data": {
      "image/png": "[encoded data removed]",
      "text/plain": [
       "<Figure size 432x288 with 1 Axes>"
      ]
     },
     "metadata": {
      "needs_background": "light"
     },
     "output_type": "display_data"
    }
   ],
   "source": [
    "\n",
    "plt.scatter(scaled_df[y_kmeans == 0, 0],scaled_df[y_kmeans == 0, 1], s = 100, c = 'yellow', label = 'Cluster 1')\n",
    "\n",
    "plt.scatter(scaled_df[y_kmeans == 1, 0], scaled_df[y_kmeans == 1, 1], s = 100, c = 'blue', label = 'Cluster 2')\n",
    "\n",
    "plt.scatter(kmeans.cluster_centers_[:, 0], kmeans.cluster_centers_[:, 1], s = 200, c = 'brown', label = 'Centroids')\n",
    "\n",
    "plt.title('Seattle Weather KMeans Challenge')\n",
    "plt.xlabel('tmax')\n",
    "plt.ylabel('tmin')\n",
    "plt.legend()\n",
    "plt.show()"
   ]
  },
  {
   "cell_type": "code",
   "execution_count": 165,
   "metadata": {},
   "outputs": [
    {
     "data": {
      "text/plain": [
       "array([1, 1, 1, ..., 1, 1, 1], dtype=int32)"
      ]
     },
     "execution_count": 165,
     "metadata": {},
     "output_type": "execute_result"
    }
   ],
   "source": [
    "y_kmeans"
   ]
  },
  {
   "cell_type": "code",
   "execution_count": 150,
   "metadata": {},
   "outputs": [
    {
     "data": {
      "text/html": [
       "<div>\n",
       "<style scoped>\n",
       "    .dataframe tbody tr th:only-of-type {\n",
       "        vertical-align: middle;\n",
       "    }\n",
       "\n",
       "    .dataframe tbody tr th {\n",
       "        vertical-align: top;\n",
       "    }\n",
       "\n",
       "    .dataframe thead th {\n",
       "        text-align: right;\n",
       "    }\n",
       "</style>\n",
       "<table border=\"1\" class=\"dataframe\">\n",
       "  <thead>\n",
       "    <tr style=\"text-align: right;\">\n",
       "      <th></th>\n",
       "      <th>ds</th>\n",
       "      <th>prcp</th>\n",
       "      <th>tmax</th>\n",
       "      <th>tmin</th>\n",
       "      <th>rain</th>\n",
       "      <th>kmean_prid</th>\n",
       "    </tr>\n",
       "  </thead>\n",
       "  <tbody>\n",
       "    <tr>\n",
       "      <th>0</th>\n",
       "      <td>1948-01-01</td>\n",
       "      <td>0.47</td>\n",
       "      <td>51</td>\n",
       "      <td>42</td>\n",
       "      <td>True</td>\n",
       "      <td>1</td>\n",
       "    </tr>\n",
       "    <tr>\n",
       "      <th>1</th>\n",
       "      <td>1948-01-02</td>\n",
       "      <td>0.59</td>\n",
       "      <td>45</td>\n",
       "      <td>36</td>\n",
       "      <td>True</td>\n",
       "      <td>1</td>\n",
       "    </tr>\n",
       "    <tr>\n",
       "      <th>2</th>\n",
       "      <td>1948-01-03</td>\n",
       "      <td>0.42</td>\n",
       "      <td>45</td>\n",
       "      <td>35</td>\n",
       "      <td>True</td>\n",
       "      <td>1</td>\n",
       "    </tr>\n",
       "    <tr>\n",
       "      <th>3</th>\n",
       "      <td>1948-01-04</td>\n",
       "      <td>0.31</td>\n",
       "      <td>45</td>\n",
       "      <td>34</td>\n",
       "      <td>True</td>\n",
       "      <td>1</td>\n",
       "    </tr>\n",
       "    <tr>\n",
       "      <th>4</th>\n",
       "      <td>1948-01-05</td>\n",
       "      <td>0.17</td>\n",
       "      <td>45</td>\n",
       "      <td>32</td>\n",
       "      <td>True</td>\n",
       "      <td>1</td>\n",
       "    </tr>\n",
       "    <tr>\n",
       "      <th>...</th>\n",
       "      <td>...</td>\n",
       "      <td>...</td>\n",
       "      <td>...</td>\n",
       "      <td>...</td>\n",
       "      <td>...</td>\n",
       "      <td>...</td>\n",
       "    </tr>\n",
       "    <tr>\n",
       "      <th>25546</th>\n",
       "      <td>2017-12-10</td>\n",
       "      <td>0.00</td>\n",
       "      <td>49</td>\n",
       "      <td>34</td>\n",
       "      <td>False</td>\n",
       "      <td>1</td>\n",
       "    </tr>\n",
       "    <tr>\n",
       "      <th>25547</th>\n",
       "      <td>2017-12-11</td>\n",
       "      <td>0.00</td>\n",
       "      <td>49</td>\n",
       "      <td>29</td>\n",
       "      <td>False</td>\n",
       "      <td>1</td>\n",
       "    </tr>\n",
       "    <tr>\n",
       "      <th>25548</th>\n",
       "      <td>2017-12-12</td>\n",
       "      <td>0.00</td>\n",
       "      <td>46</td>\n",
       "      <td>32</td>\n",
       "      <td>False</td>\n",
       "      <td>1</td>\n",
       "    </tr>\n",
       "    <tr>\n",
       "      <th>25549</th>\n",
       "      <td>2017-12-13</td>\n",
       "      <td>0.00</td>\n",
       "      <td>48</td>\n",
       "      <td>34</td>\n",
       "      <td>False</td>\n",
       "      <td>1</td>\n",
       "    </tr>\n",
       "    <tr>\n",
       "      <th>25550</th>\n",
       "      <td>2017-12-14</td>\n",
       "      <td>0.00</td>\n",
       "      <td>50</td>\n",
       "      <td>36</td>\n",
       "      <td>False</td>\n",
       "      <td>1</td>\n",
       "    </tr>\n",
       "  </tbody>\n",
       "</table>\n",
       "<p>25551 rows × 6 columns</p>\n",
       "</div>"
      ],
      "text/plain": [
       "               ds  prcp  tmax  tmin   rain  kmean_prid\n",
       "0      1948-01-01  0.47    51    42   True           1\n",
       "1      1948-01-02  0.59    45    36   True           1\n",
       "2      1948-01-03  0.42    45    35   True           1\n",
       "3      1948-01-04  0.31    45    34   True           1\n",
       "4      1948-01-05  0.17    45    32   True           1\n",
       "...           ...   ...   ...   ...    ...         ...\n",
       "25546  2017-12-10  0.00    49    34  False           1\n",
       "25547  2017-12-11  0.00    49    29  False           1\n",
       "25548  2017-12-12  0.00    46    32  False           1\n",
       "25549  2017-12-13  0.00    48    34  False           1\n",
       "25550  2017-12-14  0.00    50    36  False           1\n",
       "\n",
       "[25551 rows x 6 columns]"
      ]
     },
     "execution_count": 150,
     "metadata": {},
     "output_type": "execute_result"
    }
   ],
   "source": [
    "# assign the y_kmeans to a new column\n",
    "df_sea['kmean_prid']= y_kmeans\n",
    "df_sea"
   ]
  },
  {
   "cell_type": "code",
   "execution_count": 152,
   "metadata": {},
   "outputs": [],
   "source": [
    "# replace True with 1 and False with 0 to help us caluclate the Accuracy Score\n",
    "df_sea.replace({False: 0, True: 1}, inplace=True)"
   ]
  },
  {
   "cell_type": "code",
   "execution_count": 153,
   "metadata": {},
   "outputs": [
    {
     "data": {
      "text/plain": [
       "True     16266\n",
       "False     9285\n",
       "dtype: int64"
      ]
     },
     "execution_count": 153,
     "metadata": {},
     "output_type": "execute_result"
    }
   ],
   "source": [
    "# Calculate the number of correct predictions\n",
    "(df_sea['rain'] == df_sea['kmean_prid']).value_counts()"
   ]
  },
  {
   "cell_type": "code",
   "execution_count": 162,
   "metadata": {},
   "outputs": [
    {
     "data": {
      "text/plain": [
       "array([ 1.,  0., nan])"
      ]
     },
     "execution_count": 162,
     "metadata": {},
     "output_type": "execute_result"
    }
   ],
   "source": [
    "df_sea.isnull().sum()\n",
    "df_sea['rain'].unique()"
   ]
  },
  {
   "cell_type": "code",
   "execution_count": null,
   "metadata": {},
   "outputs": [],
   "source": [
    "df_sea.dropna()"
   ]
  },
  {
   "cell_type": "code",
   "execution_count": null,
   "metadata": {},
   "outputs": [],
   "source": [
    "actualvalues = df_sea['rain'].iloc[:10000,:]\n",
    "actualvalues "
   ]
  },
  {
   "cell_type": "code",
   "execution_count": null,
   "metadata": {
    "id": "5M4c5Mlv91IY"
   },
   "outputs": [],
   "source": [
    "# Compute Accuracy Score of KMean Labels with True Labels\n",
    "score = round(accuracy_score(y_kmeans, actualvalues), 2)\n",
    "print('Accuracy of Kmeans :{0:f}'.format(score))"
   ]
  },
  {
   "cell_type": "markdown",
   "metadata": {
    "id": "N0n5Hb0_9CmE"
   },
   "source": [
    "# Random Blob KMeans Challenge\n",
    "\n",
    "- You dont have true labels for this data so this is truly an unsupervised dataset\n",
    "- The blobs are randomly generated every time you run the cell and their characteristics are:\n",
    "    - 2000-4000 data points\n",
    "    - 10-30 blobs created"
   ]
  },
  {
   "cell_type": "code",
   "execution_count": 178,
   "metadata": {
    "colab": {
     "base_uri": "https://localhost:8080/",
     "height": 621
    },
    "id": "OpO3Hf62D6eY",
    "outputId": "47b12bd8-18fa-430c-c0d4-8545bd94d16d"
   },
   "outputs": [
    {
     "data": {
      "image/png": "[encoded data removed]",
      "text/plain": [
       "<Figure size 864x720 with 1 Axes>"
      ]
     },
     "metadata": {
      "needs_background": "light"
     },
     "output_type": "display_data"
    }
   ],
   "source": [
    "df_blob = pd.DataFrame(make_blobs(random.randint(2000,4000), centers=random.randint(10,30))[0])\n",
    "df_blob.plot(kind=\"scatter\", x=0, y=1, title=\"Blobs\", figsize=(12,10));"
   ]
  },
  {
   "cell_type": "code",
   "execution_count": 184,
   "metadata": {
    "id": "qXTIHhXOWMZ0"
   },
   "outputs": [
    {
     "data": {
      "text/plain": [
       "array([[-0.04717386,  0.1875332 ],\n",
       "       [-1.37032437,  1.25837957],\n",
       "       [ 1.57492612,  1.54737408],\n",
       "       ...,\n",
       "       [-1.3058099 ,  1.37376169],\n",
       "       [ 1.02442893,  0.71032842],\n",
       "       [ 0.33006204, -1.17410891]])"
      ]
     },
     "execution_count": 184,
     "metadata": {},
     "output_type": "execute_result"
    }
   ],
   "source": [
    "# Scale Data\n",
    "scaler = StandardScaler()\n",
    "\n",
    "# Fit & transform data.\n",
    "scaled_df = scaler.fit_transform(df_blob)\n",
    "scaled_df"
   ]
  },
  {
   "cell_type": "code",
   "execution_count": 186,
   "metadata": {
    "id": "09q-UIfm9_5w"
   },
   "outputs": [
    {
     "data": {
      "image/png": "[encoded data removed]",
      "text/plain": [
       "<Figure size 432x288 with 1 Axes>"
      ]
     },
     "metadata": {
      "needs_background": "light"
     },
     "output_type": "display_data"
    }
   ],
   "source": [
    "# The elbow method depends on WCSS which stands for Within Cluster Sum of Squares\n",
    "\n",
    "wcss = []\n",
    "# Note: We are using K-mean++ to avoid the random initialization trap \n",
    "# Note: We are creating a plot of the WCSS for upto 10 clusters using the for loop\n",
    "# The measurement we are using is the inertia \n",
    "\n",
    "for i in range(1, 11):\n",
    "    kmeans = KMeans(n_clusters = i, init = 'k-means++', random_state = 123)\n",
    "    kmeans.fit(X_sea)\n",
    "    wcss.append(kmeans.inertia_)\n",
    "    \n",
    "plt.plot(range(1, 11), wcss)\n",
    "plt.title('The Elbow Method')\n",
    "plt.xlabel('Number of clusters')\n",
    "plt.ylabel('WCSS')\n",
    "plt.show()"
   ]
  },
  {
   "cell_type": "code",
   "execution_count": 187,
   "metadata": {
    "id": "p6XUywQB-B1S"
   },
   "outputs": [],
   "source": [
    "# Apply KMeans and Plot KMeans Results and Actual Results\n",
    "kmeans = KMeans(n_clusters = 2, init = 'k-means++', random_state = 123)\n",
    "y_kmeans = kmeans.fit_predict(scaled_df)"
   ]
  },
  {
   "cell_type": "code",
   "execution_count": 188,
   "metadata": {},
   "outputs": [
    {
     "data": {
      "image/png": "[encoded data removed]",
      "text/plain": [
       "<Figure size 432x288 with 1 Axes>"
      ]
     },
     "metadata": {
      "needs_background": "light"
     },
     "output_type": "display_data"
    }
   ],
   "source": [
    "# Plot the clusters \n",
    "\n",
    "plt.scatter(scaled_df[y_kmeans == 0, 0],scaled_df[y_kmeans == 0, 1], s = 100, c = 'red', label = 'Cluster 1')\n",
    "\n",
    "plt.scatter(scaled_df[y_kmeans == 1, 0], scaled_df[y_kmeans == 1, 1], s = 100, c = 'blue', label = 'Cluster 2')\n",
    "\n",
    "plt.scatter(kmeans.cluster_centers_[:, 0], kmeans.cluster_centers_[:, 1], s = 200, c = 'brown', label = 'Centroids')\n",
    "\n",
    "plt.title('# Random Blob KMeans Challenge')\n",
    "plt.legend()\n",
    "plt.show()"
   ]
  }
 ],
 "metadata": {
  "colab": {
   "name": "KMeans.ipynb",
   "provenance": []
  },
  "kernelspec": {
   "display_name": "Python 3",
   "language": "python",
   "name": "python3"
  },
  "language_info": {
   "codemirror_mode": {
    "name": "ipython",
    "version": 3
   },
   "file_extension": ".py",
   "mimetype": "text/x-python",
   "name": "python",
   "nbconvert_exporter": "python",
   "pygments_lexer": "ipython3",
   "version": "3.8.8"
  }
 },
 "nbformat": 4,
 "nbformat_minor": 1
}
