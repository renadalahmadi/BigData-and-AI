{
 "cells": [
  {
   "cell_type": "markdown",
   "id": "b83500bd",
   "metadata": {
    "id": "b83500bd"
   },
   "source": [
    "\n",
    "# Supervised Machine Learning with PySpark\n",
    "\n",
    "We will be using the Used Cars for Sale Dataset for this tutorial. This dataset has 426,881 rows and 26 columns.\n",
    "\n",
    "Learning Outcomes:\n",
    "1. Obtain data using PySpark\n",
    "2. Clean data using PySpark\n",
    "3. Data Exploration using PySpark\n",
    "4. Model Building with PySpark"
   ]
  },
  {
   "cell_type": "code",
   "execution_count": null,
   "id": "hUs7tbu5L_Rp",
   "metadata": {
    "colab": {
     "base_uri": "https://localhost:8080/"
    },
    "id": "hUs7tbu5L_Rp",
    "outputId": "bcce9161-3a91-479c-cc50-fe0ededd55b2"
   },
   "outputs": [],
   "source": [
    "! pip install pyspark"
   ]
  },
  {
   "cell_type": "code",
   "execution_count": 1,
   "id": "d9bf04be",
   "metadata": {
    "id": "d9bf04be"
   },
   "outputs": [],
   "source": [
    "#lets import the usual suspects\n",
    "import warnings\n",
    "import matplotlib.pyplot as plt\n",
    "import seaborn as sns\n",
    "import pandas as pd\n",
    "\n",
    "#other imports we will be needing in this notebook\n",
    "import pyspark\n",
    "from pyspark.sql import functions as F\n",
    "from pyspark.sql import types\n",
    "from pyspark.sql.functions import col, isnan, when, count\n",
    "\n",
    "from pyspark.ml.feature import Imputer, VectorAssembler, StringIndexer\n",
    "from pyspark.ml.regression import RandomForestRegressor, DecisionTreeRegressor, GBTRegressor, LinearRegression\n",
    "from pyspark.ml.classification import RandomForestClassifier \n",
    "from pyspark.ml.evaluation import RegressionEvaluator \n",
    "from pyspark.ml.tuning import CrossValidator, ParamGridBuilder\n",
    "\n",
    "warnings.filterwarnings('ignore')"
   ]
  },
  {
   "cell_type": "markdown",
   "id": "a98c10f1",
   "metadata": {
    "id": "a98c10f1"
   },
   "source": [
    "## Connect to the Spark server\n",
    "\n",
    "We will be using the SparkSession (`spark`) to access our spark cluster.."
   ]
  },
  {
   "cell_type": "code",
   "execution_count": 4,
   "id": "463101a9",
   "metadata": {
    "id": "463101a9"
   },
   "outputs": [],
   "source": [
    "spark = pyspark.sql.SparkSession.builder.getOrCreate()"
   ]
  },
  {
   "cell_type": "markdown",
   "id": "1c79a595",
   "metadata": {
    "id": "1c79a595"
   },
   "source": [
    "## Obtaining the Data\n",
    "\n",
    "The data is uploaded in my Personal drive because of the data size. "
   ]
  },
  {
   "cell_type": "code",
   "execution_count": 2,
   "id": "e9f8bdf0",
   "metadata": {
    "id": "e9f8bdf0"
   },
   "outputs": [],
   "source": [
    "fullpath = 'DataCoSupplyChainDataset.csv'"
   ]
  },
  {
   "cell_type": "markdown",
   "id": "acf4ac31",
   "metadata": {
    "id": "acf4ac31"
   },
   "source": [
    "- It's important to specify the (header = True) so we've the header for dataset elsewhere the spark consider our header as one of the records.\n",
    "\n",
    "- When we import the data below, the schema (which is similar to a schema in SQL or dtypes in Pandas) has been inferred based on the data."
   ]
  },
  {
   "cell_type": "code",
   "execution_count": 5,
   "id": "412593fe",
   "metadata": {
    "colab": {
     "base_uri": "https://localhost:8080/"
    },
    "id": "412593fe",
    "outputId": "5ac62d00-cccc-4fdd-c27a-afa6535941ea"
   },
   "outputs": [
    {
     "name": "stdout",
     "output_type": "stream",
     "text": [
      "root\n",
      " |-- Type: string (nullable = true)\n",
      " |-- Days for shipping (real): integer (nullable = true)\n",
      " |-- Days for shipment (scheduled): integer (nullable = true)\n",
      " |-- Benefit per order: double (nullable = true)\n",
      " |-- Sales per customer: double (nullable = true)\n",
      " |-- Delivery Status: string (nullable = true)\n",
      " |-- Late_delivery_risk: integer (nullable = true)\n",
      " |-- Category Id: integer (nullable = true)\n",
      " |-- Category Name: string (nullable = true)\n",
      " |-- Customer City: string (nullable = true)\n",
      " |-- Customer Country: string (nullable = true)\n",
      " |-- Customer Email: string (nullable = true)\n",
      " |-- Customer Fname: string (nullable = true)\n",
      " |-- Customer Id: integer (nullable = true)\n",
      " |-- Customer Lname: string (nullable = true)\n",
      " |-- Customer Password: string (nullable = true)\n",
      " |-- Customer Segment: string (nullable = true)\n",
      " |-- Customer State: string (nullable = true)\n",
      " |-- Customer Street: string (nullable = true)\n",
      " |-- Customer Zipcode: integer (nullable = true)\n",
      " |-- Department Id: integer (nullable = true)\n",
      " |-- Department Name: string (nullable = true)\n",
      " |-- Latitude: double (nullable = true)\n",
      " |-- Longitude: double (nullable = true)\n",
      " |-- Market: string (nullable = true)\n",
      " |-- Order City: string (nullable = true)\n",
      " |-- Order Country: string (nullable = true)\n",
      " |-- Order Customer Id: integer (nullable = true)\n",
      " |-- order date (DateOrders): string (nullable = true)\n",
      " |-- Order Id: integer (nullable = true)\n",
      " |-- Order Item Cardprod Id: integer (nullable = true)\n",
      " |-- Order Item Discount: double (nullable = true)\n",
      " |-- Order Item Discount Rate: double (nullable = true)\n",
      " |-- Order Item Id: integer (nullable = true)\n",
      " |-- Order Item Product Price: double (nullable = true)\n",
      " |-- Order Item Profit Ratio: double (nullable = true)\n",
      " |-- Order Item Quantity: integer (nullable = true)\n",
      " |-- Sales: double (nullable = true)\n",
      " |-- Order Item Total: double (nullable = true)\n",
      " |-- Order Profit Per Order: double (nullable = true)\n",
      " |-- Order Region: string (nullable = true)\n",
      " |-- Order State: string (nullable = true)\n",
      " |-- Order Status: string (nullable = true)\n",
      " |-- Order Zipcode: integer (nullable = true)\n",
      " |-- Product Card Id: integer (nullable = true)\n",
      " |-- Product Category Id: integer (nullable = true)\n",
      " |-- Product Description: string (nullable = true)\n",
      " |-- Product Image: string (nullable = true)\n",
      " |-- Product Name: string (nullable = true)\n",
      " |-- Product Price: double (nullable = true)\n",
      " |-- Product Status: integer (nullable = true)\n",
      " |-- shipping date (DateOrders): string (nullable = true)\n",
      " |-- Shipping Mode: string (nullable = true)\n",
      "\n"
     ]
    }
   ],
   "source": [
    "# read.csv is very similar to the Pandas version\n",
    "data = spark.read.csv(fullpath,\n",
    "                     sep=',',\n",
    "                     inferSchema=True,\n",
    "                     header=True,\n",
    "                     multiLine=True)\n",
    "\n",
    "data.printSchema()"
   ]
  },
  {
   "cell_type": "code",
   "execution_count": 181,
   "id": "5KKRNjrmMFZJ",
   "metadata": {
    "colab": {
     "base_uri": "https://localhost:8080/"
    },
    "id": "5KKRNjrmMFZJ",
    "outputId": "02ae2bec-d9ce-45aa-cbd9-89876aaf69ca"
   },
   "outputs": [
    {
     "name": "stdout",
     "output_type": "stream",
     "text": [
      "+--------+------------------------+-----------------------------+-----------------+------------------+-----------------+------------------+-----------+--------------+--------------+----------------+--------------+--------------+-----------+--------------+-----------------+----------------+--------------+--------------------+----------------+-------------+---------------+-----------+------------+------------+----------+-------------+-----------------+-----------------------+--------+----------------------+-------------------+------------------------+-------------+------------------------+-----------------------+-------------------+------+----------------+----------------------+--------------+--------------------+---------------+-------------+---------------+-------------------+-------------------+--------------------+------------+-------------+--------------+--------------------------+--------------+\n",
      "|    Type|Days for shipping (real)|Days for shipment (scheduled)|Benefit per order|Sales per customer|  Delivery Status|Late_delivery_risk|Category Id| Category Name| Customer City|Customer Country|Customer Email|Customer Fname|Customer Id|Customer Lname|Customer Password|Customer Segment|Customer State|     Customer Street|Customer Zipcode|Department Id|Department Name|   Latitude|   Longitude|      Market|Order City|Order Country|Order Customer Id|order date (DateOrders)|Order Id|Order Item Cardprod Id|Order Item Discount|Order Item Discount Rate|Order Item Id|Order Item Product Price|Order Item Profit Ratio|Order Item Quantity| Sales|Order Item Total|Order Profit Per Order|  Order Region|         Order State|   Order Status|Order Zipcode|Product Card Id|Product Category Id|Product Description|       Product Image|Product Name|Product Price|Product Status|shipping date (DateOrders)| Shipping Mode|\n",
      "+--------+------------------------+-----------------------------+-----------------+------------------+-----------------+------------------+-----------+--------------+--------------+----------------+--------------+--------------+-----------+--------------+-----------------+----------------+--------------+--------------------+----------------+-------------+---------------+-----------+------------+------------+----------+-------------+-----------------+-----------------------+--------+----------------------+-------------------+------------------------+-------------+------------------------+-----------------------+-------------------+------+----------------+----------------------+--------------+--------------------+---------------+-------------+---------------+-------------------+-------------------+--------------------+------------+-------------+--------------+--------------------------+--------------+\n",
      "|   DEBIT|                       3|                            4|            91.25|       314.6400146| Advance shipping|                 0|         73|Sporting Goods|        Caguas|     Puerto Rico|     XXXXXXXXX|         Cally|      20755|      Holloway|        XXXXXXXXX|        Consumer|            PR|5365 Noble Nectar...|             725|            2|        Fitness| 18.2514534|-66.03705597|Pacific Asia|    Bekasi|    Indonesia|            20755|        1/31/2018 22:56|   77202|                  1360|        13.10999966|             0.039999999|       180517|                  327.75|            0.289999992|                  1|327.75|     314.6400146|                 91.25|Southeast Asia|     Java Occidental|       COMPLETE|         null|           1360|                 73|               null|http://images.acm...|Smart watch |       327.75|             0|            2/3/2018 22:56|Standard Class|\n",
      "|TRANSFER|                       5|                            4|     -249.0899963|       311.3599854|    Late delivery|                 1|         73|Sporting Goods|        Caguas|     Puerto Rico|     XXXXXXXXX|         Irene|      19492|          Luna|        XXXXXXXXX|        Consumer|            PR|    2679 Rustic Loop|             725|            2|        Fitness|18.27945137| -66.0370636|Pacific Asia|   Bikaner|        India|            19492|        1/13/2018 12:27|   75939|                  1360|        16.38999939|             0.050000001|       179254|                  327.75|           -0.800000012|                  1|327.75|     311.3599854|          -249.0899963|    South Asia|            Rajast�n|        PENDING|         null|           1360|                 73|               null|http://images.acm...|Smart watch |       327.75|             0|           1/18/2018 12:27|Standard Class|\n",
      "|    CASH|                       4|                            4|     -247.7799988|       309.7200012| Shipping on time|                 0|         73|Sporting Goods|      San Jose|         EE. UU.|     XXXXXXXXX|       Gillian|      19491|     Maldonado|        XXXXXXXXX|        Consumer|            CA|8510 Round Bear Gate|           95125|            2|        Fitness|37.29223251| -121.881279|Pacific Asia|   Bikaner|        India|            19491|        1/13/2018 12:06|   75938|                  1360|        18.03000069|             0.059999999|       179253|                  327.75|           -0.800000012|                  1|327.75|     309.7200012|          -247.7799988|    South Asia|            Rajast�n|         CLOSED|         null|           1360|                 73|               null|http://images.acm...|Smart watch |       327.75|             0|           1/17/2018 12:06|Standard Class|\n",
      "|   DEBIT|                       3|                            4|      22.86000061|       304.8099976| Advance shipping|                 0|         73|Sporting Goods|   Los Angeles|         EE. UU.|     XXXXXXXXX|          Tana|      19490|          Tate|        XXXXXXXXX|     Home Office|            CA|     3200 Amber Bend|           90027|            2|        Fitness|34.12594605|-118.2910156|Pacific Asia|Townsville|    Australia|            19490|        1/13/2018 11:45|   75937|                  1360|        22.94000053|                    0.07|       179252|                  327.75|            0.079999998|                  1|327.75|     304.8099976|           22.86000061|       Oceania|          Queensland|       COMPLETE|         null|           1360|                 73|               null|http://images.acm...|Smart watch |       327.75|             0|           1/16/2018 11:45|Standard Class|\n",
      "| PAYMENT|                       2|                            4|      134.2100067|            298.25| Advance shipping|                 0|         73|Sporting Goods|        Caguas|     Puerto Rico|     XXXXXXXXX|          Orli|      19489|     Hendricks|        XXXXXXXXX|       Corporate|            PR|8671 Iron Anchor ...|             725|            2|        Fitness|18.25376892|-66.03704834|Pacific Asia|Townsville|    Australia|            19489|        1/13/2018 11:24|   75936|                  1360|               29.5|             0.090000004|       179251|                  327.75|            0.449999988|                  1|327.75|          298.25|           134.2100067|       Oceania|          Queensland|PENDING_PAYMENT|         null|           1360|                 73|               null|http://images.acm...|Smart watch |       327.75|             0|           1/15/2018 11:24|Standard Class|\n",
      "|TRANSFER|                       6|                            4|      18.57999992|        294.980011|Shipping canceled|                 0|         73|Sporting Goods|     Tonawanda|         EE. UU.|     XXXXXXXXX|      Kimberly|      19488|       Flowers|        XXXXXXXXX|        Consumer|            NY|    2122 Hazy Corner|           14150|            2|        Fitness|43.01396942|-78.87906647|Pacific Asia| Toowoomba|    Australia|            19488|        1/13/2018 11:03|   75935|                  1360|        32.77999878|             0.100000001|       179250|                  327.75|            0.059999999|                  1|327.75|      294.980011|           18.57999992|       Oceania|          Queensland|       CANCELED|         null|           1360|                 73|               null|http://images.acm...|Smart watch |       327.75|             0|           1/19/2018 11:03|Standard Class|\n",
      "|   DEBIT|                       2|                            1|      95.18000031|       288.4200134|    Late delivery|                 1|         73|Sporting Goods|        Caguas|     Puerto Rico|     XXXXXXXXX|     Constance|      19487|       Terrell|        XXXXXXXXX|     Home Office|            PR|1879 Green Pine Bank|             725|            2|        Fitness|18.24253845|-66.03705597|Pacific Asia| Guangzhou|        China|            19487|        1/13/2018 10:42|   75934|                  1360|        39.33000183|             0.119999997|       179249|                  327.75|            0.330000013|                  1|327.75|     288.4200134|           95.18000031|  Eastern Asia|           Guangdong|       COMPLETE|         null|           1360|                 73|               null|http://images.acm...|Smart watch |       327.75|             0|           1/15/2018 10:42|   First Class|\n",
      "|TRANSFER|                       2|                            1|      68.43000031|       285.1400146|    Late delivery|                 1|         73|Sporting Goods|         Miami|         EE. UU.|     XXXXXXXXX|         Erica|      19486|       Stevens|        XXXXXXXXX|       Corporate|            FL| 7595 Cotton Log Row|           33162|            2|        Fitness|25.92886925|-80.16287231|Pacific Asia| Guangzhou|        China|            19486|        1/13/2018 10:21|   75933|                  1360|        42.61000061|             0.129999995|       179248|                  327.75|            0.239999995|                  1|327.75|     285.1400146|           68.43000031|  Eastern Asia|           Guangdong|     PROCESSING|         null|           1360|                 73|               null|http://images.acm...|Smart watch |       327.75|             0|           1/15/2018 10:21|   First Class|\n",
      "|    CASH|                       3|                            2|      133.7200012|       278.5899963|    Late delivery|                 1|         73|Sporting Goods|        Caguas|     Puerto Rico|     XXXXXXXXX|       Nichole|      19485|         Olsen|        XXXXXXXXX|       Corporate|            PR|    2051 Dusty Route|             725|            2|        Fitness|18.23322296|-66.03705597|Pacific Asia| Guangzhou|        China|            19485|        1/13/2018 10:00|   75932|                  1360|        49.15999985|             0.150000006|       179247|                  327.75|            0.479999989|                  1|327.75|     278.5899963|           133.7200012|  Eastern Asia|           Guangdong|         CLOSED|         null|           1360|                 73|               null|http://images.acm...|Smart watch |       327.75|             0|           1/16/2018 10:00|  Second Class|\n",
      "|    CASH|                       2|                            1|      132.1499939|       275.3099976|    Late delivery|                 1|         73|Sporting Goods|     San Ramon|         EE. UU.|     XXXXXXXXX|         Oprah|      19484|      Delacruz|        XXXXXXXXX|       Corporate|            CA|9139 Blue Blossom...|           94583|            2|        Fitness|37.77399063| -121.966629|Pacific Asia| Guangzhou|        China|            19484|         1/13/2018 9:39|   75931|                  1360|        52.43999863|             0.159999996|       179246|                  327.75|            0.479999989|                  1|327.75|     275.3099976|           132.1499939|  Eastern Asia|           Guangdong|         CLOSED|         null|           1360|                 73|               null|http://images.acm...|Smart watch |       327.75|             0|            1/15/2018 9:39|   First Class|\n",
      "|TRANSFER|                       6|                            2|      130.5800018|       272.0299988|Shipping canceled|                 0|         73|Sporting Goods|        Caguas|     Puerto Rico|     XXXXXXXXX|       Germane|      19483|         Short|        XXXXXXXXX|       Corporate|            PR|  4058 Quiet Heights|             725|            2|        Fitness|18.28284454|-66.03705597|Pacific Asia|     Tokio|        Jap�n|            19483|         1/13/2018 9:18|   75930|                  1360|        55.72000122|             0.170000002|       179245|                  327.75|            0.479999989|                  1|327.75|     272.0299988|           130.5800018|  Eastern Asia|               Tokio|SUSPECTED_FRAUD|         null|           1360|                 73|               null|http://images.acm...|Smart watch |       327.75|             0|            1/19/2018 9:18|  Second Class|\n",
      "|TRANSFER|                       5|                            2|      45.68999863|       268.7600098|    Late delivery|                 1|         73|Sporting Goods|      Freeport|         EE. UU.|     XXXXXXXXX|         Freya|      19482|       Robbins|        XXXXXXXXX|        Consumer|            NY|   3243 Shady Corner|           11520|            2|        Fitness|40.65486527|-73.58707428|Pacific Asia|    Manado|    Indonesia|            19482|         1/13/2018 8:57|   75929|                  1360|               59.0|             0.180000007|       179244|                  327.75|            0.170000002|                  1|327.75|     268.7600098|           45.68999863|Southeast Asia|C�lebes Septentri...|        PENDING|         null|           1360|                 73|               null|http://images.acm...|Smart watch |       327.75|             0|            1/18/2018 8:57|  Second Class|\n",
      "|TRANSFER|                       4|                            2|      21.76000023|       262.2000122|    Late delivery|                 1|         73|Sporting Goods|       Salinas|         EE. UU.|     XXXXXXXXX|     Cassandra|      19481|        Jensen|        XXXXXXXXX|       Corporate|            CA|131 Sunny Treasur...|           93905|            2|        Fitness| 36.6763382| -121.656517|Pacific Asia|    Manado|    Indonesia|            19481|         1/13/2018 8:36|   75928|                  1360|        65.55000305|             0.200000003|       179243|                  327.75|            0.079999998|                  1|327.75|     262.2000122|           21.76000023|Southeast Asia|C�lebes Septentri...|        PENDING|         null|           1360|                 73|               null|http://images.acm...|Smart watch |       327.75|             0|            1/17/2018 8:36|  Second Class|\n",
      "|   DEBIT|                       2|                            1|      24.57999992|       245.8099976|    Late delivery|                 1|         73|Sporting Goods|        Caguas|     Puerto Rico|     XXXXXXXXX|       Natalie|      19480|      Mcfadden|        XXXXXXXXX|       Corporate|            PR| 2531 Wishing Square|             725|            2|        Fitness|18.27843857|-66.03705597|Pacific Asia|    Sangli|        India|            19480|         1/13/2018 8:15|   75927|                  1360|        81.94000244|                    0.25|       179242|                  327.75|            0.100000001|                  1|327.75|     245.8099976|           24.57999992|    South Asia|         Maharashtra|       COMPLETE|         null|           1360|                 73|               null|http://images.acm...|Smart watch |       327.75|             0|            1/15/2018 8:15|   First Class|\n",
      "|TRANSFER|                       2|                            1|      16.38999939|            327.75|    Late delivery|                 1|         73|Sporting Goods|       Peabody|         EE. UU.|     XXXXXXXXX|     Kimberley|      19479|        Sharpe|        XXXXXXXXX|       Corporate|            MA|  6417 Silver Towers|            1960|            2|        Fitness|42.52627564|-70.92703247|Pacific Asia|    Sangli|        India|            19479|         1/13/2018 7:54|   75926|                  1360|                0.0|                     0.0|       179241|                  327.75|            0.050000001|                  1|327.75|          327.75|           16.38999939|    South Asia|         Maharashtra|     PROCESSING|         null|           1360|                 73|               null|http://images.acm...|Smart watch |       327.75|             0|            1/15/2018 7:54|   First Class|\n",
      "|   DEBIT|                       2|                            1|     -259.5799866|       324.4700012|    Late delivery|                 1|         73|Sporting Goods|        Caguas|     Puerto Rico|     XXXXXXXXX|          Sade|      19478|     Lancaster|        XXXXXXXXX|       Corporate|            PR|   257 Harvest Close|             725|            2|        Fitness|18.28404999|-66.03705597|Pacific Asia|    Sangli|        India|            19478|         1/13/2018 7:33|   75925|                  1360|        3.279999971|                    0.01|       179240|                  327.75|           -0.800000012|                  1|327.75|     324.4700012|          -259.5799866|    South Asia|         Maharashtra|       COMPLETE|         null|           1360|                 73|               null|http://images.acm...|Smart watch |       327.75|             0|            1/15/2018 7:33|   First Class|\n",
      "| PAYMENT|                       5|                            2|     -246.3600006|       321.2000122|    Late delivery|                 1|         73|Sporting Goods|     Canovanas|     Puerto Rico|     XXXXXXXXX|        Brynne|      19477|         Giles|        XXXXXXXXX|       Corporate|            PR|7342 Hazy Beacon ...|             729|            2|        Fitness| 18.3957901|-65.87288666|Pacific Asia|      Se�l|Corea del Sur|            19477|         1/13/2018 7:12|   75924|                  1360|        6.559999943|                    0.02|       179239|                  327.75|           -0.769999981|                  1|327.75|     321.2000122|          -246.3600006|  Eastern Asia|                Se�l|PENDING_PAYMENT|         null|           1360|                 73|               null|http://images.acm...|Smart watch |       327.75|             0|            1/18/2018 7:12|  Second Class|\n",
      "|    CASH|                       2|                            1|      23.84000015|       317.9200134|    Late delivery|                 1|         73|Sporting Goods|     Paramount|         EE. UU.|     XXXXXXXXX|         Ciara|      19476|          Bird|        XXXXXXXXX|       Corporate|            CA|   7787 Lazy Corners|           90723|            2|        Fitness|33.89869309|-118.1745605|Pacific Asia|  Jabalpur|        India|            19476|         1/13/2018 6:51|   75923|                  1360|        9.829999924|             0.029999999|       179238|                  327.75|            0.079999998|                  1|327.75|     317.9200134|           23.84000015|    South Asia|      Madhya Pradesh|         CLOSED|         null|           1360|                 73|               null|http://images.acm...|Smart watch |       327.75|             0|            1/15/2018 6:51|   First Class|\n",
      "|   DEBIT|                       2|                            1|      102.2600021|       314.6400146|    Late delivery|                 1|         73|Sporting Goods|        Caguas|     Puerto Rico|     XXXXXXXXX|            Bo|      19475|       Griffin|        XXXXXXXXX|        Consumer|            PR|5136 Rustic Pione...|             725|            2|        Fitness|  18.233778| -66.0370636|Pacific Asia|  Jabalpur|        India|            19475|         1/13/2018 6:30|   75922|                  1360|        13.10999966|             0.039999999|       179237|                  327.75|            0.330000013|                  1|327.75|     314.6400146|           102.2600021|    South Asia|      Madhya Pradesh|       COMPLETE|         null|           1360|                 73|               null|http://images.acm...|Smart watch |       327.75|             0|            1/15/2018 6:30|   First Class|\n",
      "| PAYMENT|                       0|                            0|      87.18000031|       311.3599854| Shipping on time|                 0|         73|Sporting Goods|Mount Prospect|         EE. UU.|     XXXXXXXXX|           Kim|      19474|         Simon|        XXXXXXXXX|        Consumer|            IL|      1723 Tawny Via|           60056|            2|        Fitness|42.04830551|-87.96134186|Pacific Asia|  Jabalpur|        India|            19474|         1/13/2018 6:09|   75921|                  1360|        16.38999939|             0.050000001|       179236|                  327.75|            0.280000001|                  1|327.75|     311.3599854|           87.18000031|    South Asia|      Madhya Pradesh|PENDING_PAYMENT|         null|           1360|                 73|               null|http://images.acm...|Smart watch |       327.75|             0|           1/13/2018 18:09|      Same Day|\n",
      "+--------+------------------------+-----------------------------+-----------------+------------------+-----------------+------------------+-----------+--------------+--------------+----------------+--------------+--------------+-----------+--------------+-----------------+----------------+--------------+--------------------+----------------+-------------+---------------+-----------+------------+------------+----------+-------------+-----------------+-----------------------+--------+----------------------+-------------------+------------------------+-------------+------------------------+-----------------------+-------------------+------+----------------+----------------------+--------------+--------------------+---------------+-------------+---------------+-------------------+-------------------+--------------------+------------+-------------+--------------+--------------------------+--------------+\n",
      "only showing top 20 rows\n",
      "\n"
     ]
    }
   ],
   "source": [
    "data.show()"
   ]
  },
  {
   "cell_type": "markdown",
   "id": "5071df4c",
   "metadata": {
    "id": "5071df4c",
    "papermill": {
     "duration": 0.01934,
     "end_time": "2022-08-12T11:27:38.341867",
     "exception": false,
     "start_time": "2022-08-12T11:27:38.322527",
     "status": "completed"
    },
    "tags": []
   },
   "source": [
    "## Data Cleaning\n",
    "\n",
    "Let's check for null values"
   ]
  },
  {
   "cell_type": "code",
   "execution_count": 182,
   "id": "1eabbc53",
   "metadata": {
    "colab": {
     "base_uri": "https://localhost:8080/"
    },
    "id": "1eabbc53",
    "outputId": "be8fe55c-5aae-413c-e765-b4988588da4f"
   },
   "outputs": [
    {
     "name": "stdout",
     "output_type": "stream",
     "text": [
      "+----+------------------------+-----------------------------+-----------------+------------------+---------------+------------------+-----------+-------------+-------------+----------------+--------------+--------------+-----------+--------------+-----------------+----------------+--------------+---------------+----------------+-------------+---------------+--------+---------+------+----------+-------------+-----------------+-----------------------+--------+----------------------+-------------------+------------------------+-------------+------------------------+-----------------------+-------------------+-----+----------------+----------------------+------------+-----------+------------+-------------+---------------+-------------------+-------------------+-------------+------------+-------------+--------------+--------------------------+-------------+\n",
      "|Type|Days for shipping (real)|Days for shipment (scheduled)|Benefit per order|Sales per customer|Delivery Status|Late_delivery_risk|Category Id|Category Name|Customer City|Customer Country|Customer Email|Customer Fname|Customer Id|Customer Lname|Customer Password|Customer Segment|Customer State|Customer Street|Customer Zipcode|Department Id|Department Name|Latitude|Longitude|Market|Order City|Order Country|Order Customer Id|order date (DateOrders)|Order Id|Order Item Cardprod Id|Order Item Discount|Order Item Discount Rate|Order Item Id|Order Item Product Price|Order Item Profit Ratio|Order Item Quantity|Sales|Order Item Total|Order Profit Per Order|Order Region|Order State|Order Status|Order Zipcode|Product Card Id|Product Category Id|Product Description|Product Image|Product Name|Product Price|Product Status|shipping date (DateOrders)|Shipping Mode|\n",
      "+----+------------------------+-----------------------------+-----------------+------------------+---------------+------------------+-----------+-------------+-------------+----------------+--------------+--------------+-----------+--------------+-----------------+----------------+--------------+---------------+----------------+-------------+---------------+--------+---------+------+----------+-------------+-----------------+-----------------------+--------+----------------------+-------------------+------------------------+-------------+------------------------+-----------------------+-------------------+-----+----------------+----------------------+------------+-----------+------------+-------------+---------------+-------------------+-------------------+-------------+------------+-------------+--------------+--------------------------+-------------+\n",
      "|   0|                       0|                            0|                0|                 0|              0|                 0|          0|            0|            0|               0|             0|             0|          0|             8|                0|               0|             0|              0|               3|            0|              0|       0|        0|     0|         0|            0|                0|                      0|       0|                     0|                  0|                       0|            0|                       0|                      0|                  0|    0|               0|                     0|           0|          0|           0|       155679|              0|                  0|             180519|            0|           0|            0|             0|                         0|            0|\n",
      "+----+------------------------+-----------------------------+-----------------+------------------+---------------+------------------+-----------+-------------+-------------+----------------+--------------+--------------+-----------+--------------+-----------------+----------------+--------------+---------------+----------------+-------------+---------------+--------+---------+------+----------+-------------+-----------------+-----------------------+--------+----------------------+-------------------+------------------------+-------------+------------------------+-----------------------+-------------------+-----+----------------+----------------------+------------+-----------+------------+-------------+---------------+-------------------+-------------------+-------------+------------+-------------+--------------+--------------------------+-------------+\n",
      "\n"
     ]
    }
   ],
   "source": [
    "data.select([count(when(isnan(c) | col(c).isNull(), c)).alias(c) for c in data.columns]).show()"
   ]
  },
  {
   "cell_type": "code",
   "execution_count": 6,
   "id": "11f00afd",
   "metadata": {
    "execution": {
     "iopub.execute_input": "2022-08-12T11:27:38.382652Z",
     "iopub.status.busy": "2022-08-12T11:27:38.382230Z",
     "iopub.status.idle": "2022-08-12T11:27:38.437767Z",
     "shell.execute_reply": "2022-08-12T11:27:38.436657Z"
    },
    "id": "11f00afd",
    "papermill": {
     "duration": 0.078842,
     "end_time": "2022-08-12T11:27:38.440274",
     "exception": false,
     "start_time": "2022-08-12T11:27:38.361432",
     "status": "completed"
    },
    "tags": []
   },
   "outputs": [],
   "source": [
    "# these columns have a lot of null values and not necessary so we'll drop them \n",
    "drop_cols = ['Product Description','Order Zipcode','Customer Zipcode','Customer Lname', 'Customer Fname',\"Benefit per order\",\"Sales per customer\",\"Order Item Cardprod Id\",\"Order Item Product Price\",\"Product Category Id\",\"Order Customer Id\", 'Customer Email', 'Customer Password' , 'Product Image' , 'Product_Card_Id']\n",
    "\n",
    "data = data.drop(*drop_cols)"
   ]
  },
  {
   "cell_type": "code",
   "execution_count": 185,
   "id": "DAJcIAL1XVmb",
   "metadata": {
    "colab": {
     "base_uri": "https://localhost:8080/"
    },
    "id": "DAJcIAL1XVmb",
    "outputId": "136c3237-6362-4d5a-aa1f-459ff37f8b79"
   },
   "outputs": [
    {
     "name": "stdout",
     "output_type": "stream",
     "text": [
      "+--------+------------------------+-----------------------------+-----------------+------------------+-----------+--------------+--------------+----------------+-----------+----------------+--------------+--------------------+-------------+---------------+-----------+------------+------------+----------+-------------+-----------------------+--------+-------------------+------------------------+-------------+-----------------------+-------------------+------+----------------+----------------------+--------------+--------------------+---------------+---------------+------------+-------------+--------------+--------------------------+--------------+\n",
      "|    Type|Days for shipping (real)|Days for shipment (scheduled)|  Delivery Status|Late_delivery_risk|Category Id| Category Name| Customer City|Customer Country|Customer Id|Customer Segment|Customer State|     Customer Street|Department Id|Department Name|   Latitude|   Longitude|      Market|Order City|Order Country|order date (DateOrders)|Order Id|Order Item Discount|Order Item Discount Rate|Order Item Id|Order Item Profit Ratio|Order Item Quantity| Sales|Order Item Total|Order Profit Per Order|  Order Region|         Order State|   Order Status|Product Card Id|Product Name|Product Price|Product Status|shipping date (DateOrders)| Shipping Mode|\n",
      "+--------+------------------------+-----------------------------+-----------------+------------------+-----------+--------------+--------------+----------------+-----------+----------------+--------------+--------------------+-------------+---------------+-----------+------------+------------+----------+-------------+-----------------------+--------+-------------------+------------------------+-------------+-----------------------+-------------------+------+----------------+----------------------+--------------+--------------------+---------------+---------------+------------+-------------+--------------+--------------------------+--------------+\n",
      "|   DEBIT|                       3|                            4| Advance shipping|                 0|         73|Sporting Goods|        Caguas|     Puerto Rico|      20755|        Consumer|            PR|5365 Noble Nectar...|            2|        Fitness| 18.2514534|-66.03705597|Pacific Asia|    Bekasi|    Indonesia|        1/31/2018 22:56|   77202|        13.10999966|             0.039999999|       180517|            0.289999992|                  1|327.75|     314.6400146|                 91.25|Southeast Asia|     Java Occidental|       COMPLETE|           1360|Smart watch |       327.75|             0|            2/3/2018 22:56|Standard Class|\n",
      "|TRANSFER|                       5|                            4|    Late delivery|                 1|         73|Sporting Goods|        Caguas|     Puerto Rico|      19492|        Consumer|            PR|    2679 Rustic Loop|            2|        Fitness|18.27945137| -66.0370636|Pacific Asia|   Bikaner|        India|        1/13/2018 12:27|   75939|        16.38999939|             0.050000001|       179254|           -0.800000012|                  1|327.75|     311.3599854|          -249.0899963|    South Asia|            Rajast�n|        PENDING|           1360|Smart watch |       327.75|             0|           1/18/2018 12:27|Standard Class|\n",
      "|    CASH|                       4|                            4| Shipping on time|                 0|         73|Sporting Goods|      San Jose|         EE. UU.|      19491|        Consumer|            CA|8510 Round Bear Gate|            2|        Fitness|37.29223251| -121.881279|Pacific Asia|   Bikaner|        India|        1/13/2018 12:06|   75938|        18.03000069|             0.059999999|       179253|           -0.800000012|                  1|327.75|     309.7200012|          -247.7799988|    South Asia|            Rajast�n|         CLOSED|           1360|Smart watch |       327.75|             0|           1/17/2018 12:06|Standard Class|\n",
      "|   DEBIT|                       3|                            4| Advance shipping|                 0|         73|Sporting Goods|   Los Angeles|         EE. UU.|      19490|     Home Office|            CA|     3200 Amber Bend|            2|        Fitness|34.12594605|-118.2910156|Pacific Asia|Townsville|    Australia|        1/13/2018 11:45|   75937|        22.94000053|                    0.07|       179252|            0.079999998|                  1|327.75|     304.8099976|           22.86000061|       Oceania|          Queensland|       COMPLETE|           1360|Smart watch |       327.75|             0|           1/16/2018 11:45|Standard Class|\n",
      "| PAYMENT|                       2|                            4| Advance shipping|                 0|         73|Sporting Goods|        Caguas|     Puerto Rico|      19489|       Corporate|            PR|8671 Iron Anchor ...|            2|        Fitness|18.25376892|-66.03704834|Pacific Asia|Townsville|    Australia|        1/13/2018 11:24|   75936|               29.5|             0.090000004|       179251|            0.449999988|                  1|327.75|          298.25|           134.2100067|       Oceania|          Queensland|PENDING_PAYMENT|           1360|Smart watch |       327.75|             0|           1/15/2018 11:24|Standard Class|\n",
      "|TRANSFER|                       6|                            4|Shipping canceled|                 0|         73|Sporting Goods|     Tonawanda|         EE. UU.|      19488|        Consumer|            NY|    2122 Hazy Corner|            2|        Fitness|43.01396942|-78.87906647|Pacific Asia| Toowoomba|    Australia|        1/13/2018 11:03|   75935|        32.77999878|             0.100000001|       179250|            0.059999999|                  1|327.75|      294.980011|           18.57999992|       Oceania|          Queensland|       CANCELED|           1360|Smart watch |       327.75|             0|           1/19/2018 11:03|Standard Class|\n",
      "|   DEBIT|                       2|                            1|    Late delivery|                 1|         73|Sporting Goods|        Caguas|     Puerto Rico|      19487|     Home Office|            PR|1879 Green Pine Bank|            2|        Fitness|18.24253845|-66.03705597|Pacific Asia| Guangzhou|        China|        1/13/2018 10:42|   75934|        39.33000183|             0.119999997|       179249|            0.330000013|                  1|327.75|     288.4200134|           95.18000031|  Eastern Asia|           Guangdong|       COMPLETE|           1360|Smart watch |       327.75|             0|           1/15/2018 10:42|   First Class|\n",
      "|TRANSFER|                       2|                            1|    Late delivery|                 1|         73|Sporting Goods|         Miami|         EE. UU.|      19486|       Corporate|            FL| 7595 Cotton Log Row|            2|        Fitness|25.92886925|-80.16287231|Pacific Asia| Guangzhou|        China|        1/13/2018 10:21|   75933|        42.61000061|             0.129999995|       179248|            0.239999995|                  1|327.75|     285.1400146|           68.43000031|  Eastern Asia|           Guangdong|     PROCESSING|           1360|Smart watch |       327.75|             0|           1/15/2018 10:21|   First Class|\n",
      "|    CASH|                       3|                            2|    Late delivery|                 1|         73|Sporting Goods|        Caguas|     Puerto Rico|      19485|       Corporate|            PR|    2051 Dusty Route|            2|        Fitness|18.23322296|-66.03705597|Pacific Asia| Guangzhou|        China|        1/13/2018 10:00|   75932|        49.15999985|             0.150000006|       179247|            0.479999989|                  1|327.75|     278.5899963|           133.7200012|  Eastern Asia|           Guangdong|         CLOSED|           1360|Smart watch |       327.75|             0|           1/16/2018 10:00|  Second Class|\n",
      "|    CASH|                       2|                            1|    Late delivery|                 1|         73|Sporting Goods|     San Ramon|         EE. UU.|      19484|       Corporate|            CA|9139 Blue Blossom...|            2|        Fitness|37.77399063| -121.966629|Pacific Asia| Guangzhou|        China|         1/13/2018 9:39|   75931|        52.43999863|             0.159999996|       179246|            0.479999989|                  1|327.75|     275.3099976|           132.1499939|  Eastern Asia|           Guangdong|         CLOSED|           1360|Smart watch |       327.75|             0|            1/15/2018 9:39|   First Class|\n",
      "|TRANSFER|                       6|                            2|Shipping canceled|                 0|         73|Sporting Goods|        Caguas|     Puerto Rico|      19483|       Corporate|            PR|  4058 Quiet Heights|            2|        Fitness|18.28284454|-66.03705597|Pacific Asia|     Tokio|        Jap�n|         1/13/2018 9:18|   75930|        55.72000122|             0.170000002|       179245|            0.479999989|                  1|327.75|     272.0299988|           130.5800018|  Eastern Asia|               Tokio|SUSPECTED_FRAUD|           1360|Smart watch |       327.75|             0|            1/19/2018 9:18|  Second Class|\n",
      "|TRANSFER|                       5|                            2|    Late delivery|                 1|         73|Sporting Goods|      Freeport|         EE. UU.|      19482|        Consumer|            NY|   3243 Shady Corner|            2|        Fitness|40.65486527|-73.58707428|Pacific Asia|    Manado|    Indonesia|         1/13/2018 8:57|   75929|               59.0|             0.180000007|       179244|            0.170000002|                  1|327.75|     268.7600098|           45.68999863|Southeast Asia|C�lebes Septentri...|        PENDING|           1360|Smart watch |       327.75|             0|            1/18/2018 8:57|  Second Class|\n",
      "|TRANSFER|                       4|                            2|    Late delivery|                 1|         73|Sporting Goods|       Salinas|         EE. UU.|      19481|       Corporate|            CA|131 Sunny Treasur...|            2|        Fitness| 36.6763382| -121.656517|Pacific Asia|    Manado|    Indonesia|         1/13/2018 8:36|   75928|        65.55000305|             0.200000003|       179243|            0.079999998|                  1|327.75|     262.2000122|           21.76000023|Southeast Asia|C�lebes Septentri...|        PENDING|           1360|Smart watch |       327.75|             0|            1/17/2018 8:36|  Second Class|\n",
      "|   DEBIT|                       2|                            1|    Late delivery|                 1|         73|Sporting Goods|        Caguas|     Puerto Rico|      19480|       Corporate|            PR| 2531 Wishing Square|            2|        Fitness|18.27843857|-66.03705597|Pacific Asia|    Sangli|        India|         1/13/2018 8:15|   75927|        81.94000244|                    0.25|       179242|            0.100000001|                  1|327.75|     245.8099976|           24.57999992|    South Asia|         Maharashtra|       COMPLETE|           1360|Smart watch |       327.75|             0|            1/15/2018 8:15|   First Class|\n",
      "|TRANSFER|                       2|                            1|    Late delivery|                 1|         73|Sporting Goods|       Peabody|         EE. UU.|      19479|       Corporate|            MA|  6417 Silver Towers|            2|        Fitness|42.52627564|-70.92703247|Pacific Asia|    Sangli|        India|         1/13/2018 7:54|   75926|                0.0|                     0.0|       179241|            0.050000001|                  1|327.75|          327.75|           16.38999939|    South Asia|         Maharashtra|     PROCESSING|           1360|Smart watch |       327.75|             0|            1/15/2018 7:54|   First Class|\n",
      "|   DEBIT|                       2|                            1|    Late delivery|                 1|         73|Sporting Goods|        Caguas|     Puerto Rico|      19478|       Corporate|            PR|   257 Harvest Close|            2|        Fitness|18.28404999|-66.03705597|Pacific Asia|    Sangli|        India|         1/13/2018 7:33|   75925|        3.279999971|                    0.01|       179240|           -0.800000012|                  1|327.75|     324.4700012|          -259.5799866|    South Asia|         Maharashtra|       COMPLETE|           1360|Smart watch |       327.75|             0|            1/15/2018 7:33|   First Class|\n",
      "| PAYMENT|                       5|                            2|    Late delivery|                 1|         73|Sporting Goods|     Canovanas|     Puerto Rico|      19477|       Corporate|            PR|7342 Hazy Beacon ...|            2|        Fitness| 18.3957901|-65.87288666|Pacific Asia|      Se�l|Corea del Sur|         1/13/2018 7:12|   75924|        6.559999943|                    0.02|       179239|           -0.769999981|                  1|327.75|     321.2000122|          -246.3600006|  Eastern Asia|                Se�l|PENDING_PAYMENT|           1360|Smart watch |       327.75|             0|            1/18/2018 7:12|  Second Class|\n",
      "|    CASH|                       2|                            1|    Late delivery|                 1|         73|Sporting Goods|     Paramount|         EE. UU.|      19476|       Corporate|            CA|   7787 Lazy Corners|            2|        Fitness|33.89869309|-118.1745605|Pacific Asia|  Jabalpur|        India|         1/13/2018 6:51|   75923|        9.829999924|             0.029999999|       179238|            0.079999998|                  1|327.75|     317.9200134|           23.84000015|    South Asia|      Madhya Pradesh|         CLOSED|           1360|Smart watch |       327.75|             0|            1/15/2018 6:51|   First Class|\n",
      "|   DEBIT|                       2|                            1|    Late delivery|                 1|         73|Sporting Goods|        Caguas|     Puerto Rico|      19475|        Consumer|            PR|5136 Rustic Pione...|            2|        Fitness|  18.233778| -66.0370636|Pacific Asia|  Jabalpur|        India|         1/13/2018 6:30|   75922|        13.10999966|             0.039999999|       179237|            0.330000013|                  1|327.75|     314.6400146|           102.2600021|    South Asia|      Madhya Pradesh|       COMPLETE|           1360|Smart watch |       327.75|             0|            1/15/2018 6:30|   First Class|\n",
      "| PAYMENT|                       0|                            0| Shipping on time|                 0|         73|Sporting Goods|Mount Prospect|         EE. UU.|      19474|        Consumer|            IL|      1723 Tawny Via|            2|        Fitness|42.04830551|-87.96134186|Pacific Asia|  Jabalpur|        India|         1/13/2018 6:09|   75921|        16.38999939|             0.050000001|       179236|            0.280000001|                  1|327.75|     311.3599854|           87.18000031|    South Asia|      Madhya Pradesh|PENDING_PAYMENT|           1360|Smart watch |       327.75|             0|           1/13/2018 18:09|      Same Day|\n",
      "+--------+------------------------+-----------------------------+-----------------+------------------+-----------+--------------+--------------+----------------+-----------+----------------+--------------+--------------------+-------------+---------------+-----------+------------+------------+----------+-------------+-----------------------+--------+-------------------+------------------------+-------------+-----------------------+-------------------+------+----------------+----------------------+--------------+--------------------+---------------+---------------+------------+-------------+--------------+--------------------------+--------------+\n",
      "only showing top 20 rows\n",
      "\n"
     ]
    }
   ],
   "source": [
    "data.show()"
   ]
  },
  {
   "cell_type": "markdown",
   "id": "fAME0s7J2q_n",
   "metadata": {
    "id": "fAME0s7J2q_n"
   },
   "source": [
    "### Pre-Processing \n",
    " Let's rename some columns that needs renaming so we can use them easily in the SQl queries. "
   ]
  },
  {
   "cell_type": "code",
   "execution_count": 7,
   "id": "k3H2UMvGYjvN",
   "metadata": {
    "id": "k3H2UMvGYjvN"
   },
   "outputs": [],
   "source": [
    "data = data.withColumnRenamed(\"Days for shipping (real)\",\"Days_for_shipping\")\n",
    "data = data.withColumnRenamed(\"Days for shipment (scheduled)\",\"Days_for_shipment\")\n",
    "data = data.withColumnRenamed(\"Delivery Status\",\"Delivery_Status\")\n",
    "data = data.withColumnRenamed(\"Category Id\",\"Category_Id\")\n",
    "data = data.withColumnRenamed(\"Category Name\",\"Category_Name\")\n",
    "data = data.withColumnRenamed(\"Category City\",\"Category_City\")\n",
    "data = data.withColumnRenamed(\"Category Country\",\"Category_Country\")\n",
    "data = data.withColumnRenamed(\"Customer Id\",\"Customer_Id\")\n",
    "data = data.withColumnRenamed(\"Customer Segment\",\"Customer_Segment\")\n",
    "data = data.withColumnRenamed(\"Customer Street\",\"Customer_Street\")\n",
    "data = data.withColumnRenamed(\"Customer City\",\"Customer_City\")\n",
    "data = data.withColumnRenamed(\"Customer Country\",\"Customer_Country\")\n",
    "data = data.withColumnRenamed(\"Customer State\",\"Customer_State\")\n",
    "data = data.withColumnRenamed(\"Department Id\",\"Department_Id\")\n",
    "data = data.withColumnRenamed(\"Department Name\",\"Department_Name\")\n",
    "data = data.withColumnRenamed(\"Order City\",\"Order_City\")\n",
    "data = data.withColumnRenamed(\"Order Country\",\"Order_Country\")\n",
    "data = data.withColumnRenamed(\"order date (DateOrders)\",\"Order_date\")\n",
    "data = data.withColumnRenamed(\"Order Id\",\"Order_Id\")\n",
    "data = data.withColumnRenamed(\"Order Item Discount\",\"Order_Item_Discount\")\n",
    "data = data.withColumnRenamed(\"Order Item Discount Rate\",\"Order_tem_Discount_Rate\")\n",
    "data = data.withColumnRenamed(\"Order Item Id\",\"Order_Item_Id\")\n",
    "data = data.withColumnRenamed(\"Order Item Profit Ratio\",\"Order_Item_Profit_Ratio\")\n",
    "data = data.withColumnRenamed(\"Order Item Quantity\",\"Order_Item_Quantity\")\n",
    "data = data.withColumnRenamed(\"Order Item Total\",\"Order_Item_Total\")\n",
    "data = data.withColumnRenamed(\"Order Region\",\"Order_Region\")\n",
    "data = data.withColumnRenamed(\"Order State\",\"Order_State\")\n",
    "data = data.withColumnRenamed(\"Order Status\",\"Order_Status\")\n",
    "data = data.withColumnRenamed(\"Order Status\",\"Order_Status\")\n",
    "data = data.withColumnRenamed(\"Product Name\",\"Product_Name\")\n",
    "data = data.withColumnRenamed(\"Product Price\",\"Product_Price\")\n",
    "data = data.withColumnRenamed(\"Product Status\",\"Product_Status\")\n",
    "data = data.withColumnRenamed(\"shipping date (DateOrders)\",\"Shipping_date\")\n",
    "data = data.withColumnRenamed(\"Shipping Mode\",\"Shipping_Mode\")"
   ]
  },
  {
   "cell_type": "code",
   "execution_count": 187,
   "id": "mwsdmmB-kBnM",
   "metadata": {
    "colab": {
     "base_uri": "https://localhost:8080/"
    },
    "id": "mwsdmmB-kBnM",
    "outputId": "95370f06-7fe8-41a0-b5e2-5a3a4c499e46"
   },
   "outputs": [
    {
     "name": "stdout",
     "output_type": "stream",
     "text": [
      "+--------+-----------------+-----------------+-----------------+------------------+-----------+--------------+--------------+----------------+-----------+----------------+--------------+--------------------+-------------+---------------+-----------+------------+------------+----------+-------------+---------------+--------+-------------------+-----------------------+-------------+-----------------------+-------------------+------+----------------+----------------------+--------------+--------------------+---------------+---------------+------------+-------------+--------------+---------------+--------------+\n",
      "|    Type|Days_for_shipping|Days_for_shipment|  Delivery_Status|Late_delivery_risk|Category_Id| Category_Name| Customer_City|Customer_Country|Customer_Id|Customer_Segment|Customer_State|     Customer_Street|Department_Id|Department_Name|   Latitude|   Longitude|      Market|Order_City|Order_Country|     Order_date|Order_Id|Order_Item_Discount|Order_tem_Discount_Rate|Order_Item_Id|Order_Item_Profit_Ratio|Order_Item_Quantity| Sales|Order_Item_Total|Order Profit Per Order|  Order_Region|         Order_State|   Order_Status|Product Card Id|Product_Name|Product_Price|Product_Status|  Shipping_date| Shipping_Mode|\n",
      "+--------+-----------------+-----------------+-----------------+------------------+-----------+--------------+--------------+----------------+-----------+----------------+--------------+--------------------+-------------+---------------+-----------+------------+------------+----------+-------------+---------------+--------+-------------------+-----------------------+-------------+-----------------------+-------------------+------+----------------+----------------------+--------------+--------------------+---------------+---------------+------------+-------------+--------------+---------------+--------------+\n",
      "|   DEBIT|                3|                4| Advance shipping|                 0|         73|Sporting Goods|        Caguas|     Puerto Rico|      20755|        Consumer|            PR|5365 Noble Nectar...|            2|        Fitness| 18.2514534|-66.03705597|Pacific Asia|    Bekasi|    Indonesia|1/31/2018 22:56|   77202|        13.10999966|            0.039999999|       180517|            0.289999992|                  1|327.75|     314.6400146|                 91.25|Southeast Asia|     Java Occidental|       COMPLETE|           1360|Smart watch |       327.75|             0| 2/3/2018 22:56|Standard Class|\n",
      "|TRANSFER|                5|                4|    Late delivery|                 1|         73|Sporting Goods|        Caguas|     Puerto Rico|      19492|        Consumer|            PR|    2679 Rustic Loop|            2|        Fitness|18.27945137| -66.0370636|Pacific Asia|   Bikaner|        India|1/13/2018 12:27|   75939|        16.38999939|            0.050000001|       179254|           -0.800000012|                  1|327.75|     311.3599854|          -249.0899963|    South Asia|            Rajast�n|        PENDING|           1360|Smart watch |       327.75|             0|1/18/2018 12:27|Standard Class|\n",
      "|    CASH|                4|                4| Shipping on time|                 0|         73|Sporting Goods|      San Jose|         EE. UU.|      19491|        Consumer|            CA|8510 Round Bear Gate|            2|        Fitness|37.29223251| -121.881279|Pacific Asia|   Bikaner|        India|1/13/2018 12:06|   75938|        18.03000069|            0.059999999|       179253|           -0.800000012|                  1|327.75|     309.7200012|          -247.7799988|    South Asia|            Rajast�n|         CLOSED|           1360|Smart watch |       327.75|             0|1/17/2018 12:06|Standard Class|\n",
      "|   DEBIT|                3|                4| Advance shipping|                 0|         73|Sporting Goods|   Los Angeles|         EE. UU.|      19490|     Home Office|            CA|     3200 Amber Bend|            2|        Fitness|34.12594605|-118.2910156|Pacific Asia|Townsville|    Australia|1/13/2018 11:45|   75937|        22.94000053|                   0.07|       179252|            0.079999998|                  1|327.75|     304.8099976|           22.86000061|       Oceania|          Queensland|       COMPLETE|           1360|Smart watch |       327.75|             0|1/16/2018 11:45|Standard Class|\n",
      "| PAYMENT|                2|                4| Advance shipping|                 0|         73|Sporting Goods|        Caguas|     Puerto Rico|      19489|       Corporate|            PR|8671 Iron Anchor ...|            2|        Fitness|18.25376892|-66.03704834|Pacific Asia|Townsville|    Australia|1/13/2018 11:24|   75936|               29.5|            0.090000004|       179251|            0.449999988|                  1|327.75|          298.25|           134.2100067|       Oceania|          Queensland|PENDING_PAYMENT|           1360|Smart watch |       327.75|             0|1/15/2018 11:24|Standard Class|\n",
      "|TRANSFER|                6|                4|Shipping canceled|                 0|         73|Sporting Goods|     Tonawanda|         EE. UU.|      19488|        Consumer|            NY|    2122 Hazy Corner|            2|        Fitness|43.01396942|-78.87906647|Pacific Asia| Toowoomba|    Australia|1/13/2018 11:03|   75935|        32.77999878|            0.100000001|       179250|            0.059999999|                  1|327.75|      294.980011|           18.57999992|       Oceania|          Queensland|       CANCELED|           1360|Smart watch |       327.75|             0|1/19/2018 11:03|Standard Class|\n",
      "|   DEBIT|                2|                1|    Late delivery|                 1|         73|Sporting Goods|        Caguas|     Puerto Rico|      19487|     Home Office|            PR|1879 Green Pine Bank|            2|        Fitness|18.24253845|-66.03705597|Pacific Asia| Guangzhou|        China|1/13/2018 10:42|   75934|        39.33000183|            0.119999997|       179249|            0.330000013|                  1|327.75|     288.4200134|           95.18000031|  Eastern Asia|           Guangdong|       COMPLETE|           1360|Smart watch |       327.75|             0|1/15/2018 10:42|   First Class|\n",
      "|TRANSFER|                2|                1|    Late delivery|                 1|         73|Sporting Goods|         Miami|         EE. UU.|      19486|       Corporate|            FL| 7595 Cotton Log Row|            2|        Fitness|25.92886925|-80.16287231|Pacific Asia| Guangzhou|        China|1/13/2018 10:21|   75933|        42.61000061|            0.129999995|       179248|            0.239999995|                  1|327.75|     285.1400146|           68.43000031|  Eastern Asia|           Guangdong|     PROCESSING|           1360|Smart watch |       327.75|             0|1/15/2018 10:21|   First Class|\n",
      "|    CASH|                3|                2|    Late delivery|                 1|         73|Sporting Goods|        Caguas|     Puerto Rico|      19485|       Corporate|            PR|    2051 Dusty Route|            2|        Fitness|18.23322296|-66.03705597|Pacific Asia| Guangzhou|        China|1/13/2018 10:00|   75932|        49.15999985|            0.150000006|       179247|            0.479999989|                  1|327.75|     278.5899963|           133.7200012|  Eastern Asia|           Guangdong|         CLOSED|           1360|Smart watch |       327.75|             0|1/16/2018 10:00|  Second Class|\n",
      "|    CASH|                2|                1|    Late delivery|                 1|         73|Sporting Goods|     San Ramon|         EE. UU.|      19484|       Corporate|            CA|9139 Blue Blossom...|            2|        Fitness|37.77399063| -121.966629|Pacific Asia| Guangzhou|        China| 1/13/2018 9:39|   75931|        52.43999863|            0.159999996|       179246|            0.479999989|                  1|327.75|     275.3099976|           132.1499939|  Eastern Asia|           Guangdong|         CLOSED|           1360|Smart watch |       327.75|             0| 1/15/2018 9:39|   First Class|\n",
      "|TRANSFER|                6|                2|Shipping canceled|                 0|         73|Sporting Goods|        Caguas|     Puerto Rico|      19483|       Corporate|            PR|  4058 Quiet Heights|            2|        Fitness|18.28284454|-66.03705597|Pacific Asia|     Tokio|        Jap�n| 1/13/2018 9:18|   75930|        55.72000122|            0.170000002|       179245|            0.479999989|                  1|327.75|     272.0299988|           130.5800018|  Eastern Asia|               Tokio|SUSPECTED_FRAUD|           1360|Smart watch |       327.75|             0| 1/19/2018 9:18|  Second Class|\n",
      "|TRANSFER|                5|                2|    Late delivery|                 1|         73|Sporting Goods|      Freeport|         EE. UU.|      19482|        Consumer|            NY|   3243 Shady Corner|            2|        Fitness|40.65486527|-73.58707428|Pacific Asia|    Manado|    Indonesia| 1/13/2018 8:57|   75929|               59.0|            0.180000007|       179244|            0.170000002|                  1|327.75|     268.7600098|           45.68999863|Southeast Asia|C�lebes Septentri...|        PENDING|           1360|Smart watch |       327.75|             0| 1/18/2018 8:57|  Second Class|\n",
      "|TRANSFER|                4|                2|    Late delivery|                 1|         73|Sporting Goods|       Salinas|         EE. UU.|      19481|       Corporate|            CA|131 Sunny Treasur...|            2|        Fitness| 36.6763382| -121.656517|Pacific Asia|    Manado|    Indonesia| 1/13/2018 8:36|   75928|        65.55000305|            0.200000003|       179243|            0.079999998|                  1|327.75|     262.2000122|           21.76000023|Southeast Asia|C�lebes Septentri...|        PENDING|           1360|Smart watch |       327.75|             0| 1/17/2018 8:36|  Second Class|\n",
      "|   DEBIT|                2|                1|    Late delivery|                 1|         73|Sporting Goods|        Caguas|     Puerto Rico|      19480|       Corporate|            PR| 2531 Wishing Square|            2|        Fitness|18.27843857|-66.03705597|Pacific Asia|    Sangli|        India| 1/13/2018 8:15|   75927|        81.94000244|                   0.25|       179242|            0.100000001|                  1|327.75|     245.8099976|           24.57999992|    South Asia|         Maharashtra|       COMPLETE|           1360|Smart watch |       327.75|             0| 1/15/2018 8:15|   First Class|\n",
      "|TRANSFER|                2|                1|    Late delivery|                 1|         73|Sporting Goods|       Peabody|         EE. UU.|      19479|       Corporate|            MA|  6417 Silver Towers|            2|        Fitness|42.52627564|-70.92703247|Pacific Asia|    Sangli|        India| 1/13/2018 7:54|   75926|                0.0|                    0.0|       179241|            0.050000001|                  1|327.75|          327.75|           16.38999939|    South Asia|         Maharashtra|     PROCESSING|           1360|Smart watch |       327.75|             0| 1/15/2018 7:54|   First Class|\n",
      "|   DEBIT|                2|                1|    Late delivery|                 1|         73|Sporting Goods|        Caguas|     Puerto Rico|      19478|       Corporate|            PR|   257 Harvest Close|            2|        Fitness|18.28404999|-66.03705597|Pacific Asia|    Sangli|        India| 1/13/2018 7:33|   75925|        3.279999971|                   0.01|       179240|           -0.800000012|                  1|327.75|     324.4700012|          -259.5799866|    South Asia|         Maharashtra|       COMPLETE|           1360|Smart watch |       327.75|             0| 1/15/2018 7:33|   First Class|\n",
      "| PAYMENT|                5|                2|    Late delivery|                 1|         73|Sporting Goods|     Canovanas|     Puerto Rico|      19477|       Corporate|            PR|7342 Hazy Beacon ...|            2|        Fitness| 18.3957901|-65.87288666|Pacific Asia|      Se�l|Corea del Sur| 1/13/2018 7:12|   75924|        6.559999943|                   0.02|       179239|           -0.769999981|                  1|327.75|     321.2000122|          -246.3600006|  Eastern Asia|                Se�l|PENDING_PAYMENT|           1360|Smart watch |       327.75|             0| 1/18/2018 7:12|  Second Class|\n",
      "|    CASH|                2|                1|    Late delivery|                 1|         73|Sporting Goods|     Paramount|         EE. UU.|      19476|       Corporate|            CA|   7787 Lazy Corners|            2|        Fitness|33.89869309|-118.1745605|Pacific Asia|  Jabalpur|        India| 1/13/2018 6:51|   75923|        9.829999924|            0.029999999|       179238|            0.079999998|                  1|327.75|     317.9200134|           23.84000015|    South Asia|      Madhya Pradesh|         CLOSED|           1360|Smart watch |       327.75|             0| 1/15/2018 6:51|   First Class|\n",
      "|   DEBIT|                2|                1|    Late delivery|                 1|         73|Sporting Goods|        Caguas|     Puerto Rico|      19475|        Consumer|            PR|5136 Rustic Pione...|            2|        Fitness|  18.233778| -66.0370636|Pacific Asia|  Jabalpur|        India| 1/13/2018 6:30|   75922|        13.10999966|            0.039999999|       179237|            0.330000013|                  1|327.75|     314.6400146|           102.2600021|    South Asia|      Madhya Pradesh|       COMPLETE|           1360|Smart watch |       327.75|             0| 1/15/2018 6:30|   First Class|\n",
      "| PAYMENT|                0|                0| Shipping on time|                 0|         73|Sporting Goods|Mount Prospect|         EE. UU.|      19474|        Consumer|            IL|      1723 Tawny Via|            2|        Fitness|42.04830551|-87.96134186|Pacific Asia|  Jabalpur|        India| 1/13/2018 6:09|   75921|        16.38999939|            0.050000001|       179236|            0.280000001|                  1|327.75|     311.3599854|           87.18000031|    South Asia|      Madhya Pradesh|PENDING_PAYMENT|           1360|Smart watch |       327.75|             0|1/13/2018 18:09|      Same Day|\n",
      "+--------+-----------------+-----------------+-----------------+------------------+-----------+--------------+--------------+----------------+-----------+----------------+--------------+--------------------+-------------+---------------+-----------+------------+------------+----------+-------------+---------------+--------+-------------------+-----------------------+-------------+-----------------------+-------------------+------+----------------+----------------------+--------------+--------------------+---------------+---------------+------------+-------------+--------------+---------------+--------------+\n",
      "only showing top 20 rows\n",
      "\n"
     ]
    }
   ],
   "source": [
    "data.show()"
   ]
  },
  {
   "cell_type": "code",
   "execution_count": 188,
   "id": "Qr10rtg-TZY7",
   "metadata": {
    "colab": {
     "base_uri": "https://localhost:8080/"
    },
    "id": "Qr10rtg-TZY7",
    "outputId": "8ec8f6e2-283c-4974-c2df-fd455723f48d",
    "scrolled": true
   },
   "outputs": [
    {
     "name": "stdout",
     "output_type": "stream",
     "text": [
      "+----+-----------------+-----------------+---------------+------------------+-----------+-------------+-------------+----------------+-----------+----------------+--------------+---------------+-------------+---------------+--------+---------+------+----------+-------------+----------+--------+-------------------+-----------------------+-------------+-----------------------+-------------------+-----+----------------+----------------------+------------+-----------+------------+---------------+------------+-------------+--------------+-------------+-------------+\n",
      "|Type|Days_for_shipping|Days_for_shipment|Delivery_Status|Late_delivery_risk|Category_Id|Category_Name|Customer_City|Customer_Country|Customer_Id|Customer_Segment|Customer_State|Customer_Street|Department_Id|Department_Name|Latitude|Longitude|Market|Order_City|Order_Country|Order_date|Order_Id|Order_Item_Discount|Order_tem_Discount_Rate|Order_Item_Id|Order_Item_Profit_Ratio|Order_Item_Quantity|Sales|Order_Item_Total|Order Profit Per Order|Order_Region|Order_State|Order_Status|Product Card Id|Product_Name|Product_Price|Product_Status|Shipping_date|Shipping_Mode|\n",
      "+----+-----------------+-----------------+---------------+------------------+-----------+-------------+-------------+----------------+-----------+----------------+--------------+---------------+-------------+---------------+--------+---------+------+----------+-------------+----------+--------+-------------------+-----------------------+-------------+-----------------------+-------------------+-----+----------------+----------------------+------------+-----------+------------+---------------+------------+-------------+--------------+-------------+-------------+\n",
      "|   0|                0|                0|              0|                 0|          0|            0|            0|               0|          0|               0|             0|              0|            0|              0|       0|        0|     0|         0|            0|         0|       0|                  0|                      0|            0|                      0|                  0|    0|               0|                     0|           0|          0|           0|              0|           0|            0|             0|            0|            0|\n",
      "+----+-----------------+-----------------+---------------+------------------+-----------+-------------+-------------+----------------+-----------+----------------+--------------+---------------+-------------+---------------+--------+---------+------+----------+-------------+----------+--------+-------------------+-----------------------+-------------+-----------------------+-------------------+-----+----------------+----------------------+------------+-----------+------------+---------------+------------+-------------+--------------+-------------+-------------+\n",
      "\n"
     ]
    }
   ],
   "source": [
    "# let's check again \n",
    "data.select([count(when(isnan(c) | col(c).isNull(), c)).alias(c) for c in data.columns]).show()"
   ]
  },
  {
   "cell_type": "markdown",
   "id": "At_44hBh6B97",
   "metadata": {
    "id": "At_44hBh6B97"
   },
   "source": [
    "### EDA\n",
    "\n",
    "I think the most important features are \n",
    "- Order State,Order Region, \n",
    "- Order City, Order Country, \n",
    "- Latitude, Langitude, \n",
    "- Customer Street, Customer City, Customer State."
   ]
  },
  {
   "cell_type": "markdown",
   "id": "GOG6wPCu690S",
   "metadata": {
    "id": "GOG6wPCu690S"
   },
   "source": [
    " \n",
    "- my target for this analysis will be 'Delivery_Status'"
   ]
  },
  {
   "cell_type": "code",
   "execution_count": 8,
   "id": "W5gqmc_O6Bm8",
   "metadata": {
    "id": "W5gqmc_O6Bm8"
   },
   "outputs": [],
   "source": [
    "#convert to pandas prior to visualization\n",
    "df = data.toPandas()"
   ]
  },
  {
   "cell_type": "code",
   "execution_count": 9,
   "id": "Ihjztt1s9h_h",
   "metadata": {
    "colab": {
     "base_uri": "https://localhost:8080/",
     "height": 679
    },
    "id": "Ihjztt1s9h_h",
    "outputId": "7fa33c4b-195f-48d9-8964-b25b80d31bc7"
   },
   "outputs": [
    {
     "data": {
      "text/html": [
       "<div>\n",
       "<style scoped>\n",
       "    .dataframe tbody tr th:only-of-type {\n",
       "        vertical-align: middle;\n",
       "    }\n",
       "\n",
       "    .dataframe tbody tr th {\n",
       "        vertical-align: top;\n",
       "    }\n",
       "\n",
       "    .dataframe thead th {\n",
       "        text-align: right;\n",
       "    }\n",
       "</style>\n",
       "<table border=\"1\" class=\"dataframe\">\n",
       "  <thead>\n",
       "    <tr style=\"text-align: right;\">\n",
       "      <th></th>\n",
       "      <th>Type</th>\n",
       "      <th>Days_for_shipping</th>\n",
       "      <th>Days_for_shipment</th>\n",
       "      <th>Delivery_Status</th>\n",
       "      <th>Late_delivery_risk</th>\n",
       "      <th>Category_Id</th>\n",
       "      <th>Category_Name</th>\n",
       "      <th>Customer_City</th>\n",
       "      <th>Customer_Country</th>\n",
       "      <th>Customer_Id</th>\n",
       "      <th>...</th>\n",
       "      <th>Order Profit Per Order</th>\n",
       "      <th>Order_Region</th>\n",
       "      <th>Order_State</th>\n",
       "      <th>Order_Status</th>\n",
       "      <th>Product Card Id</th>\n",
       "      <th>Product_Name</th>\n",
       "      <th>Product_Price</th>\n",
       "      <th>Product_Status</th>\n",
       "      <th>Shipping_date</th>\n",
       "      <th>Shipping_Mode</th>\n",
       "    </tr>\n",
       "  </thead>\n",
       "  <tbody>\n",
       "    <tr>\n",
       "      <th>0</th>\n",
       "      <td>DEBIT</td>\n",
       "      <td>3</td>\n",
       "      <td>4</td>\n",
       "      <td>Advance shipping</td>\n",
       "      <td>0</td>\n",
       "      <td>73</td>\n",
       "      <td>Sporting Goods</td>\n",
       "      <td>Caguas</td>\n",
       "      <td>Puerto Rico</td>\n",
       "      <td>20755</td>\n",
       "      <td>...</td>\n",
       "      <td>91.250000</td>\n",
       "      <td>Southeast Asia</td>\n",
       "      <td>Java Occidental</td>\n",
       "      <td>COMPLETE</td>\n",
       "      <td>1360</td>\n",
       "      <td>Smart watch</td>\n",
       "      <td>327.750000</td>\n",
       "      <td>0</td>\n",
       "      <td>2/3/2018 22:56</td>\n",
       "      <td>Standard Class</td>\n",
       "    </tr>\n",
       "    <tr>\n",
       "      <th>1</th>\n",
       "      <td>TRANSFER</td>\n",
       "      <td>5</td>\n",
       "      <td>4</td>\n",
       "      <td>Late delivery</td>\n",
       "      <td>1</td>\n",
       "      <td>73</td>\n",
       "      <td>Sporting Goods</td>\n",
       "      <td>Caguas</td>\n",
       "      <td>Puerto Rico</td>\n",
       "      <td>19492</td>\n",
       "      <td>...</td>\n",
       "      <td>-249.089996</td>\n",
       "      <td>South Asia</td>\n",
       "      <td>Rajast�n</td>\n",
       "      <td>PENDING</td>\n",
       "      <td>1360</td>\n",
       "      <td>Smart watch</td>\n",
       "      <td>327.750000</td>\n",
       "      <td>0</td>\n",
       "      <td>1/18/2018 12:27</td>\n",
       "      <td>Standard Class</td>\n",
       "    </tr>\n",
       "    <tr>\n",
       "      <th>2</th>\n",
       "      <td>CASH</td>\n",
       "      <td>4</td>\n",
       "      <td>4</td>\n",
       "      <td>Shipping on time</td>\n",
       "      <td>0</td>\n",
       "      <td>73</td>\n",
       "      <td>Sporting Goods</td>\n",
       "      <td>San Jose</td>\n",
       "      <td>EE. UU.</td>\n",
       "      <td>19491</td>\n",
       "      <td>...</td>\n",
       "      <td>-247.779999</td>\n",
       "      <td>South Asia</td>\n",
       "      <td>Rajast�n</td>\n",
       "      <td>CLOSED</td>\n",
       "      <td>1360</td>\n",
       "      <td>Smart watch</td>\n",
       "      <td>327.750000</td>\n",
       "      <td>0</td>\n",
       "      <td>1/17/2018 12:06</td>\n",
       "      <td>Standard Class</td>\n",
       "    </tr>\n",
       "    <tr>\n",
       "      <th>3</th>\n",
       "      <td>DEBIT</td>\n",
       "      <td>3</td>\n",
       "      <td>4</td>\n",
       "      <td>Advance shipping</td>\n",
       "      <td>0</td>\n",
       "      <td>73</td>\n",
       "      <td>Sporting Goods</td>\n",
       "      <td>Los Angeles</td>\n",
       "      <td>EE. UU.</td>\n",
       "      <td>19490</td>\n",
       "      <td>...</td>\n",
       "      <td>22.860001</td>\n",
       "      <td>Oceania</td>\n",
       "      <td>Queensland</td>\n",
       "      <td>COMPLETE</td>\n",
       "      <td>1360</td>\n",
       "      <td>Smart watch</td>\n",
       "      <td>327.750000</td>\n",
       "      <td>0</td>\n",
       "      <td>1/16/2018 11:45</td>\n",
       "      <td>Standard Class</td>\n",
       "    </tr>\n",
       "    <tr>\n",
       "      <th>4</th>\n",
       "      <td>PAYMENT</td>\n",
       "      <td>2</td>\n",
       "      <td>4</td>\n",
       "      <td>Advance shipping</td>\n",
       "      <td>0</td>\n",
       "      <td>73</td>\n",
       "      <td>Sporting Goods</td>\n",
       "      <td>Caguas</td>\n",
       "      <td>Puerto Rico</td>\n",
       "      <td>19489</td>\n",
       "      <td>...</td>\n",
       "      <td>134.210007</td>\n",
       "      <td>Oceania</td>\n",
       "      <td>Queensland</td>\n",
       "      <td>PENDING_PAYMENT</td>\n",
       "      <td>1360</td>\n",
       "      <td>Smart watch</td>\n",
       "      <td>327.750000</td>\n",
       "      <td>0</td>\n",
       "      <td>1/15/2018 11:24</td>\n",
       "      <td>Standard Class</td>\n",
       "    </tr>\n",
       "    <tr>\n",
       "      <th>...</th>\n",
       "      <td>...</td>\n",
       "      <td>...</td>\n",
       "      <td>...</td>\n",
       "      <td>...</td>\n",
       "      <td>...</td>\n",
       "      <td>...</td>\n",
       "      <td>...</td>\n",
       "      <td>...</td>\n",
       "      <td>...</td>\n",
       "      <td>...</td>\n",
       "      <td>...</td>\n",
       "      <td>...</td>\n",
       "      <td>...</td>\n",
       "      <td>...</td>\n",
       "      <td>...</td>\n",
       "      <td>...</td>\n",
       "      <td>...</td>\n",
       "      <td>...</td>\n",
       "      <td>...</td>\n",
       "      <td>...</td>\n",
       "      <td>...</td>\n",
       "    </tr>\n",
       "    <tr>\n",
       "      <th>180514</th>\n",
       "      <td>CASH</td>\n",
       "      <td>4</td>\n",
       "      <td>4</td>\n",
       "      <td>Shipping on time</td>\n",
       "      <td>0</td>\n",
       "      <td>45</td>\n",
       "      <td>Fishing</td>\n",
       "      <td>Brooklyn</td>\n",
       "      <td>EE. UU.</td>\n",
       "      <td>1005</td>\n",
       "      <td>...</td>\n",
       "      <td>40.000000</td>\n",
       "      <td>Eastern Asia</td>\n",
       "      <td>Shangh�i</td>\n",
       "      <td>CLOSED</td>\n",
       "      <td>1004</td>\n",
       "      <td>Field &amp; Stream Sportsman 16 Gun Fire Safe</td>\n",
       "      <td>399.980011</td>\n",
       "      <td>0</td>\n",
       "      <td>1/20/2016 3:40</td>\n",
       "      <td>Standard Class</td>\n",
       "    </tr>\n",
       "    <tr>\n",
       "      <th>180515</th>\n",
       "      <td>DEBIT</td>\n",
       "      <td>3</td>\n",
       "      <td>2</td>\n",
       "      <td>Late delivery</td>\n",
       "      <td>1</td>\n",
       "      <td>45</td>\n",
       "      <td>Fishing</td>\n",
       "      <td>Bakersfield</td>\n",
       "      <td>EE. UU.</td>\n",
       "      <td>9141</td>\n",
       "      <td>...</td>\n",
       "      <td>-613.770019</td>\n",
       "      <td>Eastern Asia</td>\n",
       "      <td>Osaka</td>\n",
       "      <td>COMPLETE</td>\n",
       "      <td>1004</td>\n",
       "      <td>Field &amp; Stream Sportsman 16 Gun Fire Safe</td>\n",
       "      <td>399.980011</td>\n",
       "      <td>0</td>\n",
       "      <td>1/19/2016 1:34</td>\n",
       "      <td>Second Class</td>\n",
       "    </tr>\n",
       "    <tr>\n",
       "      <th>180516</th>\n",
       "      <td>TRANSFER</td>\n",
       "      <td>5</td>\n",
       "      <td>4</td>\n",
       "      <td>Late delivery</td>\n",
       "      <td>1</td>\n",
       "      <td>45</td>\n",
       "      <td>Fishing</td>\n",
       "      <td>Bristol</td>\n",
       "      <td>EE. UU.</td>\n",
       "      <td>291</td>\n",
       "      <td>...</td>\n",
       "      <td>141.110001</td>\n",
       "      <td>Oceania</td>\n",
       "      <td>Australia del Sur</td>\n",
       "      <td>PENDING</td>\n",
       "      <td>1004</td>\n",
       "      <td>Field &amp; Stream Sportsman 16 Gun Fire Safe</td>\n",
       "      <td>399.980011</td>\n",
       "      <td>0</td>\n",
       "      <td>1/20/2016 21:00</td>\n",
       "      <td>Standard Class</td>\n",
       "    </tr>\n",
       "    <tr>\n",
       "      <th>180517</th>\n",
       "      <td>PAYMENT</td>\n",
       "      <td>3</td>\n",
       "      <td>4</td>\n",
       "      <td>Advance shipping</td>\n",
       "      <td>0</td>\n",
       "      <td>45</td>\n",
       "      <td>Fishing</td>\n",
       "      <td>Caguas</td>\n",
       "      <td>Puerto Rico</td>\n",
       "      <td>2813</td>\n",
       "      <td>...</td>\n",
       "      <td>186.229996</td>\n",
       "      <td>Oceania</td>\n",
       "      <td>Australia del Sur</td>\n",
       "      <td>PENDING_PAYMENT</td>\n",
       "      <td>1004</td>\n",
       "      <td>Field &amp; Stream Sportsman 16 Gun Fire Safe</td>\n",
       "      <td>399.980011</td>\n",
       "      <td>0</td>\n",
       "      <td>1/18/2016 20:18</td>\n",
       "      <td>Standard Class</td>\n",
       "    </tr>\n",
       "    <tr>\n",
       "      <th>180518</th>\n",
       "      <td>PAYMENT</td>\n",
       "      <td>4</td>\n",
       "      <td>4</td>\n",
       "      <td>Shipping on time</td>\n",
       "      <td>0</td>\n",
       "      <td>45</td>\n",
       "      <td>Fishing</td>\n",
       "      <td>Caguas</td>\n",
       "      <td>Puerto Rico</td>\n",
       "      <td>7547</td>\n",
       "      <td>...</td>\n",
       "      <td>168.949997</td>\n",
       "      <td>South Asia</td>\n",
       "      <td>Tamil Nadu</td>\n",
       "      <td>PENDING_PAYMENT</td>\n",
       "      <td>1004</td>\n",
       "      <td>Field &amp; Stream Sportsman 16 Gun Fire Safe</td>\n",
       "      <td>399.980011</td>\n",
       "      <td>0</td>\n",
       "      <td>1/19/2016 18:54</td>\n",
       "      <td>Standard Class</td>\n",
       "    </tr>\n",
       "  </tbody>\n",
       "</table>\n",
       "<p>180519 rows × 39 columns</p>\n",
       "</div>"
      ],
      "text/plain": [
       "            Type  Days_for_shipping  Days_for_shipment   Delivery_Status  \\\n",
       "0          DEBIT                  3                  4  Advance shipping   \n",
       "1       TRANSFER                  5                  4     Late delivery   \n",
       "2           CASH                  4                  4  Shipping on time   \n",
       "3          DEBIT                  3                  4  Advance shipping   \n",
       "4        PAYMENT                  2                  4  Advance shipping   \n",
       "...          ...                ...                ...               ...   \n",
       "180514      CASH                  4                  4  Shipping on time   \n",
       "180515     DEBIT                  3                  2     Late delivery   \n",
       "180516  TRANSFER                  5                  4     Late delivery   \n",
       "180517   PAYMENT                  3                  4  Advance shipping   \n",
       "180518   PAYMENT                  4                  4  Shipping on time   \n",
       "\n",
       "        Late_delivery_risk  Category_Id   Category_Name Customer_City  \\\n",
       "0                        0           73  Sporting Goods        Caguas   \n",
       "1                        1           73  Sporting Goods        Caguas   \n",
       "2                        0           73  Sporting Goods      San Jose   \n",
       "3                        0           73  Sporting Goods   Los Angeles   \n",
       "4                        0           73  Sporting Goods        Caguas   \n",
       "...                    ...          ...             ...           ...   \n",
       "180514                   0           45         Fishing      Brooklyn   \n",
       "180515                   1           45         Fishing   Bakersfield   \n",
       "180516                   1           45         Fishing       Bristol   \n",
       "180517                   0           45         Fishing        Caguas   \n",
       "180518                   0           45         Fishing        Caguas   \n",
       "\n",
       "       Customer_Country  Customer_Id  ... Order Profit Per Order  \\\n",
       "0           Puerto Rico        20755  ...              91.250000   \n",
       "1           Puerto Rico        19492  ...            -249.089996   \n",
       "2               EE. UU.        19491  ...            -247.779999   \n",
       "3               EE. UU.        19490  ...              22.860001   \n",
       "4           Puerto Rico        19489  ...             134.210007   \n",
       "...                 ...          ...  ...                    ...   \n",
       "180514          EE. UU.         1005  ...              40.000000   \n",
       "180515          EE. UU.         9141  ...            -613.770019   \n",
       "180516          EE. UU.          291  ...             141.110001   \n",
       "180517      Puerto Rico         2813  ...             186.229996   \n",
       "180518      Puerto Rico         7547  ...             168.949997   \n",
       "\n",
       "          Order_Region        Order_State     Order_Status Product Card Id  \\\n",
       "0       Southeast Asia    Java Occidental         COMPLETE            1360   \n",
       "1           South Asia           Rajast�n          PENDING            1360   \n",
       "2           South Asia           Rajast�n           CLOSED            1360   \n",
       "3              Oceania         Queensland         COMPLETE            1360   \n",
       "4              Oceania         Queensland  PENDING_PAYMENT            1360   \n",
       "...                ...                ...              ...             ...   \n",
       "180514    Eastern Asia           Shangh�i           CLOSED            1004   \n",
       "180515    Eastern Asia              Osaka         COMPLETE            1004   \n",
       "180516         Oceania  Australia del Sur          PENDING            1004   \n",
       "180517         Oceania  Australia del Sur  PENDING_PAYMENT            1004   \n",
       "180518      South Asia         Tamil Nadu  PENDING_PAYMENT            1004   \n",
       "\n",
       "                                     Product_Name  Product_Price  \\\n",
       "0                                    Smart watch      327.750000   \n",
       "1                                    Smart watch      327.750000   \n",
       "2                                    Smart watch      327.750000   \n",
       "3                                    Smart watch      327.750000   \n",
       "4                                    Smart watch      327.750000   \n",
       "...                                           ...            ...   \n",
       "180514  Field & Stream Sportsman 16 Gun Fire Safe     399.980011   \n",
       "180515  Field & Stream Sportsman 16 Gun Fire Safe     399.980011   \n",
       "180516  Field & Stream Sportsman 16 Gun Fire Safe     399.980011   \n",
       "180517  Field & Stream Sportsman 16 Gun Fire Safe     399.980011   \n",
       "180518  Field & Stream Sportsman 16 Gun Fire Safe     399.980011   \n",
       "\n",
       "       Product_Status    Shipping_date   Shipping_Mode  \n",
       "0                   0   2/3/2018 22:56  Standard Class  \n",
       "1                   0  1/18/2018 12:27  Standard Class  \n",
       "2                   0  1/17/2018 12:06  Standard Class  \n",
       "3                   0  1/16/2018 11:45  Standard Class  \n",
       "4                   0  1/15/2018 11:24  Standard Class  \n",
       "...               ...              ...             ...  \n",
       "180514              0   1/20/2016 3:40  Standard Class  \n",
       "180515              0   1/19/2016 1:34    Second Class  \n",
       "180516              0  1/20/2016 21:00  Standard Class  \n",
       "180517              0  1/18/2016 20:18  Standard Class  \n",
       "180518              0  1/19/2016 18:54  Standard Class  \n",
       "\n",
       "[180519 rows x 39 columns]"
      ]
     },
     "execution_count": 9,
     "metadata": {},
     "output_type": "execute_result"
    }
   ],
   "source": [
    "# much more readable!!\n",
    "df"
   ]
  },
  {
   "cell_type": "code",
   "execution_count": 191,
   "id": "e7d43bec",
   "metadata": {},
   "outputs": [
    {
     "name": "stdout",
     "output_type": "stream",
     "text": [
      "<class 'pandas.core.frame.DataFrame'>\n",
      "RangeIndex: 180519 entries, 0 to 180518\n",
      "Data columns (total 39 columns):\n",
      " #   Column                   Non-Null Count   Dtype  \n",
      "---  ------                   --------------   -----  \n",
      " 0   Type                     180519 non-null  object \n",
      " 1   Days_for_shipping        180519 non-null  int32  \n",
      " 2   Days_for_shipment        180519 non-null  int32  \n",
      " 3   Delivery_Status          180519 non-null  object \n",
      " 4   Late_delivery_risk       180519 non-null  int32  \n",
      " 5   Category_Id              180519 non-null  int32  \n",
      " 6   Category_Name            180519 non-null  object \n",
      " 7   Customer_City            180519 non-null  object \n",
      " 8   Customer_Country         180519 non-null  object \n",
      " 9   Customer_Id              180519 non-null  int32  \n",
      " 10  Customer_Segment         180519 non-null  object \n",
      " 11  Customer_State           180519 non-null  object \n",
      " 12  Customer_Street          180519 non-null  object \n",
      " 13  Department_Id            180519 non-null  int32  \n",
      " 14  Department_Name          180519 non-null  object \n",
      " 15  Latitude                 180519 non-null  float64\n",
      " 16  Longitude                180519 non-null  float64\n",
      " 17  Market                   180519 non-null  object \n",
      " 18  Order_City               180519 non-null  object \n",
      " 19  Order_Country            180519 non-null  object \n",
      " 20  Order_date               180519 non-null  object \n",
      " 21  Order_Id                 180519 non-null  int32  \n",
      " 22  Order_Item_Discount      180519 non-null  float64\n",
      " 23  Order_tem_Discount_Rate  180519 non-null  float64\n",
      " 24  Order_Item_Id            180519 non-null  int32  \n",
      " 25  Order_Item_Profit_Ratio  180519 non-null  float64\n",
      " 26  Order_Item_Quantity      180519 non-null  int32  \n",
      " 27  Sales                    180519 non-null  float64\n",
      " 28  Order_Item_Total         180519 non-null  float64\n",
      " 29  Order Profit Per Order   180519 non-null  float64\n",
      " 30  Order_Region             180519 non-null  object \n",
      " 31  Order_State              180519 non-null  object \n",
      " 32  Order_Status             180519 non-null  object \n",
      " 33  Product Card Id          180519 non-null  int32  \n",
      " 34  Product_Name             180519 non-null  object \n",
      " 35  Product_Price            180519 non-null  float64\n",
      " 36  Product_Status           180519 non-null  int32  \n",
      " 37  Shipping_date            180519 non-null  object \n",
      " 38  Shipping_Mode            180519 non-null  object \n",
      "dtypes: float64(9), int32(11), object(19)\n",
      "memory usage: 46.1+ MB\n"
     ]
    }
   ],
   "source": [
    "df.info()"
   ]
  },
  {
   "cell_type": "markdown",
   "id": "e0d7f93e",
   "metadata": {
    "id": "e0d7f93e",
    "papermill": {
     "duration": 0.030767,
     "end_time": "2022-08-12T11:27:39.360409",
     "exception": false,
     "start_time": "2022-08-12T11:27:39.329642",
     "status": "completed"
    },
    "tags": []
   },
   "source": [
    "### Descriptive Statistics\n"
   ]
  },
  {
   "cell_type": "code",
   "execution_count": 89,
   "id": "e287ecbd",
   "metadata": {},
   "outputs": [
    {
     "data": {
      "text/html": [
       "<div>\n",
       "<style scoped>\n",
       "    .dataframe tbody tr th:only-of-type {\n",
       "        vertical-align: middle;\n",
       "    }\n",
       "\n",
       "    .dataframe tbody tr th {\n",
       "        vertical-align: top;\n",
       "    }\n",
       "\n",
       "    .dataframe thead th {\n",
       "        text-align: right;\n",
       "    }\n",
       "</style>\n",
       "<table border=\"1\" class=\"dataframe\">\n",
       "  <thead>\n",
       "    <tr style=\"text-align: right;\">\n",
       "      <th></th>\n",
       "      <th>Days_for_shipping</th>\n",
       "      <th>Days_for_shipment</th>\n",
       "      <th>Late_delivery_risk</th>\n",
       "      <th>Category_Id</th>\n",
       "      <th>Customer_Id</th>\n",
       "      <th>Department_Id</th>\n",
       "      <th>Latitude</th>\n",
       "      <th>Longitude</th>\n",
       "      <th>Order_Id</th>\n",
       "      <th>Order_Item_Discount</th>\n",
       "      <th>Order_tem_Discount_Rate</th>\n",
       "      <th>Order_Item_Id</th>\n",
       "      <th>Order_Item_Profit_Ratio</th>\n",
       "      <th>Order_Item_Quantity</th>\n",
       "      <th>Sales</th>\n",
       "      <th>Order_Item_Total</th>\n",
       "      <th>Order Profit Per Order</th>\n",
       "      <th>Product Card Id</th>\n",
       "      <th>Product_Price</th>\n",
       "      <th>Product_Status</th>\n",
       "    </tr>\n",
       "  </thead>\n",
       "  <tbody>\n",
       "    <tr>\n",
       "      <th>count</th>\n",
       "      <td>180519.000000</td>\n",
       "      <td>180519.000000</td>\n",
       "      <td>180519.000000</td>\n",
       "      <td>180519.000000</td>\n",
       "      <td>180519.000000</td>\n",
       "      <td>180519.000000</td>\n",
       "      <td>180519.000000</td>\n",
       "      <td>180519.000000</td>\n",
       "      <td>180519.000000</td>\n",
       "      <td>180519.000000</td>\n",
       "      <td>180519.000000</td>\n",
       "      <td>180519.000000</td>\n",
       "      <td>180519.000000</td>\n",
       "      <td>180519.000000</td>\n",
       "      <td>180519.000000</td>\n",
       "      <td>180519.000000</td>\n",
       "      <td>180519.000000</td>\n",
       "      <td>180519.000000</td>\n",
       "      <td>180519.000000</td>\n",
       "      <td>180519.0</td>\n",
       "    </tr>\n",
       "    <tr>\n",
       "      <th>mean</th>\n",
       "      <td>3.497654</td>\n",
       "      <td>2.931847</td>\n",
       "      <td>0.548291</td>\n",
       "      <td>31.851451</td>\n",
       "      <td>6691.379495</td>\n",
       "      <td>5.443460</td>\n",
       "      <td>29.719955</td>\n",
       "      <td>-84.915675</td>\n",
       "      <td>36221.894903</td>\n",
       "      <td>20.664741</td>\n",
       "      <td>0.101668</td>\n",
       "      <td>90260.000000</td>\n",
       "      <td>0.120647</td>\n",
       "      <td>2.127638</td>\n",
       "      <td>203.772096</td>\n",
       "      <td>183.107609</td>\n",
       "      <td>21.974989</td>\n",
       "      <td>692.509764</td>\n",
       "      <td>141.232550</td>\n",
       "      <td>0.0</td>\n",
       "    </tr>\n",
       "    <tr>\n",
       "      <th>std</th>\n",
       "      <td>1.623722</td>\n",
       "      <td>1.374449</td>\n",
       "      <td>0.497664</td>\n",
       "      <td>15.640064</td>\n",
       "      <td>4162.918106</td>\n",
       "      <td>1.629246</td>\n",
       "      <td>9.813646</td>\n",
       "      <td>21.433241</td>\n",
       "      <td>21045.379569</td>\n",
       "      <td>21.800901</td>\n",
       "      <td>0.070415</td>\n",
       "      <td>52111.490959</td>\n",
       "      <td>0.466796</td>\n",
       "      <td>1.453451</td>\n",
       "      <td>132.273077</td>\n",
       "      <td>120.043670</td>\n",
       "      <td>104.433526</td>\n",
       "      <td>336.446807</td>\n",
       "      <td>139.732492</td>\n",
       "      <td>0.0</td>\n",
       "    </tr>\n",
       "    <tr>\n",
       "      <th>min</th>\n",
       "      <td>0.000000</td>\n",
       "      <td>0.000000</td>\n",
       "      <td>0.000000</td>\n",
       "      <td>2.000000</td>\n",
       "      <td>1.000000</td>\n",
       "      <td>2.000000</td>\n",
       "      <td>-33.937553</td>\n",
       "      <td>-158.025986</td>\n",
       "      <td>1.000000</td>\n",
       "      <td>0.000000</td>\n",
       "      <td>0.000000</td>\n",
       "      <td>1.000000</td>\n",
       "      <td>-2.750000</td>\n",
       "      <td>1.000000</td>\n",
       "      <td>9.990000</td>\n",
       "      <td>7.490000</td>\n",
       "      <td>-4274.979980</td>\n",
       "      <td>19.000000</td>\n",
       "      <td>9.990000</td>\n",
       "      <td>0.0</td>\n",
       "    </tr>\n",
       "    <tr>\n",
       "      <th>25%</th>\n",
       "      <td>2.000000</td>\n",
       "      <td>2.000000</td>\n",
       "      <td>0.000000</td>\n",
       "      <td>18.000000</td>\n",
       "      <td>3258.500000</td>\n",
       "      <td>4.000000</td>\n",
       "      <td>18.265432</td>\n",
       "      <td>-98.446312</td>\n",
       "      <td>18057.000000</td>\n",
       "      <td>5.400000</td>\n",
       "      <td>0.040000</td>\n",
       "      <td>45130.500000</td>\n",
       "      <td>0.080000</td>\n",
       "      <td>1.000000</td>\n",
       "      <td>119.980003</td>\n",
       "      <td>104.379997</td>\n",
       "      <td>7.000000</td>\n",
       "      <td>403.000000</td>\n",
       "      <td>50.000000</td>\n",
       "      <td>0.0</td>\n",
       "    </tr>\n",
       "    <tr>\n",
       "      <th>50%</th>\n",
       "      <td>3.000000</td>\n",
       "      <td>4.000000</td>\n",
       "      <td>1.000000</td>\n",
       "      <td>29.000000</td>\n",
       "      <td>6457.000000</td>\n",
       "      <td>5.000000</td>\n",
       "      <td>33.144863</td>\n",
       "      <td>-76.847908</td>\n",
       "      <td>36140.000000</td>\n",
       "      <td>14.000000</td>\n",
       "      <td>0.100000</td>\n",
       "      <td>90260.000000</td>\n",
       "      <td>0.270000</td>\n",
       "      <td>1.000000</td>\n",
       "      <td>199.919998</td>\n",
       "      <td>163.990005</td>\n",
       "      <td>31.520000</td>\n",
       "      <td>627.000000</td>\n",
       "      <td>59.990002</td>\n",
       "      <td>0.0</td>\n",
       "    </tr>\n",
       "    <tr>\n",
       "      <th>75%</th>\n",
       "      <td>5.000000</td>\n",
       "      <td>4.000000</td>\n",
       "      <td>1.000000</td>\n",
       "      <td>45.000000</td>\n",
       "      <td>9779.000000</td>\n",
       "      <td>7.000000</td>\n",
       "      <td>39.279617</td>\n",
       "      <td>-66.370583</td>\n",
       "      <td>54144.000000</td>\n",
       "      <td>29.990000</td>\n",
       "      <td>0.160000</td>\n",
       "      <td>135389.500000</td>\n",
       "      <td>0.360000</td>\n",
       "      <td>3.000000</td>\n",
       "      <td>299.950012</td>\n",
       "      <td>247.399994</td>\n",
       "      <td>64.800003</td>\n",
       "      <td>1004.000000</td>\n",
       "      <td>199.990005</td>\n",
       "      <td>0.0</td>\n",
       "    </tr>\n",
       "    <tr>\n",
       "      <th>max</th>\n",
       "      <td>6.000000</td>\n",
       "      <td>4.000000</td>\n",
       "      <td>1.000000</td>\n",
       "      <td>76.000000</td>\n",
       "      <td>20757.000000</td>\n",
       "      <td>12.000000</td>\n",
       "      <td>48.781933</td>\n",
       "      <td>115.263077</td>\n",
       "      <td>77204.000000</td>\n",
       "      <td>500.000000</td>\n",
       "      <td>0.250000</td>\n",
       "      <td>180519.000000</td>\n",
       "      <td>0.500000</td>\n",
       "      <td>5.000000</td>\n",
       "      <td>1999.989990</td>\n",
       "      <td>1939.989990</td>\n",
       "      <td>911.799988</td>\n",
       "      <td>1363.000000</td>\n",
       "      <td>1999.989990</td>\n",
       "      <td>0.0</td>\n",
       "    </tr>\n",
       "  </tbody>\n",
       "</table>\n",
       "</div>"
      ],
      "text/plain": [
       "       Days_for_shipping  Days_for_shipment  Late_delivery_risk  \\\n",
       "count      180519.000000      180519.000000       180519.000000   \n",
       "mean            3.497654           2.931847            0.548291   \n",
       "std             1.623722           1.374449            0.497664   \n",
       "min             0.000000           0.000000            0.000000   \n",
       "25%             2.000000           2.000000            0.000000   \n",
       "50%             3.000000           4.000000            1.000000   \n",
       "75%             5.000000           4.000000            1.000000   \n",
       "max             6.000000           4.000000            1.000000   \n",
       "\n",
       "         Category_Id    Customer_Id  Department_Id       Latitude  \\\n",
       "count  180519.000000  180519.000000  180519.000000  180519.000000   \n",
       "mean       31.851451    6691.379495       5.443460      29.719955   \n",
       "std        15.640064    4162.918106       1.629246       9.813646   \n",
       "min         2.000000       1.000000       2.000000     -33.937553   \n",
       "25%        18.000000    3258.500000       4.000000      18.265432   \n",
       "50%        29.000000    6457.000000       5.000000      33.144863   \n",
       "75%        45.000000    9779.000000       7.000000      39.279617   \n",
       "max        76.000000   20757.000000      12.000000      48.781933   \n",
       "\n",
       "           Longitude       Order_Id  Order_Item_Discount  \\\n",
       "count  180519.000000  180519.000000        180519.000000   \n",
       "mean      -84.915675   36221.894903            20.664741   \n",
       "std        21.433241   21045.379569            21.800901   \n",
       "min      -158.025986       1.000000             0.000000   \n",
       "25%       -98.446312   18057.000000             5.400000   \n",
       "50%       -76.847908   36140.000000            14.000000   \n",
       "75%       -66.370583   54144.000000            29.990000   \n",
       "max       115.263077   77204.000000           500.000000   \n",
       "\n",
       "       Order_tem_Discount_Rate  Order_Item_Id  Order_Item_Profit_Ratio  \\\n",
       "count            180519.000000  180519.000000            180519.000000   \n",
       "mean                  0.101668   90260.000000                 0.120647   \n",
       "std                   0.070415   52111.490959                 0.466796   \n",
       "min                   0.000000       1.000000                -2.750000   \n",
       "25%                   0.040000   45130.500000                 0.080000   \n",
       "50%                   0.100000   90260.000000                 0.270000   \n",
       "75%                   0.160000  135389.500000                 0.360000   \n",
       "max                   0.250000  180519.000000                 0.500000   \n",
       "\n",
       "       Order_Item_Quantity          Sales  Order_Item_Total  \\\n",
       "count        180519.000000  180519.000000     180519.000000   \n",
       "mean              2.127638     203.772096        183.107609   \n",
       "std               1.453451     132.273077        120.043670   \n",
       "min               1.000000       9.990000          7.490000   \n",
       "25%               1.000000     119.980003        104.379997   \n",
       "50%               1.000000     199.919998        163.990005   \n",
       "75%               3.000000     299.950012        247.399994   \n",
       "max               5.000000    1999.989990       1939.989990   \n",
       "\n",
       "       Order Profit Per Order  Product Card Id  Product_Price  Product_Status  \n",
       "count           180519.000000    180519.000000  180519.000000        180519.0  \n",
       "mean                21.974989       692.509764     141.232550             0.0  \n",
       "std                104.433526       336.446807     139.732492             0.0  \n",
       "min              -4274.979980        19.000000       9.990000             0.0  \n",
       "25%                  7.000000       403.000000      50.000000             0.0  \n",
       "50%                 31.520000       627.000000      59.990002             0.0  \n",
       "75%                 64.800003      1004.000000     199.990005             0.0  \n",
       "max                911.799988      1363.000000    1999.989990             0.0  "
      ]
     },
     "execution_count": 89,
     "metadata": {},
     "output_type": "execute_result"
    }
   ],
   "source": [
    "df.describe() "
   ]
  },
  {
   "cell_type": "markdown",
   "id": "b84f52ce",
   "metadata": {},
   "source": [
    "From here we can see that we've, \n",
    "\n",
    "- 3-Days is the average of actual shipping days of the purchased product in this dataset, the max is 6-days, and the min is same day delivery.\n",
    "\n",
    "Comparing it to the scheduled;\n",
    "\n",
    "- 2-Days is the average of scheduled delivery of the purchased product in this dataset, the max is 4-days, and the min is same day delivery\n",
    "\n",
    "So, the delivery normally takes more than the scheduled days for shipping. \n",
    "\n",
    "-----------------------------------------------------------------------------------\n",
    "\n",
    "- the 'Late_delivery_risk' is a engineered feature it was clear, I think it was created from the 'Delivery_Status' Column. It has binary (int) values. --> it could be converted to object type so we can check the majority of shipping status. \n",
    "\n",
    "-----------------------------------------------------------------------------------\n",
    "\n",
    "- Product_Status of the product stock :If it is 1 not available , 0 the product is availabl, all of them are availabl in this dataset.\n",
    "\n",
    "-----------------------------------------------------------------------------------\n",
    "\n",
    "- Latitude is between (-33, 48) and, Longitude is between (-158, 115)\n"
   ]
  },
  {
   "cell_type": "code",
   "execution_count": 10,
   "id": "5867f137",
   "metadata": {},
   "outputs": [],
   "source": [
    "# converting the Late_delivery_risk to object \n",
    "df.Late_delivery_risk = df.Late_delivery_risk.astype('object')"
   ]
  },
  {
   "cell_type": "code",
   "execution_count": 91,
   "id": "fdd08b0a",
   "metadata": {},
   "outputs": [
    {
     "data": {
      "text/html": [
       "<div>\n",
       "<style scoped>\n",
       "    .dataframe tbody tr th:only-of-type {\n",
       "        vertical-align: middle;\n",
       "    }\n",
       "\n",
       "    .dataframe tbody tr th {\n",
       "        vertical-align: top;\n",
       "    }\n",
       "\n",
       "    .dataframe thead th {\n",
       "        text-align: right;\n",
       "    }\n",
       "</style>\n",
       "<table border=\"1\" class=\"dataframe\">\n",
       "  <thead>\n",
       "    <tr style=\"text-align: right;\">\n",
       "      <th></th>\n",
       "      <th>Type</th>\n",
       "      <th>Delivery_Status</th>\n",
       "      <th>Late_delivery_risk</th>\n",
       "      <th>Category_Name</th>\n",
       "      <th>Customer_City</th>\n",
       "      <th>Customer_Country</th>\n",
       "      <th>Customer_Segment</th>\n",
       "      <th>Customer_State</th>\n",
       "      <th>Customer_Street</th>\n",
       "      <th>Department_Name</th>\n",
       "      <th>Market</th>\n",
       "      <th>Order_City</th>\n",
       "      <th>Order_Country</th>\n",
       "      <th>Order_date</th>\n",
       "      <th>Order_Region</th>\n",
       "      <th>Order_State</th>\n",
       "      <th>Order_Status</th>\n",
       "      <th>Product_Name</th>\n",
       "      <th>Shipping_date</th>\n",
       "      <th>Shipping_Mode</th>\n",
       "    </tr>\n",
       "  </thead>\n",
       "  <tbody>\n",
       "    <tr>\n",
       "      <th>count</th>\n",
       "      <td>180519</td>\n",
       "      <td>180519</td>\n",
       "      <td>180519</td>\n",
       "      <td>180519</td>\n",
       "      <td>180519</td>\n",
       "      <td>180519</td>\n",
       "      <td>180519</td>\n",
       "      <td>180519</td>\n",
       "      <td>180519</td>\n",
       "      <td>180519</td>\n",
       "      <td>180519</td>\n",
       "      <td>180519</td>\n",
       "      <td>180519</td>\n",
       "      <td>180519</td>\n",
       "      <td>180519</td>\n",
       "      <td>180519</td>\n",
       "      <td>180519</td>\n",
       "      <td>180519</td>\n",
       "      <td>180519</td>\n",
       "      <td>180519</td>\n",
       "    </tr>\n",
       "    <tr>\n",
       "      <th>unique</th>\n",
       "      <td>4</td>\n",
       "      <td>4</td>\n",
       "      <td>2</td>\n",
       "      <td>50</td>\n",
       "      <td>563</td>\n",
       "      <td>2</td>\n",
       "      <td>3</td>\n",
       "      <td>46</td>\n",
       "      <td>7458</td>\n",
       "      <td>11</td>\n",
       "      <td>5</td>\n",
       "      <td>3597</td>\n",
       "      <td>164</td>\n",
       "      <td>65752</td>\n",
       "      <td>23</td>\n",
       "      <td>1089</td>\n",
       "      <td>9</td>\n",
       "      <td>118</td>\n",
       "      <td>63701</td>\n",
       "      <td>4</td>\n",
       "    </tr>\n",
       "    <tr>\n",
       "      <th>top</th>\n",
       "      <td>DEBIT</td>\n",
       "      <td>Late delivery</td>\n",
       "      <td>1</td>\n",
       "      <td>Cleats</td>\n",
       "      <td>Caguas</td>\n",
       "      <td>EE. UU.</td>\n",
       "      <td>Consumer</td>\n",
       "      <td>PR</td>\n",
       "      <td>9126 Wishing Expressway</td>\n",
       "      <td>Fan Shop</td>\n",
       "      <td>LATAM</td>\n",
       "      <td>Santo Domingo</td>\n",
       "      <td>Estados Unidos</td>\n",
       "      <td>6/27/2016 13:46</td>\n",
       "      <td>Central America</td>\n",
       "      <td>Inglaterra</td>\n",
       "      <td>COMPLETE</td>\n",
       "      <td>Perfect Fitness Perfect Rip Deck</td>\n",
       "      <td>9/1/2017 0:44</td>\n",
       "      <td>Standard Class</td>\n",
       "    </tr>\n",
       "    <tr>\n",
       "      <th>freq</th>\n",
       "      <td>69295</td>\n",
       "      <td>98977</td>\n",
       "      <td>98977</td>\n",
       "      <td>24551</td>\n",
       "      <td>66770</td>\n",
       "      <td>111146</td>\n",
       "      <td>93504</td>\n",
       "      <td>69373</td>\n",
       "      <td>122</td>\n",
       "      <td>66861</td>\n",
       "      <td>51594</td>\n",
       "      <td>2211</td>\n",
       "      <td>24840</td>\n",
       "      <td>5</td>\n",
       "      <td>28341</td>\n",
       "      <td>6722</td>\n",
       "      <td>59491</td>\n",
       "      <td>24515</td>\n",
       "      <td>10</td>\n",
       "      <td>107752</td>\n",
       "    </tr>\n",
       "  </tbody>\n",
       "</table>\n",
       "</div>"
      ],
      "text/plain": [
       "          Type Delivery_Status  Late_delivery_risk Category_Name  \\\n",
       "count   180519          180519              180519        180519   \n",
       "unique       4               4                   2            50   \n",
       "top      DEBIT   Late delivery                   1        Cleats   \n",
       "freq     69295           98977               98977         24551   \n",
       "\n",
       "       Customer_City Customer_Country Customer_Segment Customer_State  \\\n",
       "count         180519           180519           180519         180519   \n",
       "unique           563                2                3             46   \n",
       "top           Caguas          EE. UU.         Consumer             PR   \n",
       "freq           66770           111146            93504          69373   \n",
       "\n",
       "                Customer_Street Department_Name  Market     Order_City  \\\n",
       "count                    180519          180519  180519         180519   \n",
       "unique                     7458              11       5           3597   \n",
       "top     9126 Wishing Expressway        Fan Shop   LATAM  Santo Domingo   \n",
       "freq                        122           66861   51594           2211   \n",
       "\n",
       "         Order_Country       Order_date     Order_Region Order_State  \\\n",
       "count           180519           180519           180519      180519   \n",
       "unique             164            65752               23        1089   \n",
       "top     Estados Unidos  6/27/2016 13:46  Central America  Inglaterra   \n",
       "freq             24840                5            28341        6722   \n",
       "\n",
       "       Order_Status                      Product_Name  Shipping_date  \\\n",
       "count        180519                            180519         180519   \n",
       "unique            9                               118          63701   \n",
       "top        COMPLETE  Perfect Fitness Perfect Rip Deck  9/1/2017 0:44   \n",
       "freq          59491                             24515             10   \n",
       "\n",
       "         Shipping_Mode  \n",
       "count           180519  \n",
       "unique               4  \n",
       "top     Standard Class  \n",
       "freq            107752  "
      ]
     },
     "execution_count": 91,
     "metadata": {},
     "output_type": "execute_result"
    }
   ],
   "source": [
    "df.describe(exclude = 'number') "
   ]
  },
  {
   "cell_type": "markdown",
   "id": "9702e033",
   "metadata": {},
   "source": [
    "From here we can see that we've, \n",
    "\n",
    "- Delivery_Status has four Unique values and 'Late delivery' is the most frequent one.\n",
    "\n",
    "by default;\n",
    "\n",
    "- The Late_delivery_risk has 1 as it most frequent class too since ut's mapped to late delivery.  \n",
    "\n",
    "-----------------------------------------------------------------------------------\n",
    "\n",
    "- The most Repeated country is the United States (EE. UU.) and, Puerto Rico (PR) is where most of the Customer_State and Caguas is the highest Customer_City which is a city in PR. \n",
    "\n",
    "-----------------------------------------------------------------------------------\n",
    "\n",
    "- For the Order state we have orders from 1089 states in 23 different regions. \n"
   ]
  },
  {
   "cell_type": "markdown",
   "id": "e2903cb1",
   "metadata": {
    "id": "e2903cb1"
   },
   "source": [
    "## Data Exploration\n"
   ]
  },
  {
   "cell_type": "markdown",
   "id": "c5044458",
   "metadata": {},
   "source": [
    "### Understanding Categorical Columns , \n",
    "\n",
    "since my target is Delivery_Status I'd like to see the my target with the most important columns/features in the dataset."
   ]
  },
  {
   "cell_type": "code",
   "execution_count": 92,
   "id": "bb5fbafd",
   "metadata": {},
   "outputs": [
    {
     "data": {
      "text/plain": [
       "COMPLETE           59491\n",
       "PENDING_PAYMENT    39832\n",
       "PROCESSING         21902\n",
       "PENDING            20227\n",
       "CLOSED             19616\n",
       "ON_HOLD             9804\n",
       "SUSPECTED_FRAUD     4062\n",
       "CANCELED            3692\n",
       "PAYMENT_REVIEW      1893\n",
       "Name: Order_Status, dtype: int64"
      ]
     },
     "execution_count": 92,
     "metadata": {},
     "output_type": "execute_result"
    }
   ],
   "source": [
    "# Lets check  Order_Status and undertsand the the 9 categories \n",
    "df['Order_Status'].value_counts()"
   ]
  },
  {
   "cell_type": "code",
   "execution_count": 93,
   "id": "817c4784",
   "metadata": {},
   "outputs": [
    {
     "data": {
      "text/plain": [
       "Consumer       93504\n",
       "Corporate      54789\n",
       "Home Office    32226\n",
       "Name: Customer_Segment, dtype: int64"
      ]
     },
     "execution_count": 93,
     "metadata": {},
     "output_type": "execute_result"
    }
   ],
   "source": [
    "## Lets check  Customer_Segment and undertsand the the 3 categories \n",
    "df['Customer_Segment'].value_counts()"
   ]
  },
  {
   "cell_type": "markdown",
   "id": "78de816a",
   "metadata": {},
   "source": [
    "### 1 - Pie Chart\n",
    "\n",
    "Lets see the percentage of each Customer Segment of customer in the dataset."
   ]
  },
  {
   "cell_type": "code",
   "execution_count": 94,
   "id": "3fb917f1",
   "metadata": {},
   "outputs": [
    {
     "data": {
      "image/png": "[encoded data removed]",
      "text/plain": [
       "<Figure size 432x288 with 1 Axes>"
      ]
     },
     "metadata": {},
     "output_type": "display_data"
    }
   ],
   "source": [
    "df_cust_seg = df['Customer_Segment'].value_counts().nlargest(3)  \n",
    "colors = sns.color_palette('muted')\n",
    "\n",
    "#our pie chart is based on the 3 categories \n",
    "plt.pie(df_cust_seg.values, labels=df_cust_seg.index, colors=colors, autopct='%.0f%%', textprops={'fontsize': 14})\n",
    "plt.show()"
   ]
  },
  {
   "cell_type": "markdown",
   "id": "20547fd7",
   "metadata": {},
   "source": [
    "- More than half of the the customer segment are Consumers and the other half is between Corporate and Home Office"
   ]
  },
  {
   "cell_type": "markdown",
   "id": "2ce6544d",
   "metadata": {},
   "source": [
    "### 2 - Pie Chart \n",
    "\n",
    "Lets see the percentage of top 5 Customer City in the dataset."
   ]
  },
  {
   "cell_type": "code",
   "execution_count": 95,
   "id": "59298037",
   "metadata": {},
   "outputs": [
    {
     "data": {
      "image/png": "[encoded data removed]",
      "text/plain": [
       "<Figure size 432x288 with 1 Axes>"
      ]
     },
     "metadata": {},
     "output_type": "display_data"
    }
   ],
   "source": [
    "df_cust_city = df['Customer_City'].value_counts().nlargest(5)  \n",
    "colors = sns.color_palette('muted')\n",
    "\n",
    "#our pie chart is based on the 5 categories \n",
    "plt.pie(df_cust_city.values, labels=df_cust_city.index, colors=colors, autopct='%.0f%%', textprops={'fontsize': 14})\n",
    "plt.show()"
   ]
  },
  {
   "cell_type": "markdown",
   "id": "72875441",
   "metadata": {},
   "source": [
    "- These are the top cities and we can see that compared to the 'Caguas' it's either they're located in the state of RP or they've popularity there."
   ]
  },
  {
   "cell_type": "markdown",
   "id": "b4415b92",
   "metadata": {},
   "source": [
    "### 3 - Histogram \n"
   ]
  },
  {
   "cell_type": "code",
   "execution_count": 24,
   "id": "9c00ba81",
   "metadata": {},
   "outputs": [
    {
     "data": {
      "text/plain": [
       "<AxesSubplot:xlabel='Delivery_Status', ylabel='Count'>"
      ]
     },
     "execution_count": 24,
     "metadata": {},
     "output_type": "execute_result"
    },
    {
     "data": {
      "image/png": "[encoded data removed]",
      "text/plain": [
       "<Figure size 720x576 with 1 Axes>"
      ]
     },
     "metadata": {
      "needs_background": "light"
     },
     "output_type": "display_data"
    }
   ],
   "source": [
    "# I'll start with order Customer_Segment and Delivery_Status\n",
    "df_Region = df[['Delivery_Status' , 'Customer_Segment']]\n",
    "\n",
    "#we can now create our histogram\n",
    "plt.figure (figsize=(10,8))\n",
    "sns.set_context(\"notebook\", font_scale=1.25)\n",
    "sns.histplot(data=df_Region, x='Delivery_Status', hue='Customer_Segment', binwidth=0.3 , palette='muted')"
   ]
  },
  {
   "cell_type": "markdown",
   "id": "d98830e8",
   "metadata": {},
   "source": [
    "- We expected the Consumer to be higher for sure because they're in different states and for the Home office to bethe lowest --> the gray like (Orange Behind)."
   ]
  },
  {
   "cell_type": "code",
   "execution_count": 141,
   "id": "qwZA0Gky8lLP",
   "metadata": {
    "colab": {
     "base_uri": "https://localhost:8080/",
     "height": 1000
    },
    "id": "qwZA0Gky8lLP",
    "outputId": "8632d5a9-ab9e-44b7-8ae7-8777495ffecf"
   },
   "outputs": [
    {
     "data": {
      "text/plain": [
       "<AxesSubplot:xlabel='Delivery_Status', ylabel='Count'>"
      ]
     },
     "execution_count": 141,
     "metadata": {},
     "output_type": "execute_result"
    },
    {
     "data": {
      "image/png": "[encoded data removed]",
      "text/plain": [
       "<Figure size 1080x1440 with 1 Axes>"
      ]
     },
     "metadata": {
      "needs_background": "light"
     },
     "output_type": "display_data"
    }
   ],
   "source": [
    "# Then with Order_Region\n",
    "df_Region = df[['Delivery_Status' , 'Order_Region']]\n",
    "\n",
    "#we can now create our histogram\n",
    "plt.figure (figsize=(15,20))\n",
    "sns.set_context(\"notebook\", font_scale=1.25)\n",
    "sns.histplot(data=df_Region, x='Delivery_Status', hue='Order_Region', binwidth=0.3 , palette='muted')"
   ]
  },
  {
   "cell_type": "markdown",
   "id": "gBZ__I9g-Y-2",
   "metadata": {
    "id": "gBZ__I9g-Y-2"
   },
   "source": [
    "- From here we can see that the most frequent class in the delivery is the 'Late delivery' this till us that we've a huge problem that needs to be fixed. However, the regions are not so clear so I'll try to take Top 5 to see top regions when it comes to the delay. "
   ]
  },
  {
   "cell_type": "code",
   "execution_count": 26,
   "id": "2ECVBuBACA_U",
   "metadata": {
    "colab": {
     "base_uri": "https://localhost:8080/"
    },
    "id": "2ECVBuBACA_U",
    "outputId": "f2e5752a-f1dd-4038-8362-f83aeabc1a24"
   },
   "outputs": [
    {
     "data": {
      "text/plain": [
       "Central America    28341\n",
       "Western Europe     27109\n",
       "South America      14935\n",
       "Oceania            10148\n",
       "Northern Europe     9792\n",
       "Name: Order_Region, dtype: int64"
      ]
     },
     "execution_count": 26,
     "metadata": {},
     "output_type": "execute_result"
    }
   ],
   "source": [
    "# checking the top five Regions in our dataset \n",
    "Region_Top = df_Region['Order_Region'].value_counts().nlargest(5) #we get the top 5 regions \n",
    "Region_Top"
   ]
  },
  {
   "cell_type": "code",
   "execution_count": 27,
   "id": "HF7FCUpvEYFa",
   "metadata": {
    "id": "HF7FCUpvEYFa"
   },
   "outputs": [
    {
     "data": {
      "text/html": [
       "<div>\n",
       "<style scoped>\n",
       "    .dataframe tbody tr th:only-of-type {\n",
       "        vertical-align: middle;\n",
       "    }\n",
       "\n",
       "    .dataframe tbody tr th {\n",
       "        vertical-align: top;\n",
       "    }\n",
       "\n",
       "    .dataframe thead th {\n",
       "        text-align: right;\n",
       "    }\n",
       "</style>\n",
       "<table border=\"1\" class=\"dataframe\">\n",
       "  <thead>\n",
       "    <tr style=\"text-align: right;\">\n",
       "      <th></th>\n",
       "      <th>Delivery_Status</th>\n",
       "      <th>Order_Region</th>\n",
       "    </tr>\n",
       "  </thead>\n",
       "  <tbody>\n",
       "    <tr>\n",
       "      <th>3</th>\n",
       "      <td>Advance shipping</td>\n",
       "      <td>Oceania</td>\n",
       "    </tr>\n",
       "    <tr>\n",
       "      <th>4</th>\n",
       "      <td>Advance shipping</td>\n",
       "      <td>Oceania</td>\n",
       "    </tr>\n",
       "    <tr>\n",
       "      <th>5</th>\n",
       "      <td>Shipping canceled</td>\n",
       "      <td>Oceania</td>\n",
       "    </tr>\n",
       "    <tr>\n",
       "      <th>22</th>\n",
       "      <td>Late delivery</td>\n",
       "      <td>Oceania</td>\n",
       "    </tr>\n",
       "    <tr>\n",
       "      <th>23</th>\n",
       "      <td>Shipping canceled</td>\n",
       "      <td>Oceania</td>\n",
       "    </tr>\n",
       "    <tr>\n",
       "      <th>...</th>\n",
       "      <td>...</td>\n",
       "      <td>...</td>\n",
       "    </tr>\n",
       "    <tr>\n",
       "      <th>180502</th>\n",
       "      <td>Advance shipping</td>\n",
       "      <td>Oceania</td>\n",
       "    </tr>\n",
       "    <tr>\n",
       "      <th>180503</th>\n",
       "      <td>Advance shipping</td>\n",
       "      <td>Oceania</td>\n",
       "    </tr>\n",
       "    <tr>\n",
       "      <th>180504</th>\n",
       "      <td>Advance shipping</td>\n",
       "      <td>Oceania</td>\n",
       "    </tr>\n",
       "    <tr>\n",
       "      <th>180516</th>\n",
       "      <td>Late delivery</td>\n",
       "      <td>Oceania</td>\n",
       "    </tr>\n",
       "    <tr>\n",
       "      <th>180517</th>\n",
       "      <td>Advance shipping</td>\n",
       "      <td>Oceania</td>\n",
       "    </tr>\n",
       "  </tbody>\n",
       "</table>\n",
       "<p>90325 rows × 2 columns</p>\n",
       "</div>"
      ],
      "text/plain": [
       "          Delivery_Status Order_Region\n",
       "3        Advance shipping      Oceania\n",
       "4        Advance shipping      Oceania\n",
       "5       Shipping canceled      Oceania\n",
       "22          Late delivery      Oceania\n",
       "23      Shipping canceled      Oceania\n",
       "...                   ...          ...\n",
       "180502   Advance shipping      Oceania\n",
       "180503   Advance shipping      Oceania\n",
       "180504   Advance shipping      Oceania\n",
       "180516      Late delivery      Oceania\n",
       "180517   Advance shipping      Oceania\n",
       "\n",
       "[90325 rows x 2 columns]"
      ]
     },
     "execution_count": 27,
     "metadata": {},
     "output_type": "execute_result"
    }
   ],
   "source": [
    "# creating df to visualize the top 5 regions \n",
    "largest_countries = ['Central America','Western Europe','South America', 'Oceania', 'Northern Europe']\n",
    "Region_Top_df = df_Region[df_Region['Order_Region'].isin(largest_countries)]\n",
    "Region_Top_df"
   ]
  },
  {
   "cell_type": "code",
   "execution_count": 28,
   "id": "b08d6700",
   "metadata": {},
   "outputs": [
    {
     "data": {
      "text/plain": [
       "<AxesSubplot:xlabel='Delivery_Status', ylabel='Count'>"
      ]
     },
     "execution_count": 28,
     "metadata": {},
     "output_type": "execute_result"
    },
    {
     "data": {
      "image/png": "[encoded data removed]",
      "text/plain": [
       "<Figure size 1080x1440 with 1 Axes>"
      ]
     },
     "metadata": {
      "needs_background": "light"
     },
     "output_type": "display_data"
    }
   ],
   "source": [
    "#we can now create our histogram\n",
    "plt.figure (figsize=(15,20))\n",
    "sns.set_context(\"notebook\", font_scale=1.25)\n",
    "sns.histplot(data=Region_Top_df, x='Delivery_Status', hue='Order_Region', binwidth=0.3 , palette='muted')"
   ]
  },
  {
   "cell_type": "markdown",
   "id": "1db2d2b3",
   "metadata": {},
   "source": [
    "- Now things are more clear, we can see that Central America has the highest values in all categories and then Western Europe."
   ]
  },
  {
   "cell_type": "code",
   "execution_count": 216,
   "id": "d8d7ac92",
   "metadata": {},
   "outputs": [
    {
     "data": {
      "text/plain": [
       "<AxesSubplot:xlabel='Delivery_Status', ylabel='Count'>"
      ]
     },
     "execution_count": 216,
     "metadata": {},
     "output_type": "execute_result"
    },
    {
     "data": {
      "image/png": "[encoded data removed]",
      "text/plain": [
       "<Figure size 1080x1440 with 1 Axes>"
      ]
     },
     "metadata": {
      "needs_background": "light"
     },
     "output_type": "display_data"
    }
   ],
   "source": [
    "df_ship_mode = df[['Delivery_Status','Shipping_Mode']]\n",
    "\n",
    "#we can now create our histogram\n",
    "plt.figure (figsize=(15,20))\n",
    "sns.set_context(\"notebook\", font_scale=1.25)\n",
    "sns.histplot(data=df_ship_mode, x='Delivery_Status', hue='Shipping_Mode', binwidth=0.3 , palette='muted')"
   ]
  },
  {
   "cell_type": "markdown",
   "id": "bb73ae97",
   "metadata": {},
   "source": [
    "### Understanding Numerical Columns , \n"
   ]
  },
  {
   "cell_type": "markdown",
   "id": "b4ee3917",
   "metadata": {
    "id": "b4ee3917"
   },
   "source": [
    "### 1- Pairplot"
   ]
  },
  {
   "cell_type": "code",
   "execution_count": 218,
   "id": "13f82b88",
   "metadata": {
    "id": "13f82b88"
   },
   "outputs": [],
   "source": [
    "df_shipping = df[['Days_for_shipment','Days_for_shipping' , 'Delivery_Status']]"
   ]
  },
  {
   "cell_type": "code",
   "execution_count": 219,
   "id": "3505ea1d",
   "metadata": {
    "id": "3505ea1d",
    "outputId": "34dd114b-a186-4eb9-c266-ff48ac88fecb"
   },
   "outputs": [
    {
     "data": {
      "text/plain": [
       "<seaborn.axisgrid.PairGrid at 0x7fc9da675c40>"
      ]
     },
     "execution_count": 219,
     "metadata": {},
     "output_type": "execute_result"
    },
    {
     "data": {
      "image/png": "[encoded data removed]",
      "text/plain": [
       "<Figure size 895.5x720 with 5 Axes>"
      ]
     },
     "metadata": {
      "needs_background": "light"
     },
     "output_type": "display_data"
    }
   ],
   "source": [
    "#corner=True would produce charts only once\n",
    "sns.pairplot(df_shipping, kind='reg', hue='Delivery_Status', corner=True, size=5)"
   ]
  },
  {
   "cell_type": "markdown",
   "id": "43564b82",
   "metadata": {},
   "source": [
    "- There are linear positive correlation between the days of Shipment and days of shipping and that is because normally the shipping takes more days than the scheduled ones in 'Late Delivery' and 'Shipping canceled' categories. We can see also in the thid category 'Shipping on time' has the most match with the points since is it took the same scheduled days."
   ]
  },
  {
   "cell_type": "markdown",
   "id": "6b8506f0",
   "metadata": {
    "id": "6b8506f0"
   },
   "source": [
    "## Data Wrangling \n",
    "\n",
    "we can split the \"Shipping_date\" and \"Order_date\" columns to make them easier to analyze."
   ]
  },
  {
   "cell_type": "markdown",
   "id": "bb300158",
   "metadata": {},
   "source": [
    "#### NOTE: \n",
    "I tried chaning the type with spark but there were two problems either it create new df with empty values or creat new df with only changed column. "
   ]
  },
  {
   "cell_type": "code",
   "execution_count": 144,
   "id": "3aaafd62",
   "metadata": {},
   "outputs": [],
   "source": [
    "from pyspark.sql.functions import col\n",
    "from pyspark.sql.types import DateType , TimestampType"
   ]
  },
  {
   "cell_type": "code",
   "execution_count": 196,
   "id": "2b7df295",
   "metadata": {},
   "outputs": [],
   "source": [
    "df2 = data.withColumn(\"Shipping_date\", \n",
    "                                  data[\"Shipping_date\"]\n",
    "                                  .cast('timestamp'))\n",
    "df2.printSchema()"
   ]
  },
  {
   "cell_type": "code",
   "execution_count": 197,
   "id": "eca78d9b",
   "metadata": {},
   "outputs": [
    {
     "name": "stdout",
     "output_type": "stream",
     "text": [
      "+-------------+\n",
      "|Shipping_date|\n",
      "+-------------+\n",
      "|         null|\n",
      "|         null|\n",
      "+-------------+\n",
      "only showing top 2 rows\n",
      "\n"
     ]
    }
   ],
   "source": [
    "data2.select('Shipping_date').show(2)"
   ]
  },
  {
   "cell_type": "code",
   "execution_count": 157,
   "id": "575f88cd",
   "metadata": {},
   "outputs": [],
   "source": [
    "data_final = data.select(col(\"Shipping_date\").cast('timestamp'))"
   ]
  },
  {
   "cell_type": "code",
   "execution_count": 158,
   "id": "0ae90567",
   "metadata": {},
   "outputs": [
    {
     "name": "stdout",
     "output_type": "stream",
     "text": [
      "root\n",
      " |-- Shipping_date: timestamp (nullable = true)\n",
      "\n"
     ]
    }
   ],
   "source": [
    "data_final.printSchema()"
   ]
  },
  {
   "cell_type": "code",
   "execution_count": 173,
   "id": "7a63abe8",
   "metadata": {
    "id": "7a63abe8"
   },
   "outputs": [],
   "source": [
    "# date column to year and month columns\n",
    "data2 = data.withColumn('Shipping_Year', F.year(F.col('Shipping_date')))\n",
    "data2 = data.withColumn('Shipping_Month', F.month(F.col('Shipping_date')))\n",
    "\n",
    "data.drop('Shipping_date') #we don't need posting_date anymore\n",
    "\n",
    "# ----------------------------------------------------------------------------------------------\n",
    "\n",
    "# date column to year and month columns\n",
    "data2 = data.withColumn('Order_Year', F.year(F.col('Order_date')))\n",
    "data2 = data.withColumn('Order_Month', F.month(F.col('Order_date')))\n",
    "\n",
    "data.drop('Order_date') #we don't need posting_date anymore"
   ]
  },
  {
   "cell_type": "markdown",
   "id": "7a9c03ee",
   "metadata": {},
   "source": [
    "#### USING PANDAS "
   ]
  },
  {
   "cell_type": "code",
   "execution_count": 11,
   "id": "b9576863",
   "metadata": {},
   "outputs": [],
   "source": [
    "df['Shipping_date'] = pd.to_datetime(df['Shipping_date'])\n",
    "df['Order_date'] = pd.to_datetime(df['Order_date'])"
   ]
  },
  {
   "cell_type": "code",
   "execution_count": 12,
   "id": "b716a700",
   "metadata": {},
   "outputs": [],
   "source": [
    "df['Shipping_year'] = pd.DatetimeIndex(df['Shipping_date']).year\n",
    "df['Shipping_month'] = pd.DatetimeIndex(df['Shipping_date']).month\n",
    "\n",
    "# ---------------------------------------------------------------------\n",
    "\n",
    "df['Order_year'] = pd.DatetimeIndex(df['Order_date']).year\n",
    "df['Order_month'] = pd.DatetimeIndex(df['Order_date']).month"
   ]
  },
  {
   "cell_type": "code",
   "execution_count": 13,
   "id": "0ad6bbef",
   "metadata": {},
   "outputs": [],
   "source": [
    "col = ['Shipping_date' , 'Order_date']\n",
    "df.drop(columns = col , inplace =True)"
   ]
  },
  {
   "cell_type": "code",
   "execution_count": 14,
   "id": "d61d8491",
   "metadata": {},
   "outputs": [
    {
     "data": {
      "text/html": [
       "<div>\n",
       "<style scoped>\n",
       "    .dataframe tbody tr th:only-of-type {\n",
       "        vertical-align: middle;\n",
       "    }\n",
       "\n",
       "    .dataframe tbody tr th {\n",
       "        vertical-align: top;\n",
       "    }\n",
       "\n",
       "    .dataframe thead th {\n",
       "        text-align: right;\n",
       "    }\n",
       "</style>\n",
       "<table border=\"1\" class=\"dataframe\">\n",
       "  <thead>\n",
       "    <tr style=\"text-align: right;\">\n",
       "      <th></th>\n",
       "      <th>Days_for_shipping</th>\n",
       "      <th>Days_for_shipment</th>\n",
       "      <th>Category_Id</th>\n",
       "      <th>Customer_Id</th>\n",
       "      <th>Department_Id</th>\n",
       "      <th>Latitude</th>\n",
       "      <th>Longitude</th>\n",
       "      <th>Order_Id</th>\n",
       "      <th>Order_Item_Discount</th>\n",
       "      <th>Order_tem_Discount_Rate</th>\n",
       "      <th>...</th>\n",
       "      <th>Sales</th>\n",
       "      <th>Order_Item_Total</th>\n",
       "      <th>Order Profit Per Order</th>\n",
       "      <th>Product Card Id</th>\n",
       "      <th>Product_Price</th>\n",
       "      <th>Product_Status</th>\n",
       "      <th>Shipping_year</th>\n",
       "      <th>Shipping_month</th>\n",
       "      <th>Order_year</th>\n",
       "      <th>Order_month</th>\n",
       "    </tr>\n",
       "  </thead>\n",
       "  <tbody>\n",
       "    <tr>\n",
       "      <th>count</th>\n",
       "      <td>180519.000000</td>\n",
       "      <td>180519.000000</td>\n",
       "      <td>180519.000000</td>\n",
       "      <td>180519.000000</td>\n",
       "      <td>180519.000000</td>\n",
       "      <td>180519.000000</td>\n",
       "      <td>180519.000000</td>\n",
       "      <td>180519.000000</td>\n",
       "      <td>180519.000000</td>\n",
       "      <td>180519.000000</td>\n",
       "      <td>...</td>\n",
       "      <td>180519.000000</td>\n",
       "      <td>180519.000000</td>\n",
       "      <td>180519.000000</td>\n",
       "      <td>180519.000000</td>\n",
       "      <td>180519.000000</td>\n",
       "      <td>180519.0</td>\n",
       "      <td>180519.000000</td>\n",
       "      <td>180519.000000</td>\n",
       "      <td>180519.000000</td>\n",
       "      <td>180519.000000</td>\n",
       "    </tr>\n",
       "    <tr>\n",
       "      <th>mean</th>\n",
       "      <td>3.497654</td>\n",
       "      <td>2.931847</td>\n",
       "      <td>31.851451</td>\n",
       "      <td>6691.379495</td>\n",
       "      <td>5.443460</td>\n",
       "      <td>29.719955</td>\n",
       "      <td>-84.915675</td>\n",
       "      <td>36221.894903</td>\n",
       "      <td>20.664741</td>\n",
       "      <td>0.101668</td>\n",
       "      <td>...</td>\n",
       "      <td>203.772096</td>\n",
       "      <td>183.107609</td>\n",
       "      <td>21.974989</td>\n",
       "      <td>692.509764</td>\n",
       "      <td>141.232550</td>\n",
       "      <td>0.0</td>\n",
       "      <td>2015.979404</td>\n",
       "      <td>6.252494</td>\n",
       "      <td>2015.971150</td>\n",
       "      <td>6.235449</td>\n",
       "    </tr>\n",
       "    <tr>\n",
       "      <th>std</th>\n",
       "      <td>1.623722</td>\n",
       "      <td>1.374449</td>\n",
       "      <td>15.640064</td>\n",
       "      <td>4162.918106</td>\n",
       "      <td>1.629246</td>\n",
       "      <td>9.813646</td>\n",
       "      <td>21.433241</td>\n",
       "      <td>21045.379569</td>\n",
       "      <td>21.800901</td>\n",
       "      <td>0.070415</td>\n",
       "      <td>...</td>\n",
       "      <td>132.273077</td>\n",
       "      <td>120.043670</td>\n",
       "      <td>104.433526</td>\n",
       "      <td>336.446807</td>\n",
       "      <td>139.732492</td>\n",
       "      <td>0.0</td>\n",
       "      <td>0.831962</td>\n",
       "      <td>3.398391</td>\n",
       "      <td>0.829429</td>\n",
       "      <td>3.403571</td>\n",
       "    </tr>\n",
       "    <tr>\n",
       "      <th>min</th>\n",
       "      <td>0.000000</td>\n",
       "      <td>0.000000</td>\n",
       "      <td>2.000000</td>\n",
       "      <td>1.000000</td>\n",
       "      <td>2.000000</td>\n",
       "      <td>-33.937553</td>\n",
       "      <td>-158.025986</td>\n",
       "      <td>1.000000</td>\n",
       "      <td>0.000000</td>\n",
       "      <td>0.000000</td>\n",
       "      <td>...</td>\n",
       "      <td>9.990000</td>\n",
       "      <td>7.490000</td>\n",
       "      <td>-4274.979980</td>\n",
       "      <td>19.000000</td>\n",
       "      <td>9.990000</td>\n",
       "      <td>0.0</td>\n",
       "      <td>2015.000000</td>\n",
       "      <td>1.000000</td>\n",
       "      <td>2015.000000</td>\n",
       "      <td>1.000000</td>\n",
       "    </tr>\n",
       "    <tr>\n",
       "      <th>25%</th>\n",
       "      <td>2.000000</td>\n",
       "      <td>2.000000</td>\n",
       "      <td>18.000000</td>\n",
       "      <td>3258.500000</td>\n",
       "      <td>4.000000</td>\n",
       "      <td>18.265432</td>\n",
       "      <td>-98.446312</td>\n",
       "      <td>18057.000000</td>\n",
       "      <td>5.400000</td>\n",
       "      <td>0.040000</td>\n",
       "      <td>...</td>\n",
       "      <td>119.980003</td>\n",
       "      <td>104.379997</td>\n",
       "      <td>7.000000</td>\n",
       "      <td>403.000000</td>\n",
       "      <td>50.000000</td>\n",
       "      <td>0.0</td>\n",
       "      <td>2015.000000</td>\n",
       "      <td>3.000000</td>\n",
       "      <td>2015.000000</td>\n",
       "      <td>3.000000</td>\n",
       "    </tr>\n",
       "    <tr>\n",
       "      <th>50%</th>\n",
       "      <td>3.000000</td>\n",
       "      <td>4.000000</td>\n",
       "      <td>29.000000</td>\n",
       "      <td>6457.000000</td>\n",
       "      <td>5.000000</td>\n",
       "      <td>33.144863</td>\n",
       "      <td>-76.847908</td>\n",
       "      <td>36140.000000</td>\n",
       "      <td>14.000000</td>\n",
       "      <td>0.100000</td>\n",
       "      <td>...</td>\n",
       "      <td>199.919998</td>\n",
       "      <td>163.990005</td>\n",
       "      <td>31.520000</td>\n",
       "      <td>627.000000</td>\n",
       "      <td>59.990002</td>\n",
       "      <td>0.0</td>\n",
       "      <td>2016.000000</td>\n",
       "      <td>6.000000</td>\n",
       "      <td>2016.000000</td>\n",
       "      <td>6.000000</td>\n",
       "    </tr>\n",
       "    <tr>\n",
       "      <th>75%</th>\n",
       "      <td>5.000000</td>\n",
       "      <td>4.000000</td>\n",
       "      <td>45.000000</td>\n",
       "      <td>9779.000000</td>\n",
       "      <td>7.000000</td>\n",
       "      <td>39.279617</td>\n",
       "      <td>-66.370583</td>\n",
       "      <td>54144.000000</td>\n",
       "      <td>29.990000</td>\n",
       "      <td>0.160000</td>\n",
       "      <td>...</td>\n",
       "      <td>299.950012</td>\n",
       "      <td>247.399994</td>\n",
       "      <td>64.800003</td>\n",
       "      <td>1004.000000</td>\n",
       "      <td>199.990005</td>\n",
       "      <td>0.0</td>\n",
       "      <td>2017.000000</td>\n",
       "      <td>9.000000</td>\n",
       "      <td>2017.000000</td>\n",
       "      <td>9.000000</td>\n",
       "    </tr>\n",
       "    <tr>\n",
       "      <th>max</th>\n",
       "      <td>6.000000</td>\n",
       "      <td>4.000000</td>\n",
       "      <td>76.000000</td>\n",
       "      <td>20757.000000</td>\n",
       "      <td>12.000000</td>\n",
       "      <td>48.781933</td>\n",
       "      <td>115.263077</td>\n",
       "      <td>77204.000000</td>\n",
       "      <td>500.000000</td>\n",
       "      <td>0.250000</td>\n",
       "      <td>...</td>\n",
       "      <td>1999.989990</td>\n",
       "      <td>1939.989990</td>\n",
       "      <td>911.799988</td>\n",
       "      <td>1363.000000</td>\n",
       "      <td>1999.989990</td>\n",
       "      <td>0.0</td>\n",
       "      <td>2018.000000</td>\n",
       "      <td>12.000000</td>\n",
       "      <td>2018.000000</td>\n",
       "      <td>12.000000</td>\n",
       "    </tr>\n",
       "  </tbody>\n",
       "</table>\n",
       "<p>8 rows × 23 columns</p>\n",
       "</div>"
      ],
      "text/plain": [
       "       Days_for_shipping  Days_for_shipment    Category_Id    Customer_Id  \\\n",
       "count      180519.000000      180519.000000  180519.000000  180519.000000   \n",
       "mean            3.497654           2.931847      31.851451    6691.379495   \n",
       "std             1.623722           1.374449      15.640064    4162.918106   \n",
       "min             0.000000           0.000000       2.000000       1.000000   \n",
       "25%             2.000000           2.000000      18.000000    3258.500000   \n",
       "50%             3.000000           4.000000      29.000000    6457.000000   \n",
       "75%             5.000000           4.000000      45.000000    9779.000000   \n",
       "max             6.000000           4.000000      76.000000   20757.000000   \n",
       "\n",
       "       Department_Id       Latitude      Longitude       Order_Id  \\\n",
       "count  180519.000000  180519.000000  180519.000000  180519.000000   \n",
       "mean        5.443460      29.719955     -84.915675   36221.894903   \n",
       "std         1.629246       9.813646      21.433241   21045.379569   \n",
       "min         2.000000     -33.937553    -158.025986       1.000000   \n",
       "25%         4.000000      18.265432     -98.446312   18057.000000   \n",
       "50%         5.000000      33.144863     -76.847908   36140.000000   \n",
       "75%         7.000000      39.279617     -66.370583   54144.000000   \n",
       "max        12.000000      48.781933     115.263077   77204.000000   \n",
       "\n",
       "       Order_Item_Discount  Order_tem_Discount_Rate  ...          Sales  \\\n",
       "count        180519.000000            180519.000000  ...  180519.000000   \n",
       "mean             20.664741                 0.101668  ...     203.772096   \n",
       "std              21.800901                 0.070415  ...     132.273077   \n",
       "min               0.000000                 0.000000  ...       9.990000   \n",
       "25%               5.400000                 0.040000  ...     119.980003   \n",
       "50%              14.000000                 0.100000  ...     199.919998   \n",
       "75%              29.990000                 0.160000  ...     299.950012   \n",
       "max             500.000000                 0.250000  ...    1999.989990   \n",
       "\n",
       "       Order_Item_Total  Order Profit Per Order  Product Card Id  \\\n",
       "count     180519.000000           180519.000000    180519.000000   \n",
       "mean         183.107609               21.974989       692.509764   \n",
       "std          120.043670              104.433526       336.446807   \n",
       "min            7.490000            -4274.979980        19.000000   \n",
       "25%          104.379997                7.000000       403.000000   \n",
       "50%          163.990005               31.520000       627.000000   \n",
       "75%          247.399994               64.800003      1004.000000   \n",
       "max         1939.989990              911.799988      1363.000000   \n",
       "\n",
       "       Product_Price  Product_Status  Shipping_year  Shipping_month  \\\n",
       "count  180519.000000        180519.0  180519.000000   180519.000000   \n",
       "mean      141.232550             0.0    2015.979404        6.252494   \n",
       "std       139.732492             0.0       0.831962        3.398391   \n",
       "min         9.990000             0.0    2015.000000        1.000000   \n",
       "25%        50.000000             0.0    2015.000000        3.000000   \n",
       "50%        59.990002             0.0    2016.000000        6.000000   \n",
       "75%       199.990005             0.0    2017.000000        9.000000   \n",
       "max      1999.989990             0.0    2018.000000       12.000000   \n",
       "\n",
       "          Order_year    Order_month  \n",
       "count  180519.000000  180519.000000  \n",
       "mean     2015.971150       6.235449  \n",
       "std         0.829429       3.403571  \n",
       "min      2015.000000       1.000000  \n",
       "25%      2015.000000       3.000000  \n",
       "50%      2016.000000       6.000000  \n",
       "75%      2017.000000       9.000000  \n",
       "max      2018.000000      12.000000  \n",
       "\n",
       "[8 rows x 23 columns]"
      ]
     },
     "execution_count": 14,
     "metadata": {},
     "output_type": "execute_result"
    }
   ],
   "source": [
    "df.describe()"
   ]
  },
  {
   "cell_type": "markdown",
   "id": "09a7409c",
   "metadata": {},
   "source": [
    "- From here we can see that our dataset period is from 2015 - 2018 "
   ]
  },
  {
   "cell_type": "code",
   "execution_count": 14,
   "id": "b4ce717f",
   "metadata": {},
   "outputs": [
    {
     "name": "stdout",
     "output_type": "stream",
     "text": [
      "<class 'pandas.core.frame.DataFrame'>\n",
      "RangeIndex: 180519 entries, 0 to 180518\n",
      "Data columns (total 41 columns):\n",
      " #   Column                   Non-Null Count   Dtype  \n",
      "---  ------                   --------------   -----  \n",
      " 0   Type                     180519 non-null  object \n",
      " 1   Days_for_shipping        180519 non-null  int32  \n",
      " 2   Days_for_shipment        180519 non-null  int32  \n",
      " 3   Delivery_Status          180519 non-null  object \n",
      " 4   Late_delivery_risk       180519 non-null  int32  \n",
      " 5   Category_Id              180519 non-null  int32  \n",
      " 6   Category_Name            180519 non-null  object \n",
      " 7   Customer_City            180519 non-null  object \n",
      " 8   Customer_Country         180519 non-null  object \n",
      " 9   Customer_Id              180519 non-null  int32  \n",
      " 10  Customer_Segment         180519 non-null  object \n",
      " 11  Customer_State           180519 non-null  object \n",
      " 12  Customer_Street          180519 non-null  object \n",
      " 13  Department_Id            180519 non-null  int32  \n",
      " 14  Department_Name          180519 non-null  object \n",
      " 15  Latitude                 180519 non-null  float64\n",
      " 16  Longitude                180519 non-null  float64\n",
      " 17  Market                   180519 non-null  object \n",
      " 18  Order_City               180519 non-null  object \n",
      " 19  Order_Country            180519 non-null  object \n",
      " 20  Order_Id                 180519 non-null  int32  \n",
      " 21  Order_Item_Discount      180519 non-null  float64\n",
      " 22  Order_tem_Discount_Rate  180519 non-null  float64\n",
      " 23  Order_Item_Id            180519 non-null  int32  \n",
      " 24  Order_Item_Profit_Ratio  180519 non-null  float64\n",
      " 25  Order_Item_Quantity      180519 non-null  int32  \n",
      " 26  Sales                    180519 non-null  float64\n",
      " 27  Order_Item_Total         180519 non-null  float64\n",
      " 28  Order Profit Per Order   180519 non-null  float64\n",
      " 29  Order_Region             180519 non-null  object \n",
      " 30  Order_State              180519 non-null  object \n",
      " 31  Order_Status             180519 non-null  object \n",
      " 32  Product Card Id          180519 non-null  int32  \n",
      " 33  Product_Name             180519 non-null  object \n",
      " 34  Product_Price            180519 non-null  float64\n",
      " 35  Product_Status           180519 non-null  int32  \n",
      " 36  Shipping_Mode            180519 non-null  object \n",
      " 37  Shipping_year            180519 non-null  int64  \n",
      " 38  Shipping_month           180519 non-null  int64  \n",
      " 39  Order_year               180519 non-null  int64  \n",
      " 40  Order_month              180519 non-null  int64  \n",
      "dtypes: float64(9), int32(11), int64(4), object(17)\n",
      "memory usage: 48.9+ MB\n"
     ]
    }
   ],
   "source": [
    "df.info()"
   ]
  },
  {
   "cell_type": "markdown",
   "id": "c02515a6",
   "metadata": {
    "id": "c02515a6"
   },
   "source": [
    "## Data Conversion and Preparation For ML"
   ]
  },
  {
   "cell_type": "code",
   "execution_count": 52,
   "id": "1fe398cd",
   "metadata": {},
   "outputs": [],
   "source": [
    "# taking only needed columns for the modelling \n",
    "df2 = df[[ 'Delivery_Status' , 'Latitude' , 'Longitude' , 'Order_State' , 'Order_Region' , 'Order_City' , 'Order_Country' ,\n",
    "          'Customer_City' , 'Customer_State' ,'Customer_Segment', 'Days_for_shipment' , 'Days_for_shipping', 'Shipping_Mode']]"
   ]
  },
  {
   "cell_type": "code",
   "execution_count": 16,
   "id": "c1177c76",
   "metadata": {},
   "outputs": [],
   "source": [
    "df2[['Delivery_Status']] = df2[['Delivery_Status']].apply(lambda col:pd.Categorical(col).codes)\n",
    "df2.Delivery_Status = df2.Delivery_Status.astype('int')"
   ]
  },
  {
   "cell_type": "code",
   "execution_count": 17,
   "id": "0dfb0f8b",
   "metadata": {},
   "outputs": [
    {
     "data": {
      "text/plain": [
       "1    98977\n",
       "0    41592\n",
       "3    32196\n",
       "2     7754\n",
       "Name: Delivery_Status, dtype: int64"
      ]
     },
     "execution_count": 17,
     "metadata": {},
     "output_type": "execute_result"
    }
   ],
   "source": [
    "df2['Delivery_Status'].value_counts()"
   ]
  },
  {
   "cell_type": "code",
   "execution_count": 53,
   "id": "1d104dca",
   "metadata": {},
   "outputs": [],
   "source": [
    "# converting the panads df to data Pyspark df\n",
    "sparkdf = spark.createDataFrame(df2) "
   ]
  },
  {
   "cell_type": "code",
   "execution_count": 54,
   "id": "a92964dd",
   "metadata": {},
   "outputs": [
    {
     "name": "stdout",
     "output_type": "stream",
     "text": [
      "+----------------+-----------+------------+---------------+--------------+----------+-------------+-------------+--------------+----------------+-----------------+-----------------+--------------+\n",
      "| Delivery_Status|   Latitude|   Longitude|    Order_State|  Order_Region|Order_City|Order_Country|Customer_City|Customer_State|Customer_Segment|Days_for_shipment|Days_for_shipping| Shipping_Mode|\n",
      "+----------------+-----------+------------+---------------+--------------+----------+-------------+-------------+--------------+----------------+-----------------+-----------------+--------------+\n",
      "|Advance shipping| 18.2514534|-66.03705597|Java Occidental|Southeast Asia|    Bekasi|    Indonesia|       Caguas|            PR|        Consumer|                4|                3|Standard Class|\n",
      "|   Late delivery|18.27945137| -66.0370636|       Rajast�n|    South Asia|   Bikaner|        India|       Caguas|            PR|        Consumer|                4|                5|Standard Class|\n",
      "+----------------+-----------+------------+---------------+--------------+----------+-------------+-------------+--------------+----------------+-----------------+-----------------+--------------+\n",
      "only showing top 2 rows\n",
      "\n"
     ]
    }
   ],
   "source": [
    "sparkdf.show(2)"
   ]
  },
  {
   "cell_type": "markdown",
   "id": "6cdc1a87",
   "metadata": {},
   "source": [
    "### Converting The Categorical  Columns \n",
    "Here I have used String Indexer to encode the string columns. By default, the labels are assigned according to the frequencies. So, the most frequent gets an index of 0."
   ]
  },
  {
   "cell_type": "code",
   "execution_count": 55,
   "id": "3d49cff4",
   "metadata": {},
   "outputs": [
    {
     "name": "stdout",
     "output_type": "stream",
     "text": [
      "+-----------+------------+-----------------+-----------------+---------------+----------------+--------------+-----------------+-----------------+------------------+--------------------+-----------------+-------------------+\n",
      "|   Latitude|   Longitude|Days_for_shipment|Days_for_shipping|Order_State_idx|Order_Region_idx|Order_City_idx|Order_Country_idx|Customer_City_idx|Customer_State_idx|Customer_Segment_idx|Shipping_Mode_idx|Delivery_Status_idx|\n",
      "+-----------+------------+-----------------+-----------------+---------------+----------------+--------------+-----------------+-----------------+------------------+--------------------+-----------------+-------------------+\n",
      "| 18.2514534|-66.03705597|                4|                3|           45.0|             5.0|         167.0|             10.0|              0.0|               0.0|                 0.0|              0.0|                1.0|\n",
      "|18.27945137| -66.0370636|                4|                5|          136.0|             9.0|        2087.0|              9.0|              0.0|               0.0|                 0.0|              0.0|                0.0|\n",
      "+-----------+------------+-----------------+-----------------+---------------+----------------+--------------+-----------------+-----------------+------------------+--------------------+-----------------+-------------------+\n",
      "only showing top 2 rows\n",
      "\n"
     ]
    }
   ],
   "source": [
    "from pyspark.ml.feature import StringIndexer\n",
    "\n",
    "cat_cols = ['Order_State', 'Order_Region', 'Order_City', 'Order_Country', \\\n",
    "            'Customer_City', 'Customer_State', 'Customer_Segment', 'Shipping_Mode' , 'Delivery_Status'] \n",
    "\n",
    "for col in cat_cols:\n",
    "    label_stringIdx = StringIndexer(inputCol = col, outputCol=col+'_idx')\n",
    "    sparkdf = label_stringIdx.fit(sparkdf).transform(sparkdf)\n",
    "\n",
    "    \n",
    "sparkdf = sparkdf.drop(*cat_cols)    \n",
    "sparkdf.show(2)"
   ]
  },
  {
   "cell_type": "code",
   "execution_count": 31,
   "id": "955db0f5",
   "metadata": {},
   "outputs": [
    {
     "name": "stdout",
     "output_type": "stream",
     "text": [
      "root\n",
      " |-- Delivery_Status: long (nullable = true)\n",
      " |-- Latitude: double (nullable = true)\n",
      " |-- Longitude: double (nullable = true)\n",
      " |-- Days_for_shipment: long (nullable = true)\n",
      " |-- Days_for_shipping: long (nullable = true)\n",
      " |-- Order_State_idx: double (nullable = false)\n",
      " |-- Order_Region_idx: double (nullable = false)\n",
      " |-- Order_City_idx: double (nullable = false)\n",
      " |-- Order_Country_idx: double (nullable = false)\n",
      " |-- Customer_City_idx: double (nullable = false)\n",
      " |-- Customer_State_idx: double (nullable = false)\n",
      " |-- Customer_Segment_idx: double (nullable = false)\n",
      " |-- Shipping_Mode_idx: double (nullable = false)\n",
      "\n"
     ]
    }
   ],
   "source": [
    "sparkdf.printSchema()"
   ]
  },
  {
   "cell_type": "markdown",
   "id": "4e1ce37a",
   "metadata": {
    "id": "4e1ce37a",
    "papermill": {
     "duration": 0.040292,
     "end_time": "2022-08-12T11:33:12.816175",
     "exception": false,
     "start_time": "2022-08-12T11:33:12.775883",
     "status": "completed"
    },
    "tags": []
   },
   "source": [
    "### Combining Feature Columns\n",
    "\n",
    "Lastly, I have used Vector Assembler to combine all of the features into a single vector column. Here the new single vector column is called 'features'."
   ]
  },
  {
   "cell_type": "code",
   "execution_count": 56,
   "id": "4ac4793b",
   "metadata": {},
   "outputs": [],
   "source": [
    "from pyspark.ml.feature import VectorAssembler\n",
    "\n",
    "#remove Delivery_Status -> we need this to be our label\n",
    "cols = sparkdf.columns\n",
    "cols.remove('Delivery_Status_idx')\n",
    "\n",
    "#vector assembler will take all the columns and convert them into one column called features\n",
    "assembler = VectorAssembler(inputCols=cols, outputCol=\"features\")\n",
    "\n",
    "#the .transform will apply the changes here\n",
    "sparkdf = assembler.transform(sparkdf)"
   ]
  },
  {
   "cell_type": "code",
   "execution_count": 57,
   "id": "e1711da1",
   "metadata": {},
   "outputs": [
    {
     "name": "stdout",
     "output_type": "stream",
     "text": [
      "+-----------+------------+-----------------+-----------------+---------------+----------------+--------------+-----------------+-----------------+------------------+--------------------+-----------------+-------------------+--------------------+\n",
      "|   Latitude|   Longitude|Days_for_shipment|Days_for_shipping|Order_State_idx|Order_Region_idx|Order_City_idx|Order_Country_idx|Customer_City_idx|Customer_State_idx|Customer_Segment_idx|Shipping_Mode_idx|Delivery_Status_idx|            features|\n",
      "+-----------+------------+-----------------+-----------------+---------------+----------------+--------------+-----------------+-----------------+------------------+--------------------+-----------------+-------------------+--------------------+\n",
      "| 18.2514534|-66.03705597|                4|                3|           45.0|             5.0|         167.0|             10.0|              0.0|               0.0|                 0.0|              0.0|                1.0|[18.2514534,-66.0...|\n",
      "|18.27945137| -66.0370636|                4|                5|          136.0|             9.0|        2087.0|              9.0|              0.0|               0.0|                 0.0|              0.0|                0.0|[18.27945137,-66....|\n",
      "|37.29223251| -121.881279|                4|                4|          136.0|             9.0|        2087.0|              9.0|             15.0|               1.0|                 0.0|              0.0|                2.0|[37.29223251,-121...|\n",
      "|34.12594605|-118.2910156|                4|                3|           10.0|             3.0|         296.0|              4.0|              2.0|               1.0|                 2.0|              0.0|                1.0|[34.12594605,-118...|\n",
      "|18.25376892|-66.03704834|                4|                2|           10.0|             3.0|         296.0|              4.0|              0.0|               0.0|                 1.0|              0.0|                1.0|[18.25376892,-66....|\n",
      "+-----------+------------+-----------------+-----------------+---------------+----------------+--------------+-----------------+-----------------+------------------+--------------------+-----------------+-------------------+--------------------+\n",
      "only showing top 5 rows\n",
      "\n"
     ]
    }
   ],
   "source": [
    "sparkdf.show(5)"
   ]
  },
  {
   "cell_type": "markdown",
   "id": "de689e50",
   "metadata": {
    "id": "de689e50"
   },
   "source": [
    "### Set columns and Split\n",
    "\n",
    "Before modelling, the data are split into train and test data sets. We will make the train set bigger at this point as will incorporate cross validation later on."
   ]
  },
  {
   "cell_type": "code",
   "execution_count": 58,
   "id": "ec850823",
   "metadata": {},
   "outputs": [
    {
     "name": "stdout",
     "output_type": "stream",
     "text": [
      "Training Dataset Count: 144405\n",
      "Test Dataset Count: 36114\n"
     ]
    }
   ],
   "source": [
    "train, test = sparkdf.randomSplit([0.8, 0.2], seed = 2018)\n",
    "print(\"Training Dataset Count: \" + str(train.count()))\n",
    "print(\"Test Dataset Count: \" + str(test.count()))"
   ]
  },
  {
   "cell_type": "code",
   "execution_count": null,
   "id": "27fc7582",
   "metadata": {},
   "outputs": [],
   "source": [
    "train.show(5)"
   ]
  },
  {
   "cell_type": "code",
   "execution_count": null,
   "id": "66f03246",
   "metadata": {},
   "outputs": [],
   "source": [
    "test.show(5)"
   ]
  },
  {
   "cell_type": "markdown",
   "id": "ca628a1f",
   "metadata": {
    "id": "ca628a1f"
   },
   "source": [
    "## Model Building\n"
   ]
  },
  {
   "cell_type": "markdown",
   "id": "0149036c",
   "metadata": {},
   "source": [
    "- Here featuresCol is the list of features of the Data Frame, here in our case it is the features column. labelCol is the targeted feature which is Delivery_Status.\n",
    "\n",
    "\n",
    "- Note: The default value of maxBins is (=32). however, it should be greater or equal to the maximum number of categories for categorical features. Mine is 3597 so I assigned 3600 to it. \n",
    "\n",
    "- rfModel.transform(test) transforms the test dataset. This will add new columns to the Data Frame such as prediction, rawPrediction, and probability.\n"
   ]
  },
  {
   "cell_type": "code",
   "execution_count": 59,
   "id": "e4962e85",
   "metadata": {},
   "outputs": [],
   "source": [
    "from pyspark.ml.classification import RandomForestClassifier\n",
    "\n",
    "rf = RandomForestClassifier(featuresCol = 'features', labelCol = 'Delivery_Status_idx' , maxBins=3600)\n",
    "rfModel = rf.fit(train)\n",
    "predictions = rfModel.transform(test)"
   ]
  },
  {
   "cell_type": "code",
   "execution_count": 63,
   "id": "97ff7ee7",
   "metadata": {},
   "outputs": [
    {
     "name": "stdout",
     "output_type": "stream",
     "text": [
      "+-------------------+----------+\n",
      "|Delivery_Status_idx|prediction|\n",
      "+-------------------+----------+\n",
      "|                1.0|       1.0|\n",
      "|                0.0|       0.0|\n",
      "|                1.0|       1.0|\n",
      "|                0.0|       0.0|\n",
      "|                0.0|       0.0|\n",
      "|                1.0|       1.0|\n",
      "|                3.0|       1.0|\n",
      "|                0.0|       0.0|\n",
      "|                3.0|       2.0|\n",
      "|                3.0|       2.0|\n",
      "+-------------------+----------+\n",
      "only showing top 10 rows\n",
      "\n"
     ]
    }
   ],
   "source": [
    "predictions.select(\"Delivery_Status_idx\", \"prediction\").show(10)"
   ]
  },
  {
   "cell_type": "markdown",
   "id": "631b7540",
   "metadata": {
    "id": "631b7540",
    "papermill": {
     "duration": 0.033256,
     "end_time": "2022-08-12T11:39:01.620798",
     "exception": false,
     "start_time": "2022-08-12T11:39:01.587542",
     "status": "completed"
    },
    "tags": []
   },
   "source": [
    "### Evaluation\n"
   ]
  },
  {
   "cell_type": "markdown",
   "id": "26366c69",
   "metadata": {},
   "source": [
    "Now we have applied the classifier for our testing data and we got the predictions. Then we need to evaluate our model."
   ]
  },
  {
   "cell_type": "code",
   "execution_count": 62,
   "id": "7f9c5882",
   "metadata": {},
   "outputs": [
    {
     "name": "stdout",
     "output_type": "stream",
     "text": [
      "Accuracy = 0.9144030229410472\n",
      "Test Error = 0.08559697705895275\n"
     ]
    }
   ],
   "source": [
    "from pyspark.ml.evaluation import MulticlassClassificationEvaluator\n",
    "\n",
    "evaluator = MulticlassClassificationEvaluator(labelCol=\"Delivery_Status_idx\", predictionCol=\"prediction\")\n",
    "accuracy = evaluator.evaluate(predictions)\n",
    "print(\"Accuracy = %s\" % (accuracy))\n",
    "print(\"Test Error = %s\" % (1.0 - accuracy))"
   ]
  }
 ],
 "metadata": {
  "colab": {
   "collapsed_sections": [
    "d1ed16b8"
   ],
   "provenance": []
  },
  "kernelspec": {
   "display_name": "Python 3",
   "language": "python",
   "name": "python3"
  },
  "language_info": {
   "codemirror_mode": {
    "name": "ipython",
    "version": 3
   },
   "file_extension": ".py",
   "mimetype": "text/x-python",
   "name": "python",
   "nbconvert_exporter": "python",
   "pygments_lexer": "ipython3",
   "version": "3.8.8"
  }
 },
 "nbformat": 4,
 "nbformat_minor": 5
}
