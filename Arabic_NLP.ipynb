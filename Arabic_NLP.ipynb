{
  "nbformat": 4,
  "nbformat_minor": 0,
  "metadata": {
    "colab": {
      "provenance": [],
      "authorship_tag": "ABX9TyNqU9PBgKFbrk+51wzSlerO",
      "include_colab_link": true
    },
    "kernelspec": {
      "name": "python3",
      "display_name": "Python 3"
    },
    "language_info": {
      "name": "python"
    }
  },
  "cells": [
    {
      "cell_type": "markdown",
      "metadata": {
        "id": "view-in-github",
        "colab_type": "text"
      },
      "source": [
        "<a href=\"https://colab.research.google.com/github/renadalahmadi/BigData-and-AI/blob/main/Arabic_NLP.ipynb\" target=\"_parent\"><img src=\"https://colab.research.google.com/assets/colab-badge.svg\" alt=\"Open In Colab\"/></a>"
      ]
    },
    {
      "cell_type": "markdown",
      "source": [
        "## Arabic Natural Language \n",
        "\n",
        "Renad Alahmadi"
      ],
      "metadata": {
        "id": "1d05hORWz1jh"
      }
    },
    {
      "cell_type": "markdown",
      "source": [
        "-  Importing Packages \n"
      ],
      "metadata": {
        "id": "ttpEc-fdzyep"
      }
    },
    {
      "cell_type": "code",
      "source": [
        "import numpy as np\n",
        "import math\n",
        "import re\n",
        "import pandas as pd\n",
        "import random\n",
        "import seaborn as sns\n",
        "\n",
        "from sklearn import model_selection\n",
        "from sklearn.preprocessing import LabelEncoder\n",
        "from sklearn.feature_extraction.text import TfidfVectorizer\n",
        "from sklearn.model_selection import cross_val_score\n",
        "from sklearn import metrics\n",
        "\n",
        "from nltk.stem.isri import ISRIStemmer\n",
        "from sklearn.feature_extraction.text import TfidfVectorizer\n",
        "import nltk\n",
        "import seaborn as sns\n",
        "from sklearn.metrics import classification_report\n",
        "from sklearn.preprocessing import LabelEncoder\n",
        "from sklearn.svm import SVC\n",
        "from sklearn.feature_extraction.text import CountVectorizer\n",
        "from sklearn.feature_extraction.text import TfidfTransformer\n",
        "from nltk.corpus import stopwords\n",
        "\n",
        "\n",
        "import matplotlib.pyplot as plt\n",
        "import stanza\n",
        "import json\n",
        "\n"
      ],
      "metadata": {
        "id": "ovvjBJCVOHfI"
      },
      "execution_count": 40,
      "outputs": []
    },
    {
      "cell_type": "markdown",
      "source": [
        " 1- Converting the dataset from TSV -> CSV "
      ],
      "metadata": {
        "id": "Ykt64d0k-GkT"
      }
    },
    {
      "cell_type": "code",
      "source": [
        "\n",
        "tsv_file='/content/train_Arabic_tweets_positive_20190413.tsv'\n",
        " \n",
        "# reading given tsv file\n",
        "csv_table=pd.read_table(tsv_file,sep='\\t')\n",
        " \n",
        "# converting tsv file into csv\n",
        "csv_table.to_csv('/content/train_Arabic_tweets_positive_.csv',index=False)\n",
        " \n",
        "# output\n",
        "print(\"Successfully made csv file\")"
      ],
      "metadata": {
        "colab": {
          "base_uri": "https://localhost:8080/"
        },
        "id": "uXFqIB_HOtuL",
        "outputId": "ffef4614-eaff-4d0c-f009-80ae5b579984"
      },
      "execution_count": 4,
      "outputs": [
        {
          "output_type": "stream",
          "name": "stdout",
          "text": [
            "Successfully made csv file\n"
          ]
        }
      ]
    },
    {
      "cell_type": "markdown",
      "source": [
        " 2- Concatenation of the train and test datasets "
      ],
      "metadata": {
        "id": "lFPa6BEw-bg_"
      }
    },
    {
      "cell_type": "code",
      "source": [
        "trainPos = pd.read_csv('/content/train_Arabic_tweets_positive_.csv' , names=['sentiment', 'text'])\n",
        "trainNeg = pd.read_csv('/content/train_Arabic_tweets_negative_.csv' , names=['sentiment', 'text'])\n",
        "\n",
        "# ------------------------------------------------------------------------------------------------\n",
        "\n",
        "testPos = pd.read_csv('/content/train_Arabic_tweets_positive_.csv' , names=['sentiment', 'text'])\n",
        "testNeg = pd.read_csv('/content/train_Arabic_tweets_negative_.csv' , names=['sentiment', 'text'])"
      ],
      "metadata": {
        "id": "HyvX_iUs_Oai"
      },
      "execution_count": 6,
      "outputs": []
    },
    {
      "cell_type": "code",
      "source": [
        "conct_1 = [trainPos, trainNeg]\n",
        "conct_2 = [testPos, testNeg]\n",
        "\n",
        "\n",
        "traindataset = pd.concat(conct_1)\n",
        "testdataset = pd.concat(conct_2)"
      ],
      "metadata": {
        "id": "MYQ7_B2H-nO9"
      },
      "execution_count": 7,
      "outputs": []
    },
    {
      "cell_type": "code",
      "source": [
        "# let's check : \n",
        "print(traindataset)\n",
        "print(testdataset)"
      ],
      "metadata": {
        "colab": {
          "base_uri": "https://localhost:8080/"
        },
        "id": "uLF4NrtBAlgw",
        "outputId": "4491611f-445e-40b0-b23d-35f1f76ea331"
      },
      "execution_count": 8,
      "outputs": [
        {
          "output_type": "stream",
          "name": "stdout",
          "text": [
            "      sentiment                                               text\n",
            "0           pos  نحن الذين يتحول كل ما نود أن نقوله إلى دعاء لل...\n",
            "1           pos  وفي النهاية لن يبقىٰ معك آحدإلا من رأىٰ الجمال...\n",
            "2           pos                                    من الخير نفسه 💛\n",
            "3           pos  #زلزل_الملعب_نصرنا_بيلعب كن عالي الهمه ولا ترض...\n",
            "4           pos  الشيء الوحيد الذي وصلوا فيه للعالمية هو : المس...\n",
            "...         ...                                                ...\n",
            "22509       neg  كيف ترى أورانوس لو كان يقع مكان القمر ؟ 💙💙 كوك...\n",
            "22510       neg                                  احسدك على الايم 💔\n",
            "22511       neg                            لأول مرة ما بنكون سوا 💔\n",
            "22512       neg                                 بقله ليش يا واطي 🤔\n",
            "22513       neg  قد طال صبري في النوى إذ تركتني كئيبا ؛ غريبا ب...\n",
            "\n",
            "[45275 rows x 2 columns]\n",
            "      sentiment                                               text\n",
            "0           pos  نحن الذين يتحول كل ما نود أن نقوله إلى دعاء لل...\n",
            "1           pos  وفي النهاية لن يبقىٰ معك آحدإلا من رأىٰ الجمال...\n",
            "2           pos                                    من الخير نفسه 💛\n",
            "3           pos  #زلزل_الملعب_نصرنا_بيلعب كن عالي الهمه ولا ترض...\n",
            "4           pos  الشيء الوحيد الذي وصلوا فيه للعالمية هو : المس...\n",
            "...         ...                                                ...\n",
            "22509       neg  كيف ترى أورانوس لو كان يقع مكان القمر ؟ 💙💙 كوك...\n",
            "22510       neg                                  احسدك على الايم 💔\n",
            "22511       neg                            لأول مرة ما بنكون سوا 💔\n",
            "22512       neg                                 بقله ليش يا واطي 🤔\n",
            "22513       neg  قد طال صبري في النوى إذ تركتني كئيبا ؛ غريبا ب...\n",
            "\n",
            "[45275 rows x 2 columns]\n"
          ]
        }
      ]
    },
    {
      "cell_type": "code",
      "source": [
        "traindataset.info()"
      ],
      "metadata": {
        "id": "suUNnZPUwNsK"
      },
      "execution_count": null,
      "outputs": []
    },
    {
      "cell_type": "code",
      "source": [
        "# ploting the counts of each class\n",
        "sns.set_style(\"darkgrid\")\n",
        "sns.countplot(traindataset[\"sentiment\"])"
      ],
      "metadata": {
        "colab": {
          "base_uri": "https://localhost:8080/",
          "height": 353
        },
        "id": "Xx2XxuNWKMF2",
        "outputId": "bbbeecf0-dd5a-4771-9aa1-6ce8068d5830"
      },
      "execution_count": 9,
      "outputs": [
        {
          "output_type": "stream",
          "name": "stderr",
          "text": [
            "/usr/local/lib/python3.7/dist-packages/seaborn/_decorators.py:43: FutureWarning: Pass the following variable as a keyword arg: x. From version 0.12, the only valid positional argument will be `data`, and passing other arguments without an explicit keyword will result in an error or misinterpretation.\n",
            "  FutureWarning\n"
          ]
        },
        {
          "output_type": "execute_result",
          "data": {
            "text/plain": [
              "<matplotlib.axes._subplots.AxesSubplot at 0x7f716fa0a490>"
            ]
          },
          "metadata": {},
          "execution_count": 9
        },
        {
          "output_type": "display_data",
          "data": {
            "text/plain": [
              "<Figure size 432x288 with 1 Axes>"
            ],
            "image/png": "[encoded data removed]"
          },
          "metadata": {}
        }
      ]
    },
    {
      "cell_type": "markdown",
      "source": [
        "- There's an obvious balance between the neg and pos classes which is good and the model training."
      ],
      "metadata": {
        "id": "FhcVuMG0KdxZ"
      }
    },
    {
      "cell_type": "markdown",
      "source": [
        " 3- Cleaning the dataset  "
      ],
      "metadata": {
        "id": "pzUMsbLpK4Ix"
      }
    },
    {
      "cell_type": "code",
      "source": [
        "nltk.download('stopwords')\n",
        "stopwords_list = stopwords.words('arabic')\n",
        "st = ISRIStemmer()\n",
        "stop=[]\n",
        "for w in stopwords_list:\n",
        "    rootWord=st.stem(w)\n",
        "    stop.append(rootWord)"
      ],
      "metadata": {
        "colab": {
          "base_uri": "https://localhost:8080/"
        },
        "id": "zn4MlMl_tNzA",
        "outputId": "feb97072-418c-431f-da2d-3982d73fc33e"
      },
      "execution_count": 42,
      "outputs": [
        {
          "output_type": "stream",
          "name": "stderr",
          "text": [
            "[nltk_data] Downloading package stopwords to /root/nltk_data...\n",
            "[nltk_data]   Unzipping corpora/stopwords.zip.\n"
          ]
        }
      ]
    },
    {
      "cell_type": "code",
      "source": [
        "nltk.download('punkt')\n",
        "def process_text(text):\n",
        "    stemmer = nltk.ISRIStemmer()\n",
        "    word_list = nltk.word_tokenize(text)\n",
        "    #remove arabic stopwords\n",
        "    word_list = [ w for w in word_list if not w in stopwords_list ]\n",
        "    #remove digits\n",
        "    word_list = [ w for w in word_list ]\n",
        "    #stemming\n",
        "    word_list = [stemmer.stem(w) for w in  word_list]\n",
        "    return ' '.join(word_list) \n",
        "\n",
        "\n",
        "def clean_text(text):  \n",
        "\n",
        "    search = [\"أ\",\"إ\",\"آ\",\"ة\",\"_\",\"-\",\"/\",\".\",\"،\",\" و \",\" يا \",'\"',\"ـ\",\"'\",\"ى\",\n",
        "              \"\\\\\",'\\n', '\\t','&quot;','?','؟','!']\n",
        "    replace = [\"ا\",\"ا\",\"ا\",\"ه\",\" \",\" \",\"\",\"\",\"\",\" و\",\" يا\",\n",
        "               \"\",\"\",\"\",\"ي\",\"\",' ', ' ',' ',' ? ',' ؟ ', ' ! ']\n",
        "    #remove tashkeel\n",
        "    tashkeel = re.compile(r'[\\u0617-\\u061A\\u064B-\\u0652]')\n",
        "    text = re.sub(tashkeel,\"\", text)\n",
        "  \n",
        "    longation = re.compile(r'(.)\\1+')\n",
        "    subst = r\"\\1\\1\"\n",
        "    text = re.sub(longation, subst, text)\n",
        "    \n",
        "    text = re.sub(r\"[^\\w\\s]\", '', text)\n",
        "    #remove english words\n",
        "    text = re.sub(r\"[a-zA-Z]\", '', text)\n",
        "    #remove spaces\n",
        "    text = re.sub(r\"\\d+\", ' ', text)\n",
        "    text = re.sub(r\"\\n+\", ' ', text)\n",
        "    text = re.sub(r\"\\t+\", ' ', text)\n",
        "    text = re.sub(r\"\\r+\", ' ', text)\n",
        "    text = re.sub(r\"\\s+\", ' ', text)\n",
        "    #remove repetetions\n",
        "    text = text.replace('وو', 'و')\n",
        "    text = text.replace('يي', 'ي')\n",
        "    text = text.replace('اا', 'ا')\n",
        "    \n",
        "    for i in range(0, len(search)):\n",
        "        text = text.replace(search[i], replace[i])\n",
        "    \n",
        "    text = text.strip()\n",
        "    \n",
        "    return process_text(text) "
      ],
      "metadata": {
        "colab": {
          "base_uri": "https://localhost:8080/"
        },
        "id": "oLFYTVKpJnqh",
        "outputId": "b101bfc6-8c8c-43f1-81f2-7a1de8feb033"
      },
      "execution_count": 45,
      "outputs": [
        {
          "output_type": "stream",
          "name": "stderr",
          "text": [
            "[nltk_data] Downloading package punkt to /root/nltk_data...\n",
            "[nltk_data]   Unzipping tokenizers/punkt.zip.\n"
          ]
        }
      ]
    },
    {
      "cell_type": "code",
      "source": [
        "#. now let'st apply the cleaning on the train & test sets\n",
        "traindataset[\"text\"].apply(clean_text)\n",
        "testdataset[\"text\"].apply(clean_text)"
      ],
      "metadata": {
        "colab": {
          "base_uri": "https://localhost:8080/"
        },
        "id": "7xy20KH1Jsn5",
        "outputId": "f161b700-ae5b-4701-c2b7-86cb860124f9"
      },
      "execution_count": 46,
      "outputs": [
        {
          "output_type": "execute_result",
          "data": {
            "text/plain": [
              "0        تحل نود ان نقل الي دعء لله بحث فين قوه انن كسر...\n",
              "1            وفي نهي يبق معك حدل راي جمل روح امالمنبهر مظا\n",
              "2                                                  خير نفس\n",
              "3        زلزل لعب نصر لعب علي همه ترض بغر قمه جرد ساع ل...\n",
              "4               شيء وحد وصل علم سير تري كان شجع درد ضد نصر\n",
              "                               ...                        \n",
              "22500                                             مش هتلاق\n",
              "22501                                  غفر الل عظم ولل غصه\n",
              "22502        انا حيل قدر وقف بوظ شوكول شور هول لته بدب فيه\n",
              "22506                      اكر مره اني اكن حرس وحظ ديم يخل\n",
              "22510                                          حسد علي ايم\n",
              "Name: text, Length: 29554, dtype: object"
            ]
          },
          "metadata": {},
          "execution_count": 46
        }
      ]
    },
    {
      "cell_type": "markdown",
      "source": [
        " 4- Splitting the dataset and doing some kind of Pre-Processing such as \n",
        " - Dropping duplicates \n",
        " - Encoding the data --> to labeles \n"
      ],
      "metadata": {
        "id": "VKQGy1EnvLFc"
      }
    },
    {
      "cell_type": "code",
      "source": [
        "X_train = traindataset.text\n",
        "X_test = testdataset.text\n",
        "y_train = traindataset['sentiment']\n",
        "y_test = testdataset['sentiment']"
      ],
      "metadata": {
        "id": "gNflCmYdt7Gj"
      },
      "execution_count": 47,
      "outputs": []
    },
    {
      "cell_type": "code",
      "source": [
        "# Drop dulicates if there's any \n",
        "X_train.drop_duplicates()\n",
        "\n",
        "# Encoding the data \n",
        "# Changes the columns that we have in the dataframe for th Y instead o having text into number lables \n",
        "enc= LabelEncoder()\n",
        "y_train=enc.fit_transform(y_train)\n",
        "y_test=enc.transform(y_test)"
      ],
      "metadata": {
        "id": "g7oIZRiLujxt"
      },
      "execution_count": 48,
      "outputs": []
    },
    {
      "cell_type": "code",
      "source": [
        "# After dropping the dublicates \n",
        "traindataset.info()"
      ],
      "metadata": {
        "colab": {
          "base_uri": "https://localhost:8080/"
        },
        "id": "1A9bDrH6N8d1",
        "outputId": "7c33fed6-3558-43b3-d086-77f223cd3beb"
      },
      "execution_count": 49,
      "outputs": [
        {
          "output_type": "stream",
          "name": "stdout",
          "text": [
            "<class 'pandas.core.frame.DataFrame'>\n",
            "Int64Index: 29554 entries, 0 to 22510\n",
            "Data columns (total 2 columns):\n",
            " #   Column     Non-Null Count  Dtype \n",
            "---  ------     --------------  ----- \n",
            " 0   sentiment  29554 non-null  object\n",
            " 1   text       29554 non-null  object\n",
            "dtypes: object(2)\n",
            "memory usage: 692.7+ KB\n"
          ]
        }
      ]
    },
    {
      "cell_type": "markdown",
      "source": [
        " 4- Modelling the Predictions  \n"
      ],
      "metadata": {
        "id": "0waj90eOwYje"
      }
    },
    {
      "cell_type": "code",
      "source": [
        "'''\n",
        "creating Pipeline --> \n",
        "1- Vectorizing the data using TF_IDF \n",
        "2- Training using SVC because it works the best with NLP \n",
        "'''\n",
        "from sklearn.pipeline import make_pipeline\n",
        "\n",
        "vectorizer=TfidfVectorizer(analyzer='char_wb',ngram_range=(3,5),min_df=0.01,max_df=0.3)\n",
        "model =  SVC(kernel='rbf')\n",
        "pipe = make_pipeline(vectorizer,model)\n",
        "\n",
        "\n",
        "pipe.fit(X_train,y_train)"
      ],
      "metadata": {
        "colab": {
          "base_uri": "https://localhost:8080/"
        },
        "id": "nunP7H0Iuj4V",
        "outputId": "b14f5773-94f8-4527-f2c5-9cd618e08417"
      },
      "execution_count": 50,
      "outputs": [
        {
          "output_type": "execute_result",
          "data": {
            "text/plain": [
              "Pipeline(steps=[('tfidfvectorizer',\n",
              "                 TfidfVectorizer(analyzer='char_wb', max_df=0.3, min_df=0.01,\n",
              "                                 ngram_range=(3, 5))),\n",
              "                ('svc', SVC())])"
            ]
          },
          "metadata": {},
          "execution_count": 50
        }
      ]
    },
    {
      "cell_type": "code",
      "source": [
        "y_pred=pipe.predict(X_test)\n",
        "\n",
        "print(classification_report(y_test,y_pred))"
      ],
      "metadata": {
        "colab": {
          "base_uri": "https://localhost:8080/"
        },
        "id": "ogqqxfNRvFMh",
        "outputId": "9e0fc24d-6229-4c08-ea79-77c8c415c582"
      },
      "execution_count": 51,
      "outputs": [
        {
          "output_type": "stream",
          "name": "stdout",
          "text": [
            "              precision    recall  f1-score   support\n",
            "\n",
            "           0       0.96      0.94      0.95     15095\n",
            "           1       0.94      0.96      0.95     14459\n",
            "\n",
            "    accuracy                           0.95     29554\n",
            "   macro avg       0.95      0.95      0.95     29554\n",
            "weighted avg       0.95      0.95      0.95     29554\n",
            "\n"
          ]
        }
      ]
    },
    {
      "cell_type": "markdown",
      "source": [
        "very good results I believe!! \n",
        "\n",
        "Finally, it worked with me :)"
      ],
      "metadata": {
        "id": "IALxNEurzJB2"
      }
    }
  ]
}