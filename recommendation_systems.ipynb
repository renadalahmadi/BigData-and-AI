{
  "cells": [
    {
      "cell_type": "markdown",
      "metadata": {
        "id": "view-in-github",
        "colab_type": "text"
      },
      "source": [
        "<a href=\"https://colab.research.google.com/github/renadalahmadi/BigData-and-AI/blob/main/recommendation_systems.ipynb\" target=\"_parent\"><img src=\"https://colab.research.google.com/assets/colab-badge.svg\" alt=\"Open In Colab\"/></a>"
      ]
    },
    {
      "cell_type": "markdown",
      "metadata": {
        "id": "uAlBtUR2DVs-"
      },
      "source": [
        "# Build a content-based recommendation system for the Steam video game\n",
        "\n",
        "- Renad Alahmadi"
      ]
    },
    {
      "cell_type": "code",
      "execution_count": null,
      "metadata": {
        "colab": {
          "base_uri": "https://localhost:8080/"
        },
        "id": "7FUCYsU0DPYB",
        "outputId": "331a1220-e28b-483d-fa29-cf79e97b4add"
      },
      "outputs": [
        {
          "output_type": "stream",
          "name": "stdout",
          "text": [
            "Looking in indexes: https://pypi.org/simple, https://us-python.pkg.dev/colab-wheels/public/simple/\n",
            "Collecting scikit-surprise\n",
            "  Downloading scikit-surprise-1.1.1.tar.gz (11.8 MB)\n",
            "\u001b[K     |████████████████████████████████| 11.8 MB 4.3 MB/s \n",
            "\u001b[?25hRequirement already satisfied: joblib>=0.11 in /usr/local/lib/python3.7/dist-packages (from scikit-surprise) (1.2.0)\n",
            "Requirement already satisfied: numpy>=1.11.2 in /usr/local/lib/python3.7/dist-packages (from scikit-surprise) (1.21.6)\n",
            "Requirement already satisfied: scipy>=1.0.0 in /usr/local/lib/python3.7/dist-packages (from scikit-surprise) (1.7.3)\n",
            "Requirement already satisfied: six>=1.10.0 in /usr/local/lib/python3.7/dist-packages (from scikit-surprise) (1.15.0)\n",
            "Building wheels for collected packages: scikit-surprise\n",
            "  Building wheel for scikit-surprise (setup.py) ... \u001b[?25l\u001b[?25hdone\n",
            "  Created wheel for scikit-surprise: filename=scikit_surprise-1.1.1-cp37-cp37m-linux_x86_64.whl size=1633976 sha256=0e97509e809fea03c54800cbf482be51d2cb26fe9e499f8444ee20a130b49cc0\n",
            "  Stored in directory: /root/.cache/pip/wheels/76/44/74/b498c42be47b2406bd27994e16c5188e337c657025ab400c1c\n",
            "Successfully built scikit-surprise\n",
            "Installing collected packages: scikit-surprise\n",
            "Successfully installed scikit-surprise-1.1.1\n"
          ]
        }
      ],
      "source": [
        "!pip install scikit-surprise\n",
        "\n",
        "#conda update --all\n",
        "#conda install -c conda-forge scikit-surprise"
      ]
    },
    {
      "cell_type": "code",
      "execution_count": null,
      "metadata": {
        "id": "saTEUW5kE4nx"
      },
      "outputs": [],
      "source": [
        "# imports\n",
        "%matplotlib inline\n",
        "import pandas as pd\n",
        "import numpy as np\n",
        "import matplotlib.pyplot as plt\n",
        "import seaborn as sns\n",
        "\n",
        "from scipy import stats\n",
        "from ast import literal_eval\n",
        "\n",
        "from sklearn.model_selection import KFold, train_test_split\n",
        "from sklearn.feature_extraction.text import TfidfVectorizer, CountVectorizer\n",
        "from sklearn.metrics.pairwise import linear_kernel, cosine_similarity\n",
        "\n",
        "from nltk.stem.snowball import SnowballStemmer\n",
        "from nltk.stem.wordnet import WordNetLemmatizer\n",
        "from nltk.corpus import wordnet\n",
        "\n",
        "from surprise import Reader, Dataset, SVD # for collabrotative filtering and matrix factorization\n",
        "from surprise.model_selection import cross_validate\n",
        "\n",
        "import warnings; warnings.simplefilter('ignore')\n",
        "pd.set_option('display.max_columns', None)"
      ]
    },
    {
      "cell_type": "markdown",
      "metadata": {
        "id": "xYnTWTG5GI7D"
      },
      "source": [
        "## Content Based Recommender"
      ]
    },
    {
      "cell_type": "code",
      "execution_count": null,
      "metadata": {
        "id": "hugBClnsFsdT",
        "colab": {
          "base_uri": "https://localhost:8080/",
          "height": 835
        },
        "outputId": "d123c502-8ef6-4f03-c786-049f4319a49f"
      },
      "outputs": [
        {
          "output_type": "execute_result",
          "data": {
            "text/plain": [
              "    Positive  Negative  Game_id                      Game_name  Positive_Rate  \\\n",
              "0     285421      3487      620                       Portal 2       0.987930   \n",
              "1     102805      1640      400                         Portal       0.984298   \n",
              "2     439665      8619   413150                 Stardew Valley       0.980773   \n",
              "3     476762      9701   431960               Wallpaper Engine       0.980058   \n",
              "4     910629     19342   105600                       Terraria       0.979202   \n",
              "..       ...       ...      ...                            ...            ...   \n",
              "95   1108250    875814   578080            PUBG: BATTLEGROUNDS       0.558576   \n",
              "96    115650     93024   433850               Z1 Battle Royale       0.554214   \n",
              "97      1315      1176   439700  Z1 Battle Royale: Test Server       0.527900   \n",
              "98     30501     29952  1089350                       NBA 2K20       0.504541   \n",
              "99     34889     97467  1517290               Battlefield 2042       0.263600   \n",
              "\n",
              "                                         links  \\\n",
              "0       https://store.steampowered.com/app/620   \n",
              "1       https://store.steampowered.com/app/400   \n",
              "2    https://store.steampowered.com/app/413150   \n",
              "3    https://store.steampowered.com/app/431960   \n",
              "4    https://store.steampowered.com/app/105600   \n",
              "..                                         ...   \n",
              "95   https://store.steampowered.com/app/578080   \n",
              "96   https://store.steampowered.com/app/433850   \n",
              "97   https://store.steampowered.com/app/439700   \n",
              "98  https://store.steampowered.com/app/1089350   \n",
              "99  https://store.steampowered.com/app/1517290   \n",
              "\n",
              "                                     Game_description  \n",
              "0   <div class=\"game_area_description\" id=\"game_ar...  \n",
              "1   <div class=\"game_area_description\" id=\"game_ar...  \n",
              "2   <div class=\"game_area_description\" id=\"game_ar...  \n",
              "3   <div class=\"game_area_description\" id=\"game_ar...  \n",
              "4   <div class=\"game_area_description\" id=\"game_ar...  \n",
              "..                                                ...  \n",
              "95  <div class=\"game_area_description\" id=\"game_ar...  \n",
              "96  <div class=\"game_area_description\" id=\"game_ar...  \n",
              "97  <div class=\"game_area_description\" id=\"game_ar...  \n",
              "98  <div class=\"game_area_description\" id=\"game_ar...  \n",
              "99  <div class=\"game_area_description\" id=\"game_ar...  \n",
              "\n",
              "[100 rows x 7 columns]"
            ],
            "text/html": [
              "\n",
              "  <div id=\"df-9ce7319b-a7d0-484e-908b-4cd0450bc760\">\n",
              "    <div class=\"colab-df-container\">\n",
              "      <div>\n",
              "<style scoped>\n",
              "    .dataframe tbody tr th:only-of-type {\n",
              "        vertical-align: middle;\n",
              "    }\n",
              "\n",
              "    .dataframe tbody tr th {\n",
              "        vertical-align: top;\n",
              "    }\n",
              "\n",
              "    .dataframe thead th {\n",
              "        text-align: right;\n",
              "    }\n",
              "</style>\n",
              "<table border=\"1\" class=\"dataframe\">\n",
              "  <thead>\n",
              "    <tr style=\"text-align: right;\">\n",
              "      <th></th>\n",
              "      <th>Positive</th>\n",
              "      <th>Negative</th>\n",
              "      <th>Game_id</th>\n",
              "      <th>Game_name</th>\n",
              "      <th>Positive_Rate</th>\n",
              "      <th>links</th>\n",
              "      <th>Game_description</th>\n",
              "    </tr>\n",
              "  </thead>\n",
              "  <tbody>\n",
              "    <tr>\n",
              "      <th>0</th>\n",
              "      <td>285421</td>\n",
              "      <td>3487</td>\n",
              "      <td>620</td>\n",
              "      <td>Portal 2</td>\n",
              "      <td>0.987930</td>\n",
              "      <td>https://store.steampowered.com/app/620</td>\n",
              "      <td>&lt;div class=\"game_area_description\" id=\"game_ar...</td>\n",
              "    </tr>\n",
              "    <tr>\n",
              "      <th>1</th>\n",
              "      <td>102805</td>\n",
              "      <td>1640</td>\n",
              "      <td>400</td>\n",
              "      <td>Portal</td>\n",
              "      <td>0.984298</td>\n",
              "      <td>https://store.steampowered.com/app/400</td>\n",
              "      <td>&lt;div class=\"game_area_description\" id=\"game_ar...</td>\n",
              "    </tr>\n",
              "    <tr>\n",
              "      <th>2</th>\n",
              "      <td>439665</td>\n",
              "      <td>8619</td>\n",
              "      <td>413150</td>\n",
              "      <td>Stardew Valley</td>\n",
              "      <td>0.980773</td>\n",
              "      <td>https://store.steampowered.com/app/413150</td>\n",
              "      <td>&lt;div class=\"game_area_description\" id=\"game_ar...</td>\n",
              "    </tr>\n",
              "    <tr>\n",
              "      <th>3</th>\n",
              "      <td>476762</td>\n",
              "      <td>9701</td>\n",
              "      <td>431960</td>\n",
              "      <td>Wallpaper Engine</td>\n",
              "      <td>0.980058</td>\n",
              "      <td>https://store.steampowered.com/app/431960</td>\n",
              "      <td>&lt;div class=\"game_area_description\" id=\"game_ar...</td>\n",
              "    </tr>\n",
              "    <tr>\n",
              "      <th>4</th>\n",
              "      <td>910629</td>\n",
              "      <td>19342</td>\n",
              "      <td>105600</td>\n",
              "      <td>Terraria</td>\n",
              "      <td>0.979202</td>\n",
              "      <td>https://store.steampowered.com/app/105600</td>\n",
              "      <td>&lt;div class=\"game_area_description\" id=\"game_ar...</td>\n",
              "    </tr>\n",
              "    <tr>\n",
              "      <th>...</th>\n",
              "      <td>...</td>\n",
              "      <td>...</td>\n",
              "      <td>...</td>\n",
              "      <td>...</td>\n",
              "      <td>...</td>\n",
              "      <td>...</td>\n",
              "      <td>...</td>\n",
              "    </tr>\n",
              "    <tr>\n",
              "      <th>95</th>\n",
              "      <td>1108250</td>\n",
              "      <td>875814</td>\n",
              "      <td>578080</td>\n",
              "      <td>PUBG: BATTLEGROUNDS</td>\n",
              "      <td>0.558576</td>\n",
              "      <td>https://store.steampowered.com/app/578080</td>\n",
              "      <td>&lt;div class=\"game_area_description\" id=\"game_ar...</td>\n",
              "    </tr>\n",
              "    <tr>\n",
              "      <th>96</th>\n",
              "      <td>115650</td>\n",
              "      <td>93024</td>\n",
              "      <td>433850</td>\n",
              "      <td>Z1 Battle Royale</td>\n",
              "      <td>0.554214</td>\n",
              "      <td>https://store.steampowered.com/app/433850</td>\n",
              "      <td>&lt;div class=\"game_area_description\" id=\"game_ar...</td>\n",
              "    </tr>\n",
              "    <tr>\n",
              "      <th>97</th>\n",
              "      <td>1315</td>\n",
              "      <td>1176</td>\n",
              "      <td>439700</td>\n",
              "      <td>Z1 Battle Royale: Test Server</td>\n",
              "      <td>0.527900</td>\n",
              "      <td>https://store.steampowered.com/app/439700</td>\n",
              "      <td>&lt;div class=\"game_area_description\" id=\"game_ar...</td>\n",
              "    </tr>\n",
              "    <tr>\n",
              "      <th>98</th>\n",
              "      <td>30501</td>\n",
              "      <td>29952</td>\n",
              "      <td>1089350</td>\n",
              "      <td>NBA 2K20</td>\n",
              "      <td>0.504541</td>\n",
              "      <td>https://store.steampowered.com/app/1089350</td>\n",
              "      <td>&lt;div class=\"game_area_description\" id=\"game_ar...</td>\n",
              "    </tr>\n",
              "    <tr>\n",
              "      <th>99</th>\n",
              "      <td>34889</td>\n",
              "      <td>97467</td>\n",
              "      <td>1517290</td>\n",
              "      <td>Battlefield 2042</td>\n",
              "      <td>0.263600</td>\n",
              "      <td>https://store.steampowered.com/app/1517290</td>\n",
              "      <td>&lt;div class=\"game_area_description\" id=\"game_ar...</td>\n",
              "    </tr>\n",
              "  </tbody>\n",
              "</table>\n",
              "<p>100 rows × 7 columns</p>\n",
              "</div>\n",
              "      <button class=\"colab-df-convert\" onclick=\"convertToInteractive('df-9ce7319b-a7d0-484e-908b-4cd0450bc760')\"\n",
              "              title=\"Convert this dataframe to an interactive table.\"\n",
              "              style=\"display:none;\">\n",
              "        \n",
              "  <svg xmlns=\"http://www.w3.org/2000/svg\" height=\"24px\"viewBox=\"0 0 24 24\"\n",
              "       width=\"24px\">\n",
              "    <path d=\"M0 0h24v24H0V0z\" fill=\"none\"/>\n",
              "    <path d=\"M18.56 5.44l.94 2.06.94-2.06 2.06-.94-2.06-.94-.94-2.06-.94 2.06-2.06.94zm-11 1L8.5 8.5l.94-2.06 2.06-.94-2.06-.94L8.5 2.5l-.94 2.06-2.06.94zm10 10l.94 2.06.94-2.06 2.06-.94-2.06-.94-.94-2.06-.94 2.06-2.06.94z\"/><path d=\"M17.41 7.96l-1.37-1.37c-.4-.4-.92-.59-1.43-.59-.52 0-1.04.2-1.43.59L10.3 9.45l-7.72 7.72c-.78.78-.78 2.05 0 2.83L4 21.41c.39.39.9.59 1.41.59.51 0 1.02-.2 1.41-.59l7.78-7.78 2.81-2.81c.8-.78.8-2.07 0-2.86zM5.41 20L4 18.59l7.72-7.72 1.47 1.35L5.41 20z\"/>\n",
              "  </svg>\n",
              "      </button>\n",
              "      \n",
              "  <style>\n",
              "    .colab-df-container {\n",
              "      display:flex;\n",
              "      flex-wrap:wrap;\n",
              "      gap: 12px;\n",
              "    }\n",
              "\n",
              "    .colab-df-convert {\n",
              "      background-color: #E8F0FE;\n",
              "      border: none;\n",
              "      border-radius: 50%;\n",
              "      cursor: pointer;\n",
              "      display: none;\n",
              "      fill: #1967D2;\n",
              "      height: 32px;\n",
              "      padding: 0 0 0 0;\n",
              "      width: 32px;\n",
              "    }\n",
              "\n",
              "    .colab-df-convert:hover {\n",
              "      background-color: #E2EBFA;\n",
              "      box-shadow: 0px 1px 2px rgba(60, 64, 67, 0.3), 0px 1px 3px 1px rgba(60, 64, 67, 0.15);\n",
              "      fill: #174EA6;\n",
              "    }\n",
              "\n",
              "    [theme=dark] .colab-df-convert {\n",
              "      background-color: #3B4455;\n",
              "      fill: #D2E3FC;\n",
              "    }\n",
              "\n",
              "    [theme=dark] .colab-df-convert:hover {\n",
              "      background-color: #434B5C;\n",
              "      box-shadow: 0px 1px 3px 1px rgba(0, 0, 0, 0.15);\n",
              "      filter: drop-shadow(0px 1px 2px rgba(0, 0, 0, 0.3));\n",
              "      fill: #FFFFFF;\n",
              "    }\n",
              "  </style>\n",
              "\n",
              "      <script>\n",
              "        const buttonEl =\n",
              "          document.querySelector('#df-9ce7319b-a7d0-484e-908b-4cd0450bc760 button.colab-df-convert');\n",
              "        buttonEl.style.display =\n",
              "          google.colab.kernel.accessAllowed ? 'block' : 'none';\n",
              "\n",
              "        async function convertToInteractive(key) {\n",
              "          const element = document.querySelector('#df-9ce7319b-a7d0-484e-908b-4cd0450bc760');\n",
              "          const dataTable =\n",
              "            await google.colab.kernel.invokeFunction('convertToInteractive',\n",
              "                                                     [key], {});\n",
              "          if (!dataTable) return;\n",
              "\n",
              "          const docLinkHtml = 'Like what you see? Visit the ' +\n",
              "            '<a target=\"_blank\" href=https://colab.research.google.com/notebooks/data_table.ipynb>data table notebook</a>'\n",
              "            + ' to learn more about interactive tables.';\n",
              "          element.innerHTML = '';\n",
              "          dataTable['output_type'] = 'display_data';\n",
              "          await google.colab.output.renderOutput(dataTable, element);\n",
              "          const docLink = document.createElement('div');\n",
              "          docLink.innerHTML = docLinkHtml;\n",
              "          element.appendChild(docLink);\n",
              "        }\n",
              "      </script>\n",
              "    </div>\n",
              "  </div>\n",
              "  "
            ]
          },
          "metadata": {},
          "execution_count": 4
        }
      ],
      "source": [
        "dataset = pd.read_csv('/content/Steam Dataset.csv')\n",
        "dataset\n",
        "# dataset = dataset[dataset['Game_id'].notnull()]['Game_id'].astype('int')"
      ]
    },
    {
      "cell_type": "code",
      "source": [
        "print(dataset.isna().sum()) # -->  zero"
      ],
      "metadata": {
        "colab": {
          "base_uri": "https://localhost:8080/"
        },
        "id": "lW-i3axtHzJw",
        "outputId": "4a1699c2-5e26-4907-d75f-8bc5fb274730"
      },
      "execution_count": null,
      "outputs": [
        {
          "output_type": "stream",
          "name": "stdout",
          "text": [
            "Positive            0\n",
            "Negative            0\n",
            "Game_id             0\n",
            "Game_name           0\n",
            "Positive_Rate       0\n",
            "links               0\n",
            "Game_description    0\n",
            "dtype: int64\n"
          ]
        }
      ]
    },
    {
      "cell_type": "code",
      "execution_count": null,
      "metadata": {
        "id": "aHx7X_yrH83u"
      },
      "outputs": [],
      "source": [
        "# NOTE: there's no null values (in all columns)\n",
        "#lets rmove null ids, as there are a few Nan values\n",
        "def convert_int(x):\n",
        "    try:\n",
        "        return int(x)\n",
        "    except:\n",
        "        return np.nan\n",
        "\n",
        "dataset['Game_id'] = dataset['Game_id'].apply(convert_int)\n",
        "print(dataset.Game_id.isna().sum())\n",
        "dataset = dataset.dropna(axis=0, subset=['Game_id'])\n",
        "print(dataset.Game_id.isna().sum())"
      ]
    },
    {
      "cell_type": "markdown",
      "source": [
        "Let's here transform the data to something the machine understand. "
      ],
      "metadata": {
        "id": "MVz2x6RoETDo"
      }
    },
    {
      "cell_type": "code",
      "execution_count": null,
      "metadata": {
        "id": "Xt3RYXyqLC2s"
      },
      "outputs": [],
      "source": [
        "# let's do some feature extraction from the tetx description using Tf-idf\n",
        "tf = TfidfVectorizer(analyzer='word',ngram_range=(1, 2),min_df=0, stop_words='english')\n",
        "tfidf_matrix = tf.fit_transform(dataset['Game_description'])"
      ]
    },
    {
      "cell_type": "code",
      "execution_count": null,
      "metadata": {
        "colab": {
          "base_uri": "https://localhost:8080/"
        },
        "id": "TzOwFzWALlcd",
        "outputId": "1051f3ab-751d-4b05-a040-12af3db5ec1c"
      },
      "outputs": [
        {
          "output_type": "execute_result",
          "data": {
            "text/plain": [
              "(100, 21959)"
            ]
          },
          "metadata": {},
          "execution_count": 11
        }
      ],
      "source": [
        "tfidf_matrix.shape"
      ]
    },
    {
      "cell_type": "markdown",
      "metadata": {
        "id": "Sii5uh5PMtph"
      },
      "source": [
        "### Cosine Similarity\n",
        "\n",
        "We will be using the Cosine Similarity to calculate a numeric quantity that denotes the similarity between two Games. Mathematically, it is defined as follows:\n",
        "\n",
        "cosine(x,y)=x.y⊺/||x||.||y||\n",
        "\n",
        "Since we have used the TF-IDF Vectorizer, calculating the Dot Product will directly give us the Cosine Similarity Score. Therefore, we will use sklearn's linear_kernel instead of cosine_similarities since it is much faster."
      ]
    },
    {
      "cell_type": "code",
      "execution_count": null,
      "metadata": {
        "id": "MU6l2x4QMRe6"
      },
      "outputs": [],
      "source": [
        "cosine_sim = linear_kernel(tfidf_matrix, tfidf_matrix)"
      ]
    },
    {
      "cell_type": "code",
      "execution_count": null,
      "metadata": {
        "colab": {
          "base_uri": "https://localhost:8080/"
        },
        "id": "ZMfizcpoNdyO",
        "outputId": "9bf81719-9439-4e28-da3a-44d5dead1e27"
      },
      "outputs": [
        {
          "output_type": "stream",
          "name": "stdout",
          "text": [
            "(100, 100)\n",
            "[1.         0.10467383 0.27041798 0.14488692 0.14849364 0.03103094\n",
            " 0.18031773 0.10143294 0.16191556 0.20345069 0.05874203 0.05797221\n",
            " 0.08736863 0.0418697  0.12424839 0.04388966 0.21795118 0.17790132\n",
            " 0.18511241 0.05038385 0.12150246 0.14585019 0.09200489 0.11391628\n",
            " 0.10138283 0.03924035 0.19778871 0.08757517 0.26690213 0.04152594\n",
            " 0.06882484 0.30170971 0.14407873 0.14928214 0.23056317 0.11592873\n",
            " 0.33866032 0.00961042 0.06047891 0.19261151 0.10302336 0.18877852\n",
            " 0.01978548 0.22373538 0.15391474 0.0821589  0.0471858  0.2939425\n",
            " 0.05394429 0.02431148 0.1149811  0.06852005 0.13991711 0.03194006\n",
            " 0.03811705 0.18095348 0.19657051 0.03565375 0.1164851  0.10511097\n",
            " 0.09545167 0.21810919 0.05833022 0.08958913 0.05889727 0.11348202\n",
            " 0.04641729 0.01944042 0.04955943 0.09059759 0.0222264  0.10744498\n",
            " 0.03317934 0.23020859 0.07597496 0.19302998 0.05213717 0.02721882\n",
            " 0.05148509 0.14385143 0.12679521 0.05595783 0.20313094 0.02724275\n",
            " 0.05885664 0.03775161 0.07650762 0.0614583  0.15584573 0.07995749\n",
            " 0.04942893 0.16955968 0.10629847 0.0967659  0.29779191 0.06317566\n",
            " 0.08886752 0.0740235  0.14040762 0.053576  ]\n"
          ]
        }
      ],
      "source": [
        "print(cosine_sim.shape)\n",
        "print(cosine_sim[0])"
      ]
    },
    {
      "cell_type": "code",
      "execution_count": null,
      "metadata": {
        "colab": {
          "base_uri": "https://localhost:8080/"
        },
        "id": "-oo6POvtB9oD",
        "outputId": "d10f858b-8031-46b6-b6e6-15affcd5d660"
      },
      "outputs": [
        {
          "output_type": "execute_result",
          "data": {
            "text/plain": [
              "numpy.ndarray"
            ]
          },
          "metadata": {},
          "execution_count": 14
        }
      ],
      "source": [
        "type(cosine_sim)"
      ]
    },
    {
      "cell_type": "markdown",
      "metadata": {
        "id": "Dbd0pKv5NQAw"
      },
      "source": [
        "\n",
        "\n",
        "We now have a pairwise cosine similarity matrix for all the movies in our dataset. The next step is to write a function that returns the 30 most similar games based on the cosine similarity score.\n"
      ]
    },
    {
      "cell_type": "code",
      "execution_count": 25,
      "metadata": {
        "id": "II31DXVHNH1G"
      },
      "outputs": [],
      "source": [
        "sgm = dataset.reset_index()\n",
        "Game_names = sgm['Game_name']"
      ]
    },
    {
      "cell_type": "code",
      "execution_count": 26,
      "metadata": {
        "colab": {
          "base_uri": "https://localhost:8080/"
        },
        "id": "mdKoH22lB9oD",
        "outputId": "1ecd1385-3919-46b6-e528-27b2dacd03b9"
      },
      "outputs": [
        {
          "output_type": "execute_result",
          "data": {
            "text/plain": [
              "0                          Portal 2\n",
              "1                            Portal\n",
              "2                    Stardew Valley\n",
              "3                  Wallpaper Engine\n",
              "4                          Terraria\n",
              "                  ...              \n",
              "95              PUBG: BATTLEGROUNDS\n",
              "96                 Z1 Battle Royale\n",
              "97    Z1 Battle Royale: Test Server\n",
              "98                         NBA 2K20\n",
              "99                 Battlefield 2042\n",
              "Name: Game_name, Length: 100, dtype: object"
            ]
          },
          "metadata": {},
          "execution_count": 26
        }
      ],
      "source": [
        "Game_names"
      ]
    },
    {
      "cell_type": "code",
      "execution_count": null,
      "metadata": {
        "colab": {
          "base_uri": "https://localhost:8080/",
          "height": 835
        },
        "id": "r1Mlw6CbB9oD",
        "outputId": "28acc883-870d-45a6-a880-6f09f8db8045"
      },
      "outputs": [
        {
          "output_type": "execute_result",
          "data": {
            "text/plain": [
              "    index  Positive  Negative  Game_id                      Game_name  \\\n",
              "0       0    285421      3487      620                       Portal 2   \n",
              "1       1    102805      1640      400                         Portal   \n",
              "2       2    439665      8619   413150                 Stardew Valley   \n",
              "3       3    476762      9701   431960               Wallpaper Engine   \n",
              "4       4    910629     19342   105600                       Terraria   \n",
              "..    ...       ...       ...      ...                            ...   \n",
              "95     95   1108250    875814   578080            PUBG: BATTLEGROUNDS   \n",
              "96     96    115650     93024   433850               Z1 Battle Royale   \n",
              "97     97      1315      1176   439700  Z1 Battle Royale: Test Server   \n",
              "98     98     30501     29952  1089350                       NBA 2K20   \n",
              "99     99     34889     97467  1517290               Battlefield 2042   \n",
              "\n",
              "    Positive_Rate                                       links  \\\n",
              "0        0.987930      https://store.steampowered.com/app/620   \n",
              "1        0.984298      https://store.steampowered.com/app/400   \n",
              "2        0.980773   https://store.steampowered.com/app/413150   \n",
              "3        0.980058   https://store.steampowered.com/app/431960   \n",
              "4        0.979202   https://store.steampowered.com/app/105600   \n",
              "..            ...                                         ...   \n",
              "95       0.558576   https://store.steampowered.com/app/578080   \n",
              "96       0.554214   https://store.steampowered.com/app/433850   \n",
              "97       0.527900   https://store.steampowered.com/app/439700   \n",
              "98       0.504541  https://store.steampowered.com/app/1089350   \n",
              "99       0.263600  https://store.steampowered.com/app/1517290   \n",
              "\n",
              "                                     Game_description  \n",
              "0   <div class=\"game_area_description\" id=\"game_ar...  \n",
              "1   <div class=\"game_area_description\" id=\"game_ar...  \n",
              "2   <div class=\"game_area_description\" id=\"game_ar...  \n",
              "3   <div class=\"game_area_description\" id=\"game_ar...  \n",
              "4   <div class=\"game_area_description\" id=\"game_ar...  \n",
              "..                                                ...  \n",
              "95  <div class=\"game_area_description\" id=\"game_ar...  \n",
              "96  <div class=\"game_area_description\" id=\"game_ar...  \n",
              "97  <div class=\"game_area_description\" id=\"game_ar...  \n",
              "98  <div class=\"game_area_description\" id=\"game_ar...  \n",
              "99  <div class=\"game_area_description\" id=\"game_ar...  \n",
              "\n",
              "[100 rows x 8 columns]"
            ],
            "text/html": [
              "\n",
              "  <div id=\"df-8f1d8709-e202-4dfe-99cc-685b72a817de\">\n",
              "    <div class=\"colab-df-container\">\n",
              "      <div>\n",
              "<style scoped>\n",
              "    .dataframe tbody tr th:only-of-type {\n",
              "        vertical-align: middle;\n",
              "    }\n",
              "\n",
              "    .dataframe tbody tr th {\n",
              "        vertical-align: top;\n",
              "    }\n",
              "\n",
              "    .dataframe thead th {\n",
              "        text-align: right;\n",
              "    }\n",
              "</style>\n",
              "<table border=\"1\" class=\"dataframe\">\n",
              "  <thead>\n",
              "    <tr style=\"text-align: right;\">\n",
              "      <th></th>\n",
              "      <th>index</th>\n",
              "      <th>Positive</th>\n",
              "      <th>Negative</th>\n",
              "      <th>Game_id</th>\n",
              "      <th>Game_name</th>\n",
              "      <th>Positive_Rate</th>\n",
              "      <th>links</th>\n",
              "      <th>Game_description</th>\n",
              "    </tr>\n",
              "  </thead>\n",
              "  <tbody>\n",
              "    <tr>\n",
              "      <th>0</th>\n",
              "      <td>0</td>\n",
              "      <td>285421</td>\n",
              "      <td>3487</td>\n",
              "      <td>620</td>\n",
              "      <td>Portal 2</td>\n",
              "      <td>0.987930</td>\n",
              "      <td>https://store.steampowered.com/app/620</td>\n",
              "      <td>&lt;div class=\"game_area_description\" id=\"game_ar...</td>\n",
              "    </tr>\n",
              "    <tr>\n",
              "      <th>1</th>\n",
              "      <td>1</td>\n",
              "      <td>102805</td>\n",
              "      <td>1640</td>\n",
              "      <td>400</td>\n",
              "      <td>Portal</td>\n",
              "      <td>0.984298</td>\n",
              "      <td>https://store.steampowered.com/app/400</td>\n",
              "      <td>&lt;div class=\"game_area_description\" id=\"game_ar...</td>\n",
              "    </tr>\n",
              "    <tr>\n",
              "      <th>2</th>\n",
              "      <td>2</td>\n",
              "      <td>439665</td>\n",
              "      <td>8619</td>\n",
              "      <td>413150</td>\n",
              "      <td>Stardew Valley</td>\n",
              "      <td>0.980773</td>\n",
              "      <td>https://store.steampowered.com/app/413150</td>\n",
              "      <td>&lt;div class=\"game_area_description\" id=\"game_ar...</td>\n",
              "    </tr>\n",
              "    <tr>\n",
              "      <th>3</th>\n",
              "      <td>3</td>\n",
              "      <td>476762</td>\n",
              "      <td>9701</td>\n",
              "      <td>431960</td>\n",
              "      <td>Wallpaper Engine</td>\n",
              "      <td>0.980058</td>\n",
              "      <td>https://store.steampowered.com/app/431960</td>\n",
              "      <td>&lt;div class=\"game_area_description\" id=\"game_ar...</td>\n",
              "    </tr>\n",
              "    <tr>\n",
              "      <th>4</th>\n",
              "      <td>4</td>\n",
              "      <td>910629</td>\n",
              "      <td>19342</td>\n",
              "      <td>105600</td>\n",
              "      <td>Terraria</td>\n",
              "      <td>0.979202</td>\n",
              "      <td>https://store.steampowered.com/app/105600</td>\n",
              "      <td>&lt;div class=\"game_area_description\" id=\"game_ar...</td>\n",
              "    </tr>\n",
              "    <tr>\n",
              "      <th>...</th>\n",
              "      <td>...</td>\n",
              "      <td>...</td>\n",
              "      <td>...</td>\n",
              "      <td>...</td>\n",
              "      <td>...</td>\n",
              "      <td>...</td>\n",
              "      <td>...</td>\n",
              "      <td>...</td>\n",
              "    </tr>\n",
              "    <tr>\n",
              "      <th>95</th>\n",
              "      <td>95</td>\n",
              "      <td>1108250</td>\n",
              "      <td>875814</td>\n",
              "      <td>578080</td>\n",
              "      <td>PUBG: BATTLEGROUNDS</td>\n",
              "      <td>0.558576</td>\n",
              "      <td>https://store.steampowered.com/app/578080</td>\n",
              "      <td>&lt;div class=\"game_area_description\" id=\"game_ar...</td>\n",
              "    </tr>\n",
              "    <tr>\n",
              "      <th>96</th>\n",
              "      <td>96</td>\n",
              "      <td>115650</td>\n",
              "      <td>93024</td>\n",
              "      <td>433850</td>\n",
              "      <td>Z1 Battle Royale</td>\n",
              "      <td>0.554214</td>\n",
              "      <td>https://store.steampowered.com/app/433850</td>\n",
              "      <td>&lt;div class=\"game_area_description\" id=\"game_ar...</td>\n",
              "    </tr>\n",
              "    <tr>\n",
              "      <th>97</th>\n",
              "      <td>97</td>\n",
              "      <td>1315</td>\n",
              "      <td>1176</td>\n",
              "      <td>439700</td>\n",
              "      <td>Z1 Battle Royale: Test Server</td>\n",
              "      <td>0.527900</td>\n",
              "      <td>https://store.steampowered.com/app/439700</td>\n",
              "      <td>&lt;div class=\"game_area_description\" id=\"game_ar...</td>\n",
              "    </tr>\n",
              "    <tr>\n",
              "      <th>98</th>\n",
              "      <td>98</td>\n",
              "      <td>30501</td>\n",
              "      <td>29952</td>\n",
              "      <td>1089350</td>\n",
              "      <td>NBA 2K20</td>\n",
              "      <td>0.504541</td>\n",
              "      <td>https://store.steampowered.com/app/1089350</td>\n",
              "      <td>&lt;div class=\"game_area_description\" id=\"game_ar...</td>\n",
              "    </tr>\n",
              "    <tr>\n",
              "      <th>99</th>\n",
              "      <td>99</td>\n",
              "      <td>34889</td>\n",
              "      <td>97467</td>\n",
              "      <td>1517290</td>\n",
              "      <td>Battlefield 2042</td>\n",
              "      <td>0.263600</td>\n",
              "      <td>https://store.steampowered.com/app/1517290</td>\n",
              "      <td>&lt;div class=\"game_area_description\" id=\"game_ar...</td>\n",
              "    </tr>\n",
              "  </tbody>\n",
              "</table>\n",
              "<p>100 rows × 8 columns</p>\n",
              "</div>\n",
              "      <button class=\"colab-df-convert\" onclick=\"convertToInteractive('df-8f1d8709-e202-4dfe-99cc-685b72a817de')\"\n",
              "              title=\"Convert this dataframe to an interactive table.\"\n",
              "              style=\"display:none;\">\n",
              "        \n",
              "  <svg xmlns=\"http://www.w3.org/2000/svg\" height=\"24px\"viewBox=\"0 0 24 24\"\n",
              "       width=\"24px\">\n",
              "    <path d=\"M0 0h24v24H0V0z\" fill=\"none\"/>\n",
              "    <path d=\"M18.56 5.44l.94 2.06.94-2.06 2.06-.94-2.06-.94-.94-2.06-.94 2.06-2.06.94zm-11 1L8.5 8.5l.94-2.06 2.06-.94-2.06-.94L8.5 2.5l-.94 2.06-2.06.94zm10 10l.94 2.06.94-2.06 2.06-.94-2.06-.94-.94-2.06-.94 2.06-2.06.94z\"/><path d=\"M17.41 7.96l-1.37-1.37c-.4-.4-.92-.59-1.43-.59-.52 0-1.04.2-1.43.59L10.3 9.45l-7.72 7.72c-.78.78-.78 2.05 0 2.83L4 21.41c.39.39.9.59 1.41.59.51 0 1.02-.2 1.41-.59l7.78-7.78 2.81-2.81c.8-.78.8-2.07 0-2.86zM5.41 20L4 18.59l7.72-7.72 1.47 1.35L5.41 20z\"/>\n",
              "  </svg>\n",
              "      </button>\n",
              "      \n",
              "  <style>\n",
              "    .colab-df-container {\n",
              "      display:flex;\n",
              "      flex-wrap:wrap;\n",
              "      gap: 12px;\n",
              "    }\n",
              "\n",
              "    .colab-df-convert {\n",
              "      background-color: #E8F0FE;\n",
              "      border: none;\n",
              "      border-radius: 50%;\n",
              "      cursor: pointer;\n",
              "      display: none;\n",
              "      fill: #1967D2;\n",
              "      height: 32px;\n",
              "      padding: 0 0 0 0;\n",
              "      width: 32px;\n",
              "    }\n",
              "\n",
              "    .colab-df-convert:hover {\n",
              "      background-color: #E2EBFA;\n",
              "      box-shadow: 0px 1px 2px rgba(60, 64, 67, 0.3), 0px 1px 3px 1px rgba(60, 64, 67, 0.15);\n",
              "      fill: #174EA6;\n",
              "    }\n",
              "\n",
              "    [theme=dark] .colab-df-convert {\n",
              "      background-color: #3B4455;\n",
              "      fill: #D2E3FC;\n",
              "    }\n",
              "\n",
              "    [theme=dark] .colab-df-convert:hover {\n",
              "      background-color: #434B5C;\n",
              "      box-shadow: 0px 1px 3px 1px rgba(0, 0, 0, 0.15);\n",
              "      filter: drop-shadow(0px 1px 2px rgba(0, 0, 0, 0.3));\n",
              "      fill: #FFFFFF;\n",
              "    }\n",
              "  </style>\n",
              "\n",
              "      <script>\n",
              "        const buttonEl =\n",
              "          document.querySelector('#df-8f1d8709-e202-4dfe-99cc-685b72a817de button.colab-df-convert');\n",
              "        buttonEl.style.display =\n",
              "          google.colab.kernel.accessAllowed ? 'block' : 'none';\n",
              "\n",
              "        async function convertToInteractive(key) {\n",
              "          const element = document.querySelector('#df-8f1d8709-e202-4dfe-99cc-685b72a817de');\n",
              "          const dataTable =\n",
              "            await google.colab.kernel.invokeFunction('convertToInteractive',\n",
              "                                                     [key], {});\n",
              "          if (!dataTable) return;\n",
              "\n",
              "          const docLinkHtml = 'Like what you see? Visit the ' +\n",
              "            '<a target=\"_blank\" href=https://colab.research.google.com/notebooks/data_table.ipynb>data table notebook</a>'\n",
              "            + ' to learn more about interactive tables.';\n",
              "          element.innerHTML = '';\n",
              "          dataTable['output_type'] = 'display_data';\n",
              "          await google.colab.output.renderOutput(dataTable, element);\n",
              "          const docLink = document.createElement('div');\n",
              "          docLink.innerHTML = docLinkHtml;\n",
              "          element.appendChild(docLink);\n",
              "        }\n",
              "      </script>\n",
              "    </div>\n",
              "  </div>\n",
              "  "
            ]
          },
          "metadata": {},
          "execution_count": 17
        }
      ],
      "source": [
        "sgm"
      ]
    },
    {
      "cell_type": "code",
      "execution_count": null,
      "metadata": {
        "id": "9JFX8e5DB9oD"
      },
      "outputs": [],
      "source": [
        "indices = pd.Series(sgm.index, index=sgm['Game_name'])"
      ]
    },
    {
      "cell_type": "code",
      "execution_count": null,
      "metadata": {
        "colab": {
          "base_uri": "https://localhost:8080/"
        },
        "id": "w0SuugLfB9oE",
        "outputId": "ef4a366a-4b9a-41b7-b842-3fccb0c923c6"
      },
      "outputs": [
        {
          "output_type": "execute_result",
          "data": {
            "text/plain": [
              "Game_name\n",
              "Portal 2                          0\n",
              "Portal                            1\n",
              "Stardew Valley                    2\n",
              "Wallpaper Engine                  3\n",
              "Terraria                          4\n",
              "                                 ..\n",
              "PUBG: BATTLEGROUNDS              95\n",
              "Z1 Battle Royale                 96\n",
              "Z1 Battle Royale: Test Server    97\n",
              "NBA 2K20                         98\n",
              "Battlefield 2042                 99\n",
              "Length: 100, dtype: int64"
            ]
          },
          "metadata": {},
          "execution_count": 19
        }
      ],
      "source": [
        "indices"
      ]
    },
    {
      "cell_type": "code",
      "execution_count": 27,
      "metadata": {
        "id": "s_tyGVNdBwkJ"
      },
      "outputs": [],
      "source": [
        "def get_recommendations(Game_name):\n",
        "    idx = indices[Game_name]\n",
        "    sim_scores = list(enumerate(cosine_sim[idx])) #convert the cosine similarity into a list after enumeration\n",
        "    sim_scores = sorted(sim_scores, key=lambda x: x[1], reverse=True)\n",
        "    sim_scores = sim_scores[1:31] # you can change these numbers to retrieve more or less trhan 30 recommendations\n",
        "    game_indices = [i[0] for i in sim_scores]\n",
        "    return Game_names.iloc[game_indices]"
      ]
    },
    {
      "cell_type": "code",
      "execution_count": 28,
      "metadata": {
        "id": "h0QgkUQiB9oE"
      },
      "outputs": [],
      "source": [
        "sim_scores = list(enumerate(cosine_sim[indices['Stardew Valley']]))"
      ]
    },
    {
      "cell_type": "code",
      "execution_count": 29,
      "metadata": {
        "colab": {
          "base_uri": "https://localhost:8080/"
        },
        "id": "DrzqyIIHB9oE",
        "outputId": "e59c68c8-6064-40bf-af3f-1b6cb4b84bba"
      },
      "outputs": [
        {
          "output_type": "execute_result",
          "data": {
            "text/plain": [
              "[(0, 0.27041798225887437),\n",
              " (1, 0.02601164529020126),\n",
              " (2, 0.9999999999999993),\n",
              " (3, 0.17122837753552306),\n",
              " (4, 0.17011420500589633),\n",
              " (5, 0.0045577077389344295),\n",
              " (6, 0.20845961581674116),\n",
              " (7, 0.08737991074182282),\n",
              " (8, 0.17584121867460784),\n",
              " (9, 0.22317060129915173),\n",
              " (10, 0.07265496242309076),\n",
              " (11, 0.01078517368880706),\n",
              " (12, 0.12654791082039507),\n",
              " (13, 0.08424122830513286),\n",
              " (14, 0.1380830524974362),\n",
              " (15, 0.012386312713232142),\n",
              " (16, 0.2395166734458289),\n",
              " (17, 0.21153332377897927),\n",
              " (18, 0.24192958505617468),\n",
              " (19, 0.011786593610520384),\n",
              " (20, 0.135691731316898),\n",
              " (21, 0.1706538442057924),\n",
              " (22, 0.1159781270385868),\n",
              " (23, 0.13818998949289424),\n",
              " (24, 0.1413363850789764),\n",
              " (25, 0.05489525023163465),\n",
              " (26, 0.21140502241186473),\n",
              " (27, 0.10757190866068149),\n",
              " (28, 0.3169791208469001),\n",
              " (29, 0.06883791307779402),\n",
              " (30, 0.10509412838867077),\n",
              " (31, 0.28101048794824324),\n",
              " (32, 0.13344289315324578),\n",
              " (33, 0.17856854265853075),\n",
              " (34, 0.27208543260017004),\n",
              " (35, 0.10588284894405281),\n",
              " (36, 0.3809039997933033),\n",
              " (37, 0.009560367476490998),\n",
              " (38, 0.0092032183606997),\n",
              " (39, 0.22239101537067596),\n",
              " (40, 0.1283985819154307),\n",
              " (41, 0.1839844626251413),\n",
              " (42, 0.013485332565113924),\n",
              " (43, 0.2544059128719299),\n",
              " (44, 0.17813050381493992),\n",
              " (45, 0.08622530135186474),\n",
              " (46, 0.09579703209824932),\n",
              " (47, 0.3522027601381938),\n",
              " (48, 0.04533031765551676),\n",
              " (49, 0.010824184186131448),\n",
              " (50, 0.14970255504108937),\n",
              " (51, 0.0918810496297112),\n",
              " (52, 0.1683670587827951),\n",
              " (53, 0.06022121586790534),\n",
              " (54, 0.04592307939888066),\n",
              " (55, 0.22717042286895991),\n",
              " (56, 0.21999786172019725),\n",
              " (57, 0.06728562065212919),\n",
              " (58, 0.15798670396651707),\n",
              " (59, 0.13261999169236552),\n",
              " (60, 0.10085198336637267),\n",
              " (61, 0.2526491545615253),\n",
              " (62, 0.043215501238583955),\n",
              " (63, 0.10471291802220214),\n",
              " (64, 0.0772669684798022),\n",
              " (65, 0.14159669068693395),\n",
              " (66, 0.07410701929932742),\n",
              " (67, 0.007761761395051033),\n",
              " (68, 0.10286778712942334),\n",
              " (69, 0.11212166069344318),\n",
              " (70, 0.009262496013069612),\n",
              " (71, 0.10689471591265857),\n",
              " (72, 0.06600351993946371),\n",
              " (73, 0.2527684932798426),\n",
              " (74, 0.08534565616430319),\n",
              " (75, 0.21990807226722414),\n",
              " (76, 0.08131836532717204),\n",
              " (77, 0.06435712344511962),\n",
              " (78, 0.08465789655143426),\n",
              " (79, 0.18028454804848654),\n",
              " (80, 0.13718329010943056),\n",
              " (81, 0.06454734784334885),\n",
              " (82, 0.22479635881630106),\n",
              " (83, 0.02391617052617468),\n",
              " (84, 0.09824654585931271),\n",
              " (85, 0.05867502187354435),\n",
              " (86, 0.10393832729886596),\n",
              " (87, 0.09216887560179278),\n",
              " (88, 0.18866228107205205),\n",
              " (89, 0.1245293402234585),\n",
              " (90, 0.06985486542348648),\n",
              " (91, 0.217171317110009),\n",
              " (92, 0.12176859932810942),\n",
              " (93, 0.13060403494372683),\n",
              " (94, 0.33142295354436496),\n",
              " (95, 0.0570488094300801),\n",
              " (96, 0.12496846284613053),\n",
              " (97, 0.09521236454543357),\n",
              " (98, 0.14708773615082657),\n",
              " (99, 0.05834136637480743)]"
            ]
          },
          "metadata": {},
          "execution_count": 29
        }
      ],
      "source": [
        "sim_scores"
      ]
    },
    {
      "cell_type": "markdown",
      "source": [
        "# Lets try to look at the similarity between 'Stardew Valley' and other games. \n",
        "\n",
        "#Also, 'NBA 2K20'and other games. "
      ],
      "metadata": {
        "id": "Um-KsYePCuYA"
      }
    },
    {
      "cell_type": "code",
      "execution_count": 30,
      "metadata": {
        "colab": {
          "base_uri": "https://localhost:8080/"
        },
        "id": "8SWzdtP4O7Nn",
        "outputId": "fd015d2d-6ebc-426b-d13b-271483148b34"
      },
      "outputs": [
        {
          "output_type": "execute_result",
          "data": {
            "text/plain": [
              "36                          Unturned\n",
              "47                     7 Days to Die\n",
              "94            Street Warriors Online\n",
              "28                         Grim Dawn\n",
              "31    Call of Duty: Modern Warfare 2\n",
              "34                          Among Us\n",
              "0                           Portal 2\n",
              "43              No More Room in Hell\n",
              "73                         Fallout 4\n",
              "61                        Brawlhalla\n",
              "Name: Game_name, dtype: object"
            ]
          },
          "metadata": {},
          "execution_count": 30
        }
      ],
      "source": [
        "get_recommendations('Stardew Valley').head(10)"
      ]
    },
    {
      "cell_type": "code",
      "execution_count": 32,
      "metadata": {
        "colab": {
          "base_uri": "https://localhost:8080/"
        },
        "id": "qIz6QJPpPFgN",
        "outputId": "5556904a-5704-4cf3-ec77-5f9443733aa5"
      },
      "outputs": [
        {
          "output_type": "execute_result",
          "data": {
            "text/plain": [
              "23     The Elder Scrolls V: Skyrim\n",
              "50    Mount & Blade II: Bannerlord\n",
              "58           Monster Hunter: World\n",
              "20                     Dying Light\n",
              "24                Human: Fall Flat\n",
              "91               Heroes & Generals\n",
              "96                Z1 Battle Royale\n",
              "40                        Warframe\n",
              "2                   Stardew Valley\n",
              "92    Counter-Strike Nexon: Studio\n",
              "Name: Game_name, dtype: object"
            ]
          },
          "metadata": {},
          "execution_count": 32
        }
      ],
      "source": [
        "get_recommendations('NBA 2K20').head(10)"
      ]
    }
  ],
  "metadata": {
    "colab": {
      "provenance": [],
      "include_colab_link": true
    },
    "kernelspec": {
      "display_name": "Python 3 (ipykernel)",
      "language": "python",
      "name": "python3"
    },
    "language_info": {
      "codemirror_mode": {
        "name": "ipython",
        "version": 3
      },
      "file_extension": ".py",
      "mimetype": "text/x-python",
      "name": "python",
      "nbconvert_exporter": "python",
      "pygments_lexer": "ipython3",
      "version": "3.9.13"
    }
  },
  "nbformat": 4,
  "nbformat_minor": 0
}