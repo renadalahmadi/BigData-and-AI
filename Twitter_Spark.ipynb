{
 "cells": [
  {
   "cell_type": "markdown",
   "id": "91276972",
   "metadata": {},
   "source": [
    "# Twitter _ Spark \n",
    "\n",
    "Renad ALahmadi \n",
    "\n",
    "Learning Objectives:\n",
    "1. How to connect to your Twitter Developer account.\n",
    "2. Verifying credentials and accessing your own information.\n",
    "3. Fetching tweets using search terms and parameters.\n",
    "4. Set a rule to search for Tweets on any cryptocurrency (Bitcoin, Ethereum, Dogecoin, Shiba, etc.) --> Bitcoin.\n",
    "\n",
    "\n",
    "### Note: It's hard to try to fetch a large number of data because of machin limitation and twitter too."
   ]
  },
  {
   "cell_type": "code",
   "execution_count": 81,
   "id": "509150dc",
   "metadata": {},
   "outputs": [],
   "source": [
    "# General:\n",
    "import tweepy           # To consume Twitter's API\n",
    "import pandas as pd     # To handle data\n",
    "import numpy as np      # For number computing\n",
    "\n",
    "# For plotting and visualization:\n",
    "from IPython.display import display\n",
    "import matplotlib.pyplot as plt\n",
    "import seaborn as sns\n",
    "from textblob import TextBlob\n",
    "import re \n",
    "from pyspark.ml.classification import DecisionTreeClassifier, RandomForestClassifier, NaiveBayes\n",
    "from pyspark.ml.evaluation import MulticlassClassificationEvaluator\n",
    "import pyspark.sql.dataframe\n",
    "from pyspark.sql.functions import regexp_replace, col, lower\n",
    "from pyspark.sql.types import *\n",
    "from pyspark.ml.feature import *\n",
    "\n",
    "\n",
    "%matplotlib inline"
   ]
  },
  {
   "cell_type": "markdown",
   "id": "ae395052",
   "metadata": {},
   "source": [
    "--------------------------------------------------"
   ]
  },
  {
   "cell_type": "markdown",
   "id": "6f8bafc7",
   "metadata": {},
   "source": [
    "### 1- Making a Connection"
   ]
  },
  {
   "cell_type": "code",
   "execution_count": 19,
   "id": "f507f51f",
   "metadata": {},
   "outputs": [],
   "source": [
    "\n",
    "#These will be found on your Twitter Developer Account. These are your personal keys and should not be shared with anyone else.\n",
    "\n",
    "consumer_key = ''\n",
    "consumer_secret = ''\n",
    "access_token = ''\n",
    "access_token_secret = ''"
   ]
  },
  {
   "cell_type": "code",
   "execution_count": 20,
   "id": "c0fb43ae",
   "metadata": {},
   "outputs": [],
   "source": [
    "\n",
    "#Creating a variable calling Authentication Handler and passing all of the keys from above as arguments.\n",
    "auth = tweepy.OAuth1UserHandler(\n",
    "  consumer_key, \n",
    "  consumer_secret, \n",
    "  access_token, \n",
    "  access_token_secret\n",
    ")\n",
    "\n",
    "#Connecting to Twitter API by passing the variable created above that contains all the keys.\n",
    "api = tweepy.API(auth)"
   ]
  },
  {
   "cell_type": "markdown",
   "id": "a30e2397",
   "metadata": {},
   "source": [
    "--------------------------------"
   ]
  },
  {
   "cell_type": "markdown",
   "id": "b1b43c25",
   "metadata": {},
   "source": [
    "### 2- Verifying Credentials\n",
    "\n",
    "Obviously, you don't want to connect to someone else's account mistakenly. So now since the connection has been made, you can verify your credentials by running the following cells."
   ]
  },
  {
   "cell_type": "code",
   "execution_count": 21,
   "id": "422f1c7d",
   "metadata": {},
   "outputs": [],
   "source": [
    "#Accessing and Storing Credentials\n",
    "me = api.verify_credentials()"
   ]
  },
  {
   "cell_type": "code",
   "execution_count": 22,
   "id": "01a81aaa",
   "metadata": {},
   "outputs": [
    {
     "data": {
      "text/plain": [
       "1225732863250911232"
      ]
     },
     "execution_count": 22,
     "metadata": {},
     "output_type": "execute_result"
    }
   ],
   "source": [
    "#Your Twitter ID\n",
    "me.id"
   ]
  },
  {
   "cell_type": "code",
   "execution_count": 23,
   "id": "3b0b3405",
   "metadata": {},
   "outputs": [
    {
     "data": {
      "text/plain": [
       "'Renad_alah'"
      ]
     },
     "execution_count": 23,
     "metadata": {},
     "output_type": "execute_result"
    }
   ],
   "source": [
    "#Your Screen Name\n",
    "me.screen_name"
   ]
  },
  {
   "cell_type": "code",
   "execution_count": 24,
   "id": "15762dff",
   "metadata": {},
   "outputs": [
    {
     "data": {
      "text/plain": [
       "100"
      ]
     },
     "execution_count": 24,
     "metadata": {},
     "output_type": "execute_result"
    }
   ],
   "source": [
    "#Your Followers' Count\n",
    "me.followers_count"
   ]
  },
  {
   "cell_type": "code",
   "execution_count": 25,
   "id": "c31dcd49",
   "metadata": {},
   "outputs": [
    {
     "data": {
      "text/plain": [
       "'Computer Science , interested in AI & Data Science'"
      ]
     },
     "execution_count": 25,
     "metadata": {},
     "output_type": "execute_result"
    }
   ],
   "source": [
    "#Your Description\n",
    "me.description"
   ]
  },
  {
   "cell_type": "code",
   "execution_count": 26,
   "id": "86554971",
   "metadata": {},
   "outputs": [
    {
     "data": {
      "text/plain": [
       "''"
      ]
     },
     "execution_count": 26,
     "metadata": {},
     "output_type": "execute_result"
    }
   ],
   "source": [
    "#Your Location\n",
    "me.location"
   ]
  },
  {
   "cell_type": "code",
   "execution_count": 27,
   "id": "070024e3",
   "metadata": {},
   "outputs": [
    {
     "data": {
      "text/plain": [
       "datetime.datetime(2020, 2, 7, 10, 47, 51, tzinfo=datetime.timezone.utc)"
      ]
     },
     "execution_count": 27,
     "metadata": {},
     "output_type": "execute_result"
    }
   ],
   "source": [
    "#The date you created your account\n",
    "me.created_at"
   ]
  },
  {
   "cell_type": "markdown",
   "id": "d8463ec0",
   "metadata": {},
   "source": [
    "--------------------------------"
   ]
  },
  {
   "cell_type": "markdown",
   "id": "abc439c7",
   "metadata": {},
   "source": [
    "### 3- Tweets Extraction\n",
    "\n",
    "Very simply we will set our parameters for searching tweets. Then we will loop through all the tweets one by one."
   ]
  },
  {
   "cell_type": "code",
   "execution_count": 12,
   "id": "64140eb5",
   "metadata": {},
   "outputs": [
    {
     "name": "stdout",
     "output_type": "stream",
     "text": [
      "#Btc/usdt short time fram: Btc/usdt short time fram Bitcoin / TetherUS BINANCE:BTCUSDT almozini hello every one i hope u all have a nice day for BTC /USDT in 4H time frame i see bullish head and shoulder and the target for it around 17710$/ 17522$ and i… https://t.co/00gzXTbLRg\n",
      "=====\n",
      "JUST IN: Demand for #Bitcoin mining ASIC has “skyrocketed” in Russia - Russian newspaper Kommersant 🇷🇺\n",
      "=====\n",
      "▓▓▓▓▓▓▓▓▓▓▓░░░░ 64.7% \n",
      "\n",
      "515 days left  ($17064 per #bitcoin)\n",
      "=====\n",
      "Listen. #Bitcoin IS a weapon. It's the most powerful weapon ever discovered. BUT \"weapon\" is a loaded word (heh), so we are biased to picture attacking rather than defending. Bitcoin is the ultimate weapon of defense. Protector of sovereignty and individual property rights.\n",
      "1/10 https://t.co/vyFRHyK0g1\n",
      "=====\n",
      "#Ethereum price update: \n",
      "\n",
      "#ETH $1262.2 USD\n",
      "#Bitcoin 0.07403761946352935 #BTC\n",
      "\n",
      "Follow for recent ETH price updates\n",
      "#altcoin, #cryptocurrency, #crypto\n",
      "=====\n",
      "#Bitcoin&amp;#39;S NEXT MOVE WILL CHANGE LIVES!!!!!\n",
      "\n",
      "https://t.co/AVIvxAZAxy\n",
      "\n",
      "#Crypto #Cryptocurrency #Currency https://t.co/C7Ux1ozWij\n",
      "=====\n",
      "You can’t spell financial freedom without #Bitcoin.\n",
      "\n",
      "Don’t miss an opportunity to hear from finance experts and human rights activists like @raypaxful,@jack, @gladstein, @bernard_parah, @waleosideinde…\n",
      "\n",
      "Bitcoin is the future of Africa’s economy.\n",
      "\n",
      "Be part of this revolution. https://t.co/MrXs2DoOxQ\n",
      "=====\n",
      "Expecting this #ETH over-leveraged pocket to get taken out in the coming hours / days.\n",
      "#Bitcoin  #Ethereum #Crypto #CryptoTrading #DeFi #MetaVerse #TradingView #Bookmap #Binance  #KuCoin  #CryptoCom #CoinBase https://t.co/VnYBKv1E5g\n",
      "=====\n",
      "How would 1 whole #Bitcoin change your life ? \n",
      "\n",
      "Answer, retweet, follow and send your LN QR to receive a surprise on Christmas 🎄😘\n",
      "=====\n",
      "This #AI #Chatbot Is Blowing People’s Minds. Here’s What It’s Been Writing.\n",
      "\n",
      "Only the beginning!\n",
      "\n",
      "#fintech #crypto #bitcoin #blockchain #business #btc #finserv\n",
      "\n",
      "@psb_dc @BetaMoroney\n",
      "@efipm @BrettKing\n",
      "@spirosmargaris\n",
      "@mikeflache\n",
      "@enricomolinari\n",
      "@jimmarous https://t.co/xJOR6nCwWB\n",
      "=====\n",
      "#Bitcoin is freedom ✊ https://t.co/3Yr1lAUVxe\n",
      "=====\n",
      "JUST IN: 🇺🇸 36% of Americans plan to buy cryptocurrencies in the next six months - CryptoLiteracy survey\n",
      "\n",
      "👉 #Bitcoin\n",
      "=====\n",
      "@WhaleChart If they had Billions in bitcoin and didnt give anyone access to their assets after death. Price can only go up from here.\n",
      "=====\n",
      "@instablog9ja mentoring hw to trade #Bitcoin    and other cryptocurrency. Dm🫶\n",
      "=====\n",
      "Doing my analysis on the future. Bitcoin, it is your turn bro 🎭 #crypto #bitcoin #dca #analysis #chart https://t.co/4XI7rEDtte\n",
      "=====\n"
     ]
    }
   ],
   "source": [
    "#Setting some advanced search operators here.\n",
    "tweets = api.search_tweets(\"Bitcoin lang:en -is:retweet\", tweet_mode=\"extended\")\n",
    "\n",
    "#Our loop to view all tweets one by one.\n",
    "for tweet in tweets:\n",
    "    try:\n",
    "        print(tweet.retweeted_status.full_text)\n",
    "        print(\"=====\")\n",
    "    except AttributeError:\n",
    "        print(tweet.full_text)\n",
    "        print(\"=====\")"
   ]
  },
  {
   "cell_type": "code",
   "execution_count": null,
   "id": "634ceb96",
   "metadata": {},
   "outputs": [],
   "source": [
    "#Here we will create an empty list so that we can add and store tweets into it.\n",
    "extracted_tweets = []\n",
    "\n",
    "#Note that previously we separated this section in two parts. \n",
    "#One was to initialize the search terms and operators, etc. before (two) looping through.\n",
    "#But here we are doing that within the loop itself.\n",
    "\n",
    "for status in tweepy.Cursor(api.search_tweets, \n",
    "                            \"Bitcoin\", \n",
    "                            lang=\"en\").items(300): #using items here\n",
    "    extracted_tweets.append(status)"
   ]
  },
  {
   "cell_type": "code",
   "execution_count": 29,
   "id": "a2429020",
   "metadata": {},
   "outputs": [
    {
     "data": {
      "text/plain": [
       "300"
      ]
     },
     "execution_count": 29,
     "metadata": {},
     "output_type": "execute_result"
    }
   ],
   "source": [
    "len(extracted_tweets)"
   ]
  },
  {
   "cell_type": "markdown",
   "id": "d898c16e",
   "metadata": {},
   "source": [
    "------------------------------------------------------------------------------"
   ]
  },
  {
   "cell_type": "markdown",
   "id": "ff2dd308",
   "metadata": {},
   "source": [
    "### 3- Creating a (pandas) DataFrame\n",
    "\n",
    "We now have initial information to construct a pandas DataFrame, in order to manipulate the info in a very easy way."
   ]
  },
  {
   "cell_type": "code",
   "execution_count": 31,
   "id": "55ae3765",
   "metadata": {},
   "outputs": [
    {
     "data": {
      "text/html": [
       "<div>\n",
       "<style scoped>\n",
       "    .dataframe tbody tr th:only-of-type {\n",
       "        vertical-align: middle;\n",
       "    }\n",
       "\n",
       "    .dataframe tbody tr th {\n",
       "        vertical-align: top;\n",
       "    }\n",
       "\n",
       "    .dataframe thead th {\n",
       "        text-align: right;\n",
       "    }\n",
       "</style>\n",
       "<table border=\"1\" class=\"dataframe\">\n",
       "  <thead>\n",
       "    <tr style=\"text-align: right;\">\n",
       "      <th></th>\n",
       "      <th>Tweets</th>\n",
       "    </tr>\n",
       "  </thead>\n",
       "  <tbody>\n",
       "    <tr>\n",
       "      <th>0</th>\n",
       "      <td>RT @CryptoMichNL: The thing is that people lit...</td>\n",
       "    </tr>\n",
       "    <tr>\n",
       "      <th>1</th>\n",
       "      <td>RT @saylor: #Bitcoin is a Shining City in Cybe...</td>\n",
       "    </tr>\n",
       "    <tr>\n",
       "      <th>2</th>\n",
       "      <td>RT @rovercrc: GET READY FOR THE NEXT #BITCOIN ...</td>\n",
       "    </tr>\n",
       "    <tr>\n",
       "      <th>3</th>\n",
       "      <td>RT @Bitflex: There are now ~1,000,000 addresse...</td>\n",
       "    </tr>\n",
       "    <tr>\n",
       "      <th>4</th>\n",
       "      <td>RT @Bitgert_Us: First 5000 Retweets will get 9...</td>\n",
       "    </tr>\n",
       "    <tr>\n",
       "      <th>5</th>\n",
       "      <td>RT @CORE_fan1: On top of this, Core is also EV...</td>\n",
       "    </tr>\n",
       "    <tr>\n",
       "      <th>6</th>\n",
       "      <td>Bankless DAO (BANK) went up 11.0 percent in th...</td>\n",
       "    </tr>\n",
       "    <tr>\n",
       "      <th>7</th>\n",
       "      <td>RT @AltbaseApp: What percentage of your #crypt...</td>\n",
       "    </tr>\n",
       "    <tr>\n",
       "      <th>8</th>\n",
       "      <td>RT @elsultanbitcoin: Germany is now banning en...</td>\n",
       "    </tr>\n",
       "    <tr>\n",
       "      <th>9</th>\n",
       "      <td>#Ethereum price update: \\n\\n#ETH $1260.81 USD\\...</td>\n",
       "    </tr>\n",
       "  </tbody>\n",
       "</table>\n",
       "</div>"
      ],
      "text/plain": [
       "                                              Tweets\n",
       "0  RT @CryptoMichNL: The thing is that people lit...\n",
       "1  RT @saylor: #Bitcoin is a Shining City in Cybe...\n",
       "2  RT @rovercrc: GET READY FOR THE NEXT #BITCOIN ...\n",
       "3  RT @Bitflex: There are now ~1,000,000 addresse...\n",
       "4  RT @Bitgert_Us: First 5000 Retweets will get 9...\n",
       "5  RT @CORE_fan1: On top of this, Core is also EV...\n",
       "6  Bankless DAO (BANK) went up 11.0 percent in th...\n",
       "7  RT @AltbaseApp: What percentage of your #crypt...\n",
       "8  RT @elsultanbitcoin: Germany is now banning en...\n",
       "9  #Ethereum price update: \\n\\n#ETH $1260.81 USD\\..."
      ]
     },
     "metadata": {},
     "output_type": "display_data"
    }
   ],
   "source": [
    "# We create a pandas dataframe as follows:\n",
    "data = pd.DataFrame(data=[tweet.text for tweet in extracted_tweets], columns=['Tweets'])\n",
    "\n",
    "# We display the first 10 elements of the dataframe:\n",
    "display(data.head(10))"
   ]
  },
  {
   "cell_type": "markdown",
   "id": "a6dfb899",
   "metadata": {},
   "source": [
    "- So we now have a nice table with ordered data."
   ]
  },
  {
   "cell_type": "code",
   "execution_count": 32,
   "id": "1deeb572",
   "metadata": {},
   "outputs": [
    {
     "name": "stdout",
     "output_type": "stream",
     "text": [
      "['__class__', '__delattr__', '__dict__', '__dir__', '__doc__', '__eq__', '__format__', '__ge__', '__getattribute__', '__getstate__', '__gt__', '__hash__', '__init__', '__init_subclass__', '__le__', '__lt__', '__module__', '__ne__', '__new__', '__reduce__', '__reduce_ex__', '__repr__', '__setattr__', '__sizeof__', '__slots__', '__str__', '__subclasshook__', '__weakref__', '_api', '_json', 'author', 'contributors', 'coordinates', 'created_at', 'destroy', 'entities', 'favorite', 'favorite_count', 'favorited', 'geo', 'id', 'id_str', 'in_reply_to_screen_name', 'in_reply_to_status_id', 'in_reply_to_status_id_str', 'in_reply_to_user_id', 'in_reply_to_user_id_str', 'is_quote_status', 'lang', 'metadata', 'parse', 'parse_list', 'place', 'retweet', 'retweet_count', 'retweeted', 'retweeted_status', 'retweets', 'source', 'source_url', 'text', 'truncated', 'user']\n"
     ]
    }
   ],
   "source": [
    "# Internal methods of a single tweet object:\n",
    "print(dir(extracted_tweets[0]))"
   ]
  },
  {
   "cell_type": "code",
   "execution_count": 33,
   "id": "13875d35",
   "metadata": {},
   "outputs": [
    {
     "name": "stdout",
     "output_type": "stream",
     "text": [
      "1599443975794200576\n",
      "2022-12-04 16:42:14+00:00\n",
      "Twitter for Android\n",
      "0\n",
      "84\n",
      "None\n",
      "None\n",
      "{'hashtags': [{'text': 'Bitcoin', 'indices': [71, 79]}], 'symbols': [], 'user_mentions': [{'screen_name': 'CryptoMichNL', 'name': 'Michaël van de Poppe', 'id': 146008010, 'id_str': '146008010', 'indices': [3, 16]}], 'urls': []}\n"
     ]
    }
   ],
   "source": [
    "# We print info from the first tweet:\n",
    "print(extracted_tweets[0].id)\n",
    "print(extracted_tweets[0].created_at)\n",
    "print(extracted_tweets[0].source)\n",
    "print(extracted_tweets[0].favorite_count)\n",
    "print(extracted_tweets[0].retweet_count)\n",
    "print(extracted_tweets[0].geo)\n",
    "print(extracted_tweets[0].coordinates)\n",
    "print(extracted_tweets[0].entities)"
   ]
  },
  {
   "cell_type": "markdown",
   "id": "92210fa4",
   "metadata": {},
   "source": [
    "#### Data Pre-Processing"
   ]
  },
  {
   "cell_type": "code",
   "execution_count": 34,
   "id": "74244326",
   "metadata": {},
   "outputs": [],
   "source": [
    "# We add relevant data:\n",
    "data['len']  = np.array([len(tweet.text) for tweet in extracted_tweets])\n",
    "data['ID']   = np.array([tweet.id for tweet in extracted_tweets])\n",
    "data['Date'] = np.array([tweet.created_at for tweet in extracted_tweets])\n",
    "data['Source'] = np.array([tweet.source for tweet in extracted_tweets])\n",
    "data['Likes']  = np.array([tweet.favorite_count for tweet in extracted_tweets])\n",
    "data['RTs']    = np.array([tweet.retweet_count for tweet in extracted_tweets])"
   ]
  },
  {
   "cell_type": "code",
   "execution_count": 36,
   "id": "e6fcda5e",
   "metadata": {},
   "outputs": [
    {
     "data": {
      "text/html": [
       "<div>\n",
       "<style scoped>\n",
       "    .dataframe tbody tr th:only-of-type {\n",
       "        vertical-align: middle;\n",
       "    }\n",
       "\n",
       "    .dataframe tbody tr th {\n",
       "        vertical-align: top;\n",
       "    }\n",
       "\n",
       "    .dataframe thead th {\n",
       "        text-align: right;\n",
       "    }\n",
       "</style>\n",
       "<table border=\"1\" class=\"dataframe\">\n",
       "  <thead>\n",
       "    <tr style=\"text-align: right;\">\n",
       "      <th></th>\n",
       "      <th>Tweets</th>\n",
       "      <th>len</th>\n",
       "      <th>ID</th>\n",
       "      <th>Date</th>\n",
       "      <th>Source</th>\n",
       "      <th>Likes</th>\n",
       "      <th>RTs</th>\n",
       "    </tr>\n",
       "  </thead>\n",
       "  <tbody>\n",
       "    <tr>\n",
       "      <th>0</th>\n",
       "      <td>RT @CryptoMichNL: The thing is that people lit...</td>\n",
       "      <td>140</td>\n",
       "      <td>1599443975794200576</td>\n",
       "      <td>2022-12-04 16:42:14+00:00</td>\n",
       "      <td>Twitter for Android</td>\n",
       "      <td>0</td>\n",
       "      <td>84</td>\n",
       "    </tr>\n",
       "    <tr>\n",
       "      <th>1</th>\n",
       "      <td>RT @saylor: #Bitcoin is a Shining City in Cybe...</td>\n",
       "      <td>77</td>\n",
       "      <td>1599443974330077184</td>\n",
       "      <td>2022-12-04 16:42:14+00:00</td>\n",
       "      <td>Twitter Web App</td>\n",
       "      <td>0</td>\n",
       "      <td>746</td>\n",
       "    </tr>\n",
       "    <tr>\n",
       "      <th>2</th>\n",
       "      <td>RT @rovercrc: GET READY FOR THE NEXT #BITCOIN ...</td>\n",
       "      <td>79</td>\n",
       "      <td>1599443973906796545</td>\n",
       "      <td>2022-12-04 16:42:14+00:00</td>\n",
       "      <td>Twitter for Android</td>\n",
       "      <td>0</td>\n",
       "      <td>17</td>\n",
       "    </tr>\n",
       "    <tr>\n",
       "      <th>3</th>\n",
       "      <td>RT @Bitflex: There are now ~1,000,000 addresse...</td>\n",
       "      <td>104</td>\n",
       "      <td>1599443973348605952</td>\n",
       "      <td>2022-12-04 16:42:14+00:00</td>\n",
       "      <td>Twitter Web App</td>\n",
       "      <td>0</td>\n",
       "      <td>2</td>\n",
       "    </tr>\n",
       "    <tr>\n",
       "      <th>4</th>\n",
       "      <td>RT @Bitgert_Us: First 5000 Retweets will get 9...</td>\n",
       "      <td>140</td>\n",
       "      <td>1599443967174934528</td>\n",
       "      <td>2022-12-04 16:42:12+00:00</td>\n",
       "      <td>Twitter for iPad</td>\n",
       "      <td>0</td>\n",
       "      <td>192</td>\n",
       "    </tr>\n",
       "    <tr>\n",
       "      <th>5</th>\n",
       "      <td>RT @CORE_fan1: On top of this, Core is also EV...</td>\n",
       "      <td>99</td>\n",
       "      <td>1599443965711122432</td>\n",
       "      <td>2022-12-04 16:42:12+00:00</td>\n",
       "      <td>Twitter for Android</td>\n",
       "      <td>0</td>\n",
       "      <td>19</td>\n",
       "    </tr>\n",
       "    <tr>\n",
       "      <th>6</th>\n",
       "      <td>Bankless DAO (BANK) went up 11.0 percent in th...</td>\n",
       "      <td>139</td>\n",
       "      <td>1599443965576478722</td>\n",
       "      <td>2022-12-04 16:42:12+00:00</td>\n",
       "      <td>Twitter Web App</td>\n",
       "      <td>0</td>\n",
       "      <td>0</td>\n",
       "    </tr>\n",
       "    <tr>\n",
       "      <th>7</th>\n",
       "      <td>RT @AltbaseApp: What percentage of your #crypt...</td>\n",
       "      <td>71</td>\n",
       "      <td>1599443965295865856</td>\n",
       "      <td>2022-12-04 16:42:12+00:00</td>\n",
       "      <td>Twitter for Android</td>\n",
       "      <td>0</td>\n",
       "      <td>21</td>\n",
       "    </tr>\n",
       "    <tr>\n",
       "      <th>8</th>\n",
       "      <td>RT @elsultanbitcoin: Germany is now banning en...</td>\n",
       "      <td>139</td>\n",
       "      <td>1599443964121460737</td>\n",
       "      <td>2022-12-04 16:42:11+00:00</td>\n",
       "      <td>Twitter for iPhone</td>\n",
       "      <td>0</td>\n",
       "      <td>12</td>\n",
       "    </tr>\n",
       "    <tr>\n",
       "      <th>9</th>\n",
       "      <td>#Ethereum price update: \\n\\n#ETH $1260.81 USD\\...</td>\n",
       "      <td>140</td>\n",
       "      <td>1599443963869483009</td>\n",
       "      <td>2022-12-04 16:42:11+00:00</td>\n",
       "      <td>Twitter Web App</td>\n",
       "      <td>0</td>\n",
       "      <td>0</td>\n",
       "    </tr>\n",
       "  </tbody>\n",
       "</table>\n",
       "</div>"
      ],
      "text/plain": [
       "                                              Tweets  len  \\\n",
       "0  RT @CryptoMichNL: The thing is that people lit...  140   \n",
       "1  RT @saylor: #Bitcoin is a Shining City in Cybe...   77   \n",
       "2  RT @rovercrc: GET READY FOR THE NEXT #BITCOIN ...   79   \n",
       "3  RT @Bitflex: There are now ~1,000,000 addresse...  104   \n",
       "4  RT @Bitgert_Us: First 5000 Retweets will get 9...  140   \n",
       "5  RT @CORE_fan1: On top of this, Core is also EV...   99   \n",
       "6  Bankless DAO (BANK) went up 11.0 percent in th...  139   \n",
       "7  RT @AltbaseApp: What percentage of your #crypt...   71   \n",
       "8  RT @elsultanbitcoin: Germany is now banning en...  139   \n",
       "9  #Ethereum price update: \\n\\n#ETH $1260.81 USD\\...  140   \n",
       "\n",
       "                    ID                      Date               Source  Likes  \\\n",
       "0  1599443975794200576 2022-12-04 16:42:14+00:00  Twitter for Android      0   \n",
       "1  1599443974330077184 2022-12-04 16:42:14+00:00      Twitter Web App      0   \n",
       "2  1599443973906796545 2022-12-04 16:42:14+00:00  Twitter for Android      0   \n",
       "3  1599443973348605952 2022-12-04 16:42:14+00:00      Twitter Web App      0   \n",
       "4  1599443967174934528 2022-12-04 16:42:12+00:00     Twitter for iPad      0   \n",
       "5  1599443965711122432 2022-12-04 16:42:12+00:00  Twitter for Android      0   \n",
       "6  1599443965576478722 2022-12-04 16:42:12+00:00      Twitter Web App      0   \n",
       "7  1599443965295865856 2022-12-04 16:42:12+00:00  Twitter for Android      0   \n",
       "8  1599443964121460737 2022-12-04 16:42:11+00:00   Twitter for iPhone      0   \n",
       "9  1599443963869483009 2022-12-04 16:42:11+00:00      Twitter Web App      0   \n",
       "\n",
       "   RTs  \n",
       "0   84  \n",
       "1  746  \n",
       "2   17  \n",
       "3    2  \n",
       "4  192  \n",
       "5   19  \n",
       "6    0  \n",
       "7   21  \n",
       "8   12  \n",
       "9    0  "
      ]
     },
     "metadata": {},
     "output_type": "display_data"
    }
   ],
   "source": [
    "# Display of first 10 elements from dataframe:\n",
    "display(data.head(10))"
   ]
  },
  {
   "cell_type": "markdown",
   "id": "cd11945a",
   "metadata": {},
   "source": [
    "### 4- Visualization and basic statistics"
   ]
  },
  {
   "cell_type": "markdown",
   "id": "b32ef723",
   "metadata": {},
   "source": [
    "#### Averages and popularity\n",
    "- We first want to calculate some basic statistical data, such as the mean of the length of characters of all tweets, the tweet with more likes and retweets, etc.\n",
    "\n",
    "- To obtain the mean, using numpy:"
   ]
  },
  {
   "cell_type": "code",
   "execution_count": 38,
   "id": "30f6987f",
   "metadata": {},
   "outputs": [
    {
     "name": "stdout",
     "output_type": "stream",
     "text": [
      "The lenght's average in tweets: 119.24333333333334\n"
     ]
    }
   ],
   "source": [
    "# We extract the mean of lenghts:\n",
    "mean = np.mean(data['len'])\n",
    "\n",
    "print(\"The lenght's average in tweets: {}\".format(mean))"
   ]
  },
  {
   "cell_type": "markdown",
   "id": "a2790a77",
   "metadata": {},
   "source": [
    "- To extract more data, we will use some pandas' functionalities:"
   ]
  },
  {
   "cell_type": "code",
   "execution_count": 39,
   "id": "16123e88",
   "metadata": {},
   "outputs": [
    {
     "name": "stdout",
     "output_type": "stream",
     "text": [
      "The tweet with more likes is: \n",
      "US Federal Court Judge 🇺🇸👨‍⚖️\n",
      "\n",
      "\"@Dr_CSWright\n",
      "You created #Bitcoin? YES!\n",
      "\n",
      "The Bitcoin Whitepaper\n",
      "Did you write this?… https://t.co/YJ2M2Fjk8y\n",
      "Number of likes: 5\n",
      "140 characters.\n",
      "\n",
      "The tweet with more retweets is: \n",
      "RT @saylor: #Bitcoin is Hope. https://t.co/Vo7MuIwKwm\n",
      "Number of retweets: 2581\n",
      "53 characters.\n",
      "\n"
     ]
    }
   ],
   "source": [
    "# We extract the tweet with more FAVs and more RTs:\n",
    "\n",
    "fav_max = np.max(data['Likes'])\n",
    "rt_max  = np.max(data['RTs'])\n",
    "\n",
    "fav = data[data.Likes == fav_max].index[0]\n",
    "rt  = data[data.RTs == rt_max].index[0]\n",
    "\n",
    "# Max FAVs:\n",
    "print(\"The tweet with more likes is: \\n{}\".format(data['Tweets'][fav]))\n",
    "print(\"Number of likes: {}\".format(fav_max))\n",
    "print(\"{} characters.\\n\".format(data['len'][fav]))\n",
    "\n",
    "# Max RTs:\n",
    "print(\"The tweet with more retweets is: \\n{}\".format(data['Tweets'][rt]))\n",
    "print(\"Number of retweets: {}\".format(rt_max))\n",
    "print(\"{} characters.\\n\".format(data['len'][rt]))"
   ]
  },
  {
   "cell_type": "markdown",
   "id": "b4eaeb78",
   "metadata": {},
   "source": [
    "#### Time series\n",
    "- Pandas has its own object for time series. Since we have a whole vector with creation dates, we can construct time series respect tweets lengths, likes and retweets.\n",
    "\n",
    "- The way we do it is:"
   ]
  },
  {
   "cell_type": "code",
   "execution_count": 40,
   "id": "1e1fe9d0",
   "metadata": {},
   "outputs": [],
   "source": [
    "# We create time series for data:\n",
    "\n",
    "tlen = pd.Series(data=data['len'].values, index=data['Date'])\n",
    "tfav = pd.Series(data=data['Likes'].values, index=data['Date'])\n",
    "tret = pd.Series(data=data['RTs'].values, index=data['Date'])"
   ]
  },
  {
   "cell_type": "code",
   "execution_count": 41,
   "id": "fb878ec7",
   "metadata": {},
   "outputs": [
    {
     "data": {
      "image/png": "[encoded data removed]",
      "text/plain": [
       "<Figure size 1152x288 with 1 Axes>"
      ]
     },
     "metadata": {
      "needs_background": "light"
     },
     "output_type": "display_data"
    }
   ],
   "source": [
    "# Lenghts along time:\n",
    "tlen.plot(figsize=(16,4), color='r');"
   ]
  },
  {
   "cell_type": "markdown",
   "id": "3ea3ad82",
   "metadata": {},
   "source": [
    "And to plot the likes versus the retweets in the same chart:"
   ]
  },
  {
   "cell_type": "code",
   "execution_count": 42,
   "id": "1422c4bb",
   "metadata": {},
   "outputs": [
    {
     "data": {
      "image/png": "[encoded data removed]",
      "text/plain": [
       "<Figure size 1152x288 with 1 Axes>"
      ]
     },
     "metadata": {
      "needs_background": "light"
     },
     "output_type": "display_data"
    }
   ],
   "source": [
    "# Likes vs retweets visualization:\n",
    "tfav.plot(figsize=(16,4), label=\"Likes\", legend=True)\n",
    "tret.plot(figsize=(16,4), label=\"Retweets\", legend=True);"
   ]
  },
  {
   "cell_type": "markdown",
   "id": "ff614512",
   "metadata": {},
   "source": [
    "- As we can see the number of retweets is much more than the likes "
   ]
  },
  {
   "cell_type": "markdown",
   "id": "12cb6819",
   "metadata": {},
   "source": [
    "Now we will plot the sources in a pie chart, since we realized that not every tweet is tweeted from the same source. We first clean all the sources to only top 3 since they're a lot:"
   ]
  },
  {
   "cell_type": "code",
   "execution_count": 61,
   "id": "34f53bc5",
   "metadata": {},
   "outputs": [
    {
     "data": {
      "text/plain": [
       "Twitter for Android              121\n",
       "Twitter Web App                   84\n",
       "Twitter for iPhone                55\n",
       "Twitter for iPad                   7\n",
       "vaiotapi                           4\n",
       "IFTTT                              3\n",
       "Microsoft Power Platform           2\n",
       "inskatestapp                       2\n",
       "CryptoNewswire                     2\n",
       "dlvr.it                            2\n",
       "Twitter Media Studio               1\n",
       "pumpcoin.info/                     1\n",
       "BitcoinLivePriceTicker             1\n",
       "Drip Star                          1\n",
       "Bitcoin Block Watcher              1\n",
       "Crypto Frog                        1\n",
       "BlockchainDU v.1                   1\n",
       "Gambiste                           1\n",
       "EconSnapshot                       1\n",
       "WordPress.com                      1\n",
       "100daysofblockchain                1\n",
       "NFTBOTSELL                         1\n",
       "Twitter for Mac                    1\n",
       "TweetDeck                          1\n",
       "bitcoin_bot369                     1\n",
       "Crypto live price                  1\n",
       "cryptfloats webapp                 1\n",
       "Plattsburgh BTC status update      1\n",
       "Name: Source, dtype: int64"
      ]
     },
     "execution_count": 61,
     "metadata": {},
     "output_type": "execute_result"
    }
   ],
   "source": [
    "data['Source'].value_counts()"
   ]
  },
  {
   "cell_type": "code",
   "execution_count": 62,
   "id": "e28bb131",
   "metadata": {},
   "outputs": [
    {
     "name": "stdout",
     "output_type": "stream",
     "text": [
      "Creation of content sources:\n",
      "* Twitter for Android\n",
      "* Twitter Web App\n",
      "* Twitter for iPad\n",
      "* Twitter for iPhone\n"
     ]
    }
   ],
   "source": [
    "# We obtain all possible sources:\n",
    "sources = []\n",
    "for source in data['Source']:\n",
    "    if source not in sources:\n",
    "        sources.append(source)\n",
    "\n",
    "# taking only the first 5        \n",
    "sources = sources[0:4]\n",
    "# We print sources list:\n",
    "print(\"Creation of content sources:\")\n",
    "for source in sources:\n",
    "    print(\"* {}\".format(source))"
   ]
  },
  {
   "cell_type": "markdown",
   "id": "e0e51015",
   "metadata": {},
   "source": [
    "We now count the number of each source and create a pie chart"
   ]
  },
  {
   "cell_type": "code",
   "execution_count": 63,
   "id": "68ab5d65",
   "metadata": {},
   "outputs": [
    {
     "data": {
      "image/png": "[encoded data removed]",
      "text/plain": [
       "<Figure size 432x432 with 1 Axes>"
      ]
     },
     "metadata": {},
     "output_type": "display_data"
    }
   ],
   "source": [
    "# We create a numpy vector mapped to labels:\n",
    "percent = np.zeros(len(sources))\n",
    "\n",
    "for source in data['Source']:\n",
    "    for index in range(len(sources)):\n",
    "        if source == sources[index]:\n",
    "            percent[index] += 1\n",
    "            pass\n",
    "\n",
    "percent /= 100\n",
    "\n",
    "# Pie chart:\n",
    "pie_chart = pd.Series(percent, index=sources, name='Sources')\n",
    "pie_chart.plot.pie(fontsize=11, autopct='%.2f', figsize=(6, 6));"
   ]
  },
  {
   "cell_type": "markdown",
   "id": "ab5aed2d",
   "metadata": {},
   "source": [
    "As we can see that most users use twitter from Andriod App or Web App. then , iphone and ipad."
   ]
  },
  {
   "cell_type": "markdown",
   "id": "9a52a8d1",
   "metadata": {},
   "source": [
    "### 5- Sentiment analysis"
   ]
  },
  {
   "cell_type": "code",
   "execution_count": 91,
   "id": "6a411f79",
   "metadata": {},
   "outputs": [],
   "source": [
    "\n",
    "def clean_tweet(tweet):\n",
    "    '''\n",
    "    Utility function to clean the text in a tweet by removing\n",
    "    links and special characters using regex.\n",
    "    '''\n",
    "    return ' '.join(re.sub(\"(@[A-Za-z0-9]+)|([^0-9A-Za-z \\t])|(\\w+:\\/\\/\\S+)|RT\", \" \", tweet).split())\n",
    "\n",
    "def analize_sentiment(tweet):\n",
    "    '''\n",
    "    Utility function to classify the polarity of a tweet\n",
    "    using textblob.\n",
    "    '''\n",
    "    analysis = TextBlob(clean_tweet(tweet))\n",
    "    if analysis.sentiment.polarity > 0:\n",
    "        return 1\n",
    "    elif analysis.sentiment.polarity == 0:\n",
    "        return 0\n",
    "    else:\n",
    "        return 2"
   ]
  },
  {
   "cell_type": "code",
   "execution_count": 92,
   "id": "f960b53f",
   "metadata": {},
   "outputs": [
    {
     "data": {
      "text/html": [
       "<div>\n",
       "<style scoped>\n",
       "    .dataframe tbody tr th:only-of-type {\n",
       "        vertical-align: middle;\n",
       "    }\n",
       "\n",
       "    .dataframe tbody tr th {\n",
       "        vertical-align: top;\n",
       "    }\n",
       "\n",
       "    .dataframe thead th {\n",
       "        text-align: right;\n",
       "    }\n",
       "</style>\n",
       "<table border=\"1\" class=\"dataframe\">\n",
       "  <thead>\n",
       "    <tr style=\"text-align: right;\">\n",
       "      <th></th>\n",
       "      <th>Tweets</th>\n",
       "      <th>len</th>\n",
       "      <th>ID</th>\n",
       "      <th>Date</th>\n",
       "      <th>Source</th>\n",
       "      <th>Likes</th>\n",
       "      <th>RTs</th>\n",
       "      <th>SA</th>\n",
       "    </tr>\n",
       "  </thead>\n",
       "  <tbody>\n",
       "    <tr>\n",
       "      <th>0</th>\n",
       "      <td>The thing is that people literally don t want ...</td>\n",
       "      <td>140</td>\n",
       "      <td>1599443975794200576</td>\n",
       "      <td>2022-12-04 16:42:14+00:00</td>\n",
       "      <td>Twitter for Android</td>\n",
       "      <td>0</td>\n",
       "      <td>84</td>\n",
       "      <td>1</td>\n",
       "    </tr>\n",
       "    <tr>\n",
       "      <th>1</th>\n",
       "      <td>Bitcoin is a Shining City in Cyberspace</td>\n",
       "      <td>77</td>\n",
       "      <td>1599443974330077184</td>\n",
       "      <td>2022-12-04 16:42:14+00:00</td>\n",
       "      <td>Twitter Web App</td>\n",
       "      <td>0</td>\n",
       "      <td>746</td>\n",
       "      <td>0</td>\n",
       "    </tr>\n",
       "    <tr>\n",
       "      <th>2</th>\n",
       "      <td>GET READY FOR THE NEXT BITCOIN MOVE</td>\n",
       "      <td>79</td>\n",
       "      <td>1599443973906796545</td>\n",
       "      <td>2022-12-04 16:42:14+00:00</td>\n",
       "      <td>Twitter for Android</td>\n",
       "      <td>0</td>\n",
       "      <td>17</td>\n",
       "      <td>1</td>\n",
       "    </tr>\n",
       "    <tr>\n",
       "      <th>3</th>\n",
       "      <td>There are now 1 000 000 addresses that hold 1 ...</td>\n",
       "      <td>104</td>\n",
       "      <td>1599443973348605952</td>\n",
       "      <td>2022-12-04 16:42:14+00:00</td>\n",
       "      <td>Twitter Web App</td>\n",
       "      <td>0</td>\n",
       "      <td>2</td>\n",
       "      <td>1</td>\n",
       "    </tr>\n",
       "    <tr>\n",
       "      <th>4</th>\n",
       "      <td>Us First 5000 Retweets will get 9 million BRIS...</td>\n",
       "      <td>140</td>\n",
       "      <td>1599443967174934528</td>\n",
       "      <td>2022-12-04 16:42:12+00:00</td>\n",
       "      <td>Twitter for iPad</td>\n",
       "      <td>0</td>\n",
       "      <td>192</td>\n",
       "      <td>1</td>\n",
       "    </tr>\n",
       "    <tr>\n",
       "      <th>5</th>\n",
       "      <td>fan1 On top of this Core is also EVM compatibl...</td>\n",
       "      <td>99</td>\n",
       "      <td>1599443965711122432</td>\n",
       "      <td>2022-12-04 16:42:12+00:00</td>\n",
       "      <td>Twitter for Android</td>\n",
       "      <td>0</td>\n",
       "      <td>19</td>\n",
       "      <td>1</td>\n",
       "    </tr>\n",
       "    <tr>\n",
       "      <th>6</th>\n",
       "      <td>Bankless DAO BANK went up 11 0 percent in the ...</td>\n",
       "      <td>139</td>\n",
       "      <td>1599443965576478722</td>\n",
       "      <td>2022-12-04 16:42:12+00:00</td>\n",
       "      <td>Twitter Web App</td>\n",
       "      <td>0</td>\n",
       "      <td>0</td>\n",
       "      <td>0</td>\n",
       "    </tr>\n",
       "    <tr>\n",
       "      <th>7</th>\n",
       "      <td>What percentage of your crypto portfolio is Bi...</td>\n",
       "      <td>71</td>\n",
       "      <td>1599443965295865856</td>\n",
       "      <td>2022-12-04 16:42:12+00:00</td>\n",
       "      <td>Twitter for Android</td>\n",
       "      <td>0</td>\n",
       "      <td>21</td>\n",
       "      <td>0</td>\n",
       "    </tr>\n",
       "    <tr>\n",
       "      <th>8</th>\n",
       "      <td>Germany is now banning energy price increases ...</td>\n",
       "      <td>139</td>\n",
       "      <td>1599443964121460737</td>\n",
       "      <td>2022-12-04 16:42:11+00:00</td>\n",
       "      <td>Twitter for iPhone</td>\n",
       "      <td>0</td>\n",
       "      <td>12</td>\n",
       "      <td>0</td>\n",
       "    </tr>\n",
       "    <tr>\n",
       "      <th>9</th>\n",
       "      <td>Ethereum price update ETH 1260 81 USD Bitcoin ...</td>\n",
       "      <td>140</td>\n",
       "      <td>1599443963869483009</td>\n",
       "      <td>2022-12-04 16:42:11+00:00</td>\n",
       "      <td>Twitter Web App</td>\n",
       "      <td>0</td>\n",
       "      <td>0</td>\n",
       "      <td>0</td>\n",
       "    </tr>\n",
       "  </tbody>\n",
       "</table>\n",
       "</div>"
      ],
      "text/plain": [
       "                                              Tweets  len  \\\n",
       "0  The thing is that people literally don t want ...  140   \n",
       "1            Bitcoin is a Shining City in Cyberspace   77   \n",
       "2                GET READY FOR THE NEXT BITCOIN MOVE   79   \n",
       "3  There are now 1 000 000 addresses that hold 1 ...  104   \n",
       "4  Us First 5000 Retweets will get 9 million BRIS...  140   \n",
       "5  fan1 On top of this Core is also EVM compatibl...   99   \n",
       "6  Bankless DAO BANK went up 11 0 percent in the ...  139   \n",
       "7  What percentage of your crypto portfolio is Bi...   71   \n",
       "8  Germany is now banning energy price increases ...  139   \n",
       "9  Ethereum price update ETH 1260 81 USD Bitcoin ...  140   \n",
       "\n",
       "                    ID                      Date               Source  Likes  \\\n",
       "0  1599443975794200576 2022-12-04 16:42:14+00:00  Twitter for Android      0   \n",
       "1  1599443974330077184 2022-12-04 16:42:14+00:00      Twitter Web App      0   \n",
       "2  1599443973906796545 2022-12-04 16:42:14+00:00  Twitter for Android      0   \n",
       "3  1599443973348605952 2022-12-04 16:42:14+00:00      Twitter Web App      0   \n",
       "4  1599443967174934528 2022-12-04 16:42:12+00:00     Twitter for iPad      0   \n",
       "5  1599443965711122432 2022-12-04 16:42:12+00:00  Twitter for Android      0   \n",
       "6  1599443965576478722 2022-12-04 16:42:12+00:00      Twitter Web App      0   \n",
       "7  1599443965295865856 2022-12-04 16:42:12+00:00  Twitter for Android      0   \n",
       "8  1599443964121460737 2022-12-04 16:42:11+00:00   Twitter for iPhone      0   \n",
       "9  1599443963869483009 2022-12-04 16:42:11+00:00      Twitter Web App      0   \n",
       "\n",
       "   RTs  SA  \n",
       "0   84   1  \n",
       "1  746   0  \n",
       "2   17   1  \n",
       "3    2   1  \n",
       "4  192   1  \n",
       "5   19   1  \n",
       "6    0   0  \n",
       "7   21   0  \n",
       "8   12   0  \n",
       "9    0   0  "
      ]
     },
     "metadata": {},
     "output_type": "display_data"
    }
   ],
   "source": [
    "# We create a column with the result of the analysis:\n",
    "data['SA'] = np.array([ analize_sentiment(tweet) for tweet in data['Tweets'] ])\n",
    "\n",
    "# We display the updated dataframe with the new column:\n",
    "display(data.head(10))"
   ]
  },
  {
   "cell_type": "code",
   "execution_count": 93,
   "id": "d4d697e1",
   "metadata": {},
   "outputs": [
    {
     "data": {
      "text/html": [
       "<div>\n",
       "<style scoped>\n",
       "    .dataframe tbody tr th:only-of-type {\n",
       "        vertical-align: middle;\n",
       "    }\n",
       "\n",
       "    .dataframe tbody tr th {\n",
       "        vertical-align: top;\n",
       "    }\n",
       "\n",
       "    .dataframe thead th {\n",
       "        text-align: right;\n",
       "    }\n",
       "</style>\n",
       "<table border=\"1\" class=\"dataframe\">\n",
       "  <thead>\n",
       "    <tr style=\"text-align: right;\">\n",
       "      <th></th>\n",
       "      <th>Tweets</th>\n",
       "      <th>len</th>\n",
       "      <th>ID</th>\n",
       "      <th>Date</th>\n",
       "      <th>Source</th>\n",
       "      <th>Likes</th>\n",
       "      <th>RTs</th>\n",
       "      <th>SA</th>\n",
       "    </tr>\n",
       "  </thead>\n",
       "  <tbody>\n",
       "    <tr>\n",
       "      <th>0</th>\n",
       "      <td>The thing is that people literally don t want ...</td>\n",
       "      <td>140</td>\n",
       "      <td>1599443975794200576</td>\n",
       "      <td>2022-12-04 16:42:14+00:00</td>\n",
       "      <td>Twitter for Android</td>\n",
       "      <td>0</td>\n",
       "      <td>84</td>\n",
       "      <td>1</td>\n",
       "    </tr>\n",
       "    <tr>\n",
       "      <th>1</th>\n",
       "      <td>Bitcoin is a Shining City in Cyberspace</td>\n",
       "      <td>77</td>\n",
       "      <td>1599443974330077184</td>\n",
       "      <td>2022-12-04 16:42:14+00:00</td>\n",
       "      <td>Twitter Web App</td>\n",
       "      <td>0</td>\n",
       "      <td>746</td>\n",
       "      <td>0</td>\n",
       "    </tr>\n",
       "    <tr>\n",
       "      <th>2</th>\n",
       "      <td>GET READY FOR THE NEXT BITCOIN MOVE</td>\n",
       "      <td>79</td>\n",
       "      <td>1599443973906796545</td>\n",
       "      <td>2022-12-04 16:42:14+00:00</td>\n",
       "      <td>Twitter for Android</td>\n",
       "      <td>0</td>\n",
       "      <td>17</td>\n",
       "      <td>1</td>\n",
       "    </tr>\n",
       "    <tr>\n",
       "      <th>3</th>\n",
       "      <td>There are now 1 000 000 addresses that hold 1 ...</td>\n",
       "      <td>104</td>\n",
       "      <td>1599443973348605952</td>\n",
       "      <td>2022-12-04 16:42:14+00:00</td>\n",
       "      <td>Twitter Web App</td>\n",
       "      <td>0</td>\n",
       "      <td>2</td>\n",
       "      <td>1</td>\n",
       "    </tr>\n",
       "    <tr>\n",
       "      <th>4</th>\n",
       "      <td>Us First 5000 Retweets will get 9 million BRIS...</td>\n",
       "      <td>140</td>\n",
       "      <td>1599443967174934528</td>\n",
       "      <td>2022-12-04 16:42:12+00:00</td>\n",
       "      <td>Twitter for iPad</td>\n",
       "      <td>0</td>\n",
       "      <td>192</td>\n",
       "      <td>1</td>\n",
       "    </tr>\n",
       "    <tr>\n",
       "      <th>5</th>\n",
       "      <td>fan1 On top of this Core is also EVM compatibl...</td>\n",
       "      <td>99</td>\n",
       "      <td>1599443965711122432</td>\n",
       "      <td>2022-12-04 16:42:12+00:00</td>\n",
       "      <td>Twitter for Android</td>\n",
       "      <td>0</td>\n",
       "      <td>19</td>\n",
       "      <td>1</td>\n",
       "    </tr>\n",
       "    <tr>\n",
       "      <th>6</th>\n",
       "      <td>Bankless DAO BANK went up 11 0 percent in the ...</td>\n",
       "      <td>139</td>\n",
       "      <td>1599443965576478722</td>\n",
       "      <td>2022-12-04 16:42:12+00:00</td>\n",
       "      <td>Twitter Web App</td>\n",
       "      <td>0</td>\n",
       "      <td>0</td>\n",
       "      <td>0</td>\n",
       "    </tr>\n",
       "    <tr>\n",
       "      <th>7</th>\n",
       "      <td>What percentage of your crypto portfolio is Bi...</td>\n",
       "      <td>71</td>\n",
       "      <td>1599443965295865856</td>\n",
       "      <td>2022-12-04 16:42:12+00:00</td>\n",
       "      <td>Twitter for Android</td>\n",
       "      <td>0</td>\n",
       "      <td>21</td>\n",
       "      <td>0</td>\n",
       "    </tr>\n",
       "    <tr>\n",
       "      <th>8</th>\n",
       "      <td>Germany is now banning energy price increases ...</td>\n",
       "      <td>139</td>\n",
       "      <td>1599443964121460737</td>\n",
       "      <td>2022-12-04 16:42:11+00:00</td>\n",
       "      <td>Twitter for iPhone</td>\n",
       "      <td>0</td>\n",
       "      <td>12</td>\n",
       "      <td>0</td>\n",
       "    </tr>\n",
       "    <tr>\n",
       "      <th>9</th>\n",
       "      <td>Ethereum price update ETH 1260 81 USD Bitcoin ...</td>\n",
       "      <td>140</td>\n",
       "      <td>1599443963869483009</td>\n",
       "      <td>2022-12-04 16:42:11+00:00</td>\n",
       "      <td>Twitter Web App</td>\n",
       "      <td>0</td>\n",
       "      <td>0</td>\n",
       "      <td>0</td>\n",
       "    </tr>\n",
       "  </tbody>\n",
       "</table>\n",
       "</div>"
      ],
      "text/plain": [
       "                                              Tweets  len  \\\n",
       "0  The thing is that people literally don t want ...  140   \n",
       "1            Bitcoin is a Shining City in Cyberspace   77   \n",
       "2                GET READY FOR THE NEXT BITCOIN MOVE   79   \n",
       "3  There are now 1 000 000 addresses that hold 1 ...  104   \n",
       "4  Us First 5000 Retweets will get 9 million BRIS...  140   \n",
       "5  fan1 On top of this Core is also EVM compatibl...   99   \n",
       "6  Bankless DAO BANK went up 11 0 percent in the ...  139   \n",
       "7  What percentage of your crypto portfolio is Bi...   71   \n",
       "8  Germany is now banning energy price increases ...  139   \n",
       "9  Ethereum price update ETH 1260 81 USD Bitcoin ...  140   \n",
       "\n",
       "                    ID                      Date               Source  Likes  \\\n",
       "0  1599443975794200576 2022-12-04 16:42:14+00:00  Twitter for Android      0   \n",
       "1  1599443974330077184 2022-12-04 16:42:14+00:00      Twitter Web App      0   \n",
       "2  1599443973906796545 2022-12-04 16:42:14+00:00  Twitter for Android      0   \n",
       "3  1599443973348605952 2022-12-04 16:42:14+00:00      Twitter Web App      0   \n",
       "4  1599443967174934528 2022-12-04 16:42:12+00:00     Twitter for iPad      0   \n",
       "5  1599443965711122432 2022-12-04 16:42:12+00:00  Twitter for Android      0   \n",
       "6  1599443965576478722 2022-12-04 16:42:12+00:00      Twitter Web App      0   \n",
       "7  1599443965295865856 2022-12-04 16:42:12+00:00  Twitter for Android      0   \n",
       "8  1599443964121460737 2022-12-04 16:42:11+00:00   Twitter for iPhone      0   \n",
       "9  1599443963869483009 2022-12-04 16:42:11+00:00      Twitter Web App      0   \n",
       "\n",
       "   RTs  SA  \n",
       "0   84   1  \n",
       "1  746   0  \n",
       "2   17   1  \n",
       "3    2   1  \n",
       "4  192   1  \n",
       "5   19   1  \n",
       "6    0   0  \n",
       "7   21   0  \n",
       "8   12   0  \n",
       "9    0   0  "
      ]
     },
     "metadata": {},
     "output_type": "display_data"
    }
   ],
   "source": [
    "# Cleaning the Tweets from special characters\n",
    "\n",
    "data['Tweets'] = np.array([ clean_tweet(tweet) for tweet in data['Tweets'] ])\n",
    "# We display the updated dataframe with the new column:\n",
    "display(data.head(10))"
   ]
  },
  {
   "cell_type": "code",
   "execution_count": 95,
   "id": "8dae11f9",
   "metadata": {},
   "outputs": [],
   "source": [
    "# More cleaning --> removing RT from the Tweets column\n",
    "\n",
    "Remove_RT = lambda x: re.compile('\\#').sub('', re.compile('RT').sub('', x, count=1).strip())\n",
    "data['Tweets'] = np.array([ Remove_RT(tweet) for tweet in data['Tweets'] ])"
   ]
  },
  {
   "cell_type": "code",
   "execution_count": 96,
   "id": "074fb2b7",
   "metadata": {},
   "outputs": [
    {
     "data": {
      "text/html": [
       "<div>\n",
       "<style scoped>\n",
       "    .dataframe tbody tr th:only-of-type {\n",
       "        vertical-align: middle;\n",
       "    }\n",
       "\n",
       "    .dataframe tbody tr th {\n",
       "        vertical-align: top;\n",
       "    }\n",
       "\n",
       "    .dataframe thead th {\n",
       "        text-align: right;\n",
       "    }\n",
       "</style>\n",
       "<table border=\"1\" class=\"dataframe\">\n",
       "  <thead>\n",
       "    <tr style=\"text-align: right;\">\n",
       "      <th></th>\n",
       "      <th>Tweets</th>\n",
       "      <th>len</th>\n",
       "      <th>ID</th>\n",
       "      <th>Date</th>\n",
       "      <th>Source</th>\n",
       "      <th>Likes</th>\n",
       "      <th>RTs</th>\n",
       "      <th>SA</th>\n",
       "    </tr>\n",
       "  </thead>\n",
       "  <tbody>\n",
       "    <tr>\n",
       "      <th>0</th>\n",
       "      <td>The thing is that people literally don t want ...</td>\n",
       "      <td>140</td>\n",
       "      <td>1599443975794200576</td>\n",
       "      <td>2022-12-04 16:42:14+00:00</td>\n",
       "      <td>Twitter for Android</td>\n",
       "      <td>0</td>\n",
       "      <td>84</td>\n",
       "      <td>1</td>\n",
       "    </tr>\n",
       "    <tr>\n",
       "      <th>1</th>\n",
       "      <td>Bitcoin is a Shining City in Cyberspace</td>\n",
       "      <td>77</td>\n",
       "      <td>1599443974330077184</td>\n",
       "      <td>2022-12-04 16:42:14+00:00</td>\n",
       "      <td>Twitter Web App</td>\n",
       "      <td>0</td>\n",
       "      <td>746</td>\n",
       "      <td>0</td>\n",
       "    </tr>\n",
       "    <tr>\n",
       "      <th>2</th>\n",
       "      <td>GET READY FOR THE NEXT BITCOIN MOVE</td>\n",
       "      <td>79</td>\n",
       "      <td>1599443973906796545</td>\n",
       "      <td>2022-12-04 16:42:14+00:00</td>\n",
       "      <td>Twitter for Android</td>\n",
       "      <td>0</td>\n",
       "      <td>17</td>\n",
       "      <td>1</td>\n",
       "    </tr>\n",
       "    <tr>\n",
       "      <th>3</th>\n",
       "      <td>There are now 1 000 000 addresses that hold 1 ...</td>\n",
       "      <td>104</td>\n",
       "      <td>1599443973348605952</td>\n",
       "      <td>2022-12-04 16:42:14+00:00</td>\n",
       "      <td>Twitter Web App</td>\n",
       "      <td>0</td>\n",
       "      <td>2</td>\n",
       "      <td>1</td>\n",
       "    </tr>\n",
       "    <tr>\n",
       "      <th>4</th>\n",
       "      <td>Us First 5000 Retweets will get 9 million BRIS...</td>\n",
       "      <td>140</td>\n",
       "      <td>1599443967174934528</td>\n",
       "      <td>2022-12-04 16:42:12+00:00</td>\n",
       "      <td>Twitter for iPad</td>\n",
       "      <td>0</td>\n",
       "      <td>192</td>\n",
       "      <td>1</td>\n",
       "    </tr>\n",
       "    <tr>\n",
       "      <th>5</th>\n",
       "      <td>fan1 On top of this Core is also EVM compatibl...</td>\n",
       "      <td>99</td>\n",
       "      <td>1599443965711122432</td>\n",
       "      <td>2022-12-04 16:42:12+00:00</td>\n",
       "      <td>Twitter for Android</td>\n",
       "      <td>0</td>\n",
       "      <td>19</td>\n",
       "      <td>1</td>\n",
       "    </tr>\n",
       "    <tr>\n",
       "      <th>6</th>\n",
       "      <td>Bankless DAO BANK went up 11 0 percent in the ...</td>\n",
       "      <td>139</td>\n",
       "      <td>1599443965576478722</td>\n",
       "      <td>2022-12-04 16:42:12+00:00</td>\n",
       "      <td>Twitter Web App</td>\n",
       "      <td>0</td>\n",
       "      <td>0</td>\n",
       "      <td>0</td>\n",
       "    </tr>\n",
       "    <tr>\n",
       "      <th>7</th>\n",
       "      <td>What percentage of your crypto portfolio is Bi...</td>\n",
       "      <td>71</td>\n",
       "      <td>1599443965295865856</td>\n",
       "      <td>2022-12-04 16:42:12+00:00</td>\n",
       "      <td>Twitter for Android</td>\n",
       "      <td>0</td>\n",
       "      <td>21</td>\n",
       "      <td>0</td>\n",
       "    </tr>\n",
       "    <tr>\n",
       "      <th>8</th>\n",
       "      <td>Germany is now banning energy price increases ...</td>\n",
       "      <td>139</td>\n",
       "      <td>1599443964121460737</td>\n",
       "      <td>2022-12-04 16:42:11+00:00</td>\n",
       "      <td>Twitter for iPhone</td>\n",
       "      <td>0</td>\n",
       "      <td>12</td>\n",
       "      <td>0</td>\n",
       "    </tr>\n",
       "    <tr>\n",
       "      <th>9</th>\n",
       "      <td>Ethereum price update ETH 1260 81 USD Bitcoin ...</td>\n",
       "      <td>140</td>\n",
       "      <td>1599443963869483009</td>\n",
       "      <td>2022-12-04 16:42:11+00:00</td>\n",
       "      <td>Twitter Web App</td>\n",
       "      <td>0</td>\n",
       "      <td>0</td>\n",
       "      <td>0</td>\n",
       "    </tr>\n",
       "  </tbody>\n",
       "</table>\n",
       "</div>"
      ],
      "text/plain": [
       "                                              Tweets  len  \\\n",
       "0  The thing is that people literally don t want ...  140   \n",
       "1            Bitcoin is a Shining City in Cyberspace   77   \n",
       "2                GET READY FOR THE NEXT BITCOIN MOVE   79   \n",
       "3  There are now 1 000 000 addresses that hold 1 ...  104   \n",
       "4  Us First 5000 Retweets will get 9 million BRIS...  140   \n",
       "5  fan1 On top of this Core is also EVM compatibl...   99   \n",
       "6  Bankless DAO BANK went up 11 0 percent in the ...  139   \n",
       "7  What percentage of your crypto portfolio is Bi...   71   \n",
       "8  Germany is now banning energy price increases ...  139   \n",
       "9  Ethereum price update ETH 1260 81 USD Bitcoin ...  140   \n",
       "\n",
       "                    ID                      Date               Source  Likes  \\\n",
       "0  1599443975794200576 2022-12-04 16:42:14+00:00  Twitter for Android      0   \n",
       "1  1599443974330077184 2022-12-04 16:42:14+00:00      Twitter Web App      0   \n",
       "2  1599443973906796545 2022-12-04 16:42:14+00:00  Twitter for Android      0   \n",
       "3  1599443973348605952 2022-12-04 16:42:14+00:00      Twitter Web App      0   \n",
       "4  1599443967174934528 2022-12-04 16:42:12+00:00     Twitter for iPad      0   \n",
       "5  1599443965711122432 2022-12-04 16:42:12+00:00  Twitter for Android      0   \n",
       "6  1599443965576478722 2022-12-04 16:42:12+00:00      Twitter Web App      0   \n",
       "7  1599443965295865856 2022-12-04 16:42:12+00:00  Twitter for Android      0   \n",
       "8  1599443964121460737 2022-12-04 16:42:11+00:00   Twitter for iPhone      0   \n",
       "9  1599443963869483009 2022-12-04 16:42:11+00:00      Twitter Web App      0   \n",
       "\n",
       "   RTs  SA  \n",
       "0   84   1  \n",
       "1  746   0  \n",
       "2   17   1  \n",
       "3    2   1  \n",
       "4  192   1  \n",
       "5   19   1  \n",
       "6    0   0  \n",
       "7   21   0  \n",
       "8   12   0  \n",
       "9    0   0  "
      ]
     },
     "metadata": {},
     "output_type": "display_data"
    }
   ],
   "source": [
    "display(data.head(10))"
   ]
  },
  {
   "cell_type": "code",
   "execution_count": 97,
   "id": "8f22ff42",
   "metadata": {},
   "outputs": [
    {
     "data": {
      "text/plain": [
       "<AxesSubplot:xlabel='SA', ylabel='count'>"
      ]
     },
     "execution_count": 97,
     "metadata": {},
     "output_type": "execute_result"
    },
    {
     "data": {
      "image/png": "[encoded data removed]",
      "text/plain": [
       "<Figure size 432x288 with 1 Axes>"
      ]
     },
     "metadata": {
      "needs_background": "light"
     },
     "output_type": "display_data"
    }
   ],
   "source": [
    "# Lets try to count the distribution of sentiments across the tweets we gathered\n",
    "sns.countplot(x='SA', data=data)"
   ]
  },
  {
   "cell_type": "code",
   "execution_count": 100,
   "id": "7c849791",
   "metadata": {},
   "outputs": [],
   "source": [
    "# We construct lists with classified tweets:\n",
    "pos_tweets = [ tweet for index, tweet in enumerate(data['Tweets']) if data['SA'][index] < 1]\n",
    "neu_tweets = [ tweet for index, tweet in enumerate(data['Tweets']) if data['SA'][index] == 1]\n",
    "neg_tweets = [ tweet for index, tweet in enumerate(data['Tweets']) if data['SA'][index] > 1]"
   ]
  },
  {
   "cell_type": "code",
   "execution_count": 101,
   "id": "9937b319",
   "metadata": {},
   "outputs": [
    {
     "name": "stdout",
     "output_type": "stream",
     "text": [
      "Percentage of positive tweets: 59.0%\n",
      "Percentage of neutral tweets: 32.333333333333336%\n",
      "Percentage de negative tweets: 8.666666666666666%\n"
     ]
    }
   ],
   "source": [
    "# We print percentages:\n",
    "\n",
    "print(\"Percentage of positive tweets: {}%\".format(len(pos_tweets)*100/len(data['Tweets'])))\n",
    "print(\"Percentage of neutral tweets: {}%\".format(len(neu_tweets)*100/len(data['Tweets'])))\n",
    "print(\"Percentage de negative tweets: {}%\".format(len(neg_tweets)*100/len(data['Tweets'])))"
   ]
  },
  {
   "cell_type": "code",
   "execution_count": 102,
   "id": "3367ebca",
   "metadata": {},
   "outputs": [
    {
     "data": {
      "text/html": [
       "<div>\n",
       "<style scoped>\n",
       "    .dataframe tbody tr th:only-of-type {\n",
       "        vertical-align: middle;\n",
       "    }\n",
       "\n",
       "    .dataframe tbody tr th {\n",
       "        vertical-align: top;\n",
       "    }\n",
       "\n",
       "    .dataframe thead th {\n",
       "        text-align: right;\n",
       "    }\n",
       "</style>\n",
       "<table border=\"1\" class=\"dataframe\">\n",
       "  <thead>\n",
       "    <tr style=\"text-align: right;\">\n",
       "      <th></th>\n",
       "      <th>Tweets</th>\n",
       "      <th>SA</th>\n",
       "    </tr>\n",
       "  </thead>\n",
       "  <tbody>\n",
       "    <tr>\n",
       "      <th>0</th>\n",
       "      <td>The thing is that people literally don t want ...</td>\n",
       "      <td>1</td>\n",
       "    </tr>\n",
       "    <tr>\n",
       "      <th>1</th>\n",
       "      <td>Bitcoin is a Shining City in Cyberspace</td>\n",
       "      <td>0</td>\n",
       "    </tr>\n",
       "    <tr>\n",
       "      <th>2</th>\n",
       "      <td>GET READY FOR THE NEXT BITCOIN MOVE</td>\n",
       "      <td>1</td>\n",
       "    </tr>\n",
       "    <tr>\n",
       "      <th>3</th>\n",
       "      <td>There are now 1 000 000 addresses that hold 1 ...</td>\n",
       "      <td>1</td>\n",
       "    </tr>\n",
       "    <tr>\n",
       "      <th>4</th>\n",
       "      <td>Us First 5000 Retweets will get 9 million BRIS...</td>\n",
       "      <td>1</td>\n",
       "    </tr>\n",
       "  </tbody>\n",
       "</table>\n",
       "</div>"
      ],
      "text/plain": [
       "                                              Tweets  SA\n",
       "0  The thing is that people literally don t want ...   1\n",
       "1            Bitcoin is a Shining City in Cyberspace   0\n",
       "2                GET READY FOR THE NEXT BITCOIN MOVE   1\n",
       "3  There are now 1 000 000 addresses that hold 1 ...   1\n",
       "4  Us First 5000 Retweets will get 9 million BRIS...   1"
      ]
     },
     "execution_count": 102,
     "metadata": {},
     "output_type": "execute_result"
    }
   ],
   "source": [
    "df = data[['Tweets','SA']]\n",
    "df.head(5)"
   ]
  },
  {
   "cell_type": "markdown",
   "id": "1922fa49",
   "metadata": {},
   "source": [
    "### 6-  Model Building"
   ]
  },
  {
   "cell_type": "markdown",
   "id": "8bcd5671",
   "metadata": {},
   "source": [
    "#### Converting Pandas df --> Spark df"
   ]
  },
  {
   "cell_type": "code",
   "execution_count": 69,
   "id": "8a3446f1",
   "metadata": {},
   "outputs": [],
   "source": [
    "# Necessary Imports\n",
    "from pyspark.sql import SparkSession, SQLContext\n",
    "\n",
    "# Build a spark session - driver's memory increased for training models later.\n",
    "spark = SparkSession.builder.config(\"spark.driver.memory\", \"15g\").appName('Tweets_Renad').getOrCreate()"
   ]
  },
  {
   "cell_type": "code",
   "execution_count": 103,
   "id": "2aad872f",
   "metadata": {},
   "outputs": [],
   "source": [
    "\n",
    "# Convert Pandas dataframe to Spark dataframe\n",
    "\n",
    "schema = StructType([\\\n",
    "    StructField(\"text\", StringType(), True),\\\n",
    "    StructField(\"sentiment\", IntegerType(), True)])\n",
    "\n",
    "df_spark = spark.createDataFrame(df, schema=schema)"
   ]
  },
  {
   "cell_type": "markdown",
   "id": "a1f086b4",
   "metadata": {},
   "source": [
    "#### More Processing  and Data Transformtion. "
   ]
  },
  {
   "cell_type": "code",
   "execution_count": 104,
   "id": "71e98d12",
   "metadata": {},
   "outputs": [],
   "source": [
    "# Lower all the text in the text column and put it in a new column\n",
    "df_spark = df_spark.select(\"*\", lower(col('text'))) \n",
    "df_spark = df_spark.select(\"lower(text)\", \"sentiment\") #get lower(text) and sentiment column\n",
    "df_spark = df_spark.withColumnRenamed(\"lower(text)\",\"text\") #rename lower(text) column to text"
   ]
  },
  {
   "cell_type": "code",
   "execution_count": 105,
   "id": "d20aeaaf",
   "metadata": {},
   "outputs": [
    {
     "name": "stdout",
     "output_type": "stream",
     "text": [
      "+--------------------+---------+--------------------+\n",
      "|                text|sentiment|               words|\n",
      "+--------------------+---------+--------------------+\n",
      "|the thing is that...|        1|[the, thing, is, ...|\n",
      "|bitcoin is a shin...|        0|[bitcoin, is, a, ...|\n",
      "|get ready for the...|        1|[get, ready, for,...|\n",
      "|there are now 1 0...|        1|[there, are, now,...|\n",
      "|us first 5000 ret...|        1|[us, first, 5000,...|\n",
      "+--------------------+---------+--------------------+\n",
      "only showing top 5 rows\n",
      "\n"
     ]
    }
   ],
   "source": [
    "# Tokening the text column would separate each word in a tweet and make one tweet a list of words.\n",
    "\n",
    "tokenizer = Tokenizer(inputCol=\"text\", outputCol=\"words\")\n",
    "tokenized_data = tokenizer.transform(df_spark)\n",
    "tokenized_data.show(truncate=True, n=5)"
   ]
  },
  {
   "cell_type": "code",
   "execution_count": 106,
   "id": "cb3bb60e",
   "metadata": {},
   "outputs": [
    {
     "name": "stdout",
     "output_type": "stream",
     "text": [
      "+--------------------+---------+--------------------+--------------------+\n",
      "|                text|sentiment|               words|     MeaningfulWords|\n",
      "+--------------------+---------+--------------------+--------------------+\n",
      "|the thing is that...|        1|[the, thing, is, ...|[thing, people, l...|\n",
      "|bitcoin is a shin...|        0|[bitcoin, is, a, ...|[bitcoin, shining...|\n",
      "|get ready for the...|        1|[get, ready, for,...|[get, ready, next...|\n",
      "|there are now 1 0...|        1|[there, are, now,...|[1, 000, 000, add...|\n",
      "|us first 5000 ret...|        1|[us, first, 5000,...|[us, first, 5000,...|\n",
      "+--------------------+---------+--------------------+--------------------+\n",
      "only showing top 5 rows\n",
      "\n"
     ]
    }
   ],
   "source": [
    "# Stop Words Remover will remove all less meaning words like helping verbs, etc.\n",
    "\n",
    "swr = StopWordsRemover(inputCol=tokenizer.getOutputCol(), outputCol=\"MeaningfulWords\")\n",
    "SwRemoved_data = swr.transform(tokenized_data)\n",
    "SwRemoved_data.show(truncate=True, n=5)"
   ]
  },
  {
   "cell_type": "code",
   "execution_count": 107,
   "id": "9b5f81bf",
   "metadata": {},
   "outputs": [
    {
     "name": "stdout",
     "output_type": "stream",
     "text": [
      "+---------+--------------------+--------------------+\n",
      "|sentiment|     MeaningfulWords|            features|\n",
      "+---------+--------------------+--------------------+\n",
      "|        1|[thing, people, l...|(262144,[70065,13...|\n",
      "|        0|[bitcoin, shining...|(262144,[132778,1...|\n",
      "|        1|[get, ready, next...|(262144,[54961,13...|\n",
      "+---------+--------------------+--------------------+\n",
      "only showing top 3 rows\n",
      "\n"
     ]
    }
   ],
   "source": [
    "# Hashing TF will convert the meaningful words into numerical features.\n",
    "\n",
    "hashTF = HashingTF(inputCol=swr.getOutputCol(), outputCol=\"features\")\n",
    "trans_data = hashTF.transform(SwRemoved_data).select('sentiment', 'MeaningfulWords', 'features')\n",
    "trans_data.show(truncate=True, n=3)"
   ]
  },
  {
   "cell_type": "code",
   "execution_count": 108,
   "id": "5a6331be",
   "metadata": {},
   "outputs": [
    {
     "name": "stdout",
     "output_type": "stream",
     "text": [
      "+---------+--------------------+--------------------+\n",
      "|sentiment|     MeaningfulWords|            features|\n",
      "+---------+--------------------+--------------------+\n",
      "|        1|[thing, people, l...|(262144,[70065,13...|\n",
      "|        0|[bitcoin, shining...|(262144,[132778,1...|\n",
      "|        1|[get, ready, next...|(262144,[54961,13...|\n",
      "|        1|[1, 000, 000, add...|(262144,[5765,354...|\n",
      "|        1|[us, first, 5000,...|(262144,[2181,366...|\n",
      "+---------+--------------------+--------------------+\n",
      "only showing top 5 rows\n",
      "\n"
     ]
    }
   ],
   "source": [
    "trans_data.show(5)"
   ]
  },
  {
   "cell_type": "markdown",
   "id": "c841b8cd",
   "metadata": {},
   "source": [
    "#### Splitting "
   ]
  },
  {
   "cell_type": "code",
   "execution_count": 109,
   "id": "998ef58c",
   "metadata": {},
   "outputs": [
    {
     "name": "stdout",
     "output_type": "stream",
     "text": [
      "Training Dataset Count: 240\n",
      "Test Dataset Count: 60\n"
     ]
    }
   ],
   "source": [
    "train, test = trans_data.randomSplit([0.8, 0.2], seed = 2018)\n",
    "print(\"Training Dataset Count: \" + str(train.count()))\n",
    "print(\"Test Dataset Count: \" + str(test.count()))"
   ]
  },
  {
   "cell_type": "markdown",
   "id": "65f5263d",
   "metadata": {},
   "source": [
    "#### Training and Testing "
   ]
  },
  {
   "cell_type": "code",
   "execution_count": 110,
   "id": "6f63656d",
   "metadata": {},
   "outputs": [],
   "source": [
    "# Decision Tree\n",
    "dt = DecisionTreeClassifier(labelCol=\"sentiment\", featuresCol=\"features\")\n",
    "\n",
    "# fitting the data \n",
    "model_dt = dt.fit(train)"
   ]
  },
  {
   "cell_type": "code",
   "execution_count": 111,
   "id": "b0557707",
   "metadata": {},
   "outputs": [],
   "source": [
    "# Predictions on the testing set\n",
    "pred_dt = model_dt.transform(test)"
   ]
  },
  {
   "cell_type": "code",
   "execution_count": 112,
   "id": "5b50466d",
   "metadata": {},
   "outputs": [
    {
     "name": "stdout",
     "output_type": "stream",
     "text": [
      "+---------+----------+\n",
      "|sentiment|prediction|\n",
      "+---------+----------+\n",
      "|        0|       0.0|\n",
      "|        0|       0.0|\n",
      "|        0|       0.0|\n",
      "|        0|       0.0|\n",
      "|        0|       0.0|\n",
      "|        0|       0.0|\n",
      "|        1|       0.0|\n",
      "|        1|       0.0|\n",
      "|        1|       0.0|\n",
      "|        1|       0.0|\n",
      "+---------+----------+\n",
      "only showing top 10 rows\n",
      "\n"
     ]
    }
   ],
   "source": [
    "pred_dt.select(\"sentiment\", \"prediction\").show(10)"
   ]
  },
  {
   "cell_type": "code",
   "execution_count": 113,
   "id": "d9e0c49f",
   "metadata": {},
   "outputs": [],
   "source": [
    "# Random Forest\n",
    "rf = RandomForestClassifier(labelCol=\"sentiment\", featuresCol=\"features\", numTrees=10)\n",
    "\n",
    "# fitting the data \n",
    "model_rf = rf.fit(train)"
   ]
  },
  {
   "cell_type": "code",
   "execution_count": 114,
   "id": "99c2524f",
   "metadata": {},
   "outputs": [],
   "source": [
    "# Predictions on the testing set\n",
    "\n",
    "pred_rf = model_rf.transform(test)"
   ]
  },
  {
   "cell_type": "code",
   "execution_count": 115,
   "id": "55c0e89f",
   "metadata": {},
   "outputs": [
    {
     "name": "stdout",
     "output_type": "stream",
     "text": [
      "+---------+----------+\n",
      "|sentiment|prediction|\n",
      "+---------+----------+\n",
      "|        0|       0.0|\n",
      "|        0|       0.0|\n",
      "|        0|       0.0|\n",
      "|        0|       0.0|\n",
      "|        0|       0.0|\n",
      "|        0|       0.0|\n",
      "|        1|       0.0|\n",
      "|        1|       0.0|\n",
      "|        1|       0.0|\n",
      "|        1|       0.0|\n",
      "+---------+----------+\n",
      "only showing top 10 rows\n",
      "\n"
     ]
    }
   ],
   "source": [
    "pred_rf.select(\"sentiment\", \"prediction\").show(10)"
   ]
  },
  {
   "cell_type": "code",
   "execution_count": 116,
   "id": "2659057b",
   "metadata": {},
   "outputs": [],
   "source": [
    "# Naive Bayes\n",
    "nb = NaiveBayes(smoothing=1.0, modelType=\"multinomial\", labelCol=\"sentiment\", featuresCol=\"features\")\n",
    "\n",
    "# fitting the data \n",
    "model_nb = nb.fit(train)"
   ]
  },
  {
   "cell_type": "code",
   "execution_count": 117,
   "id": "a176b833",
   "metadata": {},
   "outputs": [],
   "source": [
    "# Predictions on the testing set\n",
    "pred_nb = model_nb.transform(test)"
   ]
  },
  {
   "cell_type": "code",
   "execution_count": 118,
   "id": "4df77cd4",
   "metadata": {},
   "outputs": [
    {
     "name": "stdout",
     "output_type": "stream",
     "text": [
      "+---------+----------+\n",
      "|sentiment|prediction|\n",
      "+---------+----------+\n",
      "|        0|       0.0|\n",
      "|        0|       0.0|\n",
      "|        0|       0.0|\n",
      "|        0|       0.0|\n",
      "|        0|       1.0|\n",
      "|        0|       0.0|\n",
      "|        1|       0.0|\n",
      "|        1|       0.0|\n",
      "|        1|       1.0|\n",
      "|        1|       0.0|\n",
      "+---------+----------+\n",
      "only showing top 10 rows\n",
      "\n"
     ]
    }
   ],
   "source": [
    "pred_nb.select(\"sentiment\", \"prediction\").show(10)"
   ]
  },
  {
   "cell_type": "markdown",
   "id": "b31f9075",
   "metadata": {},
   "source": [
    "### Model Evaluation "
   ]
  },
  {
   "cell_type": "code",
   "execution_count": 120,
   "id": "e2787de4",
   "metadata": {},
   "outputs": [],
   "source": [
    "# Accuracy Metric\n",
    "evaluator_A = MulticlassClassificationEvaluator(labelCol=\"sentiment\", predictionCol=\"prediction\", metricName=\"accuracy\")\n",
    "\n",
    "# F1 Metric\n",
    "evaluator_F = MulticlassClassificationEvaluator(labelCol=\"sentiment\", predictionCol=\"prediction\", metricName=\"f1\")\n",
    "\n",
    "# Weighted Precision\n",
    "evaluator_P = MulticlassClassificationEvaluator(labelCol=\"sentiment\", predictionCol=\"prediction\", metricName=\"weightedPrecision\")\n",
    "\n",
    "# Weighted Recall\n",
    "evaluator_R = MulticlassClassificationEvaluator(labelCol=\"sentiment\", predictionCol=\"prediction\", metricName=\"weightedRecall\")\n",
    "\n",
    "# Our models\n",
    "models = [pred_dt, pred_rf, pred_nb]\n",
    "\n",
    "# Empty lists that will store the scores for each metric for each model.\n",
    "accuracy = []\n",
    "F1 = []\n",
    "precision = []\n",
    "recall = []\n",
    "\n",
    "# Simple loop to populate the empty lists with scores of models for each metric.\n",
    "for model in models:\n",
    "    accuracy.append(evaluator_A.evaluate(model))\n",
    "    F1.append(evaluator_F.evaluate(model))\n",
    "    precision.append(evaluator_P.evaluate(model))\n",
    "    recall.append(evaluator_R.evaluate(model))"
   ]
  },
  {
   "cell_type": "code",
   "execution_count": 121,
   "id": "6c2b7c45",
   "metadata": {},
   "outputs": [],
   "source": [
    "# We will convert all lists created above into a dataframe for easy viewing.\n",
    "df_ev = pd.DataFrame(list(zip(accuracy, F1, precision, recall)), \n",
    "                     columns = ['Accuracy', 'F1 score', 'Weighted Precision', 'Weighted Recall'],\n",
    "                     index = ['Decision Tree', 'Random Forest', 'Naive Bayes'])"
   ]
  },
  {
   "cell_type": "code",
   "execution_count": 122,
   "id": "f0788896",
   "metadata": {},
   "outputs": [
    {
     "data": {
      "text/html": [
       "<div>\n",
       "<style scoped>\n",
       "    .dataframe tbody tr th:only-of-type {\n",
       "        vertical-align: middle;\n",
       "    }\n",
       "\n",
       "    .dataframe tbody tr th {\n",
       "        vertical-align: top;\n",
       "    }\n",
       "\n",
       "    .dataframe thead th {\n",
       "        text-align: right;\n",
       "    }\n",
       "</style>\n",
       "<table border=\"1\" class=\"dataframe\">\n",
       "  <thead>\n",
       "    <tr style=\"text-align: right;\">\n",
       "      <th></th>\n",
       "      <th>Accuracy</th>\n",
       "      <th>F1 score</th>\n",
       "      <th>Weighted Precision</th>\n",
       "      <th>Weighted Recall</th>\n",
       "    </tr>\n",
       "  </thead>\n",
       "  <tbody>\n",
       "    <tr>\n",
       "      <th>Decision Tree</th>\n",
       "      <td>0.650000</td>\n",
       "      <td>0.585229</td>\n",
       "      <td>0.659295</td>\n",
       "      <td>0.650000</td>\n",
       "    </tr>\n",
       "    <tr>\n",
       "      <th>Random Forest</th>\n",
       "      <td>0.550000</td>\n",
       "      <td>0.390323</td>\n",
       "      <td>0.302500</td>\n",
       "      <td>0.550000</td>\n",
       "    </tr>\n",
       "    <tr>\n",
       "      <th>Naive Bayes</th>\n",
       "      <td>0.666667</td>\n",
       "      <td>0.645322</td>\n",
       "      <td>0.693556</td>\n",
       "      <td>0.666667</td>\n",
       "    </tr>\n",
       "  </tbody>\n",
       "</table>\n",
       "</div>"
      ],
      "text/plain": [
       "               Accuracy  F1 score  Weighted Precision  Weighted Recall\n",
       "Decision Tree  0.650000  0.585229            0.659295         0.650000\n",
       "Random Forest  0.550000  0.390323            0.302500         0.550000\n",
       "Naive Bayes    0.666667  0.645322            0.693556         0.666667"
      ]
     },
     "execution_count": 122,
     "metadata": {},
     "output_type": "execute_result"
    }
   ],
   "source": [
    "df_ev"
   ]
  },
  {
   "cell_type": "markdown",
   "id": "f41a5583",
   "metadata": {},
   "source": [
    "#### We can see that NB performed better here. "
   ]
  }
 ],
 "metadata": {
  "kernelspec": {
   "display_name": "Python 3",
   "language": "python",
   "name": "python3"
  },
  "language_info": {
   "codemirror_mode": {
    "name": "ipython",
    "version": 3
   },
   "file_extension": ".py",
   "mimetype": "text/x-python",
   "name": "python",
   "nbconvert_exporter": "python",
   "pygments_lexer": "ipython3",
   "version": "3.8.8"
  }
 },
 "nbformat": 4,
 "nbformat_minor": 5
}
