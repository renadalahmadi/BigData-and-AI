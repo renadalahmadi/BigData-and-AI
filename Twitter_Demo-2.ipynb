{
 "cells": [
  {
   "cell_type": "markdown",
   "id": "91276972",
   "metadata": {},
   "source": [
    "# Twitter Demo\n",
    "\n",
    "This is a primer for understanding how to connect to Twitter and Fetch Tweet-data.\n",
    "\n",
    "Learning Objectives:\n",
    "1. How to connect to your Twitter Developer account.\n",
    "2. Verifying credentials and accessing your own information.\n",
    "3. Fetching tweets using search terms and parameters.\n",
    "4. Streaming Live Tweets."
   ]
  },
  {
   "cell_type": "markdown",
   "id": "95862570",
   "metadata": {},
   "source": [
    "Important: You will need to apply for a Twitter developer account before you can begin with this demo.\n",
    "\n",
    ">You can apply for the Twitter developer account here: https://developer.twitter.com/en\n",
    "\n",
    "Twitter Developer Account Guide is provided to you to help you set up a developer account and to find the important keys."
   ]
  },
  {
   "cell_type": "markdown",
   "id": "ae395052",
   "metadata": {},
   "source": [
    "--------------------------------------------------"
   ]
  },
  {
   "cell_type": "markdown",
   "id": "6f8bafc7",
   "metadata": {},
   "source": [
    "### Making a Connection\n",
    "Once the Twitter developer account is all set. We will import tweepy, the python library that handles everything Twitter-related.\n",
    "\n",
    "\n",
    "If you do not have tweepy installed, you can do so by running the following in a cell of this Jupyter Notebook: \n",
    ">pip install tweepy"
   ]
  },
  {
   "cell_type": "code",
   "execution_count": 1,
   "id": "c3e9b4d8",
   "metadata": {},
   "outputs": [],
   "source": [
    "import tweepy\n",
    "\n",
    "#These will be found on your Twitter Developer Account. These are your personal keys and should not be shared with anyone else.\n",
    "\n",
    "consumer_key = 'shiWJ7w4lf4CAiEBWqd3bPTwf'\n",
    "consumer_secret = 'xu8MX2TpBAL6v5Ivvx2sqa2P9WfELkLlDRUCzfpjTsdlvsyiAy'\n",
    "access_token = '1225732863250911232-7fd9D0FHaRcgCyPmRoFcbypmv462fQ'\n",
    "access_token_secret = '0oXBAmOfCEX6p2TTzXSX0pnQlANvSZtpus2M24h9fM56q'"
   ]
  },
  {
   "cell_type": "code",
   "execution_count": 2,
   "id": "c0fb43ae",
   "metadata": {},
   "outputs": [],
   "source": [
    "\n",
    "\n",
    "#Creating a variable calling Authentication Handler and passing all of the keys from above as arguments.\n",
    "auth = tweepy.OAuth1UserHandler(\n",
    "  consumer_key, \n",
    "  consumer_secret, \n",
    "  access_token, \n",
    "  access_token_secret\n",
    ")\n",
    "\n",
    "#Connecting to Twitter API by passing the variable created above that contains all the keys.\n",
    "api = tweepy.API(auth)"
   ]
  },
  {
   "cell_type": "markdown",
   "id": "a30e2397",
   "metadata": {},
   "source": [
    "--------------------------------"
   ]
  },
  {
   "cell_type": "markdown",
   "id": "b1b43c25",
   "metadata": {},
   "source": [
    "### Verifying Credentials\n",
    "\n",
    "Obviously, you don't want to connect to someone else's account mistakenly. So now since the connection has been made, you can verify your credentials by running the following cells."
   ]
  },
  {
   "cell_type": "code",
   "execution_count": 3,
   "id": "422f1c7d",
   "metadata": {},
   "outputs": [],
   "source": [
    "#Accessing and Storing Credentials\n",
    "me = api.verify_credentials()"
   ]
  },
  {
   "cell_type": "code",
   "execution_count": 4,
   "id": "01a81aaa",
   "metadata": {},
   "outputs": [
    {
     "data": {
      "text/plain": [
       "1225732863250911232"
      ]
     },
     "execution_count": 4,
     "metadata": {},
     "output_type": "execute_result"
    }
   ],
   "source": [
    "#Your Twitter ID\n",
    "me.id"
   ]
  },
  {
   "cell_type": "code",
   "execution_count": 5,
   "id": "3b0b3405",
   "metadata": {},
   "outputs": [
    {
     "data": {
      "text/plain": [
       "'Renad_alah'"
      ]
     },
     "execution_count": 5,
     "metadata": {},
     "output_type": "execute_result"
    }
   ],
   "source": [
    "#Your Screen Name\n",
    "me.screen_name"
   ]
  },
  {
   "cell_type": "code",
   "execution_count": 6,
   "id": "15762dff",
   "metadata": {},
   "outputs": [
    {
     "data": {
      "text/plain": [
       "100"
      ]
     },
     "execution_count": 6,
     "metadata": {},
     "output_type": "execute_result"
    }
   ],
   "source": [
    "#Your Followers' Count\n",
    "me.followers_count"
   ]
  },
  {
   "cell_type": "code",
   "execution_count": 7,
   "id": "c31dcd49",
   "metadata": {},
   "outputs": [
    {
     "data": {
      "text/plain": [
       "'Computer Science , interested in AI & Data Science'"
      ]
     },
     "execution_count": 7,
     "metadata": {},
     "output_type": "execute_result"
    }
   ],
   "source": [
    "#Your Description\n",
    "me.description"
   ]
  },
  {
   "cell_type": "code",
   "execution_count": 8,
   "id": "86554971",
   "metadata": {},
   "outputs": [
    {
     "data": {
      "text/plain": [
       "''"
      ]
     },
     "execution_count": 8,
     "metadata": {},
     "output_type": "execute_result"
    }
   ],
   "source": [
    "#Your Location\n",
    "me.location"
   ]
  },
  {
   "cell_type": "code",
   "execution_count": 9,
   "id": "070024e3",
   "metadata": {},
   "outputs": [
    {
     "data": {
      "text/plain": [
       "datetime.datetime(2020, 2, 7, 10, 47, 51, tzinfo=datetime.timezone.utc)"
      ]
     },
     "execution_count": 9,
     "metadata": {},
     "output_type": "execute_result"
    }
   ],
   "source": [
    "#The date you created your account\n",
    "me.created_at"
   ]
  },
  {
   "cell_type": "markdown",
   "id": "d8463ec0",
   "metadata": {},
   "source": [
    "--------------------------------"
   ]
  },
  {
   "cell_type": "markdown",
   "id": "abc439c7",
   "metadata": {},
   "source": [
    "### Fetching Tweet-Data\n",
    "\n",
    "Very simply we will set our parameters for searching tweets. Then we will loop through all the tweets one by one."
   ]
  },
  {
   "cell_type": "markdown",
   "id": "1e34f681",
   "metadata": {},
   "source": [
    "Here you can find more parameters to help you search tweets: https://docs.tweepy.org/en/stable/api.html#search-tweets"
   ]
  },
  {
   "cell_type": "code",
   "execution_count": 28,
   "id": "634ceb96",
   "metadata": {},
   "outputs": [],
   "source": [
    "#Here we will create an empty list so that we can add and store tweets into it.\n",
    "extracted_tweets = []\n",
    "\n",
    "#Note that previously we separated this section in two parts. \n",
    "#One was to initialize the search terms and operators, etc. before (two) looping through.\n",
    "#But here we are doing that within the loop itself.\n",
    "\n",
    "for status in tweepy.Cursor(api.search_tweets, \n",
    "                            \"bitcoin price\", \n",
    "                            lang=\"en\").items(50): #using items here\n",
    "    extracted_tweets.append(status)"
   ]
  },
  {
   "cell_type": "code",
   "execution_count": 29,
   "id": "a2429020",
   "metadata": {},
   "outputs": [
    {
     "data": {
      "text/plain": [
       "50"
      ]
     },
     "execution_count": 29,
     "metadata": {},
     "output_type": "execute_result"
    }
   ],
   "source": [
    "len(extracted_tweets)"
   ]
  },
  {
   "cell_type": "code",
   "execution_count": 38,
   "id": "50bd8002",
   "metadata": {},
   "outputs": [
    {
     "data": {
      "text/html": [
       "<div>\n",
       "<style scoped>\n",
       "    .dataframe tbody tr th:only-of-type {\n",
       "        vertical-align: middle;\n",
       "    }\n",
       "\n",
       "    .dataframe tbody tr th {\n",
       "        vertical-align: top;\n",
       "    }\n",
       "\n",
       "    .dataframe thead th {\n",
       "        text-align: right;\n",
       "    }\n",
       "</style>\n",
       "<table border=\"1\" class=\"dataframe\">\n",
       "  <thead>\n",
       "    <tr style=\"text-align: right;\">\n",
       "      <th></th>\n",
       "      <th>Tweets</th>\n",
       "    </tr>\n",
       "  </thead>\n",
       "  <tbody>\n",
       "    <tr>\n",
       "      <th>0</th>\n",
       "      <td>#Ethereum price update: \\n\\n#ETH $1296.71 USD\\...</td>\n",
       "    </tr>\n",
       "    <tr>\n",
       "      <th>1</th>\n",
       "      <td>#BinanceCoin price update: $BNB\\n\\n#BNB $296.0...</td>\n",
       "    </tr>\n",
       "    <tr>\n",
       "      <th>2</th>\n",
       "      <td>Current #Bitcoin price is $17,324.05</td>\n",
       "    </tr>\n",
       "    <tr>\n",
       "      <th>3</th>\n",
       "      <td>@lopp Inflation is usually measured against a ...</td>\n",
       "    </tr>\n",
       "    <tr>\n",
       "      <th>4</th>\n",
       "      <td>RT @seth_fin: 💵💵💵💵💵\\nWill this time be differe...</td>\n",
       "    </tr>\n",
       "    <tr>\n",
       "      <th>5</th>\n",
       "      <td>@jasonpizzino Do you not believe SPX500 will t...</td>\n",
       "    </tr>\n",
       "    <tr>\n",
       "      <th>6</th>\n",
       "      <td>Crypto News: CRO Price (Cronos) Pumps Over 12%...</td>\n",
       "    </tr>\n",
       "    <tr>\n",
       "      <th>7</th>\n",
       "      <td>#Ethereum price update: \\n\\n#ETH $1297.42 USD\\...</td>\n",
       "    </tr>\n",
       "    <tr>\n",
       "      <th>8</th>\n",
       "      <td>forklog: mike novogratz repeated his predictio...</td>\n",
       "    </tr>\n",
       "    <tr>\n",
       "      <th>9</th>\n",
       "      <td>#Ethereum price update: \\n\\n#ETH $1296.6 USD\\n...</td>\n",
       "    </tr>\n",
       "  </tbody>\n",
       "</table>\n",
       "</div>"
      ],
      "text/plain": [
       "                                              Tweets\n",
       "0  #Ethereum price update: \\n\\n#ETH $1296.71 USD\\...\n",
       "1  #BinanceCoin price update: $BNB\\n\\n#BNB $296.0...\n",
       "2               Current #Bitcoin price is $17,324.05\n",
       "3  @lopp Inflation is usually measured against a ...\n",
       "4  RT @seth_fin: 💵💵💵💵💵\\nWill this time be differe...\n",
       "5  @jasonpizzino Do you not believe SPX500 will t...\n",
       "6  Crypto News: CRO Price (Cronos) Pumps Over 12%...\n",
       "7  #Ethereum price update: \\n\\n#ETH $1297.42 USD\\...\n",
       "8  forklog: mike novogratz repeated his predictio...\n",
       "9  #Ethereum price update: \\n\\n#ETH $1296.6 USD\\n..."
      ]
     },
     "metadata": {},
     "output_type": "display_data"
    }
   ],
   "source": [
    "import pandas as pd\n",
    "# We create a pandas dataframe as follows:\n",
    "data = pd.DataFrame(data=[tweet.text for tweet in extracted_tweets], columns=['Tweets'])\n",
    "\n",
    "# We display the first 10 elements of the dataframe:\n",
    "display(data.head(10))"
   ]
  },
  {
   "cell_type": "code",
   "execution_count": 39,
   "id": "dacfec0b",
   "metadata": {},
   "outputs": [],
   "source": [
    "import numpy as np\n",
    "# We add relevant data:\n",
    "data['len']  = np.array([len(tweet.text) for tweet in extracted_tweets])\n",
    "data['ID']   = np.array([tweet.id for tweet in extracted_tweets])\n",
    "data['Date'] = np.array([tweet.created_at for tweet in extracted_tweets])\n",
    "data['Source'] = np.array([tweet.source for tweet in extracted_tweets])\n",
    "data['Likes']  = np.array([tweet.favorite_count for tweet in extracted_tweets])\n",
    "data['RTs']    = np.array([tweet.retweet_count for tweet in extracted_tweets])"
   ]
  },
  {
   "cell_type": "code",
   "execution_count": 40,
   "id": "621fe644",
   "metadata": {},
   "outputs": [
    {
     "data": {
      "text/html": [
       "<div>\n",
       "<style scoped>\n",
       "    .dataframe tbody tr th:only-of-type {\n",
       "        vertical-align: middle;\n",
       "    }\n",
       "\n",
       "    .dataframe tbody tr th {\n",
       "        vertical-align: top;\n",
       "    }\n",
       "\n",
       "    .dataframe thead th {\n",
       "        text-align: right;\n",
       "    }\n",
       "</style>\n",
       "<table border=\"1\" class=\"dataframe\">\n",
       "  <thead>\n",
       "    <tr style=\"text-align: right;\">\n",
       "      <th></th>\n",
       "      <th>Tweets</th>\n",
       "      <th>len</th>\n",
       "      <th>ID</th>\n",
       "      <th>Date</th>\n",
       "      <th>Source</th>\n",
       "      <th>Likes</th>\n",
       "      <th>RTs</th>\n",
       "    </tr>\n",
       "  </thead>\n",
       "  <tbody>\n",
       "    <tr>\n",
       "      <th>0</th>\n",
       "      <td>#Ethereum price update: \\n\\n#ETH $1296.71 USD\\...</td>\n",
       "      <td>140</td>\n",
       "      <td>1599670453986988032</td>\n",
       "      <td>2022-12-05 07:42:11+00:00</td>\n",
       "      <td>Twitter Web App</td>\n",
       "      <td>0</td>\n",
       "      <td>0</td>\n",
       "    </tr>\n",
       "    <tr>\n",
       "      <th>1</th>\n",
       "      <td>#BinanceCoin price update: $BNB\\n\\n#BNB $296.0...</td>\n",
       "      <td>137</td>\n",
       "      <td>1599670452376723461</td>\n",
       "      <td>2022-12-05 07:42:10+00:00</td>\n",
       "      <td>Twitter Web App</td>\n",
       "      <td>0</td>\n",
       "      <td>0</td>\n",
       "    </tr>\n",
       "    <tr>\n",
       "      <th>2</th>\n",
       "      <td>Current #Bitcoin price is $17,324.05</td>\n",
       "      <td>36</td>\n",
       "      <td>1599670316204232704</td>\n",
       "      <td>2022-12-05 07:41:38+00:00</td>\n",
       "      <td>Crypto live price</td>\n",
       "      <td>0</td>\n",
       "      <td>0</td>\n",
       "    </tr>\n",
       "    <tr>\n",
       "      <th>3</th>\n",
       "      <td>@lopp Inflation is usually measured against a ...</td>\n",
       "      <td>140</td>\n",
       "      <td>1599670258201083905</td>\n",
       "      <td>2022-12-05 07:41:24+00:00</td>\n",
       "      <td>Twitter for Android</td>\n",
       "      <td>0</td>\n",
       "      <td>0</td>\n",
       "    </tr>\n",
       "    <tr>\n",
       "      <th>4</th>\n",
       "      <td>RT @seth_fin: 💵💵💵💵💵\\nWill this time be differe...</td>\n",
       "      <td>140</td>\n",
       "      <td>1599670257949736962</td>\n",
       "      <td>2022-12-05 07:41:24+00:00</td>\n",
       "      <td>Twitter for Android</td>\n",
       "      <td>0</td>\n",
       "      <td>105</td>\n",
       "    </tr>\n",
       "    <tr>\n",
       "      <th>5</th>\n",
       "      <td>@jasonpizzino Do you not believe SPX500 will t...</td>\n",
       "      <td>106</td>\n",
       "      <td>1599670255659253760</td>\n",
       "      <td>2022-12-05 07:41:24+00:00</td>\n",
       "      <td>Twitter Web App</td>\n",
       "      <td>0</td>\n",
       "      <td>0</td>\n",
       "    </tr>\n",
       "    <tr>\n",
       "      <th>6</th>\n",
       "      <td>Crypto News: CRO Price (Cronos) Pumps Over 12%...</td>\n",
       "      <td>118</td>\n",
       "      <td>1599670207034761217</td>\n",
       "      <td>2022-12-05 07:41:12+00:00</td>\n",
       "      <td>Raishiz News</td>\n",
       "      <td>0</td>\n",
       "      <td>0</td>\n",
       "    </tr>\n",
       "    <tr>\n",
       "      <th>7</th>\n",
       "      <td>#Ethereum price update: \\n\\n#ETH $1297.42 USD\\...</td>\n",
       "      <td>139</td>\n",
       "      <td>1599670199308849152</td>\n",
       "      <td>2022-12-05 07:41:10+00:00</td>\n",
       "      <td>Twitter Web App</td>\n",
       "      <td>0</td>\n",
       "      <td>0</td>\n",
       "    </tr>\n",
       "    <tr>\n",
       "      <th>8</th>\n",
       "      <td>forklog: mike novogratz repeated his predictio...</td>\n",
       "      <td>110</td>\n",
       "      <td>1599670104060416000</td>\n",
       "      <td>2022-12-05 07:40:47+00:00</td>\n",
       "      <td>thecryptofeed_all</td>\n",
       "      <td>0</td>\n",
       "      <td>0</td>\n",
       "    </tr>\n",
       "    <tr>\n",
       "      <th>9</th>\n",
       "      <td>#Ethereum price update: \\n\\n#ETH $1296.6 USD\\n...</td>\n",
       "      <td>139</td>\n",
       "      <td>1599669944601706496</td>\n",
       "      <td>2022-12-05 07:40:09+00:00</td>\n",
       "      <td>Twitter Web App</td>\n",
       "      <td>0</td>\n",
       "      <td>0</td>\n",
       "    </tr>\n",
       "  </tbody>\n",
       "</table>\n",
       "</div>"
      ],
      "text/plain": [
       "                                              Tweets  len  \\\n",
       "0  #Ethereum price update: \\n\\n#ETH $1296.71 USD\\...  140   \n",
       "1  #BinanceCoin price update: $BNB\\n\\n#BNB $296.0...  137   \n",
       "2               Current #Bitcoin price is $17,324.05   36   \n",
       "3  @lopp Inflation is usually measured against a ...  140   \n",
       "4  RT @seth_fin: 💵💵💵💵💵\\nWill this time be differe...  140   \n",
       "5  @jasonpizzino Do you not believe SPX500 will t...  106   \n",
       "6  Crypto News: CRO Price (Cronos) Pumps Over 12%...  118   \n",
       "7  #Ethereum price update: \\n\\n#ETH $1297.42 USD\\...  139   \n",
       "8  forklog: mike novogratz repeated his predictio...  110   \n",
       "9  #Ethereum price update: \\n\\n#ETH $1296.6 USD\\n...  139   \n",
       "\n",
       "                    ID                      Date               Source  Likes  \\\n",
       "0  1599670453986988032 2022-12-05 07:42:11+00:00      Twitter Web App      0   \n",
       "1  1599670452376723461 2022-12-05 07:42:10+00:00      Twitter Web App      0   \n",
       "2  1599670316204232704 2022-12-05 07:41:38+00:00    Crypto live price      0   \n",
       "3  1599670258201083905 2022-12-05 07:41:24+00:00  Twitter for Android      0   \n",
       "4  1599670257949736962 2022-12-05 07:41:24+00:00  Twitter for Android      0   \n",
       "5  1599670255659253760 2022-12-05 07:41:24+00:00      Twitter Web App      0   \n",
       "6  1599670207034761217 2022-12-05 07:41:12+00:00         Raishiz News      0   \n",
       "7  1599670199308849152 2022-12-05 07:41:10+00:00      Twitter Web App      0   \n",
       "8  1599670104060416000 2022-12-05 07:40:47+00:00    thecryptofeed_all      0   \n",
       "9  1599669944601706496 2022-12-05 07:40:09+00:00      Twitter Web App      0   \n",
       "\n",
       "   RTs  \n",
       "0    0  \n",
       "1    0  \n",
       "2    0  \n",
       "3    0  \n",
       "4  105  \n",
       "5    0  \n",
       "6    0  \n",
       "7    0  \n",
       "8    0  \n",
       "9    0  "
      ]
     },
     "metadata": {},
     "output_type": "display_data"
    }
   ],
   "source": [
    "# Display of first 10 elements from dataframe:\n",
    "display(data.head(10))"
   ]
  },
  {
   "cell_type": "code",
   "execution_count": 24,
   "id": "40744105",
   "metadata": {},
   "outputs": [],
   "source": [
    "import re\n",
    "def clean_tweet(tweet):\n",
    "    '''\n",
    "    Utility function to clean the text in a tweet by removing\n",
    "    links and special characters using regex.\n",
    "    '''\n",
    "    return ' '.join(re.sub(\"(@[A-Za-z0-9]+.)|([^0-9A-Za-z \\t])|(\\w+:\\/\\/\\S+)|RT\", \" \", tweet).split())"
   ]
  },
  {
   "cell_type": "code",
   "execution_count": 25,
   "id": "e471e94e",
   "metadata": {},
   "outputs": [
    {
     "data": {
      "text/html": [
       "<div>\n",
       "<style scoped>\n",
       "    .dataframe tbody tr th:only-of-type {\n",
       "        vertical-align: middle;\n",
       "    }\n",
       "\n",
       "    .dataframe tbody tr th {\n",
       "        vertical-align: top;\n",
       "    }\n",
       "\n",
       "    .dataframe thead th {\n",
       "        text-align: right;\n",
       "    }\n",
       "</style>\n",
       "<table border=\"1\" class=\"dataframe\">\n",
       "  <thead>\n",
       "    <tr style=\"text-align: right;\">\n",
       "      <th></th>\n",
       "      <th>Tweets</th>\n",
       "      <th>len</th>\n",
       "      <th>ID</th>\n",
       "      <th>Date</th>\n",
       "      <th>Source</th>\n",
       "      <th>Likes</th>\n",
       "      <th>RTs</th>\n",
       "    </tr>\n",
       "  </thead>\n",
       "  <tbody>\n",
       "    <tr>\n",
       "      <th>0</th>\n",
       "      <td>Bitcoin Price and Ethereum Back above 17 000 a...</td>\n",
       "      <td>140</td>\n",
       "      <td>1599665151203938304</td>\n",
       "      <td>2022-12-05 07:21:07+00:00</td>\n",
       "      <td>Twitter Web App</td>\n",
       "      <td>0</td>\n",
       "      <td>0</td>\n",
       "    </tr>\n",
       "    <tr>\n",
       "      <th>1</th>\n",
       "      <td>Real estate could bring you cash flow If your ...</td>\n",
       "      <td>140</td>\n",
       "      <td>1599665126109368320</td>\n",
       "      <td>2022-12-05 07:21:01+00:00</td>\n",
       "      <td>Twitter for iPhone</td>\n",
       "      <td>0</td>\n",
       "      <td>2</td>\n",
       "    </tr>\n",
       "    <tr>\n",
       "      <th>2</th>\n",
       "      <td>Ethereum price update ETH 1294 83 USD Bitcoin ...</td>\n",
       "      <td>139</td>\n",
       "      <td>1599665115212972032</td>\n",
       "      <td>2022-12-05 07:20:58+00:00</td>\n",
       "      <td>Twitter Web App</td>\n",
       "      <td>0</td>\n",
       "      <td>0</td>\n",
       "    </tr>\n",
       "    <tr>\n",
       "      <th>3</th>\n",
       "      <td>Bitcoin on log log chart still looks linear Bi...</td>\n",
       "      <td>140</td>\n",
       "      <td>1599665103506313216</td>\n",
       "      <td>2022-12-05 07:20:55+00:00</td>\n",
       "      <td>Twitter for iPhone</td>\n",
       "      <td>0</td>\n",
       "      <td>29</td>\n",
       "    </tr>\n",
       "    <tr>\n",
       "      <th>4</th>\n",
       "      <td>Bitcoin Last Price 17305 BTC Daily Indicators ...</td>\n",
       "      <td>140</td>\n",
       "      <td>1599664958769340416</td>\n",
       "      <td>2022-12-05 07:20:21+00:00</td>\n",
       "      <td>vaiotapi</td>\n",
       "      <td>0</td>\n",
       "      <td>0</td>\n",
       "    </tr>\n",
       "    <tr>\n",
       "      <th>5</th>\n",
       "      <td>Current Bitcoin Price is 17308 BTC Crypto</td>\n",
       "      <td>45</td>\n",
       "      <td>1599664952045813761</td>\n",
       "      <td>2022-12-05 07:20:19+00:00</td>\n",
       "      <td>IAmBitcoinBot</td>\n",
       "      <td>0</td>\n",
       "      <td>0</td>\n",
       "    </tr>\n",
       "    <tr>\n",
       "      <th>6</th>\n",
       "      <td>CHESSUSDT CHESS Signal 1 Last Signal N A Befor...</td>\n",
       "      <td>140</td>\n",
       "      <td>1599664875575382017</td>\n",
       "      <td>2022-12-05 07:20:01+00:00</td>\n",
       "      <td>MT4 to Twitter</td>\n",
       "      <td>1</td>\n",
       "      <td>0</td>\n",
       "    </tr>\n",
       "    <tr>\n",
       "      <th>7</th>\n",
       "      <td>BinanceCoin price update BNB BNB 295 47 USD Bi...</td>\n",
       "      <td>137</td>\n",
       "      <td>1599664863646605312</td>\n",
       "      <td>2022-12-05 07:19:58+00:00</td>\n",
       "      <td>Twitter Web App</td>\n",
       "      <td>0</td>\n",
       "      <td>0</td>\n",
       "    </tr>\n",
       "    <tr>\n",
       "      <th>8</th>\n",
       "      <td>Ethereum price update ETH 1295 77 USD Bitcoin ...</td>\n",
       "      <td>140</td>\n",
       "      <td>1599664860609925120</td>\n",
       "      <td>2022-12-05 07:19:57+00:00</td>\n",
       "      <td>Twitter Web App</td>\n",
       "      <td>0</td>\n",
       "      <td>0</td>\n",
       "    </tr>\n",
       "    <tr>\n",
       "      <th>9</th>\n",
       "      <td>The price of Bitcoin is 17307 825 And it chang...</td>\n",
       "      <td>81</td>\n",
       "      <td>1599664826460110848</td>\n",
       "      <td>2022-12-05 07:19:49+00:00</td>\n",
       "      <td>IAE101_TB_Project_Fall2022_G1</td>\n",
       "      <td>0</td>\n",
       "      <td>0</td>\n",
       "    </tr>\n",
       "  </tbody>\n",
       "</table>\n",
       "</div>"
      ],
      "text/plain": [
       "                                              Tweets  len  \\\n",
       "0  Bitcoin Price and Ethereum Back above 17 000 a...  140   \n",
       "1  Real estate could bring you cash flow If your ...  140   \n",
       "2  Ethereum price update ETH 1294 83 USD Bitcoin ...  139   \n",
       "3  Bitcoin on log log chart still looks linear Bi...  140   \n",
       "4  Bitcoin Last Price 17305 BTC Daily Indicators ...  140   \n",
       "5          Current Bitcoin Price is 17308 BTC Crypto   45   \n",
       "6  CHESSUSDT CHESS Signal 1 Last Signal N A Befor...  140   \n",
       "7  BinanceCoin price update BNB BNB 295 47 USD Bi...  137   \n",
       "8  Ethereum price update ETH 1295 77 USD Bitcoin ...  140   \n",
       "9  The price of Bitcoin is 17307 825 And it chang...   81   \n",
       "\n",
       "                    ID                      Date  \\\n",
       "0  1599665151203938304 2022-12-05 07:21:07+00:00   \n",
       "1  1599665126109368320 2022-12-05 07:21:01+00:00   \n",
       "2  1599665115212972032 2022-12-05 07:20:58+00:00   \n",
       "3  1599665103506313216 2022-12-05 07:20:55+00:00   \n",
       "4  1599664958769340416 2022-12-05 07:20:21+00:00   \n",
       "5  1599664952045813761 2022-12-05 07:20:19+00:00   \n",
       "6  1599664875575382017 2022-12-05 07:20:01+00:00   \n",
       "7  1599664863646605312 2022-12-05 07:19:58+00:00   \n",
       "8  1599664860609925120 2022-12-05 07:19:57+00:00   \n",
       "9  1599664826460110848 2022-12-05 07:19:49+00:00   \n",
       "\n",
       "                          Source  Likes  RTs  \n",
       "0                Twitter Web App      0    0  \n",
       "1             Twitter for iPhone      0    2  \n",
       "2                Twitter Web App      0    0  \n",
       "3             Twitter for iPhone      0   29  \n",
       "4                       vaiotapi      0    0  \n",
       "5                  IAmBitcoinBot      0    0  \n",
       "6                 MT4 to Twitter      1    0  \n",
       "7                Twitter Web App      0    0  \n",
       "8                Twitter Web App      0    0  \n",
       "9  IAE101_TB_Project_Fall2022_G1      0    0  "
      ]
     },
     "metadata": {},
     "output_type": "display_data"
    }
   ],
   "source": [
    "# Cleaning the Tweets from special characters\n",
    "\n",
    "data['Tweets'] = np.array([ clean_tweet(tweet) for tweet in data['Tweets'] ])\n",
    "# We display the updated dataframe with the new column:\n",
    "display(data.head(10))"
   ]
  },
  {
   "cell_type": "code",
   "execution_count": 41,
   "id": "34c47071",
   "metadata": {},
   "outputs": [],
   "source": [
    "def find_numbers(text):\n",
    "    text = re.findall(r\"[-+]?(?:\\d*\\.\\d+|\\d+)\", text)\n",
    "    return text"
   ]
  },
  {
   "cell_type": "code",
   "execution_count": 42,
   "id": "5c0eb690",
   "metadata": {},
   "outputs": [
    {
     "name": "stderr",
     "output_type": "stream",
     "text": [
      "<ipython-input-42-ccfe9fdba21f>:3: VisibleDeprecationWarning: Creating an ndarray from ragged nested sequences (which is a list-or-tuple of lists-or-tuples-or ndarrays with different lengths or shapes) is deprecated. If you meant to do this, you must specify 'dtype=object' when creating the ndarray.\n",
      "  data['Price'] = np.array([ find_numbers(tweet) for tweet in data['Tweets'] ])\n"
     ]
    },
    {
     "data": {
      "text/html": [
       "<div>\n",
       "<style scoped>\n",
       "    .dataframe tbody tr th:only-of-type {\n",
       "        vertical-align: middle;\n",
       "    }\n",
       "\n",
       "    .dataframe tbody tr th {\n",
       "        vertical-align: top;\n",
       "    }\n",
       "\n",
       "    .dataframe thead th {\n",
       "        text-align: right;\n",
       "    }\n",
       "</style>\n",
       "<table border=\"1\" class=\"dataframe\">\n",
       "  <thead>\n",
       "    <tr style=\"text-align: right;\">\n",
       "      <th></th>\n",
       "      <th>Tweets</th>\n",
       "      <th>len</th>\n",
       "      <th>ID</th>\n",
       "      <th>Date</th>\n",
       "      <th>Source</th>\n",
       "      <th>Likes</th>\n",
       "      <th>RTs</th>\n",
       "      <th>Price</th>\n",
       "    </tr>\n",
       "  </thead>\n",
       "  <tbody>\n",
       "    <tr>\n",
       "      <th>0</th>\n",
       "      <td>#Ethereum price update: \\n\\n#ETH $1296.71 USD\\...</td>\n",
       "      <td>140</td>\n",
       "      <td>1599670453986988032</td>\n",
       "      <td>2022-12-05 07:42:11+00:00</td>\n",
       "      <td>Twitter Web App</td>\n",
       "      <td>0</td>\n",
       "      <td>0</td>\n",
       "      <td>[1296.71, 0.07486095]</td>\n",
       "    </tr>\n",
       "    <tr>\n",
       "      <th>1</th>\n",
       "      <td>#BinanceCoin price update: $BNB\\n\\n#BNB $296.0...</td>\n",
       "      <td>137</td>\n",
       "      <td>1599670452376723461</td>\n",
       "      <td>2022-12-05 07:42:10+00:00</td>\n",
       "      <td>Twitter Web App</td>\n",
       "      <td>0</td>\n",
       "      <td>0</td>\n",
       "      <td>[296.09, 0.01708, 0.22821, 77, 3]</td>\n",
       "    </tr>\n",
       "    <tr>\n",
       "      <th>2</th>\n",
       "      <td>Current #Bitcoin price is $17,324.05</td>\n",
       "      <td>36</td>\n",
       "      <td>1599670316204232704</td>\n",
       "      <td>2022-12-05 07:41:38+00:00</td>\n",
       "      <td>Crypto live price</td>\n",
       "      <td>0</td>\n",
       "      <td>0</td>\n",
       "      <td>[17, 324.05]</td>\n",
       "    </tr>\n",
       "    <tr>\n",
       "      <th>3</th>\n",
       "      <td>@lopp Inflation is usually measured against a ...</td>\n",
       "      <td>140</td>\n",
       "      <td>1599670258201083905</td>\n",
       "      <td>2022-12-05 07:41:24+00:00</td>\n",
       "      <td>Twitter for Android</td>\n",
       "      <td>0</td>\n",
       "      <td>0</td>\n",
       "      <td>[0]</td>\n",
       "    </tr>\n",
       "    <tr>\n",
       "      <th>4</th>\n",
       "      <td>RT @seth_fin: 💵💵💵💵💵\\nWill this time be differe...</td>\n",
       "      <td>140</td>\n",
       "      <td>1599670257949736962</td>\n",
       "      <td>2022-12-05 07:41:24+00:00</td>\n",
       "      <td>Twitter for Android</td>\n",
       "      <td>0</td>\n",
       "      <td>105</td>\n",
       "      <td>[2024]</td>\n",
       "    </tr>\n",
       "    <tr>\n",
       "      <th>5</th>\n",
       "      <td>@jasonpizzino Do you not believe SPX500 will t...</td>\n",
       "      <td>106</td>\n",
       "      <td>1599670255659253760</td>\n",
       "      <td>2022-12-05 07:41:24+00:00</td>\n",
       "      <td>Twitter Web App</td>\n",
       "      <td>0</td>\n",
       "      <td>0</td>\n",
       "      <td>[500]</td>\n",
       "    </tr>\n",
       "    <tr>\n",
       "      <th>6</th>\n",
       "      <td>Crypto News: CRO Price (Cronos) Pumps Over 12%...</td>\n",
       "      <td>118</td>\n",
       "      <td>1599670207034761217</td>\n",
       "      <td>2022-12-05 07:41:12+00:00</td>\n",
       "      <td>Raishiz News</td>\n",
       "      <td>0</td>\n",
       "      <td>0</td>\n",
       "      <td>[12]</td>\n",
       "    </tr>\n",
       "    <tr>\n",
       "      <th>7</th>\n",
       "      <td>#Ethereum price update: \\n\\n#ETH $1297.42 USD\\...</td>\n",
       "      <td>139</td>\n",
       "      <td>1599670199308849152</td>\n",
       "      <td>2022-12-05 07:41:10+00:00</td>\n",
       "      <td>Twitter Web App</td>\n",
       "      <td>0</td>\n",
       "      <td>0</td>\n",
       "      <td>[1297.42, 0.07483502114255754, 5, 7, 3]</td>\n",
       "    </tr>\n",
       "    <tr>\n",
       "      <th>8</th>\n",
       "      <td>forklog: mike novogratz repeated his predictio...</td>\n",
       "      <td>110</td>\n",
       "      <td>1599670104060416000</td>\n",
       "      <td>2022-12-05 07:40:47+00:00</td>\n",
       "      <td>thecryptofeed_all</td>\n",
       "      <td>0</td>\n",
       "      <td>0</td>\n",
       "      <td>[500, 000]</td>\n",
       "    </tr>\n",
       "    <tr>\n",
       "      <th>9</th>\n",
       "      <td>#Ethereum price update: \\n\\n#ETH $1296.6 USD\\n...</td>\n",
       "      <td>139</td>\n",
       "      <td>1599669944601706496</td>\n",
       "      <td>2022-12-05 07:40:09+00:00</td>\n",
       "      <td>Twitter Web App</td>\n",
       "      <td>0</td>\n",
       "      <td>0</td>\n",
       "      <td>[1296.6, 0.07486089]</td>\n",
       "    </tr>\n",
       "  </tbody>\n",
       "</table>\n",
       "</div>"
      ],
      "text/plain": [
       "                                              Tweets  len  \\\n",
       "0  #Ethereum price update: \\n\\n#ETH $1296.71 USD\\...  140   \n",
       "1  #BinanceCoin price update: $BNB\\n\\n#BNB $296.0...  137   \n",
       "2               Current #Bitcoin price is $17,324.05   36   \n",
       "3  @lopp Inflation is usually measured against a ...  140   \n",
       "4  RT @seth_fin: 💵💵💵💵💵\\nWill this time be differe...  140   \n",
       "5  @jasonpizzino Do you not believe SPX500 will t...  106   \n",
       "6  Crypto News: CRO Price (Cronos) Pumps Over 12%...  118   \n",
       "7  #Ethereum price update: \\n\\n#ETH $1297.42 USD\\...  139   \n",
       "8  forklog: mike novogratz repeated his predictio...  110   \n",
       "9  #Ethereum price update: \\n\\n#ETH $1296.6 USD\\n...  139   \n",
       "\n",
       "                    ID                      Date               Source  Likes  \\\n",
       "0  1599670453986988032 2022-12-05 07:42:11+00:00      Twitter Web App      0   \n",
       "1  1599670452376723461 2022-12-05 07:42:10+00:00      Twitter Web App      0   \n",
       "2  1599670316204232704 2022-12-05 07:41:38+00:00    Crypto live price      0   \n",
       "3  1599670258201083905 2022-12-05 07:41:24+00:00  Twitter for Android      0   \n",
       "4  1599670257949736962 2022-12-05 07:41:24+00:00  Twitter for Android      0   \n",
       "5  1599670255659253760 2022-12-05 07:41:24+00:00      Twitter Web App      0   \n",
       "6  1599670207034761217 2022-12-05 07:41:12+00:00         Raishiz News      0   \n",
       "7  1599670199308849152 2022-12-05 07:41:10+00:00      Twitter Web App      0   \n",
       "8  1599670104060416000 2022-12-05 07:40:47+00:00    thecryptofeed_all      0   \n",
       "9  1599669944601706496 2022-12-05 07:40:09+00:00      Twitter Web App      0   \n",
       "\n",
       "   RTs                                    Price  \n",
       "0    0                    [1296.71, 0.07486095]  \n",
       "1    0        [296.09, 0.01708, 0.22821, 77, 3]  \n",
       "2    0                             [17, 324.05]  \n",
       "3    0                                      [0]  \n",
       "4  105                                   [2024]  \n",
       "5    0                                    [500]  \n",
       "6    0                                     [12]  \n",
       "7    0  [1297.42, 0.07483502114255754, 5, 7, 3]  \n",
       "8    0                               [500, 000]  \n",
       "9    0                     [1296.6, 0.07486089]  "
      ]
     },
     "metadata": {},
     "output_type": "display_data"
    }
   ],
   "source": [
    "# Cleaning the Tweets from special characters\n",
    "\n",
    "data['Price'] = np.array([ find_numbers(tweet) for tweet in data['Tweets'] ])\n",
    "# We display the updated dataframe with the new column:\n",
    "display(data.head(10))"
   ]
  }
 ],
 "metadata": {
  "kernelspec": {
   "display_name": "Python 3",
   "language": "python",
   "name": "python3"
  },
  "language_info": {
   "codemirror_mode": {
    "name": "ipython",
    "version": 3
   },
   "file_extension": ".py",
   "mimetype": "text/x-python",
   "name": "python",
   "nbconvert_exporter": "python",
   "pygments_lexer": "ipython3",
   "version": "3.8.8"
  }
 },
 "nbformat": 4,
 "nbformat_minor": 5
}
