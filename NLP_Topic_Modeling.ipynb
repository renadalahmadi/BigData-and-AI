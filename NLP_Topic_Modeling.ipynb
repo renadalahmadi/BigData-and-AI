{
  "cells": [
    {
      "cell_type": "markdown",
      "metadata": {
        "id": "view-in-github",
        "colab_type": "text"
      },
      "source": [
        "<a href=\"https://colab.research.google.com/github/renadalahmadi/BigData-and-AI/blob/main/NLP_Topic_Modeling.ipynb\" target=\"_parent\"><img src=\"https://colab.research.google.com/assets/colab-badge.svg\" alt=\"Open In Colab\"/></a>"
      ]
    },
    {
      "cell_type": "markdown",
      "metadata": {
        "collapsed": true,
        "id": "5hHfSA3n6ws-"
      },
      "source": [
        "# NLP - Topic Modeling Assignment\n",
        "\n"
      ]
    },
    {
      "cell_type": "markdown",
      "source": [
        "Renad Alahmadi"
      ],
      "metadata": {
        "id": "nV625a784CPa"
      }
    },
    {
      "cell_type": "markdown",
      "metadata": {
        "id": "lDrVr2az6wtA"
      },
      "source": [
        "## Dataset \n",
        "- For this assignment you will be working with a dataset of over 400,000 quora questions that have no labeled cateogries.\n",
        "\n",
        "## Main Objective \n",
        "- You are attempting to find 20 cateogries to assign these questions in the CVS file.\n"
      ]
    },
    {
      "cell_type": "markdown",
      "metadata": {
        "id": "1eNz8C416wtA"
      },
      "source": [
        "#### Task: Import pandas and read in the quora_questions.csv file."
      ]
    },
    {
      "cell_type": "code",
      "execution_count": 1,
      "metadata": {
        "collapsed": true,
        "id": "_-7SmdlM6wtB"
      },
      "outputs": [],
      "source": [
        "# Importing packages \n",
        "\n",
        "import pandas as pd\n",
        "import random\n",
        "\n",
        "from sklearn.feature_extraction.text import CountVectorizer\n",
        "from sklearn.decomposition import LatentDirichletAllocation"
      ]
    },
    {
      "cell_type": "code",
      "execution_count": 2,
      "metadata": {
        "collapsed": true,
        "id": "XEBC_BRn6wtB"
      },
      "outputs": [],
      "source": [
        "# Loading dataset \n",
        "dataset = pd.read_excel('/content/1664163408__Quora Questions.xlsx')"
      ]
    },
    {
      "cell_type": "code",
      "execution_count": 3,
      "metadata": {
        "colab": {
          "base_uri": "https://localhost:8080/",
          "height": 206
        },
        "id": "AtvJqxTn8pTO",
        "outputId": "90e4bcca-dd42-4c5d-9bf9-37b6efef1b42"
      },
      "outputs": [
        {
          "output_type": "execute_result",
          "data": {
            "text/plain": [
              "                                            Question\n",
              "0  What is the step by step guide to invest in sh...\n",
              "1  What is the story of Kohinoor (Koh-i-Noor) Dia...\n",
              "2  How can I increase the speed of my internet co...\n",
              "3  Why am I mentally very lonely? How can I solve...\n",
              "4  Which one dissolve in water quikly sugar, salt..."
            ],
            "text/html": [
              "\n",
              "  <div id=\"df-1e78c6f5-88bb-4de2-b4da-1d3601269f9a\">\n",
              "    <div class=\"colab-df-container\">\n",
              "      <div>\n",
              "<style scoped>\n",
              "    .dataframe tbody tr th:only-of-type {\n",
              "        vertical-align: middle;\n",
              "    }\n",
              "\n",
              "    .dataframe tbody tr th {\n",
              "        vertical-align: top;\n",
              "    }\n",
              "\n",
              "    .dataframe thead th {\n",
              "        text-align: right;\n",
              "    }\n",
              "</style>\n",
              "<table border=\"1\" class=\"dataframe\">\n",
              "  <thead>\n",
              "    <tr style=\"text-align: right;\">\n",
              "      <th></th>\n",
              "      <th>Question</th>\n",
              "    </tr>\n",
              "  </thead>\n",
              "  <tbody>\n",
              "    <tr>\n",
              "      <th>0</th>\n",
              "      <td>What is the step by step guide to invest in sh...</td>\n",
              "    </tr>\n",
              "    <tr>\n",
              "      <th>1</th>\n",
              "      <td>What is the story of Kohinoor (Koh-i-Noor) Dia...</td>\n",
              "    </tr>\n",
              "    <tr>\n",
              "      <th>2</th>\n",
              "      <td>How can I increase the speed of my internet co...</td>\n",
              "    </tr>\n",
              "    <tr>\n",
              "      <th>3</th>\n",
              "      <td>Why am I mentally very lonely? How can I solve...</td>\n",
              "    </tr>\n",
              "    <tr>\n",
              "      <th>4</th>\n",
              "      <td>Which one dissolve in water quikly sugar, salt...</td>\n",
              "    </tr>\n",
              "  </tbody>\n",
              "</table>\n",
              "</div>\n",
              "      <button class=\"colab-df-convert\" onclick=\"convertToInteractive('df-1e78c6f5-88bb-4de2-b4da-1d3601269f9a')\"\n",
              "              title=\"Convert this dataframe to an interactive table.\"\n",
              "              style=\"display:none;\">\n",
              "        \n",
              "  <svg xmlns=\"http://www.w3.org/2000/svg\" height=\"24px\"viewBox=\"0 0 24 24\"\n",
              "       width=\"24px\">\n",
              "    <path d=\"M0 0h24v24H0V0z\" fill=\"none\"/>\n",
              "    <path d=\"M18.56 5.44l.94 2.06.94-2.06 2.06-.94-2.06-.94-.94-2.06-.94 2.06-2.06.94zm-11 1L8.5 8.5l.94-2.06 2.06-.94-2.06-.94L8.5 2.5l-.94 2.06-2.06.94zm10 10l.94 2.06.94-2.06 2.06-.94-2.06-.94-.94-2.06-.94 2.06-2.06.94z\"/><path d=\"M17.41 7.96l-1.37-1.37c-.4-.4-.92-.59-1.43-.59-.52 0-1.04.2-1.43.59L10.3 9.45l-7.72 7.72c-.78.78-.78 2.05 0 2.83L4 21.41c.39.39.9.59 1.41.59.51 0 1.02-.2 1.41-.59l7.78-7.78 2.81-2.81c.8-.78.8-2.07 0-2.86zM5.41 20L4 18.59l7.72-7.72 1.47 1.35L5.41 20z\"/>\n",
              "  </svg>\n",
              "      </button>\n",
              "      \n",
              "  <style>\n",
              "    .colab-df-container {\n",
              "      display:flex;\n",
              "      flex-wrap:wrap;\n",
              "      gap: 12px;\n",
              "    }\n",
              "\n",
              "    .colab-df-convert {\n",
              "      background-color: #E8F0FE;\n",
              "      border: none;\n",
              "      border-radius: 50%;\n",
              "      cursor: pointer;\n",
              "      display: none;\n",
              "      fill: #1967D2;\n",
              "      height: 32px;\n",
              "      padding: 0 0 0 0;\n",
              "      width: 32px;\n",
              "    }\n",
              "\n",
              "    .colab-df-convert:hover {\n",
              "      background-color: #E2EBFA;\n",
              "      box-shadow: 0px 1px 2px rgba(60, 64, 67, 0.3), 0px 1px 3px 1px rgba(60, 64, 67, 0.15);\n",
              "      fill: #174EA6;\n",
              "    }\n",
              "\n",
              "    [theme=dark] .colab-df-convert {\n",
              "      background-color: #3B4455;\n",
              "      fill: #D2E3FC;\n",
              "    }\n",
              "\n",
              "    [theme=dark] .colab-df-convert:hover {\n",
              "      background-color: #434B5C;\n",
              "      box-shadow: 0px 1px 3px 1px rgba(0, 0, 0, 0.15);\n",
              "      filter: drop-shadow(0px 1px 2px rgba(0, 0, 0, 0.3));\n",
              "      fill: #FFFFFF;\n",
              "    }\n",
              "  </style>\n",
              "\n",
              "      <script>\n",
              "        const buttonEl =\n",
              "          document.querySelector('#df-1e78c6f5-88bb-4de2-b4da-1d3601269f9a button.colab-df-convert');\n",
              "        buttonEl.style.display =\n",
              "          google.colab.kernel.accessAllowed ? 'block' : 'none';\n",
              "\n",
              "        async function convertToInteractive(key) {\n",
              "          const element = document.querySelector('#df-1e78c6f5-88bb-4de2-b4da-1d3601269f9a');\n",
              "          const dataTable =\n",
              "            await google.colab.kernel.invokeFunction('convertToInteractive',\n",
              "                                                     [key], {});\n",
              "          if (!dataTable) return;\n",
              "\n",
              "          const docLinkHtml = 'Like what you see? Visit the ' +\n",
              "            '<a target=\"_blank\" href=https://colab.research.google.com/notebooks/data_table.ipynb>data table notebook</a>'\n",
              "            + ' to learn more about interactive tables.';\n",
              "          element.innerHTML = '';\n",
              "          dataTable['output_type'] = 'display_data';\n",
              "          await google.colab.output.renderOutput(dataTable, element);\n",
              "          const docLink = document.createElement('div');\n",
              "          docLink.innerHTML = docLinkHtml;\n",
              "          element.appendChild(docLink);\n",
              "        }\n",
              "      </script>\n",
              "    </div>\n",
              "  </div>\n",
              "  "
            ]
          },
          "metadata": {},
          "execution_count": 3
        }
      ],
      "source": [
        "# Exploring the dataset \n",
        "dataset.head()"
      ]
    },
    {
      "cell_type": "code",
      "execution_count": 4,
      "metadata": {
        "colab": {
          "base_uri": "https://localhost:8080/"
        },
        "id": "1LDxmZC088oH",
        "outputId": "71363d92-0be8-479a-d77a-b10b451f6c03"
      },
      "outputs": [
        {
          "output_type": "execute_result",
          "data": {
            "text/plain": [
              "(404289, 1)"
            ]
          },
          "metadata": {},
          "execution_count": 4
        }
      ],
      "source": [
        "# Dataset dimension\n",
        "dataset.shape"
      ]
    },
    {
      "cell_type": "code",
      "execution_count": 5,
      "metadata": {
        "colab": {
          "base_uri": "https://localhost:8080/",
          "height": 35
        },
        "id": "ofr3j_Op8_eW",
        "outputId": "d1efbcf4-2882-4944-dd5f-1a47d814346b"
      },
      "outputs": [
        {
          "output_type": "execute_result",
          "data": {
            "text/plain": [
              "'What is the step by step guide to invest in share market in india?'"
            ],
            "application/vnd.google.colaboratory.intrinsic+json": {
              "type": "string"
            }
          },
          "metadata": {},
          "execution_count": 5
        }
      ],
      "source": [
        "# To print the first Question\n",
        "dataset['Question'][0]"
      ]
    },
    {
      "cell_type": "code",
      "execution_count": 7,
      "metadata": {
        "id": "SUuYqwidov6B"
      },
      "outputs": [],
      "source": [
        "# I needed to do this step bc I think there's some questions that are only numbers or something similar \n",
        "dataset['Question']=dataset['Question'].apply(str)\n",
        "\n"
      ]
    },
    {
      "cell_type": "markdown",
      "metadata": {
        "id": "v_0W5Iu76wtB"
      },
      "source": [
        "# Preprocessing\n",
        "\n",
        "#### Task: Use TF-IDF Vectorization to create a vectorized document term matrix. \n",
        "Note: You may want to explore the max_df and min_df parameters."
      ]
    },
    {
      "cell_type": "code",
      "execution_count": 8,
      "metadata": {
        "collapsed": true,
        "id": "_2WzeQs06wtC"
      },
      "outputs": [],
      "source": [
        "# Note: important step to ignore unnecessary words \n",
        "# ignore words occures more than 95% (words happen a lot) and less than 2 (not very relevant)\n",
        "cv = CountVectorizer(max_df=0.95, min_df=2, stop_words='english' , lowercase=False)"
      ]
    },
    {
      "cell_type": "code",
      "execution_count": 9,
      "metadata": {
        "collapsed": true,
        "id": "AS1fEr2M6wtC"
      },
      "outputs": [],
      "source": [
        "# Creating our document term matrix \n",
        "# doc term matrix \n",
        "dtm = cv.fit_transform(dataset['Question'])"
      ]
    },
    {
      "cell_type": "code",
      "execution_count": 10,
      "metadata": {
        "colab": {
          "base_uri": "https://localhost:8080/"
        },
        "id": "Z2OZcxE290ao",
        "outputId": "49bf5873-0f2a-46c6-b62a-8e5a53574e84"
      },
      "outputs": [
        {
          "output_type": "execute_result",
          "data": {
            "text/plain": [
              "<404289x46943 sparse matrix of type '<class 'numpy.int64'>'\n",
              "\twith 2421187 stored elements in Compressed Sparse Row format>"
            ]
          },
          "metadata": {},
          "execution_count": 10
        }
      ],
      "source": [
        "# Note: \n",
        "    # number of articles: 11992\n",
        "    # number of words: 54777 --> happen more than twice and less than 95% \n",
        "dtm"
      ]
    },
    {
      "cell_type": "markdown",
      "metadata": {
        "collapsed": true,
        "id": "anNlovOf6wtC"
      },
      "source": [
        "# LDA - Latent Dirichlet Allocation\n",
        "\n",
        "#### TASK: Using Scikit-Learn create an instance of LDA with 20 expected components. \n",
        "Note: Use random_state = 42"
      ]
    },
    {
      "cell_type": "code",
      "execution_count": 11,
      "metadata": {
        "id": "WewEfzBp6wtC"
      },
      "outputs": [],
      "source": [
        "# Creating an LDA with 20 type of Questions \n",
        "# number of tpes --> n_components\n",
        "# importnat: keep random state\n",
        "LDA = LatentDirichletAllocation(n_components=20,random_state=42)"
      ]
    },
    {
      "cell_type": "code",
      "execution_count": 12,
      "metadata": {
        "colab": {
          "base_uri": "https://localhost:8080/"
        },
        "id": "Qf2nCxqV6wtC",
        "outputId": "b3549b44-8337-4e1c-c389-45be34ccf85b"
      },
      "outputs": [
        {
          "output_type": "execute_result",
          "data": {
            "text/plain": [
              "LatentDirichletAllocation(n_components=20, random_state=42)"
            ]
          },
          "metadata": {},
          "execution_count": 12
        }
      ],
      "source": [
        "# Note: This can take a while, we're dealing with a large amount of documents!\n",
        "\n",
        "LDA.fit(dtm)"
      ]
    },
    {
      "cell_type": "code",
      "execution_count": 13,
      "metadata": {
        "id": "fsl37IBPpD9d",
        "colab": {
          "base_uri": "https://localhost:8080/"
        },
        "outputId": "7b8782a5-6923-4a44-d451-366b38c1a9c2"
      },
      "outputs": [
        {
          "output_type": "stream",
          "name": "stderr",
          "text": [
            "/usr/local/lib/python3.7/dist-packages/sklearn/utils/deprecation.py:87: FutureWarning: Function get_feature_names is deprecated; get_feature_names is deprecated in 1.0 and will be removed in 1.2. Please use get_feature_names_out instead.\n",
            "  warnings.warn(msg, category=FutureWarning)\n"
          ]
        },
        {
          "output_type": "execute_result",
          "data": {
            "text/plain": [
              "46943"
            ]
          },
          "metadata": {},
          "execution_count": 13
        }
      ],
      "source": [
        "# This is the length of the words in the corpus \n",
        "len(cv.get_feature_names())"
      ]
    },
    {
      "cell_type": "code",
      "execution_count": 17,
      "metadata": {
        "id": "SkwJUe85pGmn",
        "colab": {
          "base_uri": "https://localhost:8080/"
        },
        "outputId": "266e4dcd-f415-4c3c-93c3-8d17741f4d01"
      },
      "outputs": [
        {
          "output_type": "stream",
          "name": "stdout",
          "text": [
            "lappymaster\n",
            "Shayari\n",
            "mongering\n",
            "Galil\n",
            "witchcraft\n",
            "hull\n",
            "viscose\n",
            "Cerberus\n",
            "lone\n",
            "ennikkumâ\n"
          ]
        }
      ],
      "source": [
        "# Print out 10 random words from our corpus \n",
        "\n",
        "for i in range(10):\n",
        "    random_word_id = random.randint(0,46942)\n",
        "    print(cv.get_feature_names()[random_word_id])"
      ]
    },
    {
      "cell_type": "code",
      "source": [
        "# Verifying that we have 20 Ques in the corpus as output from LDA \n",
        "\n",
        "len(LDA.components_)"
      ],
      "metadata": {
        "colab": {
          "base_uri": "https://localhost:8080/"
        },
        "id": "Tc5c9SXETRof",
        "outputId": "a98c638b-971b-46a3-ef2a-da449f370206"
      },
      "execution_count": 18,
      "outputs": [
        {
          "output_type": "execute_result",
          "data": {
            "text/plain": [
              "20"
            ]
          },
          "metadata": {},
          "execution_count": 18
        }
      ]
    },
    {
      "cell_type": "code",
      "source": [
        "LDA.components_.shape"
      ],
      "metadata": {
        "colab": {
          "base_uri": "https://localhost:8080/"
        },
        "id": "PQZmxfPyTqTc",
        "outputId": "2c01dad8-4baa-4ccb-ad9e-52a49f5bc1fc"
      },
      "execution_count": 19,
      "outputs": [
        {
          "output_type": "execute_result",
          "data": {
            "text/plain": [
              "(20, 46943)"
            ]
          },
          "metadata": {},
          "execution_count": 19
        }
      ]
    },
    {
      "cell_type": "markdown",
      "source": [
        "## Showing Stored Words"
      ],
      "metadata": {
        "id": "Ou6jzZR5XZak"
      }
    },
    {
      "cell_type": "code",
      "source": [
        "#lets check the first type of Ques  \n",
        "single_Ques = LDA.components_[0]\n",
        "# Note: the return array is the sort from the lowest value to the highest value\n",
        "single_Ques.argsort()\n",
        "# Note: this returns the index postions NOT the words\n",
        "single_Ques.argsort()[-10:]"
      ],
      "metadata": {
        "colab": {
          "base_uri": "https://localhost:8080/"
        },
        "id": "pQ2hV3cwUInH",
        "outputId": "8533d269-e761-4b7c-bd54-9c5a0bf59200"
      },
      "execution_count": 24,
      "outputs": [
        {
          "output_type": "execute_result",
          "data": {
            "text/plain": [
              "array([30432, 29577, 38355, 27097, 19482, 30001, 33609, 28874, 19433,\n",
              "        8880])"
            ]
          },
          "metadata": {},
          "execution_count": 24
        }
      ]
    },
    {
      "cell_type": "code",
      "source": [
        "# to return the words \n",
        "top_word_indices = single_Ques.argsort()[-15:]\n",
        "\n",
        "# Return the top 15 words \"based on probability\" using their index\n",
        "for index in top_word_indices:\n",
        "    print(cv.get_feature_names()[index])"
      ],
      "metadata": {
        "colab": {
          "base_uri": "https://localhost:8080/"
        },
        "id": "ekUulBmXUgwc",
        "outputId": "df266101-5f5d-444d-e514-409c5f194694"
      },
      "execution_count": 25,
      "outputs": [
        {
          "output_type": "stream",
          "name": "stdout",
          "text": [
            "culture\n",
            "tell\n",
            "making\n",
            "girlfriend\n",
            "My\n",
            "guy\n",
            "friend\n",
            "process\n",
            "does\n",
            "Why\n",
            "girl\n",
            "like\n",
            "feel\n",
            "What\n",
            "How\n"
          ]
        }
      ]
    },
    {
      "cell_type": "markdown",
      "metadata": {
        "id": "t1_FcdXM6wtD"
      },
      "source": [
        "#### TASK: Print our the top 15 most common words for each of the 20 topics."
      ]
    },
    {
      "cell_type": "code",
      "source": [
        "# Printing the top 15 words for each of the LDA 20 types of Ques \n",
        "\n",
        "for index,topic in enumerate(LDA.components_):\n",
        "    print(f'THE TOP 15 WORDS FOR QUESTION #{index}')\n",
        "    print([cv.get_feature_names()[i] for i in topic.argsort()[-15:]])\n",
        "    print('\\n')"
      ],
      "metadata": {
        "colab": {
          "base_uri": "https://localhost:8080/"
        },
        "id": "82GKUMC0WL36",
        "outputId": "97b1713f-5164-4f5b-ed96-92d33ca4668b"
      },
      "execution_count": 27,
      "outputs": [
        {
          "output_type": "stream",
          "name": "stdout",
          "text": [
            "THE TOP 15 WORDS FOR QUESTION #0\n",
            "['culture', 'tell', 'making', 'girlfriend', 'My', 'guy', 'friend', 'process', 'does', 'Why', 'girl', 'like', 'feel', 'What', 'How']\n",
            "\n",
            "\n",
            "THE TOP 15 WORDS FOR QUESTION #1\n",
            "['true', 'English', 'War', 'hard', 'World', 'What', 'Why', 'Chinese', 'learning', 'learn', 'possible', 'stop', 'start', 'How', 'Is']\n",
            "\n",
            "\n",
            "THE TOP 15 WORDS FOR QUESTION #2\n",
            "['famous', 'project', 'used', 'experience', 'terms', 'difference', 'worst', 'good', 'happened', 'life', 'web', 've', 'business', 'thing', 'What']\n",
            "\n",
            "\n",
            "THE TOP 15 WORDS FOR QUESTION #3\n",
            "['purpose', 'effects', 'class', 'movies', 'watch', 'math', 'study', 'exam', 'science', 'school', 'computer', 'prepare', 'How', 'difference', 'What']\n",
            "\n",
            "\n",
            "THE TOP 15 WORDS FOR QUESTION #4\n",
            "['month', 'writing', 'skills', 'does', 'earn', 'What', 'English', 'online', 'love', 'lose', 'improve', 'weight', 'money', 'make', 'How']\n",
            "\n",
            "\n",
            "THE TOP 15 WORDS FOR QUESTION #5\n",
            "['universities', 'good', 'difference', 'makes', 'meaning', 'happens', 'differences', 'favorite', 'programming', 'different', 'does', 'language', 'examples', 'ways', 'What']\n",
            "\n",
            "\n",
            "THE TOP 15 WORDS FOR QUESTION #6\n",
            "['asked', 'answers', 'test', 'answer', 'bad', 'How', 'ask', 'question', 'questions', 'mean', 'people', 'does', 'What', 'Quora', 'Why']\n",
            "\n",
            "\n",
            "THE TOP 15 WORDS FOR QUESTION #7\n",
            "['quality', 'service', 'wear', 'Do', 'If', 'white', 'Are', 'think', 'look', 'does', 'people', 'What', 'like', 'Where', 'Why']\n",
            "\n",
            "\n",
            "THE TOP 15 WORDS FOR QUESTION #8\n",
            "['president', 'If', 'win', 'US', 'Hillary', 'Is', 'How', 'Clinton', 'What', 'Donald', 'Who', 'time', 'Trump', 'did', 'Why']\n",
            "\n",
            "\n",
            "THE TOP 15 WORDS FOR QUESTION #9\n",
            "['mechanical', 'engineer', 'students', 'Can', 'war', 'student', 'career', 'company', 'college', 'Is', 'How', 'engineering', 'job', 'India', 'What']\n",
            "\n",
            "\n",
            "THE TOP 15 WORDS FOR QUESTION #10\n",
            "['traffic', 'differ', 'media', 'Does', 'countries', 'Google', 'What', 'social', 'Is', 'country', 'How', 'Which', 'India', 'better', 'Why']\n",
            "\n",
            "\n",
            "THE TOP 15 WORDS FOR QUESTION #11\n",
            "['body', 'Desert', 'girls', 'drive', 'ones', 'self', 'parents', 'does', 'years', 'average', 'compare', 'year', 'old', 'What', 'How']\n",
            "\n",
            "\n",
            "THE TOP 15 WORDS FOR QUESTION #12\n",
            "['education', 'employees', 'like', 'interesting', 'Why', 'mind', 'don', 'word', 'people', 'going', 'new', 'day', 'things', 'know', 'What']\n",
            "\n",
            "\n",
            "THE TOP 15 WORDS FOR QUESTION #13\n",
            "['biggest', 'problems', 'alcohol', 'Which', 'future', 'correct', 'story', 'Can', 'center', 'drug', 'Have', 'read', 'New', '2017', 'What']\n",
            "\n",
            "\n",
            "THE TOP 15 WORDS FOR QUESTION #14\n",
            "['What', 'Can', 'buy', 'iPhone', 'TV', 'women', 'need', 'Does', 'How', 'good', 'real', 'sex', 'really', 'Is', 'Do']\n",
            "\n",
            "\n",
            "THE TOP 15 WORDS FOR QUESTION #15\n",
            "['card', 'mobile', 'email', 'use', 'password', 'using', 'Android', 'app', 'Instagram', 'Can', 'number', 'phone', 'Facebook', 'account', 'How']\n",
            "\n",
            "\n",
            "THE TOP 15 WORDS FOR QUESTION #16\n",
            "['light', 'change', 'use', 'hotel', 'police', 'travel', 'time', 'write', 'energy', 'What', 'does', 'If', 'Is', 'Can', 'How']\n",
            "\n",
            "\n",
            "THE TOP 15 WORDS FOR QUESTION #17\n",
            "['Does', 'human', 'rid', 'days', 'live', 'hair', 'world', 'Can', 'person', 'does', 'long', 'Why', 'work', 'life', 'How']\n",
            "\n",
            "\n",
            "THE TOP 15 WORDS FOR QUESTION #18\n",
            "['laptop', 'places', 'movies', 'ways', 'buy', 'online', 'India', 'books', 'book', 'good', 'learn', 'way', 'Which', 'What', 'best']\n",
            "\n",
            "\n",
            "THE TOP 15 WORDS FOR QUESTION #19\n",
            "['economy', 'Modi', 'help', 'rupee', 'affect', 'money', 'Rs', 'India', 'black', 'Indian', '1000', 'notes', '500', 'How', 'What']\n",
            "\n",
            "\n"
          ]
        }
      ]
    },
    {
      "cell_type": "markdown",
      "source": [
        "I can't really tell what they're asking about but my best guess is for exmaple in \n",
        "- QUESTION #15 --> they're asking about soical media accounts \n",
        "- QUESTION #3 --> young people asking about school and movies same time :)\n"
      ],
      "metadata": {
        "id": "WQQIjMDzn3g1"
      }
    },
    {
      "cell_type": "code",
      "source": [
        "# Applying LDA to DTM \n",
        "\n",
        "type_results = LDA.transform(dtm)\n"
      ],
      "metadata": {
        "id": "Qz1o-RZCWL9x"
      },
      "execution_count": 28,
      "outputs": []
    },
    {
      "cell_type": "code",
      "source": [
        "type_results.argmax(axis=1)\n",
        "# Creating a new cloumn in the dataset the gives the index \"which represent the topic number\" from LDA\n",
        "dataset['TypeOfQues'] = type_results.argmax(axis=1)"
      ],
      "metadata": {
        "id": "tuc2eGG5X9hr"
      },
      "execution_count": 30,
      "outputs": []
    },
    {
      "cell_type": "code",
      "source": [
        "dataset"
      ],
      "metadata": {
        "colab": {
          "base_uri": "https://localhost:8080/",
          "height": 424
        },
        "id": "IDMmg8g9YLV1",
        "outputId": "f10402a6-98cb-46df-e5bb-ea7682e6a5b7"
      },
      "execution_count": 31,
      "outputs": [
        {
          "output_type": "execute_result",
          "data": {
            "text/plain": [
              "                                                 Question  TypeOfQues\n",
              "0       What is the step by step guide to invest in sh...          18\n",
              "1       What is the story of Kohinoor (Koh-i-Noor) Dia...           6\n",
              "2       How can I increase the speed of my internet co...          16\n",
              "3       Why am I mentally very lonely? How can I solve...          17\n",
              "4       Which one dissolve in water quikly sugar, salt...          10\n",
              "...                                                   ...         ...\n",
              "404284  How many keywords are there in the Racket prog...          15\n",
              "404285          Do you believe there is life after death?          17\n",
              "404286                                  What is one coin?           2\n",
              "404287  What is the approx annual cost of living while...          14\n",
              "404288              What is like to have sex with cousin?          11\n",
              "\n",
              "[404289 rows x 2 columns]"
            ],
            "text/html": [
              "\n",
              "  <div id=\"df-48194f56-a8b2-44a8-9494-156326f1c868\">\n",
              "    <div class=\"colab-df-container\">\n",
              "      <div>\n",
              "<style scoped>\n",
              "    .dataframe tbody tr th:only-of-type {\n",
              "        vertical-align: middle;\n",
              "    }\n",
              "\n",
              "    .dataframe tbody tr th {\n",
              "        vertical-align: top;\n",
              "    }\n",
              "\n",
              "    .dataframe thead th {\n",
              "        text-align: right;\n",
              "    }\n",
              "</style>\n",
              "<table border=\"1\" class=\"dataframe\">\n",
              "  <thead>\n",
              "    <tr style=\"text-align: right;\">\n",
              "      <th></th>\n",
              "      <th>Question</th>\n",
              "      <th>TypeOfQues</th>\n",
              "    </tr>\n",
              "  </thead>\n",
              "  <tbody>\n",
              "    <tr>\n",
              "      <th>0</th>\n",
              "      <td>What is the step by step guide to invest in sh...</td>\n",
              "      <td>18</td>\n",
              "    </tr>\n",
              "    <tr>\n",
              "      <th>1</th>\n",
              "      <td>What is the story of Kohinoor (Koh-i-Noor) Dia...</td>\n",
              "      <td>6</td>\n",
              "    </tr>\n",
              "    <tr>\n",
              "      <th>2</th>\n",
              "      <td>How can I increase the speed of my internet co...</td>\n",
              "      <td>16</td>\n",
              "    </tr>\n",
              "    <tr>\n",
              "      <th>3</th>\n",
              "      <td>Why am I mentally very lonely? How can I solve...</td>\n",
              "      <td>17</td>\n",
              "    </tr>\n",
              "    <tr>\n",
              "      <th>4</th>\n",
              "      <td>Which one dissolve in water quikly sugar, salt...</td>\n",
              "      <td>10</td>\n",
              "    </tr>\n",
              "    <tr>\n",
              "      <th>...</th>\n",
              "      <td>...</td>\n",
              "      <td>...</td>\n",
              "    </tr>\n",
              "    <tr>\n",
              "      <th>404284</th>\n",
              "      <td>How many keywords are there in the Racket prog...</td>\n",
              "      <td>15</td>\n",
              "    </tr>\n",
              "    <tr>\n",
              "      <th>404285</th>\n",
              "      <td>Do you believe there is life after death?</td>\n",
              "      <td>17</td>\n",
              "    </tr>\n",
              "    <tr>\n",
              "      <th>404286</th>\n",
              "      <td>What is one coin?</td>\n",
              "      <td>2</td>\n",
              "    </tr>\n",
              "    <tr>\n",
              "      <th>404287</th>\n",
              "      <td>What is the approx annual cost of living while...</td>\n",
              "      <td>14</td>\n",
              "    </tr>\n",
              "    <tr>\n",
              "      <th>404288</th>\n",
              "      <td>What is like to have sex with cousin?</td>\n",
              "      <td>11</td>\n",
              "    </tr>\n",
              "  </tbody>\n",
              "</table>\n",
              "<p>404289 rows × 2 columns</p>\n",
              "</div>\n",
              "      <button class=\"colab-df-convert\" onclick=\"convertToInteractive('df-48194f56-a8b2-44a8-9494-156326f1c868')\"\n",
              "              title=\"Convert this dataframe to an interactive table.\"\n",
              "              style=\"display:none;\">\n",
              "        \n",
              "  <svg xmlns=\"http://www.w3.org/2000/svg\" height=\"24px\"viewBox=\"0 0 24 24\"\n",
              "       width=\"24px\">\n",
              "    <path d=\"M0 0h24v24H0V0z\" fill=\"none\"/>\n",
              "    <path d=\"M18.56 5.44l.94 2.06.94-2.06 2.06-.94-2.06-.94-.94-2.06-.94 2.06-2.06.94zm-11 1L8.5 8.5l.94-2.06 2.06-.94-2.06-.94L8.5 2.5l-.94 2.06-2.06.94zm10 10l.94 2.06.94-2.06 2.06-.94-2.06-.94-.94-2.06-.94 2.06-2.06.94z\"/><path d=\"M17.41 7.96l-1.37-1.37c-.4-.4-.92-.59-1.43-.59-.52 0-1.04.2-1.43.59L10.3 9.45l-7.72 7.72c-.78.78-.78 2.05 0 2.83L4 21.41c.39.39.9.59 1.41.59.51 0 1.02-.2 1.41-.59l7.78-7.78 2.81-2.81c.8-.78.8-2.07 0-2.86zM5.41 20L4 18.59l7.72-7.72 1.47 1.35L5.41 20z\"/>\n",
              "  </svg>\n",
              "      </button>\n",
              "      \n",
              "  <style>\n",
              "    .colab-df-container {\n",
              "      display:flex;\n",
              "      flex-wrap:wrap;\n",
              "      gap: 12px;\n",
              "    }\n",
              "\n",
              "    .colab-df-convert {\n",
              "      background-color: #E8F0FE;\n",
              "      border: none;\n",
              "      border-radius: 50%;\n",
              "      cursor: pointer;\n",
              "      display: none;\n",
              "      fill: #1967D2;\n",
              "      height: 32px;\n",
              "      padding: 0 0 0 0;\n",
              "      width: 32px;\n",
              "    }\n",
              "\n",
              "    .colab-df-convert:hover {\n",
              "      background-color: #E2EBFA;\n",
              "      box-shadow: 0px 1px 2px rgba(60, 64, 67, 0.3), 0px 1px 3px 1px rgba(60, 64, 67, 0.15);\n",
              "      fill: #174EA6;\n",
              "    }\n",
              "\n",
              "    [theme=dark] .colab-df-convert {\n",
              "      background-color: #3B4455;\n",
              "      fill: #D2E3FC;\n",
              "    }\n",
              "\n",
              "    [theme=dark] .colab-df-convert:hover {\n",
              "      background-color: #434B5C;\n",
              "      box-shadow: 0px 1px 3px 1px rgba(0, 0, 0, 0.15);\n",
              "      filter: drop-shadow(0px 1px 2px rgba(0, 0, 0, 0.3));\n",
              "      fill: #FFFFFF;\n",
              "    }\n",
              "  </style>\n",
              "\n",
              "      <script>\n",
              "        const buttonEl =\n",
              "          document.querySelector('#df-48194f56-a8b2-44a8-9494-156326f1c868 button.colab-df-convert');\n",
              "        buttonEl.style.display =\n",
              "          google.colab.kernel.accessAllowed ? 'block' : 'none';\n",
              "\n",
              "        async function convertToInteractive(key) {\n",
              "          const element = document.querySelector('#df-48194f56-a8b2-44a8-9494-156326f1c868');\n",
              "          const dataTable =\n",
              "            await google.colab.kernel.invokeFunction('convertToInteractive',\n",
              "                                                     [key], {});\n",
              "          if (!dataTable) return;\n",
              "\n",
              "          const docLinkHtml = 'Like what you see? Visit the ' +\n",
              "            '<a target=\"_blank\" href=https://colab.research.google.com/notebooks/data_table.ipynb>data table notebook</a>'\n",
              "            + ' to learn more about interactive tables.';\n",
              "          element.innerHTML = '';\n",
              "          dataTable['output_type'] = 'display_data';\n",
              "          await google.colab.output.renderOutput(dataTable, element);\n",
              "          const docLink = document.createElement('div');\n",
              "          docLink.innerHTML = docLinkHtml;\n",
              "          element.appendChild(docLink);\n",
              "        }\n",
              "      </script>\n",
              "    </div>\n",
              "  </div>\n",
              "  "
            ]
          },
          "metadata": {},
          "execution_count": 31
        }
      ]
    },
    {
      "cell_type": "markdown",
      "metadata": {
        "id": "j6aj_Zol6wtD"
      },
      "source": [
        "#### TASK: Add a new column to the original quora dataframe that labels each question into one of the 20 topic categories."
      ]
    },
    {
      "cell_type": "code",
      "source": [
        "# What the the appropraite TypeOfQues from LDA ???\n",
        "\n",
        "Ques_dict = {0:'type_1',1:'type_2',2:'type_3',3:'type_4',4:'type_5',5:'type_6',6:'type_6', \n",
        "             7:'type_7',8:'type_8',9:'type_9',10:'type_10',11:'type_11',12:'type_12',13:'type_13',\n",
        "             14:'type_14',15:'type_15',16:'type_16',17:'type_17',18:'type_18',19:'type_19',20:'type_20'}\n",
        "dataset[\"Ques Label\"] = dataset[\"TypeOfQues\"].map(Ques_dict)"
      ],
      "metadata": {
        "id": "QtpXVdiAYJ1O"
      },
      "execution_count": 32,
      "outputs": []
    },
    {
      "cell_type": "code",
      "source": [
        "dataset"
      ],
      "metadata": {
        "colab": {
          "base_uri": "https://localhost:8080/",
          "height": 424
        },
        "id": "UMffldannr0d",
        "outputId": "0910face-c5e4-47b0-cc84-2094c9118d96"
      },
      "execution_count": 33,
      "outputs": [
        {
          "output_type": "execute_result",
          "data": {
            "text/plain": [
              "                                                 Question  TypeOfQues  \\\n",
              "0       What is the step by step guide to invest in sh...          18   \n",
              "1       What is the story of Kohinoor (Koh-i-Noor) Dia...           6   \n",
              "2       How can I increase the speed of my internet co...          16   \n",
              "3       Why am I mentally very lonely? How can I solve...          17   \n",
              "4       Which one dissolve in water quikly sugar, salt...          10   \n",
              "...                                                   ...         ...   \n",
              "404284  How many keywords are there in the Racket prog...          15   \n",
              "404285          Do you believe there is life after death?          17   \n",
              "404286                                  What is one coin?           2   \n",
              "404287  What is the approx annual cost of living while...          14   \n",
              "404288              What is like to have sex with cousin?          11   \n",
              "\n",
              "       Ques Label  \n",
              "0         type_18  \n",
              "1          type_6  \n",
              "2         type_16  \n",
              "3         type_17  \n",
              "4         type_10  \n",
              "...           ...  \n",
              "404284    type_15  \n",
              "404285    type_17  \n",
              "404286     type_3  \n",
              "404287    type_14  \n",
              "404288    type_11  \n",
              "\n",
              "[404289 rows x 3 columns]"
            ],
            "text/html": [
              "\n",
              "  <div id=\"df-db903aa5-2edf-4bd6-b745-b6e6a574c129\">\n",
              "    <div class=\"colab-df-container\">\n",
              "      <div>\n",
              "<style scoped>\n",
              "    .dataframe tbody tr th:only-of-type {\n",
              "        vertical-align: middle;\n",
              "    }\n",
              "\n",
              "    .dataframe tbody tr th {\n",
              "        vertical-align: top;\n",
              "    }\n",
              "\n",
              "    .dataframe thead th {\n",
              "        text-align: right;\n",
              "    }\n",
              "</style>\n",
              "<table border=\"1\" class=\"dataframe\">\n",
              "  <thead>\n",
              "    <tr style=\"text-align: right;\">\n",
              "      <th></th>\n",
              "      <th>Question</th>\n",
              "      <th>TypeOfQues</th>\n",
              "      <th>Ques Label</th>\n",
              "    </tr>\n",
              "  </thead>\n",
              "  <tbody>\n",
              "    <tr>\n",
              "      <th>0</th>\n",
              "      <td>What is the step by step guide to invest in sh...</td>\n",
              "      <td>18</td>\n",
              "      <td>type_18</td>\n",
              "    </tr>\n",
              "    <tr>\n",
              "      <th>1</th>\n",
              "      <td>What is the story of Kohinoor (Koh-i-Noor) Dia...</td>\n",
              "      <td>6</td>\n",
              "      <td>type_6</td>\n",
              "    </tr>\n",
              "    <tr>\n",
              "      <th>2</th>\n",
              "      <td>How can I increase the speed of my internet co...</td>\n",
              "      <td>16</td>\n",
              "      <td>type_16</td>\n",
              "    </tr>\n",
              "    <tr>\n",
              "      <th>3</th>\n",
              "      <td>Why am I mentally very lonely? How can I solve...</td>\n",
              "      <td>17</td>\n",
              "      <td>type_17</td>\n",
              "    </tr>\n",
              "    <tr>\n",
              "      <th>4</th>\n",
              "      <td>Which one dissolve in water quikly sugar, salt...</td>\n",
              "      <td>10</td>\n",
              "      <td>type_10</td>\n",
              "    </tr>\n",
              "    <tr>\n",
              "      <th>...</th>\n",
              "      <td>...</td>\n",
              "      <td>...</td>\n",
              "      <td>...</td>\n",
              "    </tr>\n",
              "    <tr>\n",
              "      <th>404284</th>\n",
              "      <td>How many keywords are there in the Racket prog...</td>\n",
              "      <td>15</td>\n",
              "      <td>type_15</td>\n",
              "    </tr>\n",
              "    <tr>\n",
              "      <th>404285</th>\n",
              "      <td>Do you believe there is life after death?</td>\n",
              "      <td>17</td>\n",
              "      <td>type_17</td>\n",
              "    </tr>\n",
              "    <tr>\n",
              "      <th>404286</th>\n",
              "      <td>What is one coin?</td>\n",
              "      <td>2</td>\n",
              "      <td>type_3</td>\n",
              "    </tr>\n",
              "    <tr>\n",
              "      <th>404287</th>\n",
              "      <td>What is the approx annual cost of living while...</td>\n",
              "      <td>14</td>\n",
              "      <td>type_14</td>\n",
              "    </tr>\n",
              "    <tr>\n",
              "      <th>404288</th>\n",
              "      <td>What is like to have sex with cousin?</td>\n",
              "      <td>11</td>\n",
              "      <td>type_11</td>\n",
              "    </tr>\n",
              "  </tbody>\n",
              "</table>\n",
              "<p>404289 rows × 3 columns</p>\n",
              "</div>\n",
              "      <button class=\"colab-df-convert\" onclick=\"convertToInteractive('df-db903aa5-2edf-4bd6-b745-b6e6a574c129')\"\n",
              "              title=\"Convert this dataframe to an interactive table.\"\n",
              "              style=\"display:none;\">\n",
              "        \n",
              "  <svg xmlns=\"http://www.w3.org/2000/svg\" height=\"24px\"viewBox=\"0 0 24 24\"\n",
              "       width=\"24px\">\n",
              "    <path d=\"M0 0h24v24H0V0z\" fill=\"none\"/>\n",
              "    <path d=\"M18.56 5.44l.94 2.06.94-2.06 2.06-.94-2.06-.94-.94-2.06-.94 2.06-2.06.94zm-11 1L8.5 8.5l.94-2.06 2.06-.94-2.06-.94L8.5 2.5l-.94 2.06-2.06.94zm10 10l.94 2.06.94-2.06 2.06-.94-2.06-.94-.94-2.06-.94 2.06-2.06.94z\"/><path d=\"M17.41 7.96l-1.37-1.37c-.4-.4-.92-.59-1.43-.59-.52 0-1.04.2-1.43.59L10.3 9.45l-7.72 7.72c-.78.78-.78 2.05 0 2.83L4 21.41c.39.39.9.59 1.41.59.51 0 1.02-.2 1.41-.59l7.78-7.78 2.81-2.81c.8-.78.8-2.07 0-2.86zM5.41 20L4 18.59l7.72-7.72 1.47 1.35L5.41 20z\"/>\n",
              "  </svg>\n",
              "      </button>\n",
              "      \n",
              "  <style>\n",
              "    .colab-df-container {\n",
              "      display:flex;\n",
              "      flex-wrap:wrap;\n",
              "      gap: 12px;\n",
              "    }\n",
              "\n",
              "    .colab-df-convert {\n",
              "      background-color: #E8F0FE;\n",
              "      border: none;\n",
              "      border-radius: 50%;\n",
              "      cursor: pointer;\n",
              "      display: none;\n",
              "      fill: #1967D2;\n",
              "      height: 32px;\n",
              "      padding: 0 0 0 0;\n",
              "      width: 32px;\n",
              "    }\n",
              "\n",
              "    .colab-df-convert:hover {\n",
              "      background-color: #E2EBFA;\n",
              "      box-shadow: 0px 1px 2px rgba(60, 64, 67, 0.3), 0px 1px 3px 1px rgba(60, 64, 67, 0.15);\n",
              "      fill: #174EA6;\n",
              "    }\n",
              "\n",
              "    [theme=dark] .colab-df-convert {\n",
              "      background-color: #3B4455;\n",
              "      fill: #D2E3FC;\n",
              "    }\n",
              "\n",
              "    [theme=dark] .colab-df-convert:hover {\n",
              "      background-color: #434B5C;\n",
              "      box-shadow: 0px 1px 3px 1px rgba(0, 0, 0, 0.15);\n",
              "      filter: drop-shadow(0px 1px 2px rgba(0, 0, 0, 0.3));\n",
              "      fill: #FFFFFF;\n",
              "    }\n",
              "  </style>\n",
              "\n",
              "      <script>\n",
              "        const buttonEl =\n",
              "          document.querySelector('#df-db903aa5-2edf-4bd6-b745-b6e6a574c129 button.colab-df-convert');\n",
              "        buttonEl.style.display =\n",
              "          google.colab.kernel.accessAllowed ? 'block' : 'none';\n",
              "\n",
              "        async function convertToInteractive(key) {\n",
              "          const element = document.querySelector('#df-db903aa5-2edf-4bd6-b745-b6e6a574c129');\n",
              "          const dataTable =\n",
              "            await google.colab.kernel.invokeFunction('convertToInteractive',\n",
              "                                                     [key], {});\n",
              "          if (!dataTable) return;\n",
              "\n",
              "          const docLinkHtml = 'Like what you see? Visit the ' +\n",
              "            '<a target=\"_blank\" href=https://colab.research.google.com/notebooks/data_table.ipynb>data table notebook</a>'\n",
              "            + ' to learn more about interactive tables.';\n",
              "          element.innerHTML = '';\n",
              "          dataTable['output_type'] = 'display_data';\n",
              "          await google.colab.output.renderOutput(dataTable, element);\n",
              "          const docLink = document.createElement('div');\n",
              "          docLink.innerHTML = docLinkHtml;\n",
              "          element.appendChild(docLink);\n",
              "        }\n",
              "      </script>\n",
              "    </div>\n",
              "  </div>\n",
              "  "
            ]
          },
          "metadata": {},
          "execution_count": 33
        }
      ]
    },
    {
      "cell_type": "markdown",
      "metadata": {
        "id": "ti1dOhKP6wtD"
      },
      "source": [
        "# Non-negative Matrix Factorization\n",
        "\n",
        "#### TASK: Using Scikit-Learn create an instance of NMF with 20 expected components.\n",
        "Note: Use random_state = 42"
      ]
    },
    {
      "cell_type": "code",
      "execution_count": 35,
      "metadata": {
        "collapsed": true,
        "id": "puMCu-_66wtD"
      },
      "outputs": [],
      "source": [
        "# Importing packages \n",
        "\n",
        "from sklearn.feature_extraction.text import TfidfVectorizer\n",
        "from sklearn.decomposition import NMF"
      ]
    },
    {
      "cell_type": "code",
      "execution_count": 36,
      "metadata": {
        "collapsed": true,
        "id": "UKFMCDwP6wtD"
      },
      "outputs": [],
      "source": [
        "# working with a copy from original dataset \n",
        "dataset2 = pd.read_excel('/content/1664163408__Quora Questions.xlsx')\n"
      ]
    },
    {
      "cell_type": "code",
      "source": [
        "dataset2"
      ],
      "metadata": {
        "colab": {
          "base_uri": "https://localhost:8080/",
          "height": 424
        },
        "id": "B8qapms11zgB",
        "outputId": "1f532c6d-858f-4522-fcee-9d08d99157d2"
      },
      "execution_count": 37,
      "outputs": [
        {
          "output_type": "execute_result",
          "data": {
            "text/plain": [
              "                                                 Question\n",
              "0       What is the step by step guide to invest in sh...\n",
              "1       What is the story of Kohinoor (Koh-i-Noor) Dia...\n",
              "2       How can I increase the speed of my internet co...\n",
              "3       Why am I mentally very lonely? How can I solve...\n",
              "4       Which one dissolve in water quikly sugar, salt...\n",
              "...                                                   ...\n",
              "404284  How many keywords are there in the Racket prog...\n",
              "404285          Do you believe there is life after death?\n",
              "404286                                  What is one coin?\n",
              "404287  What is the approx annual cost of living while...\n",
              "404288              What is like to have sex with cousin?\n",
              "\n",
              "[404289 rows x 1 columns]"
            ],
            "text/html": [
              "\n",
              "  <div id=\"df-00215cbc-9bf0-4484-bd0e-e262e6120449\">\n",
              "    <div class=\"colab-df-container\">\n",
              "      <div>\n",
              "<style scoped>\n",
              "    .dataframe tbody tr th:only-of-type {\n",
              "        vertical-align: middle;\n",
              "    }\n",
              "\n",
              "    .dataframe tbody tr th {\n",
              "        vertical-align: top;\n",
              "    }\n",
              "\n",
              "    .dataframe thead th {\n",
              "        text-align: right;\n",
              "    }\n",
              "</style>\n",
              "<table border=\"1\" class=\"dataframe\">\n",
              "  <thead>\n",
              "    <tr style=\"text-align: right;\">\n",
              "      <th></th>\n",
              "      <th>Question</th>\n",
              "    </tr>\n",
              "  </thead>\n",
              "  <tbody>\n",
              "    <tr>\n",
              "      <th>0</th>\n",
              "      <td>What is the step by step guide to invest in sh...</td>\n",
              "    </tr>\n",
              "    <tr>\n",
              "      <th>1</th>\n",
              "      <td>What is the story of Kohinoor (Koh-i-Noor) Dia...</td>\n",
              "    </tr>\n",
              "    <tr>\n",
              "      <th>2</th>\n",
              "      <td>How can I increase the speed of my internet co...</td>\n",
              "    </tr>\n",
              "    <tr>\n",
              "      <th>3</th>\n",
              "      <td>Why am I mentally very lonely? How can I solve...</td>\n",
              "    </tr>\n",
              "    <tr>\n",
              "      <th>4</th>\n",
              "      <td>Which one dissolve in water quikly sugar, salt...</td>\n",
              "    </tr>\n",
              "    <tr>\n",
              "      <th>...</th>\n",
              "      <td>...</td>\n",
              "    </tr>\n",
              "    <tr>\n",
              "      <th>404284</th>\n",
              "      <td>How many keywords are there in the Racket prog...</td>\n",
              "    </tr>\n",
              "    <tr>\n",
              "      <th>404285</th>\n",
              "      <td>Do you believe there is life after death?</td>\n",
              "    </tr>\n",
              "    <tr>\n",
              "      <th>404286</th>\n",
              "      <td>What is one coin?</td>\n",
              "    </tr>\n",
              "    <tr>\n",
              "      <th>404287</th>\n",
              "      <td>What is the approx annual cost of living while...</td>\n",
              "    </tr>\n",
              "    <tr>\n",
              "      <th>404288</th>\n",
              "      <td>What is like to have sex with cousin?</td>\n",
              "    </tr>\n",
              "  </tbody>\n",
              "</table>\n",
              "<p>404289 rows × 1 columns</p>\n",
              "</div>\n",
              "      <button class=\"colab-df-convert\" onclick=\"convertToInteractive('df-00215cbc-9bf0-4484-bd0e-e262e6120449')\"\n",
              "              title=\"Convert this dataframe to an interactive table.\"\n",
              "              style=\"display:none;\">\n",
              "        \n",
              "  <svg xmlns=\"http://www.w3.org/2000/svg\" height=\"24px\"viewBox=\"0 0 24 24\"\n",
              "       width=\"24px\">\n",
              "    <path d=\"M0 0h24v24H0V0z\" fill=\"none\"/>\n",
              "    <path d=\"M18.56 5.44l.94 2.06.94-2.06 2.06-.94-2.06-.94-.94-2.06-.94 2.06-2.06.94zm-11 1L8.5 8.5l.94-2.06 2.06-.94-2.06-.94L8.5 2.5l-.94 2.06-2.06.94zm10 10l.94 2.06.94-2.06 2.06-.94-2.06-.94-.94-2.06-.94 2.06-2.06.94z\"/><path d=\"M17.41 7.96l-1.37-1.37c-.4-.4-.92-.59-1.43-.59-.52 0-1.04.2-1.43.59L10.3 9.45l-7.72 7.72c-.78.78-.78 2.05 0 2.83L4 21.41c.39.39.9.59 1.41.59.51 0 1.02-.2 1.41-.59l7.78-7.78 2.81-2.81c.8-.78.8-2.07 0-2.86zM5.41 20L4 18.59l7.72-7.72 1.47 1.35L5.41 20z\"/>\n",
              "  </svg>\n",
              "      </button>\n",
              "      \n",
              "  <style>\n",
              "    .colab-df-container {\n",
              "      display:flex;\n",
              "      flex-wrap:wrap;\n",
              "      gap: 12px;\n",
              "    }\n",
              "\n",
              "    .colab-df-convert {\n",
              "      background-color: #E8F0FE;\n",
              "      border: none;\n",
              "      border-radius: 50%;\n",
              "      cursor: pointer;\n",
              "      display: none;\n",
              "      fill: #1967D2;\n",
              "      height: 32px;\n",
              "      padding: 0 0 0 0;\n",
              "      width: 32px;\n",
              "    }\n",
              "\n",
              "    .colab-df-convert:hover {\n",
              "      background-color: #E2EBFA;\n",
              "      box-shadow: 0px 1px 2px rgba(60, 64, 67, 0.3), 0px 1px 3px 1px rgba(60, 64, 67, 0.15);\n",
              "      fill: #174EA6;\n",
              "    }\n",
              "\n",
              "    [theme=dark] .colab-df-convert {\n",
              "      background-color: #3B4455;\n",
              "      fill: #D2E3FC;\n",
              "    }\n",
              "\n",
              "    [theme=dark] .colab-df-convert:hover {\n",
              "      background-color: #434B5C;\n",
              "      box-shadow: 0px 1px 3px 1px rgba(0, 0, 0, 0.15);\n",
              "      filter: drop-shadow(0px 1px 2px rgba(0, 0, 0, 0.3));\n",
              "      fill: #FFFFFF;\n",
              "    }\n",
              "  </style>\n",
              "\n",
              "      <script>\n",
              "        const buttonEl =\n",
              "          document.querySelector('#df-00215cbc-9bf0-4484-bd0e-e262e6120449 button.colab-df-convert');\n",
              "        buttonEl.style.display =\n",
              "          google.colab.kernel.accessAllowed ? 'block' : 'none';\n",
              "\n",
              "        async function convertToInteractive(key) {\n",
              "          const element = document.querySelector('#df-00215cbc-9bf0-4484-bd0e-e262e6120449');\n",
              "          const dataTable =\n",
              "            await google.colab.kernel.invokeFunction('convertToInteractive',\n",
              "                                                     [key], {});\n",
              "          if (!dataTable) return;\n",
              "\n",
              "          const docLinkHtml = 'Like what you see? Visit the ' +\n",
              "            '<a target=\"_blank\" href=https://colab.research.google.com/notebooks/data_table.ipynb>data table notebook</a>'\n",
              "            + ' to learn more about interactive tables.';\n",
              "          element.innerHTML = '';\n",
              "          dataTable['output_type'] = 'display_data';\n",
              "          await google.colab.output.renderOutput(dataTable, element);\n",
              "          const docLink = document.createElement('div');\n",
              "          docLink.innerHTML = docLinkHtml;\n",
              "          element.appendChild(docLink);\n",
              "        }\n",
              "      </script>\n",
              "    </div>\n",
              "  </div>\n",
              "  "
            ]
          },
          "metadata": {},
          "execution_count": 37
        }
      ]
    },
    {
      "cell_type": "code",
      "execution_count": 41,
      "metadata": {
        "id": "uIpC0Q7B6wtD"
      },
      "outputs": [],
      "source": [
        "# I needed to do this step bc I think there's some questions that are only numbers or something similar \n",
        "dataset2['Question']=dataset2['Question'].apply(str)\n",
        "\n",
        "# Applying the term frequency - Inverse document frequency \n",
        "tfidf = TfidfVectorizer(max_df=0.95, min_df=2, stop_words='english',  lowercase=False)\n",
        "\n",
        "dtm = tfidf.fit_transform(dataset2['Question'])"
      ]
    },
    {
      "cell_type": "code",
      "execution_count": 42,
      "metadata": {
        "id": "6hJj8KCI6wtD",
        "colab": {
          "base_uri": "https://localhost:8080/"
        },
        "outputId": "cf885244-410d-451a-c559-b574d273206b"
      },
      "outputs": [
        {
          "output_type": "stream",
          "name": "stderr",
          "text": [
            "/usr/local/lib/python3.7/dist-packages/sklearn/decomposition/_nmf.py:294: FutureWarning: The 'init' value, when 'init=None' and n_components is less than n_samples and n_features, will be changed from 'nndsvd' to 'nndsvda' in 1.1 (renaming of 0.26).\n",
            "  FutureWarning,\n"
          ]
        },
        {
          "output_type": "execute_result",
          "data": {
            "text/plain": [
              "NMF(n_components=20, random_state=42)"
            ]
          },
          "metadata": {},
          "execution_count": 42
        }
      ],
      "source": [
        "# Choosing to have 20 tpype of ques and setting a randmization to initialize NMF\n",
        "\n",
        "ques_model = NMF(n_components=20,random_state=42)\n",
        "ques_model.fit(dtm)"
      ]
    },
    {
      "cell_type": "markdown",
      "source": [
        "#### TASK: Print our the top 15 most common words for each of the 20 topics."
      ],
      "metadata": {
        "id": "r4hhURGn24qC"
      }
    },
    {
      "cell_type": "code",
      "execution_count": 44,
      "metadata": {
        "collapsed": true,
        "id": "U_QcKM7J6wtE",
        "colab": {
          "base_uri": "https://localhost:8080/"
        },
        "outputId": "944c5f03-fdc2-405e-c650-e7f257292dc0"
      },
      "outputs": [
        {
          "output_type": "stream",
          "name": "stdout",
          "text": [
            "THE TOP 15 WORDS FOR QUESTION #0\n",
            "['happen', 'mean', 'books', 'things', 'think', 'favorite', 'meaning', 'way', 'ways', 'thing', 'best', 'examples', 'good', 'difference', 'What']\n",
            "\n",
            "\n",
            "THE TOP 15 WORDS FOR QUESTION #1\n",
            "['job', 'password', 'website', 'Instagram', 'work', 'long', 'rid', 'increase', 'Facebook', 'did', 'account', 'prepare', 'stop', 'start', 'How']\n",
            "\n",
            "\n",
            "THE TOP 15 WORDS FOR QUESTION #2\n",
            "['places', 'site', 'visit', 'place', 'phone', 'movie', 'buy', '2016', 'laptop', 'books', 'movies', 'book', 'way', 'Which', 'best']\n",
            "\n",
            "\n",
            "THE TOP 15 WORDS FOR QUESTION #3\n",
            "['girls', 'love', 'want', 'questions', 'doesn', 'use', 'bad', 'need', 'don', 'men', 'hate', 'women', 'important', 'did', 'Why']\n",
            "\n",
            "\n",
            "THE TOP 15 WORDS FOR QUESTION #4\n",
            "['friends', 'investment', 'internet', 'free', 'black', 'easiest', 'home', 'easy', 'YouTube', 'ways', 'way', 'earn', 'online', 'make', 'money']\n",
            "\n",
            "\n",
            "THE TOP 15 WORDS FOR QUESTION #5\n",
            "['old', 'year', 'com', 'world', 'real', 'better', 'safe', 'really', 'way', 'worth', 'true', 'bad', 'possible', 'good', 'Is']\n",
            "\n",
            "\n",
            "THE TOP 15 WORDS FOR QUESTION #6\n",
            "['dream', 'says', 'universities', 'majors', 'grads', 'recruit', 'looking', 'Where', 'compare', 'cost', 'long', 'work', 'feel', 'mean', 'does']\n",
            "\n",
            "\n",
            "THE TOP 15 WORDS FOR QUESTION #7\n",
            "['add', 'needing', 'answered', 'post', 'easily', 'improvement', 'delete', 'Google', 'asked', 'answers', 'answer', 'ask', 'question', 'questions', 'Quora']\n",
            "\n",
            "\n",
            "THE TOP 15 WORDS FOR QUESTION #8\n",
            "['death', 'change', 'day', 'live', 'want', 'changed', 'Do', 'Does', 'moment', 'real', 'thing', 'meaning', 'important', 'purpose', 'life']\n",
            "\n",
            "\n",
            "THE TOP 15 WORDS FOR QUESTION #9\n",
            "['business', 'job', 'China', 'Will', 'available', 'Olympics', 'Spotify', 'When', 'country', 'Should', 'Where', 'Which', 'war', 'Pakistan', 'India']\n",
            "\n",
            "\n",
            "THE TOP 15 WORDS FOR QUESTION #10\n",
            "['person', 'visitors', 'Does', 'feel', 'favorite', 'spend', 'machine', 'movies', 'home', 'If', 'When', 'sex', 'possible', 'travel', 'time']\n",
            "\n",
            "\n",
            "THE TOP 15 WORDS FOR QUESTION #11\n",
            "['President', 'think', 'vote', 'US', 'better', '2016', 'did', 'election', 'president', 'win', 'Hillary', 'Clinton', 'Who', 'Donald', 'Trump']\n",
            "\n",
            "\n",
            "THE TOP 15 WORDS FOR QUESTION #12\n",
            "['coding', 'easiest', 'English', 'hacking', 'want', 'Python', 'Java', 'languages', 'Where', 'learning', 'start', 'way', 'language', 'programming', 'learn']\n",
            "\n",
            "\n",
            "THE TOP 15 WORDS FOR QUESTION #13\n",
            "['rupees', 'Modi', 'think', 'money', 'currency', 'economy', 'ban', 'banning', 'Indian', 'black', 'Rs', 'rupee', '1000', 'notes', '500']\n",
            "\n",
            "\n",
            "THE TOP 15 WORDS FOR QUESTION #14\n",
            "['guys', 'companies', 'guy', 'men', 'culture', 'women', 'girls', 'live', 'work', 'girl', 'look', 'sex', 'Do', 'feel', 'like']\n",
            "\n",
            "\n",
            "THE TOP 15 WORDS FOR QUESTION #15\n",
            "['hack', 'height', 'viewed', 'increase', 'If', 'number', 'Facebook', 'person', 'period', 'phone', 'account', 'pregnant', 'Instagram', 'use', 'Can']\n",
            "\n",
            "\n",
            "THE TOP 15 WORDS FOR QUESTION #16\n",
            "['diet', 'month', 'exercise', 'healthy', 'pounds', 'reduce', 'quickly', 'loss', 'fast', 'fat', 'way', 'ways', 'gain', 'lose', 'weight']\n",
            "\n",
            "\n",
            "THE TOP 15 WORDS FOR QUESTION #17\n",
            "['skill', 'How', 'spoken', 'language', 'good', 'fluently', 'ways', 'speak', 'communication', 'pronunciation', 'speaking', 'writing', 'skills', 'improve', 'English']\n",
            "\n",
            "\n",
            "THE TOP 15 WORDS FOR QUESTION #18\n",
            "['Google', 'blowing', 'easily', 'Are', 'questions', 'world', 'mind', 'flat', 'hate', 'believe', 'ask', 'don', 'Do', 'think', 'people']\n",
            "\n",
            "\n",
            "THE TOP 15 WORDS FOR QUESTION #19\n",
            "['Do', 'blowing', 'really', 'mind', 'likes', 'fall', 'girl', 'don', 'employees', 'going', 'new', 'day', 'things', 'love', 'know']\n",
            "\n",
            "\n"
          ]
        }
      ],
      "source": [
        "# Printing the top 15 words for each of the NMF 7 topics \n",
        "\n",
        "for index,topic in enumerate(ques_model.components_):\n",
        "    print(f'THE TOP 15 WORDS FOR QUESTION #{index}')\n",
        "    print([tfidf.get_feature_names()[i] for i in topic.argsort()[-15:]])\n",
        "    print('\\n')"
      ]
    },
    {
      "cell_type": "code",
      "execution_count": 45,
      "metadata": {
        "id": "L9QRS0Wa6wtE"
      },
      "outputs": [],
      "source": [
        "topic_results = ques_model.transform(dtm)"
      ]
    },
    {
      "cell_type": "markdown",
      "source": [
        "#### TASK: Add a new column to the original quora dataframe that labels each question into one of the 20 topic categories."
      ],
      "metadata": {
        "id": "zNe-D3ed3vNk"
      }
    },
    {
      "cell_type": "code",
      "source": [
        "dataset2['TypeOfQues'] = topic_results.argmax(axis=1)\n",
        "dataset2.head(10)"
      ],
      "metadata": {
        "colab": {
          "base_uri": "https://localhost:8080/",
          "height": 363
        },
        "id": "IFuSevkQ3cB_",
        "outputId": "753f7843-80b4-4d99-d78f-4f7ebf116331"
      },
      "execution_count": 46,
      "outputs": [
        {
          "output_type": "execute_result",
          "data": {
            "text/plain": [
              "                                            Question  TypeOfQues\n",
              "0  What is the step by step guide to invest in sh...           0\n",
              "1  What is the story of Kohinoor (Koh-i-Noor) Dia...           0\n",
              "2  How can I increase the speed of my internet co...           1\n",
              "3  Why am I mentally very lonely? How can I solve...           3\n",
              "4  Which one dissolve in water quikly sugar, salt...           2\n",
              "5  Astrology: I am a Capricorn Sun Cap moon and c...           6\n",
              "6                                Should I buy tiago?           9\n",
              "7                     How can I be a good geologist?           1\n",
              "8                When do you use ã‚· instead of ã—?          15\n",
              "9  Motorola (company): Can I hack my Charter Moto...          15"
            ],
            "text/html": [
              "\n",
              "  <div id=\"df-7de7d297-1b28-47de-afa3-e1940398affd\">\n",
              "    <div class=\"colab-df-container\">\n",
              "      <div>\n",
              "<style scoped>\n",
              "    .dataframe tbody tr th:only-of-type {\n",
              "        vertical-align: middle;\n",
              "    }\n",
              "\n",
              "    .dataframe tbody tr th {\n",
              "        vertical-align: top;\n",
              "    }\n",
              "\n",
              "    .dataframe thead th {\n",
              "        text-align: right;\n",
              "    }\n",
              "</style>\n",
              "<table border=\"1\" class=\"dataframe\">\n",
              "  <thead>\n",
              "    <tr style=\"text-align: right;\">\n",
              "      <th></th>\n",
              "      <th>Question</th>\n",
              "      <th>TypeOfQues</th>\n",
              "    </tr>\n",
              "  </thead>\n",
              "  <tbody>\n",
              "    <tr>\n",
              "      <th>0</th>\n",
              "      <td>What is the step by step guide to invest in sh...</td>\n",
              "      <td>0</td>\n",
              "    </tr>\n",
              "    <tr>\n",
              "      <th>1</th>\n",
              "      <td>What is the story of Kohinoor (Koh-i-Noor) Dia...</td>\n",
              "      <td>0</td>\n",
              "    </tr>\n",
              "    <tr>\n",
              "      <th>2</th>\n",
              "      <td>How can I increase the speed of my internet co...</td>\n",
              "      <td>1</td>\n",
              "    </tr>\n",
              "    <tr>\n",
              "      <th>3</th>\n",
              "      <td>Why am I mentally very lonely? How can I solve...</td>\n",
              "      <td>3</td>\n",
              "    </tr>\n",
              "    <tr>\n",
              "      <th>4</th>\n",
              "      <td>Which one dissolve in water quikly sugar, salt...</td>\n",
              "      <td>2</td>\n",
              "    </tr>\n",
              "    <tr>\n",
              "      <th>5</th>\n",
              "      <td>Astrology: I am a Capricorn Sun Cap moon and c...</td>\n",
              "      <td>6</td>\n",
              "    </tr>\n",
              "    <tr>\n",
              "      <th>6</th>\n",
              "      <td>Should I buy tiago?</td>\n",
              "      <td>9</td>\n",
              "    </tr>\n",
              "    <tr>\n",
              "      <th>7</th>\n",
              "      <td>How can I be a good geologist?</td>\n",
              "      <td>1</td>\n",
              "    </tr>\n",
              "    <tr>\n",
              "      <th>8</th>\n",
              "      <td>When do you use ã‚· instead of ã—?</td>\n",
              "      <td>15</td>\n",
              "    </tr>\n",
              "    <tr>\n",
              "      <th>9</th>\n",
              "      <td>Motorola (company): Can I hack my Charter Moto...</td>\n",
              "      <td>15</td>\n",
              "    </tr>\n",
              "  </tbody>\n",
              "</table>\n",
              "</div>\n",
              "      <button class=\"colab-df-convert\" onclick=\"convertToInteractive('df-7de7d297-1b28-47de-afa3-e1940398affd')\"\n",
              "              title=\"Convert this dataframe to an interactive table.\"\n",
              "              style=\"display:none;\">\n",
              "        \n",
              "  <svg xmlns=\"http://www.w3.org/2000/svg\" height=\"24px\"viewBox=\"0 0 24 24\"\n",
              "       width=\"24px\">\n",
              "    <path d=\"M0 0h24v24H0V0z\" fill=\"none\"/>\n",
              "    <path d=\"M18.56 5.44l.94 2.06.94-2.06 2.06-.94-2.06-.94-.94-2.06-.94 2.06-2.06.94zm-11 1L8.5 8.5l.94-2.06 2.06-.94-2.06-.94L8.5 2.5l-.94 2.06-2.06.94zm10 10l.94 2.06.94-2.06 2.06-.94-2.06-.94-.94-2.06-.94 2.06-2.06.94z\"/><path d=\"M17.41 7.96l-1.37-1.37c-.4-.4-.92-.59-1.43-.59-.52 0-1.04.2-1.43.59L10.3 9.45l-7.72 7.72c-.78.78-.78 2.05 0 2.83L4 21.41c.39.39.9.59 1.41.59.51 0 1.02-.2 1.41-.59l7.78-7.78 2.81-2.81c.8-.78.8-2.07 0-2.86zM5.41 20L4 18.59l7.72-7.72 1.47 1.35L5.41 20z\"/>\n",
              "  </svg>\n",
              "      </button>\n",
              "      \n",
              "  <style>\n",
              "    .colab-df-container {\n",
              "      display:flex;\n",
              "      flex-wrap:wrap;\n",
              "      gap: 12px;\n",
              "    }\n",
              "\n",
              "    .colab-df-convert {\n",
              "      background-color: #E8F0FE;\n",
              "      border: none;\n",
              "      border-radius: 50%;\n",
              "      cursor: pointer;\n",
              "      display: none;\n",
              "      fill: #1967D2;\n",
              "      height: 32px;\n",
              "      padding: 0 0 0 0;\n",
              "      width: 32px;\n",
              "    }\n",
              "\n",
              "    .colab-df-convert:hover {\n",
              "      background-color: #E2EBFA;\n",
              "      box-shadow: 0px 1px 2px rgba(60, 64, 67, 0.3), 0px 1px 3px 1px rgba(60, 64, 67, 0.15);\n",
              "      fill: #174EA6;\n",
              "    }\n",
              "\n",
              "    [theme=dark] .colab-df-convert {\n",
              "      background-color: #3B4455;\n",
              "      fill: #D2E3FC;\n",
              "    }\n",
              "\n",
              "    [theme=dark] .colab-df-convert:hover {\n",
              "      background-color: #434B5C;\n",
              "      box-shadow: 0px 1px 3px 1px rgba(0, 0, 0, 0.15);\n",
              "      filter: drop-shadow(0px 1px 2px rgba(0, 0, 0, 0.3));\n",
              "      fill: #FFFFFF;\n",
              "    }\n",
              "  </style>\n",
              "\n",
              "      <script>\n",
              "        const buttonEl =\n",
              "          document.querySelector('#df-7de7d297-1b28-47de-afa3-e1940398affd button.colab-df-convert');\n",
              "        buttonEl.style.display =\n",
              "          google.colab.kernel.accessAllowed ? 'block' : 'none';\n",
              "\n",
              "        async function convertToInteractive(key) {\n",
              "          const element = document.querySelector('#df-7de7d297-1b28-47de-afa3-e1940398affd');\n",
              "          const dataTable =\n",
              "            await google.colab.kernel.invokeFunction('convertToInteractive',\n",
              "                                                     [key], {});\n",
              "          if (!dataTable) return;\n",
              "\n",
              "          const docLinkHtml = 'Like what you see? Visit the ' +\n",
              "            '<a target=\"_blank\" href=https://colab.research.google.com/notebooks/data_table.ipynb>data table notebook</a>'\n",
              "            + ' to learn more about interactive tables.';\n",
              "          element.innerHTML = '';\n",
              "          dataTable['output_type'] = 'display_data';\n",
              "          await google.colab.output.renderOutput(dataTable, element);\n",
              "          const docLink = document.createElement('div');\n",
              "          docLink.innerHTML = docLinkHtml;\n",
              "          element.appendChild(docLink);\n",
              "        }\n",
              "      </script>\n",
              "    </div>\n",
              "  </div>\n",
              "  "
            ]
          },
          "metadata": {},
          "execution_count": 46
        }
      ]
    },
    {
      "cell_type": "code",
      "source": [
        "# What the the appropraite TypeOfQues from LDA ???\n",
        "\n",
        "Ques_dict = {0:'type_1',1:'type_2',2:'type_3',3:'type_4',4:'type_5',5:'type_6',6:'type_6', \n",
        "             7:'type_7',8:'type_8',9:'type_9',10:'type_10',11:'type_11',12:'type_12',13:'type_13',\n",
        "             14:'type_14',15:'type_15',16:'type_16',17:'type_17',18:'type_18',19:'type_19',20:'type_20'}\n",
        "dataset2[\"Ques Label\"] = dataset2[\"TypeOfQues\"].map(Ques_dict)"
      ],
      "metadata": {
        "id": "8aycGO1W33d9"
      },
      "execution_count": 47,
      "outputs": []
    },
    {
      "cell_type": "code",
      "source": [
        "dataset2"
      ],
      "metadata": {
        "colab": {
          "base_uri": "https://localhost:8080/",
          "height": 424
        },
        "id": "kGTjkc0238SY",
        "outputId": "212b42c0-938e-43d3-c629-a4f490addf9b"
      },
      "execution_count": 48,
      "outputs": [
        {
          "output_type": "execute_result",
          "data": {
            "text/plain": [
              "                                                 Question  TypeOfQues  \\\n",
              "0       What is the step by step guide to invest in sh...           0   \n",
              "1       What is the story of Kohinoor (Koh-i-Noor) Dia...           0   \n",
              "2       How can I increase the speed of my internet co...           1   \n",
              "3       Why am I mentally very lonely? How can I solve...           3   \n",
              "4       Which one dissolve in water quikly sugar, salt...           2   \n",
              "...                                                   ...         ...   \n",
              "404284  How many keywords are there in the Racket prog...          12   \n",
              "404285          Do you believe there is life after death?           8   \n",
              "404286                                  What is one coin?           0   \n",
              "404287  What is the approx annual cost of living while...           0   \n",
              "404288              What is like to have sex with cousin?          14   \n",
              "\n",
              "       Ques Label  \n",
              "0          type_1  \n",
              "1          type_1  \n",
              "2          type_2  \n",
              "3          type_4  \n",
              "4          type_3  \n",
              "...           ...  \n",
              "404284    type_12  \n",
              "404285     type_8  \n",
              "404286     type_1  \n",
              "404287     type_1  \n",
              "404288    type_14  \n",
              "\n",
              "[404289 rows x 3 columns]"
            ],
            "text/html": [
              "\n",
              "  <div id=\"df-c57c26e4-f430-453a-9fb7-c7db60b88a1a\">\n",
              "    <div class=\"colab-df-container\">\n",
              "      <div>\n",
              "<style scoped>\n",
              "    .dataframe tbody tr th:only-of-type {\n",
              "        vertical-align: middle;\n",
              "    }\n",
              "\n",
              "    .dataframe tbody tr th {\n",
              "        vertical-align: top;\n",
              "    }\n",
              "\n",
              "    .dataframe thead th {\n",
              "        text-align: right;\n",
              "    }\n",
              "</style>\n",
              "<table border=\"1\" class=\"dataframe\">\n",
              "  <thead>\n",
              "    <tr style=\"text-align: right;\">\n",
              "      <th></th>\n",
              "      <th>Question</th>\n",
              "      <th>TypeOfQues</th>\n",
              "      <th>Ques Label</th>\n",
              "    </tr>\n",
              "  </thead>\n",
              "  <tbody>\n",
              "    <tr>\n",
              "      <th>0</th>\n",
              "      <td>What is the step by step guide to invest in sh...</td>\n",
              "      <td>0</td>\n",
              "      <td>type_1</td>\n",
              "    </tr>\n",
              "    <tr>\n",
              "      <th>1</th>\n",
              "      <td>What is the story of Kohinoor (Koh-i-Noor) Dia...</td>\n",
              "      <td>0</td>\n",
              "      <td>type_1</td>\n",
              "    </tr>\n",
              "    <tr>\n",
              "      <th>2</th>\n",
              "      <td>How can I increase the speed of my internet co...</td>\n",
              "      <td>1</td>\n",
              "      <td>type_2</td>\n",
              "    </tr>\n",
              "    <tr>\n",
              "      <th>3</th>\n",
              "      <td>Why am I mentally very lonely? How can I solve...</td>\n",
              "      <td>3</td>\n",
              "      <td>type_4</td>\n",
              "    </tr>\n",
              "    <tr>\n",
              "      <th>4</th>\n",
              "      <td>Which one dissolve in water quikly sugar, salt...</td>\n",
              "      <td>2</td>\n",
              "      <td>type_3</td>\n",
              "    </tr>\n",
              "    <tr>\n",
              "      <th>...</th>\n",
              "      <td>...</td>\n",
              "      <td>...</td>\n",
              "      <td>...</td>\n",
              "    </tr>\n",
              "    <tr>\n",
              "      <th>404284</th>\n",
              "      <td>How many keywords are there in the Racket prog...</td>\n",
              "      <td>12</td>\n",
              "      <td>type_12</td>\n",
              "    </tr>\n",
              "    <tr>\n",
              "      <th>404285</th>\n",
              "      <td>Do you believe there is life after death?</td>\n",
              "      <td>8</td>\n",
              "      <td>type_8</td>\n",
              "    </tr>\n",
              "    <tr>\n",
              "      <th>404286</th>\n",
              "      <td>What is one coin?</td>\n",
              "      <td>0</td>\n",
              "      <td>type_1</td>\n",
              "    </tr>\n",
              "    <tr>\n",
              "      <th>404287</th>\n",
              "      <td>What is the approx annual cost of living while...</td>\n",
              "      <td>0</td>\n",
              "      <td>type_1</td>\n",
              "    </tr>\n",
              "    <tr>\n",
              "      <th>404288</th>\n",
              "      <td>What is like to have sex with cousin?</td>\n",
              "      <td>14</td>\n",
              "      <td>type_14</td>\n",
              "    </tr>\n",
              "  </tbody>\n",
              "</table>\n",
              "<p>404289 rows × 3 columns</p>\n",
              "</div>\n",
              "      <button class=\"colab-df-convert\" onclick=\"convertToInteractive('df-c57c26e4-f430-453a-9fb7-c7db60b88a1a')\"\n",
              "              title=\"Convert this dataframe to an interactive table.\"\n",
              "              style=\"display:none;\">\n",
              "        \n",
              "  <svg xmlns=\"http://www.w3.org/2000/svg\" height=\"24px\"viewBox=\"0 0 24 24\"\n",
              "       width=\"24px\">\n",
              "    <path d=\"M0 0h24v24H0V0z\" fill=\"none\"/>\n",
              "    <path d=\"M18.56 5.44l.94 2.06.94-2.06 2.06-.94-2.06-.94-.94-2.06-.94 2.06-2.06.94zm-11 1L8.5 8.5l.94-2.06 2.06-.94-2.06-.94L8.5 2.5l-.94 2.06-2.06.94zm10 10l.94 2.06.94-2.06 2.06-.94-2.06-.94-.94-2.06-.94 2.06-2.06.94z\"/><path d=\"M17.41 7.96l-1.37-1.37c-.4-.4-.92-.59-1.43-.59-.52 0-1.04.2-1.43.59L10.3 9.45l-7.72 7.72c-.78.78-.78 2.05 0 2.83L4 21.41c.39.39.9.59 1.41.59.51 0 1.02-.2 1.41-.59l7.78-7.78 2.81-2.81c.8-.78.8-2.07 0-2.86zM5.41 20L4 18.59l7.72-7.72 1.47 1.35L5.41 20z\"/>\n",
              "  </svg>\n",
              "      </button>\n",
              "      \n",
              "  <style>\n",
              "    .colab-df-container {\n",
              "      display:flex;\n",
              "      flex-wrap:wrap;\n",
              "      gap: 12px;\n",
              "    }\n",
              "\n",
              "    .colab-df-convert {\n",
              "      background-color: #E8F0FE;\n",
              "      border: none;\n",
              "      border-radius: 50%;\n",
              "      cursor: pointer;\n",
              "      display: none;\n",
              "      fill: #1967D2;\n",
              "      height: 32px;\n",
              "      padding: 0 0 0 0;\n",
              "      width: 32px;\n",
              "    }\n",
              "\n",
              "    .colab-df-convert:hover {\n",
              "      background-color: #E2EBFA;\n",
              "      box-shadow: 0px 1px 2px rgba(60, 64, 67, 0.3), 0px 1px 3px 1px rgba(60, 64, 67, 0.15);\n",
              "      fill: #174EA6;\n",
              "    }\n",
              "\n",
              "    [theme=dark] .colab-df-convert {\n",
              "      background-color: #3B4455;\n",
              "      fill: #D2E3FC;\n",
              "    }\n",
              "\n",
              "    [theme=dark] .colab-df-convert:hover {\n",
              "      background-color: #434B5C;\n",
              "      box-shadow: 0px 1px 3px 1px rgba(0, 0, 0, 0.15);\n",
              "      filter: drop-shadow(0px 1px 2px rgba(0, 0, 0, 0.3));\n",
              "      fill: #FFFFFF;\n",
              "    }\n",
              "  </style>\n",
              "\n",
              "      <script>\n",
              "        const buttonEl =\n",
              "          document.querySelector('#df-c57c26e4-f430-453a-9fb7-c7db60b88a1a button.colab-df-convert');\n",
              "        buttonEl.style.display =\n",
              "          google.colab.kernel.accessAllowed ? 'block' : 'none';\n",
              "\n",
              "        async function convertToInteractive(key) {\n",
              "          const element = document.querySelector('#df-c57c26e4-f430-453a-9fb7-c7db60b88a1a');\n",
              "          const dataTable =\n",
              "            await google.colab.kernel.invokeFunction('convertToInteractive',\n",
              "                                                     [key], {});\n",
              "          if (!dataTable) return;\n",
              "\n",
              "          const docLinkHtml = 'Like what you see? Visit the ' +\n",
              "            '<a target=\"_blank\" href=https://colab.research.google.com/notebooks/data_table.ipynb>data table notebook</a>'\n",
              "            + ' to learn more about interactive tables.';\n",
              "          element.innerHTML = '';\n",
              "          dataTable['output_type'] = 'display_data';\n",
              "          await google.colab.output.renderOutput(dataTable, element);\n",
              "          const docLink = document.createElement('div');\n",
              "          docLink.innerHTML = docLinkHtml;\n",
              "          element.appendChild(docLink);\n",
              "        }\n",
              "      </script>\n",
              "    </div>\n",
              "  </div>\n",
              "  "
            ]
          },
          "metadata": {},
          "execution_count": 48
        }
      ]
    }
  ],
  "metadata": {
    "colab": {
      "provenance": [],
      "include_colab_link": true
    },
    "kernelspec": {
      "display_name": "Python 3 (ipykernel)",
      "language": "python",
      "name": "python3"
    },
    "language_info": {
      "codemirror_mode": {
        "name": "ipython",
        "version": 3
      },
      "file_extension": ".py",
      "mimetype": "text/x-python",
      "name": "python",
      "nbconvert_exporter": "python",
      "pygments_lexer": "ipython3",
      "version": "3.9.7"
    }
  },
  "nbformat": 4,
  "nbformat_minor": 0
}